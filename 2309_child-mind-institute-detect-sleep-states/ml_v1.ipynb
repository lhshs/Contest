{
 "cells": [
  {
   "cell_type": "markdown",
   "metadata": {},
   "source": [
    "code\n",
    "- https://www.kaggle.com/code/carlmcbrideellis/zzzs-random-forest-model-starter\n",
    "\n",
    "data\n",
    "- https://www.kaggle.com/datasets/carlmcbrideellis/zzzs-lightweight-training-dataset-target"
   ]
  },
  {
   "cell_type": "code",
   "execution_count": 1,
   "metadata": {},
   "outputs": [],
   "source": [
    "import numpy as np\n",
    "import pandas as pd\n",
    "from itertools import groupby\n",
    "import gc"
   ]
  },
  {
   "cell_type": "code",
   "execution_count": 9,
   "metadata": {},
   "outputs": [],
   "source": [
    "# binary class data\n",
    "#train = pd.read_parquet(\"/kaggle/input/zzzs-lightweight-training-dataset-target/Zzzs_train.parquet\")\n",
    "\n",
    "# multiclass data\n",
    "train = pd.read_parquet(\"../../../Kaggle/data/ChildMindInstitute/Zzzs_train_multi.parquet\")\n",
    "\n",
    "# original data\n",
    "# train = pd.read_parquet('../../../Kaggle/data/ChildMindInstitute/train_series.parquet')\n",
    "# test  = pd.read_parquet('../../../Kaggle/data/ChildMindInstitute/test_series.parquet')"
   ]
  },
  {
   "cell_type": "code",
   "execution_count": 10,
   "metadata": {},
   "outputs": [
    {
     "name": "stdout",
     "output_type": "stream",
     "text": [
      "      series_id  step                 timestamp     anglez    enmo  awake\n",
      "0  08db4255286f     0  2018-11-05T10:00:00-0400 -30.845301  0.0447      1\n",
      "1  08db4255286f     1  2018-11-05T10:00:05-0400 -34.181801  0.0443      1\n",
      "2  08db4255286f     2  2018-11-05T10:00:10-0400 -33.877102  0.0483      1\n",
      "3  08db4255286f     3  2018-11-05T10:00:15-0400 -34.282101  0.0680      1\n",
      "4  08db4255286f     4  2018-11-05T10:00:20-0400 -34.385799  0.0768      1\n"
     ]
    }
   ],
   "source": [
    "print(train.head())\n",
    "# print(test.head())"
   ]
  },
  {
   "cell_type": "code",
   "execution_count": 11,
   "metadata": {},
   "outputs": [
    {
     "name": "stdout",
     "output_type": "stream",
     "text": [
      "<class 'pandas.core.frame.DataFrame'>\n",
      "RangeIndex: 16289820 entries, 0 to 16289819\n",
      "Data columns (total 6 columns):\n",
      " #   Column     Dtype  \n",
      "---  ------     -----  \n",
      " 0   series_id  object \n",
      " 1   step       uint32 \n",
      " 2   timestamp  object \n",
      " 3   anglez     float32\n",
      " 4   enmo       float32\n",
      " 5   awake      int64  \n",
      "dtypes: float32(2), int64(1), object(2), uint32(1)\n",
      "memory usage: 559.3+ MB\n",
      "\n",
      "series_id    0.0\n",
      "step         0.0\n",
      "timestamp    0.0\n",
      "anglez       0.0\n",
      "enmo         0.0\n",
      "awake        0.0\n",
      "dtype: float64\n",
      "\n",
      "\u001b[103m series_id \u001b[0m\n",
      "series_id\n",
      "a9a2f7fac455    634680\n",
      "3452b878e596    535500\n",
      "18b61dd5aae8    495540\n",
      "29c75c018220    464220\n",
      "08db4255286f    440280\n",
      "89bd631d1769    429300\n",
      "89c7daa72eee    419580\n",
      "2fc653ca75c7    416880\n",
      "a3e59c2ce3f6    416520\n",
      "939932f1822d    414540\n",
      "76237b9406d5    412920\n",
      "55a47ff9dc8a    412740\n",
      "af91d9a50547    411840\n",
      "1087d7b0ff2e    410940\n",
      "e11b9d69f856    408060\n",
      "7822ee8fe3ec    408060\n",
      "5acc9d63b5fd    407880\n",
      "8e32047cbc1f    405540\n",
      "5f94bb3e1bed    404280\n",
      "c7b1283bb7eb    404280\n",
      "b364205aba43    401940\n",
      "ca730dbf521d    401580\n",
      "d150801f3145    399060\n",
      "390b487231ce    396180\n",
      "c5d08fc3e040    396000\n",
      "d5e47b94477e    395820\n",
      "c6788e579967    395640\n",
      "10f8bc1f7b07    392400\n",
      "72bbd1ac3edf    390960\n",
      "9ee455e4770d    389880\n",
      "655f19eabf1e    387360\n",
      "0cfc06c129cc    384660\n",
      "3664fe9233f9    379980\n",
      "67f5fc60e494    376380\n",
      "d25e479ecbb7    362520\n",
      "c68260cc9e8f    310860\n",
      "483d6545417f    287460\n",
      "0f9e60a8e56d    266760\n",
      "0a96f4993bd7    256860\n",
      "d515236bdeec    235620\n",
      "a9e5f5314bcb    155160\n",
      "c535634d7dcd    136080\n",
      "349c5562ee2c     37080\n",
      "Name: count, dtype: int64\n",
      "object\n",
      "\u001b[91m['08db4255286f' '0a96f4993bd7' '0cfc06c129cc' '1087d7b0ff2e'\n",
      " '10f8bc1f7b07' '18b61dd5aae8' '29c75c018220' '3452b878e596'\n",
      " '349c5562ee2c' '3664fe9233f9' '483d6545417f' '55a47ff9dc8a'\n",
      " '5acc9d63b5fd' '5f94bb3e1bed' '655f19eabf1e' '67f5fc60e494'\n",
      " '72bbd1ac3edf' '76237b9406d5' '7822ee8fe3ec' '89bd631d1769'\n",
      " '8e32047cbc1f' '939932f1822d' '9ee455e4770d' 'a9a2f7fac455'\n",
      " 'a9e5f5314bcb' 'af91d9a50547' 'b364205aba43' 'c535634d7dcd'\n",
      " 'c6788e579967' 'c68260cc9e8f' 'ca730dbf521d' 'd150801f3145'\n",
      " 'd25e479ecbb7' 'd515236bdeec' 'd5e47b94477e' 'e11b9d69f856'\n",
      " '89c7daa72eee' '2fc653ca75c7' 'a3e59c2ce3f6' 'c7b1283bb7eb'\n",
      " '0f9e60a8e56d' 'c5d08fc3e040' '390b487231ce']\u001b[0m\n",
      "\u001b[94mNull Count :\u001b[0m 0\n",
      "🌈\n",
      "\n",
      "\u001b[103m step \u001b[0m\n",
      "step\n",
      "0         43\n",
      "24769     43\n",
      "24717     43\n",
      "24718     43\n",
      "24719     43\n",
      "          ..\n",
      "568557     1\n",
      "568556     1\n",
      "568555     1\n",
      "568554     1\n",
      "634679     1\n",
      "Name: count, Length: 634680, dtype: int64\n",
      "uint32\n",
      "\u001b[91m[     0      1      2 ... 634677 634678 634679]\u001b[0m\n",
      "\u001b[94mNull Count :\u001b[0m 0\n",
      "🌈\n",
      "\n",
      "\u001b[103m timestamp \u001b[0m\n",
      "timestamp\n",
      "2017-11-28T01:18:25-0500    7\n",
      "2017-11-28T00:47:40-0500    7\n",
      "2017-11-28T00:45:40-0500    7\n",
      "2017-11-28T00:45:45-0500    7\n",
      "2017-11-28T00:45:50-0500    7\n",
      "                           ..\n",
      "2019-06-23T10:14:50-0400    1\n",
      "2019-06-23T10:14:45-0400    1\n",
      "2019-06-23T10:14:40-0400    1\n",
      "2019-06-23T10:14:35-0400    1\n",
      "2018-05-19T14:29:55-0400    1\n",
      "Name: count, Length: 8241300, dtype: int64\n",
      "object\n",
      "\u001b[91m['2018-11-05T10:00:00-0400' '2018-11-05T10:00:05-0400'\n",
      " '2018-11-05T10:00:10-0400' ... '2018-05-19T14:29:45-0400'\n",
      " '2018-05-19T14:29:50-0400' '2018-05-19T14:29:55-0400']\u001b[0m\n",
      "\u001b[94mNull Count :\u001b[0m 0\n",
      "🌈\n",
      "\n",
      "\u001b[103m anglez \u001b[0m\n",
      "anglez\n",
      " 0.000000     387073\n",
      "-88.708900      8890\n",
      " 11.768900      8475\n",
      " 2.656700       8112\n",
      "-83.667702      4492\n",
      "               ...  \n",
      "-68.191498         1\n",
      "-68.410896         1\n",
      "-69.549698         1\n",
      " 38.702000         1\n",
      " 77.570297         1\n",
      "Name: count, Length: 1678076, dtype: int64\n",
      "float32\n",
      "\u001b[91m[-30.8453 -34.1818 -33.8771 ...  77.4886  77.5749  77.5703]\u001b[0m\n",
      "\u001b[94mNull Count :\u001b[0m 0\n",
      "🌈\n",
      "\n",
      "\u001b[103m enmo \u001b[0m\n",
      "enmo\n",
      "0.0000    3036574\n",
      "0.0001     239965\n",
      "0.0002     140142\n",
      "0.0003     105756\n",
      "0.0004      88020\n",
      "           ...   \n",
      "3.2095          1\n",
      "2.6587          1\n",
      "1.2062          1\n",
      "1.8175          1\n",
      "4.2395          1\n",
      "Name: count, Length: 22998, dtype: int64\n",
      "float32\n",
      "\u001b[91m[0.0447 0.0443 0.0483 ... 3.9171 1.521  4.2395]\u001b[0m\n",
      "\u001b[94mNull Count :\u001b[0m 0\n",
      "🌈\n",
      "\n",
      "\u001b[103m awake \u001b[0m\n",
      "awake\n",
      "1    8660676\n",
      "0    4504884\n",
      "2    3124260\n",
      "Name: count, dtype: int64\n",
      "int64\n",
      "\u001b[91m[1 0 2]\u001b[0m\n",
      "\u001b[94mNull Count :\u001b[0m 0\n",
      "🌈\n",
      "\n"
     ]
    }
   ],
   "source": [
    "# value count & unique & Null Count\n",
    "train.info()\n",
    "print()\n",
    "print(train.isnull().sum() / len(train) * 100)\n",
    "print()\n",
    "\n",
    "for i in train.columns:\n",
    "    print('\\33[103m', i, '\\33[0m')\n",
    "    print(train[i].value_counts())\n",
    "    uu = str(train[i].unique())\n",
    "    print(train[i].dtype)\n",
    "    print('\\33[91m' + uu +  '\\033[0m')\n",
    "    print('\\33[94m' + 'Null Count :' + '\\033[0m', train[i].isnull().sum())\n",
    "    print('🌈')\n",
    "    print()\n",
    "    "
   ]
  },
  {
   "cell_type": "markdown",
   "metadata": {},
   "source": [
    "Feature Engineering"
   ]
  },
  {
   "cell_type": "code",
   "execution_count": 12,
   "metadata": {},
   "outputs": [],
   "source": [
    "def make_features(df):\n",
    "    # parse the timestamp and create an \"hour\" feature\n",
    "    df['timestamp'] = pd.to_datetime(df['timestamp']).apply(lambda t: t.tz_localize(None))\n",
    "    df[\"hour\"] = df[\"timestamp\"].dt.hour\n",
    "    \n",
    "    periods = 20\n",
    "    df[\"anglez\"] = abs(df[\"anglez\"])\n",
    "    df[\"anglez_diff\"] = df.groupby('series_id')['anglez'].diff(periods=periods).fillna(method=\"bfill\").astype('float16')\n",
    "    df[\"enmo_diff\"] = df.groupby('series_id')['enmo'].diff(periods=periods).fillna(method=\"bfill\").astype('float16')\n",
    "    df[\"anglez_rolling_mean\"] = df[\"anglez\"].rolling(periods,center=True).mean().fillna(method=\"bfill\").fillna(method=\"ffill\").astype('float16')\n",
    "    df[\"enmo_rolling_mean\"] = df[\"enmo\"].rolling(periods,center=True).mean().fillna(method=\"bfill\").fillna(method=\"ffill\").astype('float16')\n",
    "    df[\"anglez_rolling_max\"] = df[\"anglez\"].rolling(periods,center=True).max().fillna(method=\"bfill\").fillna(method=\"ffill\").astype('float16')\n",
    "    df[\"enmo_rolling_max\"] = df[\"enmo\"].rolling(periods,center=True).max().fillna(method=\"bfill\").fillna(method=\"ffill\").astype('float16')\n",
    "    df[\"anglez_rolling_std\"] = df[\"anglez\"].rolling(periods,center=True).std().fillna(method=\"bfill\").fillna(method=\"ffill\").astype('float16')\n",
    "    df[\"enmo_rolling_std\"] = df[\"enmo\"].rolling(periods,center=True).std().fillna(method=\"bfill\").fillna(method=\"ffill\").astype('float16')\n",
    "    df[\"anglez_diff_rolling_mean\"] = df[\"anglez_diff\"].rolling(periods,center=True).mean().fillna(method=\"bfill\").fillna(method=\"ffill\").astype('float16')\n",
    "    df[\"enmo_diff_rolling_mean\"] = df[\"enmo_diff\"].rolling(periods,center=True).mean().fillna(method=\"bfill\").fillna(method=\"ffill\").astype('float16')\n",
    "    df[\"anglez_diff_rolling_max\"] = df[\"anglez_diff\"].rolling(periods,center=True).max().fillna(method=\"bfill\").fillna(method=\"ffill\").astype('float16')\n",
    "    df[\"enmo_diff_rolling_max\"] = df[\"enmo_diff\"].rolling(periods,center=True).max().fillna(method=\"bfill\").fillna(method=\"ffill\").astype('float16')\n",
    "    \n",
    "    return df\n",
    "\n",
    "features = [\"hour\",\n",
    "            \"anglez\",\n",
    "            \"anglez_rolling_mean\",\n",
    "            \"anglez_rolling_max\",\n",
    "            \"anglez_rolling_std\",\n",
    "            \"anglez_diff\",\n",
    "            \"anglez_diff_rolling_mean\",\n",
    "            \"anglez_diff_rolling_max\",\n",
    "            \"enmo\",\n",
    "            \"enmo_rolling_mean\",\n",
    "            \"enmo_rolling_max\",\n",
    "            \"enmo_rolling_std\",\n",
    "            \"enmo_diff\",\n",
    "            \"enmo_diff_rolling_mean\",\n",
    "            \"enmo_diff_rolling_max\",\n",
    "           ]"
   ]
  },
  {
   "cell_type": "markdown",
   "metadata": {},
   "source": [
    "Training"
   ]
  },
  {
   "cell_type": "code",
   "execution_count": 13,
   "metadata": {},
   "outputs": [],
   "source": [
    "train = make_features(train)\n",
    "\n",
    "X_train = train[features]\n",
    "y_train = train[\"awake\"]\n",
    "\n",
    "# save some memory\n",
    "del train\n",
    "gc.collect();"
   ]
  },
  {
   "cell_type": "code",
   "execution_count": 14,
   "metadata": {},
   "outputs": [
    {
     "name": "stdout",
     "output_type": "stream",
     "text": [
      "CPU times: total: 1h 27min 21s\n",
      "Wall time: 6min 1s\n"
     ]
    }
   ],
   "source": [
    "%%time\n",
    "\n",
    "from sklearn.ensemble import RandomForestClassifier\n",
    "classifier = RandomForestClassifier(n_estimators=50,\n",
    "                                    min_samples_leaf=300,\n",
    "                                    random_state=42,\n",
    "                                    n_jobs=-1)\n",
    "\n",
    "classifier.fit(X_train, y_train)\n",
    "\n",
    "# save some memory\n",
    "del X_train, y_train\n",
    "gc.collect();"
   ]
  },
  {
   "cell_type": "code",
   "execution_count": 15,
   "metadata": {},
   "outputs": [],
   "source": [
    "test  = pd.read_parquet(\"../../../Kaggle/data/ChildMindInstitute/test_series.parquet\")\n",
    "\n",
    "test = make_features(test)\n",
    "\n",
    "X_test = test[features]\n",
    "\n",
    "test[\"not_awake\"] = classifier.predict_proba(X_test)[:,0]\n",
    "test[\"awake\"]     = classifier.predict_proba(X_test)[:,1]"
   ]
  },
  {
   "cell_type": "markdown",
   "metadata": {},
   "source": [
    "preprocessing"
   ]
  },
  {
   "cell_type": "code",
   "execution_count": 16,
   "metadata": {},
   "outputs": [],
   "source": [
    "# smoothing the predictions\n",
    "smoothing_length = 2*230\n",
    "test[\"score\"]  = test[\"awake\"].rolling(smoothing_length,center=True).mean().fillna(method=\"bfill\").fillna(method=\"ffill\")\n",
    "test[\"smooth\"] = test[\"not_awake\"].rolling(smoothing_length,center=True).mean().fillna(method=\"bfill\").fillna(method=\"ffill\")\n",
    "# re-binarize\n",
    "test[\"smooth\"] = test[\"smooth\"].round()\n",
    "\n",
    "# https://stackoverflow.com/questions/73777727/how-to-mark-start-end-of-a-series-of-non-null-and-non-0-values-in-a-column-of-a\n",
    "def get_event(df):\n",
    "    lstCV = zip(df.series_id, df.smooth)\n",
    "    lstPOI = []\n",
    "    for (c, v), g in groupby(lstCV, lambda cv: \n",
    "                            (cv[0], cv[1]!=0 and not pd.isnull(cv[1]))):\n",
    "        llg = sum(1 for item in g)\n",
    "        if v is False: \n",
    "            lstPOI.extend([0]*llg)\n",
    "        else: \n",
    "            lstPOI.extend(['onset']+(llg-2)*[0]+['wakeup'] if llg > 1 else [0])\n",
    "    return lstPOI\n",
    "\n",
    "test[\"event\"] = get_event(test)"
   ]
  },
  {
   "cell_type": "markdown",
   "metadata": {},
   "source": [
    "submission"
   ]
  },
  {
   "cell_type": "code",
   "execution_count": 17,
   "metadata": {},
   "outputs": [],
   "source": [
    "sample_submission = test.loc[test[\"event\"] != 0][[\"series_id\",\"step\",\"event\",\"score\"]].copy().reset_index(drop=True).reset_index(names=\"row_id\")\n"
   ]
  },
  {
   "cell_type": "code",
   "execution_count": 18,
   "metadata": {},
   "outputs": [],
   "source": [
    "sample_submission.to_csv('submission_1.csv', index=False)\n"
   ]
  },
  {
   "cell_type": "code",
   "execution_count": null,
   "metadata": {},
   "outputs": [],
   "source": []
  }
 ],
 "metadata": {
  "kernelspec": {
   "display_name": "lhs",
   "language": "python",
   "name": "python3"
  },
  "language_info": {
   "codemirror_mode": {
    "name": "ipython",
    "version": 3
   },
   "file_extension": ".py",
   "mimetype": "text/x-python",
   "name": "python",
   "nbconvert_exporter": "python",
   "pygments_lexer": "ipython3",
   "version": "3.10.13"
  },
  "orig_nbformat": 4
 },
 "nbformat": 4,
 "nbformat_minor": 2
}
