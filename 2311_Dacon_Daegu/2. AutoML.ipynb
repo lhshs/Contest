{
  "cells": [
    {
      "cell_type": "markdown",
      "metadata": {},
      "source": [
        "https://dacon.io/competitions/official/236193/codeshare/9472?page=1&dtype=recent"
      ]
    },
    {
      "cell_type": "code",
      "execution_count": 1,
      "metadata": {},
      "outputs": [],
      "source": [
        "import warnings\n",
        "warnings.filterwarnings(\"ignore\")"
      ]
    },
    {
      "cell_type": "code",
      "execution_count": 2,
      "metadata": {
        "deletable": false,
        "pbl_cell_type": "hidden_setup_code",
        "step_id": 4887,
        "step_number": 0,
        "trusted": true
      },
      "outputs": [],
      "source": [
        "#hiddencell\n",
        "# from pbl_tools import *\n",
        "\n",
        "import seaborn as sns\n",
        "import matplotlib.pyplot as plt\n",
        "import matplotlib.font_manager as fm\n",
        "\n",
        "fe = fm.FontEntry(fname = 'MaruBuri-Regular.otf', name = 'MaruBuri')\n",
        "fm.fontManager.ttflist.insert(0, fe)\n",
        "plt.rc('font', family='MaruBuri')"
      ]
    },
    {
      "cell_type": "code",
      "execution_count": 3,
      "metadata": {
        "pbl_cell_type": "code",
        "step_id": 5096,
        "step_number": 1,
        "trusted": true
      },
      "outputs": [],
      "source": [
        "import os\n",
        "import random\n",
        "import numpy as np\n",
        "import pandas as pd \n",
        "\n",
        "def seed_everything(seed):\n",
        "    random.seed(seed)\n",
        "    os.environ['PYTHONHASHSEED'] = str(seed)\n",
        "    np.random.seed(seed)\n",
        "\n",
        "seed_everything(77) "
      ]
    },
    {
      "cell_type": "code",
      "execution_count": 4,
      "metadata": {},
      "outputs": [],
      "source": [
        "train_org = pd.read_csv('D:/Daegu_Data/train.csv') \n",
        "test_org = pd.read_csv('D:/Daegu_Data/test.csv')\n",
        "sample_submission = pd.read_csv(\"D:/Daegu_Data/sample_submission.csv\")"
      ]
    },
    {
      "cell_type": "code",
      "execution_count": 5,
      "metadata": {
        "pbl_cell_type": "code",
        "step_id": 5096,
        "step_number": 1,
        "trusted": true
      },
      "outputs": [],
      "source": [
        "train_org.drop(['ID'], axis=1, inplace=True)\n",
        "test_org.drop(['ID'], axis=1, inplace=True)\n",
        "\n",
        "train_df = train_org.copy()\n",
        "test_df = test_org.copy()\n",
        "\n",
        "\n",
        "time_pattern = r'(\\d{4})-(\\d{1,2})-(\\d{1,2}) (\\d{1,2})' \n",
        "train_df[['연', '월', '일', '시간']] = train_org['사고일시'].str.extract(time_pattern)\n",
        "train_df[['연', '월', '일', '시간']] = train_df[['연', '월', '일', '시간']].apply(pd.to_numeric) # 추출된 문자열을 수치화해줍니다 \n",
        "train_df = train_df.drop(columns=['사고일시']) # 정보 추출이 완료된 '사고일시' 컬럼은 제거합니다 \n",
        "# 해당 과정을 test_x에 대해서도 반복해줍니다 \n",
        "test_df[['연', '월', '일', '시간']] = test_org['사고일시'].str.extract(time_pattern)\n",
        "test_df[['연', '월', '일', '시간']] = test_df[['연', '월', '일', '시간']].apply(pd.to_numeric)\n",
        "test_df = test_df.drop(columns=['사고일시'])\n",
        "\n",
        "\n",
        "location_pattern = r'(\\S+) (\\S+) (\\S+)'\n",
        "train_df[['도시', '구', '동']] = train_org['시군구'].str.extract(location_pattern)\n",
        "train_df = train_df.drop(columns=['시군구'])\n",
        "test_df[['도시', '구', '동']] = test_org['시군구'].str.extract(location_pattern)\n",
        "test_df = test_df.drop(columns=['시군구'])\n",
        "\n",
        "\n",
        "road_pattern = r'(.+) - (.+)'\n",
        "train_df[['도로형태1', '도로형태2']] = train_org['도로형태'].str.extract(road_pattern)\n",
        "train_df = train_df.drop(columns=['도로형태'])\n",
        "test_df[['도로형태1', '도로형태2']] = test_org['도로형태'].str.extract(road_pattern)\n",
        "test_df = test_df.drop(columns=['도로형태'])"
      ]
    },
    {
      "cell_type": "markdown",
      "metadata": {},
      "source": [
        "#### Add External Data"
      ]
    },
    {
      "cell_type": "code",
      "execution_count": 6,
      "metadata": {},
      "outputs": [],
      "source": [
        "light_df = pd.read_csv('D:/Daegu_Data/external_open/대구 보안등 정보.csv', encoding='cp949')[['설치개수', '소재지지번주소']]\n",
        "parking_df = pd.read_csv('D:/Daegu_Data/external_open/대구 주차장 정보.csv', encoding='cp949')[['소재지지번주소', '급지구분']]\n",
        "child_area_df = pd.read_csv('D:/Daegu_Data/external_open/대구 어린이 보호 구역 정보.csv', encoding='cp949').drop_duplicates()[['소재지지번주소']]"
      ]
    },
    {
      "cell_type": "code",
      "execution_count": 7,
      "metadata": {},
      "outputs": [],
      "source": [
        "# 보안등 \n",
        "location_pattern = r'(\\S+) (\\S+) (\\S+) (\\S+)'\n",
        "light_df[['도시', '구', '동', '번지']] = light_df['소재지지번주소'].str.extract(location_pattern)\n",
        "light_df = light_df.drop(columns=['소재지지번주소', '번지'])\n",
        "light_df = light_df.groupby(['도시', '구', '동']).sum().reset_index()\n",
        "light_df.reset_index(inplace=True, drop=True)\n",
        "\n",
        "# 주차장 \n",
        "parking_df = pd.get_dummies(parking_df, columns=['급지구분'])\n",
        "location_pattern = r'(\\S+) (\\S+) (\\S+) (\\S+)'\n",
        "parking_df[['도시', '구', '동', '번지']] = parking_df['소재지지번주소'].str.extract(location_pattern)\n",
        "parking_df = parking_df.drop(columns=['소재지지번주소', '번지'])\n",
        "parking_df = parking_df.groupby(['도시', '구', '동']).sum().reset_index()\n",
        "parking_df.reset_index(inplace=True, drop=True)\n",
        "\n",
        "# 어린이 보호구역\n",
        "child_area_df['child'] = 1\n",
        "location_pattern = r'(\\S+) (\\S+) (\\S+) (\\S+)'\n",
        "child_area_df[['도시', '구', '동', '번지']] = child_area_df['소재지지번주소'].str.extract(location_pattern)\n",
        "child_area_df = child_area_df.drop(columns=['소재지지번주소', '번지'])\n",
        "child_area_df = child_area_df.groupby(['도시', '구', '동']).sum().reset_index()\n",
        "child_area_df.reset_index(inplace=True, drop=True)"
      ]
    },
    {
      "cell_type": "code",
      "execution_count": 8,
      "metadata": {},
      "outputs": [],
      "source": [
        "train_df = pd.merge(train_df, light_df, how='left', on=['도시', '구', '동'])\n",
        "train_df = pd.merge(train_df, child_area_df, how='left', on=['도시', '구', '동']).fillna(0)\n",
        "train_df = pd.merge(train_df, parking_df, how='left', on=['도시', '구', '동']).fillna(0)\n",
        "\n",
        "test_df = pd.merge(test_df, light_df, how='left', on=['도시', '구', '동'])\n",
        "test_df = pd.merge(test_df, child_area_df, how='left', on=['도시', '구', '동']).fillna(0)\n",
        "test_df = pd.merge(test_df, parking_df, how='left', on=['도시', '구', '동']).fillna(0)"
      ]
    },
    {
      "cell_type": "markdown",
      "metadata": {},
      "source": [
        "Seasonal Variable"
      ]
    },
    {
      "cell_type": "code",
      "execution_count": 9,
      "metadata": {},
      "outputs": [],
      "source": [
        "def group_Season(df):\n",
        "    df.loc[(df['월'] == 3) | (df['월'] == 4) | (df['월'] == 5), 'Season'] = '봄'\n",
        "    df.loc[(df['월'] == 6) | (df['월'] == 7) | (df['월'] == 8), 'Season'] = '여름'\n",
        "    df.loc[(df['월'] == 9) | (df['월'] == 10) | (df['월'] == 11), 'Season'] = '가을'\n",
        "    df.loc[(df['월'] == 12) | (df['월'] == 1) | (df['월'] == 2), 'Season'] = '겨울'\n",
        "    return df['Season']\n",
        "\n",
        "train_df['Cosine_Time'] = np.cos(2 * np.pi * train_df['시간'] / 24)\n",
        "test_df['Cosine_Time'] = np.cos(2 * np.pi * test_df['시간'] / 24)\n",
        "train_df['Season'] = group_Season(train_df)\n",
        "test_df['Season'] = group_Season(test_df)"
      ]
    },
    {
      "cell_type": "markdown",
      "metadata": {},
      "source": [
        "#### Scaling & Labeling"
      ]
    },
    {
      "cell_type": "code",
      "execution_count": 10,
      "metadata": {
        "pbl_cell_type": "code",
        "step_id": 5173,
        "step_number": 7,
        "trusted": true
      },
      "outputs": [],
      "source": [
        "X_test = test_df.copy()\n",
        "X_train = train_df[X_test.columns].copy() # X_test와 동일한 컬럼으로 X_train 생성\n",
        "y_train = train_df['ECLO'].copy()"
      ]
    },
    {
      "cell_type": "code",
      "execution_count": null,
      "metadata": {},
      "outputs": [],
      "source": [
        "display(X_test)\n",
        "display(X_train)\n",
        "display(y_train)"
      ]
    },
    {
      "cell_type": "code",
      "execution_count": 11,
      "metadata": {
        "pbl_cell_type": "code",
        "step_id": 5174,
        "step_number": 8,
        "trusted": true
      },
      "outputs": [],
      "source": [
        "from sklearn.preprocessing import MinMaxScaler\n",
        "from sklearn.preprocessing import StandardScaler\n",
        "# list(X_train.dtypes[X_train.dtypes == \"object\"].index) : ['요일', '기상상태', '노면상태', '사고유형', '도시', '구', '동', '도로형태1', '도로형태2']\n",
        "# 도시는 대구광역시로 동일하기 때문에 제거\n",
        "# 연도별 추세는 중요하지 않다고 판단하여 제거\n",
        "X_train.drop(['도시', '연'], axis=1, inplace=True)\n",
        "X_test.drop(['도시', '연'], axis=1, inplace=True)\n",
        "categorical_features = ['요일', '기상상태', '노면상태', '사고유형', '구', '동', '도로형태1', '도로형태2', 'Season']\n",
        "# 추출된 문자열 변수 확인\n",
        "data = pd.concat([X_train, X_test])\n",
        "\n",
        "# from sklearn.preprocessing import LabelEncoder\n",
        "for i in categorical_features:\n",
        "    # Get dummies\n",
        "    dummies = pd.get_dummies(data[i], prefix=i)\n",
        "    # Drop the original column\n",
        "    data.drop([i], axis=1, inplace=True)\n",
        "    # Concatenate the dummy variables\n",
        "    data = pd.concat([data, dummies], axis=1)\n",
        "\n",
        "# Split the data back into train and test dataframes\n",
        "X_train = data[:len(X_train)]\n",
        "X_test = data[len(X_train):]"
      ]
    },
    {
      "cell_type": "code",
      "execution_count": 12,
      "metadata": {},
      "outputs": [
        {
          "data": {
            "text/plain": [
              "['월',\n",
              " '일',\n",
              " '시간',\n",
              " '설치개수',\n",
              " 'child',\n",
              " '급지구분_1',\n",
              " '급지구분_2',\n",
              " '급지구분_3',\n",
              " 'Cosine_Time',\n",
              " '요일_금요일',\n",
              " '요일_목요일',\n",
              " '요일_수요일',\n",
              " '요일_월요일',\n",
              " '요일_일요일',\n",
              " '요일_토요일',\n",
              " '요일_화요일',\n",
              " '기상상태_기타',\n",
              " '기상상태_눈',\n",
              " '기상상태_맑음',\n",
              " '기상상태_비',\n",
              " '기상상태_안개',\n",
              " '기상상태_흐림',\n",
              " '노면상태_건조',\n",
              " '노면상태_기타',\n",
              " '노면상태_서리/결빙',\n",
              " '노면상태_적설',\n",
              " '노면상태_젖음/습기',\n",
              " '노면상태_침수',\n",
              " '사고유형_차대사람',\n",
              " '사고유형_차대차',\n",
              " '사고유형_차량단독',\n",
              " '구_남구',\n",
              " '구_달서구',\n",
              " '구_달성군',\n",
              " '구_동구',\n",
              " '구_북구',\n",
              " '구_서구',\n",
              " '구_수성구',\n",
              " '구_중구',\n",
              " '동_가창면',\n",
              " '동_가천동',\n",
              " '동_각산동',\n",
              " '동_갈산동',\n",
              " '동_감삼동',\n",
              " '동_검단동',\n",
              " '동_검사동',\n",
              " '동_계산동1가',\n",
              " '동_계산동2가',\n",
              " '동_고모동',\n",
              " '동_고성동1가',\n",
              " '동_고성동2가',\n",
              " '동_고성동3가',\n",
              " '동_공평동',\n",
              " '동_관음동',\n",
              " '동_괴전동',\n",
              " '동_교동',\n",
              " '동_구암동',\n",
              " '동_구지면',\n",
              " '동_국우동',\n",
              " '동_금강동',\n",
              " '동_금호동',\n",
              " '동_남산동',\n",
              " '동_남성로',\n",
              " '동_남일동',\n",
              " '동_내당동',\n",
              " '동_내동',\n",
              " '동_노곡동',\n",
              " '동_노변동',\n",
              " '동_노원동1가',\n",
              " '동_노원동2가',\n",
              " '동_노원동3가',\n",
              " '동_논공읍',\n",
              " '동_능성동',\n",
              " '동_다사읍',\n",
              " '동_달성동',\n",
              " '동_대곡동',\n",
              " '동_대림동',\n",
              " '동_대명동',\n",
              " '동_대봉동',\n",
              " '동_대신동',\n",
              " '동_대안동',\n",
              " '동_대천동',\n",
              " '동_대현동',\n",
              " '동_대흥동',\n",
              " '동_덕곡동',\n",
              " '동_덕산동',\n",
              " '동_도남동',\n",
              " '동_도동',\n",
              " '동_도원동',\n",
              " '동_도학동',\n",
              " '동_동내동',\n",
              " '동_동문동',\n",
              " '동_동변동',\n",
              " '동_동산동',\n",
              " '동_동성로1가',\n",
              " '동_동성로2가',\n",
              " '동_동성로3가',\n",
              " '동_동인동1가',\n",
              " '동_동인동2가',\n",
              " '동_동인동3가',\n",
              " '동_동인동4가',\n",
              " '동_동일동',\n",
              " '동_동천동',\n",
              " '동_동호동',\n",
              " '동_두류동',\n",
              " '동_두산동',\n",
              " '동_둔산동',\n",
              " '동_만촌동',\n",
              " '동_매여동',\n",
              " '동_매천동',\n",
              " '동_매호동',\n",
              " '동_문화동',\n",
              " '동_미곡동',\n",
              " '동_미대동',\n",
              " '동_방촌동',\n",
              " '동_백안동',\n",
              " '동_범물동',\n",
              " '동_범어동',\n",
              " '동_복현동',\n",
              " '동_본동',\n",
              " '동_본리동',\n",
              " '동_봉덕동',\n",
              " '동_봉무동',\n",
              " '동_봉산동',\n",
              " '동_부동',\n",
              " '동_북성로1가',\n",
              " '동_북성로2가',\n",
              " '동_불로동',\n",
              " '동_비산동',\n",
              " '동_사복동',\n",
              " '동_사수동',\n",
              " '동_사월동',\n",
              " '동_사일동',\n",
              " '동_산격동',\n",
              " '동_삼덕동',\n",
              " '동_삼덕동1가',\n",
              " '동_삼덕동2가',\n",
              " '동_삼덕동3가',\n",
              " '동_상동',\n",
              " '동_상리동',\n",
              " '동_상매동',\n",
              " '동_상서동',\n",
              " '동_상인동',\n",
              " '동_서문로1가',\n",
              " '동_서문로2가',\n",
              " '동_서변동',\n",
              " '동_서성로1가',\n",
              " '동_서성로2가',\n",
              " '동_서야동',\n",
              " '동_서호동',\n",
              " '동_성당동',\n",
              " '동_성동',\n",
              " '동_송정동',\n",
              " '동_송현동',\n",
              " '동_수동',\n",
              " '동_수성동1가',\n",
              " '동_수성동2가',\n",
              " '동_수성동3가',\n",
              " '동_수성동4가',\n",
              " '동_수창동',\n",
              " '동_숙천동',\n",
              " '동_시장북로',\n",
              " '동_시지동',\n",
              " '동_신기동',\n",
              " '동_신당동',\n",
              " '동_신매동',\n",
              " '동_신무동',\n",
              " '동_신서동',\n",
              " '동_신암동',\n",
              " '동_신용동',\n",
              " '동_신천동',\n",
              " '동_신평동',\n",
              " '동_연경동',\n",
              " '동_연호동',\n",
              " '동_옥포읍',\n",
              " '동_완전동',\n",
              " '동_용계동',\n",
              " '동_용산동',\n",
              " '동_용수동',\n",
              " '동_욱수동',\n",
              " '동_원대동1가',\n",
              " '동_원대동2가',\n",
              " '동_원대동3가',\n",
              " '동_월성동',\n",
              " '동_월암동',\n",
              " '동_유가읍',\n",
              " '동_유천동',\n",
              " '동_율암동',\n",
              " '동_율하동',\n",
              " '동_읍내동',\n",
              " '동_이곡동',\n",
              " '동_이천동',\n",
              " '동_이현동',\n",
              " '동_인교동',\n",
              " '동_입석동',\n",
              " '동_장관동',\n",
              " '동_장기동',\n",
              " '동_장동',\n",
              " '동_전동',\n",
              " '동_조야동',\n",
              " '동_종로1가',\n",
              " '동_종로2가',\n",
              " '동_죽전동',\n",
              " '동_중대동',\n",
              " '동_중동',\n",
              " '동_중리동',\n",
              " '동_지묘동',\n",
              " '동_지산동',\n",
              " '동_지저동',\n",
              " '동_진인동',\n",
              " '동_진천동',\n",
              " '동_칠성동1가',\n",
              " '동_칠성동2가',\n",
              " '동_침산동',\n",
              " '동_태전동',\n",
              " '동_태평로1가',\n",
              " '동_태평로2가',\n",
              " '동_태평로3가',\n",
              " '동_파동',\n",
              " '동_파호동',\n",
              " '동_팔달동',\n",
              " '동_평광동',\n",
              " '동_평리동',\n",
              " '동_포정동',\n",
              " '동_하빈면',\n",
              " '동_하서동',\n",
              " '동_학정동',\n",
              " '동_향촌동',\n",
              " '동_현풍읍',\n",
              " '동_호림동',\n",
              " '동_호산동',\n",
              " '동_화원읍',\n",
              " '동_화전동',\n",
              " '동_황금동',\n",
              " '동_효목동',\n",
              " '도로형태1_교차로',\n",
              " '도로형태1_기타',\n",
              " '도로형태1_단일로',\n",
              " '도로형태1_미분류',\n",
              " '도로형태1_주차장',\n",
              " '도로형태2_고가도로위',\n",
              " '도로형태2_교량',\n",
              " '도로형태2_교차로부근',\n",
              " '도로형태2_교차로안',\n",
              " '도로형태2_교차로횡단보도내',\n",
              " '도로형태2_기타',\n",
              " '도로형태2_미분류',\n",
              " '도로형태2_주차장',\n",
              " '도로형태2_지하차도(도로)내',\n",
              " '도로형태2_터널',\n",
              " 'Season_가을',\n",
              " 'Season_겨울',\n",
              " 'Season_봄',\n",
              " 'Season_여름']"
            ]
          },
          "execution_count": 12,
          "metadata": {},
          "output_type": "execute_result"
        }
      ],
      "source": [
        "[x for x in X_train.columns]"
      ]
    },
    {
      "cell_type": "markdown",
      "metadata": {},
      "source": [
        "#### Modeling"
      ]
    },
    {
      "cell_type": "markdown",
      "metadata": {},
      "source": [
        "AutoML"
      ]
    },
    {
      "cell_type": "code",
      "execution_count": null,
      "metadata": {},
      "outputs": [],
      "source": [
        "from sklearn.model_selection import train_test_split\n",
        "X_tra, X_val, y_tra, y_val = train_test_split(X_train, y_train, test_size=0.2)"
      ]
    },
    {
      "cell_type": "code",
      "execution_count": null,
      "metadata": {},
      "outputs": [],
      "source": [
        "from supervised.automl import AutoML\n",
        "automl = AutoML(mode=\"Compete\",\n",
        "                algorithms = ['Random Forest', 'LightGBM', 'Xgboost', 'CatBoost'],\n",
        "                n_jobs = -1, \n",
        "                eval_metric=\"rmse\", \n",
        "                ml_task = \"regression\")"
      ]
    },
    {
      "cell_type": "code",
      "execution_count": null,
      "metadata": {},
      "outputs": [],
      "source": [
        "automl.fit(X_tra, y_tra)"
      ]
    },
    {
      "cell_type": "markdown",
      "metadata": {
        "pbl_cell_type": "markdown",
        "step_id": 5176,
        "step_number": 10,
        "trusted": true
      },
      "source": [
        "#### Prediction"
      ]
    },
    {
      "cell_type": "code",
      "execution_count": 13,
      "metadata": {},
      "outputs": [],
      "source": [
        "from supervised.automl import AutoML\n",
        "automl = AutoML(mode=\"Compete\",\n",
        "                algorithms = ['Random Forest', 'LightGBM', 'Xgboost', 'CatBoost'],\n",
        "                n_jobs = -1, \n",
        "                eval_metric=\"rmse\", \n",
        "                ml_task = \"regression\")"
      ]
    },
    {
      "cell_type": "code",
      "execution_count": 15,
      "metadata": {
        "pbl_cell_type": "code",
        "step_id": 5176,
        "step_number": 10,
        "trusted": true
      },
      "outputs": [
        {
          "name": "stdout",
          "output_type": "stream",
          "text": [
            "AutoML directory: AutoML_5\n",
            "The task is regression with evaluation metric rmse\n",
            "AutoML will use algorithms: ['Random Forest', 'LightGBM', 'Xgboost', 'CatBoost']\n",
            "AutoML will stack models\n",
            "AutoML will ensemble available models\n",
            "AutoML steps: ['adjust_validation', 'simple_algorithms', 'default_algorithms', 'not_so_random', 'mix_encoding', 'golden_features', 'kmeans_features', 'insert_random_feature', 'features_selection', 'hill_climbing_1', 'hill_climbing_2', 'boost_on_errors', 'ensemble', 'stack', 'ensemble_stacked']\n",
            "* Step adjust_validation will try to check up to 1 model\n",
            "1_DecisionTree rmse 3.22834 trained in 1.67 seconds\n",
            "Adjust validation. Remove: 1_DecisionTree\n",
            "Validation strategy: 10-fold CV Shuffle\n",
            "Skip simple_algorithms because no parameters were generated.\n",
            "* Step default_algorithms will try to check up to 4 models\n",
            "1_Default_LightGBM rmse 3.244074 trained in 15.99 seconds\n",
            "2_Default_Xgboost rmse 3.244729 trained in 17.32 seconds\n",
            "3_Default_CatBoost rmse 3.240977 trained in 78.09 seconds\n",
            "4_Default_RandomForest rmse 3.250788 trained in 60.88 seconds\n",
            "* Step not_so_random will try to check up to 36 models\n",
            "14_LightGBM rmse 3.241799 trained in 14.56 seconds\n",
            "5_Xgboost rmse 3.246663 trained in 17.62 seconds\n",
            "23_CatBoost rmse 3.241299 trained in 86.0 seconds\n",
            "32_RandomForest rmse 3.251676 trained in 57.37 seconds\n",
            "15_LightGBM rmse 3.246066 trained in 14.62 seconds\n",
            "6_Xgboost rmse 3.249799 trained in 17.35 seconds\n",
            "24_CatBoost rmse 3.391596 trained in 101.65 seconds\n",
            "33_RandomForest rmse 3.253764 trained in 49.22 seconds\n",
            "16_LightGBM rmse 3.243583 trained in 16.25 seconds\n",
            "7_Xgboost rmse 3.245301 trained in 17.62 seconds\n",
            "25_CatBoost rmse 3.241222 trained in 79.79 seconds\n",
            "34_RandomForest rmse 3.247525 trained in 75.28 seconds\n",
            "17_LightGBM rmse 3.244957 trained in 16.55 seconds\n",
            "8_Xgboost rmse 3.245019 trained in 17.67 seconds\n",
            "26_CatBoost rmse 3.400756 trained in 84.86 seconds\n",
            "35_RandomForest rmse 3.248012 trained in 76.03 seconds\n",
            "18_LightGBM rmse 3.244738 trained in 15.12 seconds\n",
            "9_Xgboost rmse 3.24241 trained in 18.45 seconds\n",
            "27_CatBoost rmse 3.437363 trained in 86.55 seconds\n",
            "36_RandomForest rmse 3.247242 trained in 76.8 seconds\n",
            "19_LightGBM rmse 3.246345 trained in 17.3 seconds\n",
            "10_Xgboost rmse 3.2407 trained in 18.74 seconds\n",
            "28_CatBoost rmse 3.563787 trained in 86.55 seconds\n",
            "37_RandomForest rmse 3.246074 trained in 70.12 seconds\n",
            "20_LightGBM rmse 3.243559 trained in 16.37 seconds\n",
            "11_Xgboost rmse 3.243659 trained in 19.81 seconds\n",
            "29_CatBoost rmse 3.433056 trained in 110.9 seconds\n",
            "38_RandomForest rmse 3.250792 trained in 51.8 seconds\n",
            "21_LightGBM rmse 3.242207 trained in 16.26 seconds\n",
            "12_Xgboost rmse 3.244925 trained in 19.28 seconds\n",
            "30_CatBoost rmse 3.40502 trained in 103.64 seconds\n",
            "39_RandomForest rmse 3.25147 trained in 51.53 seconds\n",
            "22_LightGBM rmse 3.242424 trained in 15.91 seconds\n",
            "* Step mix_encoding will try to check up to 1 model\n",
            "10_Xgboost_categorical_mix rmse 3.2407 trained in 45.22 seconds\n",
            "* Step golden_features will try to check up to 3 models\n",
            "None 10\n",
            "Add Golden Feature: 급지구분_2_sum_급지구분_1\n",
            "Add Golden Feature: 급지구분_3_multiply_급지구분_2\n",
            "Add Golden Feature: 급지구분_3_ratio_급지구분_2\n",
            "Add Golden Feature: 급지구분_2_sum_child\n",
            "Add Golden Feature: 급지구분_1_diff_급지구분_2\n",
            "Add Golden Feature: 급지구분_2_ratio_급지구분_3\n",
            "Add Golden Feature: 급지구분_3_sum_급지구분_1\n",
            "Add Golden Feature: 급지구분_2_multiply_설치개수\n",
            "Add Golden Feature: 시간_ratio_급지구분_1\n",
            "Add Golden Feature: 설치개수_diff_급지구분_1\n",
            "Created 10 Golden Features in 9.21 seconds.\n",
            "10_Xgboost_categorical_mix_GoldenFeatures rmse 3.241202 trained in 56.99 seconds\n",
            "10_Xgboost_GoldenFeatures rmse 3.241198 trained in 19.41 seconds\n",
            "3_Default_CatBoost_GoldenFeatures rmse 3.240886 trained in 82.59 seconds\n",
            "* Step kmeans_features will try to check up to 3 models\n",
            "10_Xgboost_categorical_mix_KMeansFeatures rmse 3.242648 trained in 50.12 seconds\n",
            "10_Xgboost_KMeansFeatures rmse 3.241384 trained in 23.41 seconds\n",
            "3_Default_CatBoost_KMeansFeatures rmse 3.242497 trained in 85.05 seconds\n",
            "* Step insert_random_feature will try to check up to 1 model\n",
            "10_Xgboost_categorical_mix_RandomFeature rmse 3.240964 trained in 80.41 seconds\n",
            "Drop features ['도로형태2_교차로안_True', '설치개수', '동_상리동_True', '도로형태2_터널_True', '동_삼덕동1가_True', '일', '월', 'random_feature', '요일_토요일_True', '도로형태1_주차장_True', '동_진천동_True', '도로형태2_고가도로위_True', '도로형태1_교차로_True', '동_상인동_True', '도로형태2_기타_True', '노면상태_건조_True', '동_검단동_True', '노면상태_젖음/습기_True', '동_금호동_True', '요일_수요일_True', '동_용산동_True', '동_불로동_True', '기상상태_비_True', '동_봉덕동_True', '도로형태2_교량_True', '동_본리동_True', '동_태평로2가_True', '동_논공읍_True', '동_옥포읍_True', '구_중구_True', '구_남구_True', '동_동인동2가_True', 'Season_여름_True', '동_방촌동_True', '동_파호동_True', '동_사수동_True', '동_서변동_True', '구_서구_True', '요일_금요일_True', '구_수성구_True', '도로형태2_교차로부근_True', '동_시지동_True', '동_호림동_True', '동_달성동_True', '동_신서동_True', '동_원대동1가_True', '동_봉무동_True', '동_각산동_True', '동_중동_True', '동_고성동2가_True', '동_파동_True', '기상상태_흐림_True', '동_부동_True', '동_장기동_True', '도로형태2_주차장_True', '동_황금동_True', '동_유가읍_True', '동_내당동_True', '동_상동_True', '동_송현동_True', '동_도원동_True', '동_공평동_True', '동_이곡동_True', '동_동호동_True', '동_대봉동_True', '동_읍내동_True', 'Season_가을_True', '동_이현동_True', '동_구지면_True', '동_범어동_True', '동_중대동_True', '동_동인동3가_True', '구_동구_True', '동_침산동_True', '동_지산동_True', '동_월성동_True', '동_동변동_True', '동_현풍읍_True', '동_동산동_True', '동_동인동4가_True', '동_대명동_True', '동_노변동_True', '동_동천동_True', '동_효목동_True', '동_태전동_True', '동_칠성동1가_True', '동_성당동_True', '동_문화동_True', '동_미곡동_True', '동_매호동_True', '동_미대동_True', '동_성동_True', '동_백안동_True', '동_사복동_True', '노면상태_적설_True', '동_덕산동_True', '동_화전동_True', '동_향촌동_True', '동_남일동_True', '동_남성로_True', '동_둔산동_True', '동_금강동_True', '동_계산동1가_True', '동_송정동_True', '동_교동_True', '동_괴전동_True', '동_비산동_True', '동_도학동_True', '동_진인동_True', '동_하서동_True', '동_평광동_False', '동_서문로2가_True', '동_평광동_True', '동_서성로1가_True', '동_장관동_True', '동_서야동_True', '동_고성동1가_True', '기상상태_눈_True', '동_동성로3가_True', '동_동성로2가_True', '동_동성로1가_True', '동_동일동_True', '동_동문동_True', '동_동내동_True', '노면상태_서리/결빙_True', '노면상태_침수_True', '동_도남동_True', '동_덕곡동_True', '도로형태1_미분류_True', '동_서성로2가_True', '동_매여동_True', '동_고모동_True', '동_종로2가_True', '동_신평동_True', '동_신용동_True', '동_완전동_True', '동_시장북로_True', '동_숙천동_True', '동_수창동_True', '동_종로1가_True', '동_인교동_True', '동_태평로1가_True', '동_율암동_True', '도로형태2_미분류_True', '동_조야동_True', '동_원대동2가_True', '동_전동_True', '동_태평로3가_True', '동_용수동_True', '동_수동_True', '동_상서동_True', '동_사일동_True', '동_북성로1가_True', '동_북성로2가_True', '동_연경동_True', '동_도남동_False', '동_대안동_True', '동_신무동_True', '동_상매동_True', '동_삼덕동2가_True', '동_내동_True', '동_대림동_True', '동_노곡동_True', '기상상태_안개_True', '동_노원동1가_True', '동_갈산동_True', '동_서문로1가_True', '동_포정동_True', '동_능성동_True', '동_서호동_True', '동_대천동_True', '동_장동_True', '동_동인동1가_True', '동_수성동1가_True', '동_중리동_True', '동_남산동_True', '기상상태_기타_True', '동_수성동3가_True', '동_두류동_True', '동_신암동_True', '동_관음동_True', '동_계산동2가_True', '동_화원읍_True', '동_신매동_True', '동_학정동_True', '동_수성동2가_True', '동_본동_True', '동_지저동_True', '동_이천동_True', '동_봉산동_True', '동_입석동_True', '동_두산동_True', '동_수성동4가_True', '동_고성동3가_True', '동_매천동_True', '동_대현동_True', '급지구분_2', '동_호산동_True', '구_북구_True', '구_달서구_True', '동_삼덕동_True', '동_대곡동_True', '동_검사동_True', '동_원대동3가_True', '동_감삼동_True', '요일_화요일_True', '동_신기동_True', '동_팔달동_True', '도로형태1_단일로_True', '동_만촌동_True', '동_다사읍_True', '동_구암동_True', '동_삼덕동3가_True', '동_욱수동_True', '동_대신동_True', '동_산격동_True', '동_하빈면_True', '동_연호동_True', '동_대흥동_True', '동_사월동_True', '동_유천동_True', '동_율하동_True', '동_가천동_True', '동_도동_True', '동_지묘동_True', '동_노원동3가_True', '동_용계동_True', '동_월암동_True', '도로형태2_지하차도(도로)내_True', 'Season_겨울_True', '노면상태_기타_True', '동_범물동_True', '동_노원동2가_True', '동_가창면_True', '동_신천동_True', '동_신당동_True', '동_국우동_True', '요일_월요일_True', '요일_목요일_True', '동_평리동_True', '동_복현동_True', '동_칠성동2가_True', 'child', 'Season_봄_True', '동_죽전동_True']\n",
            "* Step features_selection will try to check up to 4 models\n",
            "10_Xgboost_categorical_mix_SelectedFeatures rmse 3.246371 trained in 36.77 seconds\n",
            "3_Default_CatBoost_GoldenFeatures_SelectedFeatures rmse 3.241315 trained in 80.62 seconds\n",
            "14_LightGBM_SelectedFeatures rmse 3.242501 trained in 15.65 seconds\n",
            "37_RandomForest_SelectedFeatures rmse 3.246103 trained in 71.54 seconds\n",
            "* Step hill_climbing_1 will try to check up to 23 models\n",
            "40_Xgboost rmse 3.239055 trained in 45.05 seconds\n",
            "41_Xgboost rmse 3.241196 trained in 42.72 seconds\n",
            "42_Xgboost rmse 3.239055 trained in 21.17 seconds\n",
            "43_Xgboost rmse 3.241196 trained in 19.66 seconds\n",
            "44_CatBoost_GoldenFeatures rmse 3.242032 trained in 84.16 seconds\n",
            "45_CatBoost_GoldenFeatures rmse 3.241343 trained in 78.52 seconds\n",
            "* Step hill_climbing_2 will try to check up to 15 models\n",
            "46_Xgboost rmse 3.242013 trained in 19.25 seconds\n",
            "47_Xgboost rmse 3.241057 trained in 19.62 seconds\n",
            "48_Xgboost rmse 3.242013 trained in 42.71 seconds\n",
            "49_Xgboost rmse 3.241057 trained in 42.62 seconds\n",
            "50_Xgboost rmse 3.241692 trained in 18.63 seconds\n",
            "51_Xgboost rmse 3.240965 trained in 19.38 seconds\n",
            "52_CatBoost_GoldenFeatures rmse 3.416946 trained in 98.14 seconds\n",
            "* Step boost_on_errors will try to check up to 1 model\n",
            "42_Xgboost_BoostOnErrors rmse 3.23236 trained in 19.79 seconds\n",
            "* Step ensemble will try to check up to 1 model\n",
            "Ensemble rmse 3.23236 trained in 5.23 seconds\n",
            "* Step stack will try to check up to 39 models\n",
            "42_Xgboost_Stacked rmse 3.241204 trained in 20.56 seconds\n",
            "3_Default_CatBoost_GoldenFeatures_Stacked rmse 3.239067 trained in 82.24 seconds\n",
            "14_LightGBM_Stacked rmse 3.241094 trained in 17.3 seconds\n",
            "37_RandomForest_Stacked rmse 3.237302 trained in 264.44 seconds\n",
            "40_Xgboost_Stacked rmse 3.240503 trained in 51.73 seconds\n",
            "3_Default_CatBoost_Stacked rmse 3.240171 trained in 81.67 seconds\n",
            "21_LightGBM_Stacked rmse 3.242494 trained in 17.26 seconds\n",
            "37_RandomForest_SelectedFeatures_Stacked not trained. Stop training after the first fold. Time needed to train on the first fold 16.0 seconds. The time estimate for training on all folds is larger than total_time_limit.\n",
            "10_Xgboost_Stacked rmse 3.242874 trained in 20.41 seconds\n",
            "25_CatBoost_Stacked not trained. Stop training after the first fold. Time needed to train on the first fold 8.0 seconds. The time estimate for training on all folds is larger than total_time_limit.\n",
            "22_LightGBM_Stacked rmse 3.241096 trained in 17.18 seconds\n",
            "36_RandomForest_Stacked not trained. Stop training after the first fold. Time needed to train on the first fold 27.0 seconds. The time estimate for training on all folds is larger than total_time_limit.\n",
            "* Step ensemble_stacked will try to check up to 1 model\n",
            "Ensemble_Stacked rmse 3.23236 trained in 6.83 seconds\n",
            "AutoML fit time: 3642.4 seconds\n",
            "AutoML best model: Ensemble_Stacked\n"
          ]
        },
        {
          "data": {
            "text/html": [
              "<style>#sk-container-id-1 {color: black;}#sk-container-id-1 pre{padding: 0;}#sk-container-id-1 div.sk-toggleable {background-color: white;}#sk-container-id-1 label.sk-toggleable__label {cursor: pointer;display: block;width: 100%;margin-bottom: 0;padding: 0.3em;box-sizing: border-box;text-align: center;}#sk-container-id-1 label.sk-toggleable__label-arrow:before {content: \"▸\";float: left;margin-right: 0.25em;color: #696969;}#sk-container-id-1 label.sk-toggleable__label-arrow:hover:before {color: black;}#sk-container-id-1 div.sk-estimator:hover label.sk-toggleable__label-arrow:before {color: black;}#sk-container-id-1 div.sk-toggleable__content {max-height: 0;max-width: 0;overflow: hidden;text-align: left;background-color: #f0f8ff;}#sk-container-id-1 div.sk-toggleable__content pre {margin: 0.2em;color: black;border-radius: 0.25em;background-color: #f0f8ff;}#sk-container-id-1 input.sk-toggleable__control:checked~div.sk-toggleable__content {max-height: 200px;max-width: 100%;overflow: auto;}#sk-container-id-1 input.sk-toggleable__control:checked~label.sk-toggleable__label-arrow:before {content: \"▾\";}#sk-container-id-1 div.sk-estimator input.sk-toggleable__control:checked~label.sk-toggleable__label {background-color: #d4ebff;}#sk-container-id-1 div.sk-label input.sk-toggleable__control:checked~label.sk-toggleable__label {background-color: #d4ebff;}#sk-container-id-1 input.sk-hidden--visually {border: 0;clip: rect(1px 1px 1px 1px);clip: rect(1px, 1px, 1px, 1px);height: 1px;margin: -1px;overflow: hidden;padding: 0;position: absolute;width: 1px;}#sk-container-id-1 div.sk-estimator {font-family: monospace;background-color: #f0f8ff;border: 1px dotted black;border-radius: 0.25em;box-sizing: border-box;margin-bottom: 0.5em;}#sk-container-id-1 div.sk-estimator:hover {background-color: #d4ebff;}#sk-container-id-1 div.sk-parallel-item::after {content: \"\";width: 100%;border-bottom: 1px solid gray;flex-grow: 1;}#sk-container-id-1 div.sk-label:hover label.sk-toggleable__label {background-color: #d4ebff;}#sk-container-id-1 div.sk-serial::before {content: \"\";position: absolute;border-left: 1px solid gray;box-sizing: border-box;top: 0;bottom: 0;left: 50%;z-index: 0;}#sk-container-id-1 div.sk-serial {display: flex;flex-direction: column;align-items: center;background-color: white;padding-right: 0.2em;padding-left: 0.2em;position: relative;}#sk-container-id-1 div.sk-item {position: relative;z-index: 1;}#sk-container-id-1 div.sk-parallel {display: flex;align-items: stretch;justify-content: center;background-color: white;position: relative;}#sk-container-id-1 div.sk-item::before, #sk-container-id-1 div.sk-parallel-item::before {content: \"\";position: absolute;border-left: 1px solid gray;box-sizing: border-box;top: 0;bottom: 0;left: 50%;z-index: -1;}#sk-container-id-1 div.sk-parallel-item {display: flex;flex-direction: column;z-index: 1;position: relative;background-color: white;}#sk-container-id-1 div.sk-parallel-item:first-child::after {align-self: flex-end;width: 50%;}#sk-container-id-1 div.sk-parallel-item:last-child::after {align-self: flex-start;width: 50%;}#sk-container-id-1 div.sk-parallel-item:only-child::after {width: 0;}#sk-container-id-1 div.sk-dashed-wrapped {border: 1px dashed gray;margin: 0 0.4em 0.5em 0.4em;box-sizing: border-box;padding-bottom: 0.4em;background-color: white;}#sk-container-id-1 div.sk-label label {font-family: monospace;font-weight: bold;display: inline-block;line-height: 1.2em;}#sk-container-id-1 div.sk-label-container {text-align: center;}#sk-container-id-1 div.sk-container {/* jupyter's `normalize.less` sets `[hidden] { display: none; }` but bootstrap.min.css set `[hidden] { display: none !important; }` so we also need the `!important` here to be able to override the default hidden behavior on the sphinx rendered scikit-learn.org. See: https://github.com/scikit-learn/scikit-learn/issues/21755 */display: inline-block !important;position: relative;}#sk-container-id-1 div.sk-text-repr-fallback {display: none;}</style><div id=\"sk-container-id-1\" class=\"sk-top-container\"><div class=\"sk-text-repr-fallback\"><pre>AutoML(algorithms=[&#x27;Random Forest&#x27;, &#x27;LightGBM&#x27;, &#x27;Xgboost&#x27;, &#x27;CatBoost&#x27;],\n",
              "       eval_metric=&#x27;rmse&#x27;, ml_task=&#x27;regression&#x27;, mode=&#x27;Compete&#x27;)</pre><b>In a Jupyter environment, please rerun this cell to show the HTML representation or trust the notebook. <br />On GitHub, the HTML representation is unable to render, please try loading this page with nbviewer.org.</b></div><div class=\"sk-container\" hidden><div class=\"sk-item\"><div class=\"sk-estimator sk-toggleable\"><input class=\"sk-toggleable__control sk-hidden--visually\" id=\"sk-estimator-id-1\" type=\"checkbox\" checked><label for=\"sk-estimator-id-1\" class=\"sk-toggleable__label sk-toggleable__label-arrow\">AutoML</label><div class=\"sk-toggleable__content\"><pre>AutoML(algorithms=[&#x27;Random Forest&#x27;, &#x27;LightGBM&#x27;, &#x27;Xgboost&#x27;, &#x27;CatBoost&#x27;],\n",
              "       eval_metric=&#x27;rmse&#x27;, ml_task=&#x27;regression&#x27;, mode=&#x27;Compete&#x27;)</pre></div></div></div></div></div>"
            ],
            "text/plain": [
              "AutoML(algorithms=['Random Forest', 'LightGBM', 'Xgboost', 'CatBoost'],\n",
              "       eval_metric='rmse', ml_task='regression', mode='Compete')"
            ]
          },
          "execution_count": 15,
          "metadata": {},
          "output_type": "execute_result"
        }
      ],
      "source": [
        "# Fit Final Model\n",
        "automl.fit(X_train, y_train)"
      ]
    },
    {
      "cell_type": "code",
      "execution_count": 16,
      "metadata": {},
      "outputs": [
        {
          "data": {
            "text/plain": [
              "['automl_model.pkl']"
            ]
          },
          "execution_count": 16,
          "metadata": {},
          "output_type": "execute_result"
        }
      ],
      "source": [
        "import joblib\n",
        "\n",
        "# Save the model as a pickle file\n",
        "joblib.dump(automl, 'automl_model.pkl')"
      ]
    },
    {
      "cell_type": "code",
      "execution_count": 18,
      "metadata": {},
      "outputs": [
        {
          "data": {
            "text/plain": [
              "array([4.0408382, 3.5411594, 4.962862 , ..., 4.190703 , 4.294964 ,\n",
              "       4.294793 ], dtype=float32)"
            ]
          },
          "execution_count": 18,
          "metadata": {},
          "output_type": "execute_result"
        }
      ],
      "source": [
        "prediction = automl.predict(X_test)\n",
        "prediction"
      ]
    },
    {
      "cell_type": "markdown",
      "metadata": {
        "pbl_cell_type": "markdown",
        "step_id": 5178,
        "step_number": 12,
        "trusted": true
      },
      "source": [
        "#### submission"
      ]
    },
    {
      "cell_type": "code",
      "execution_count": 19,
      "metadata": {},
      "outputs": [],
      "source": [
        "sample_submission = pd.read_csv(\"D:/Daegu_Data/sample_submission.csv\")"
      ]
    },
    {
      "cell_type": "code",
      "execution_count": 20,
      "metadata": {
        "pbl_cell_type": "code",
        "step_id": 5178,
        "step_number": 12,
        "trusted": true
      },
      "outputs": [
        {
          "data": {
            "text/plain": [
              "2.530893564224243"
            ]
          },
          "execution_count": 20,
          "metadata": {},
          "output_type": "execute_result"
        }
      ],
      "source": [
        "submit = sample_submission.copy()\n",
        "submit['ECLO'] = prediction\n",
        "min(submit['ECLO'])\n",
        "# submit.loc[submit['ECLO'] < 0.0, 'ECLO'] = 0.0"
      ]
    },
    {
      "cell_type": "code",
      "execution_count": 21,
      "metadata": {},
      "outputs": [
        {
          "data": {
            "text/html": [
              "<div>\n",
              "<style scoped>\n",
              "    .dataframe tbody tr th:only-of-type {\n",
              "        vertical-align: middle;\n",
              "    }\n",
              "\n",
              "    .dataframe tbody tr th {\n",
              "        vertical-align: top;\n",
              "    }\n",
              "\n",
              "    .dataframe thead th {\n",
              "        text-align: right;\n",
              "    }\n",
              "</style>\n",
              "<table border=\"1\" class=\"dataframe\">\n",
              "  <thead>\n",
              "    <tr style=\"text-align: right;\">\n",
              "      <th></th>\n",
              "      <th>ID</th>\n",
              "      <th>ECLO</th>\n",
              "    </tr>\n",
              "  </thead>\n",
              "  <tbody>\n",
              "    <tr>\n",
              "      <th>0</th>\n",
              "      <td>ACCIDENT_39609</td>\n",
              "      <td>4.040838</td>\n",
              "    </tr>\n",
              "    <tr>\n",
              "      <th>1</th>\n",
              "      <td>ACCIDENT_39610</td>\n",
              "      <td>3.541159</td>\n",
              "    </tr>\n",
              "    <tr>\n",
              "      <th>2</th>\n",
              "      <td>ACCIDENT_39611</td>\n",
              "      <td>4.962862</td>\n",
              "    </tr>\n",
              "    <tr>\n",
              "      <th>3</th>\n",
              "      <td>ACCIDENT_39612</td>\n",
              "      <td>4.485795</td>\n",
              "    </tr>\n",
              "    <tr>\n",
              "      <th>4</th>\n",
              "      <td>ACCIDENT_39613</td>\n",
              "      <td>4.412438</td>\n",
              "    </tr>\n",
              "    <tr>\n",
              "      <th>...</th>\n",
              "      <td>...</td>\n",
              "      <td>...</td>\n",
              "    </tr>\n",
              "    <tr>\n",
              "      <th>10958</th>\n",
              "      <td>ACCIDENT_50567</td>\n",
              "      <td>4.958821</td>\n",
              "    </tr>\n",
              "    <tr>\n",
              "      <th>10959</th>\n",
              "      <td>ACCIDENT_50568</td>\n",
              "      <td>4.192525</td>\n",
              "    </tr>\n",
              "    <tr>\n",
              "      <th>10960</th>\n",
              "      <td>ACCIDENT_50569</td>\n",
              "      <td>4.190703</td>\n",
              "    </tr>\n",
              "    <tr>\n",
              "      <th>10961</th>\n",
              "      <td>ACCIDENT_50570</td>\n",
              "      <td>4.294964</td>\n",
              "    </tr>\n",
              "    <tr>\n",
              "      <th>10962</th>\n",
              "      <td>ACCIDENT_50571</td>\n",
              "      <td>4.294793</td>\n",
              "    </tr>\n",
              "  </tbody>\n",
              "</table>\n",
              "<p>10963 rows × 2 columns</p>\n",
              "</div>"
            ],
            "text/plain": [
              "                   ID      ECLO\n",
              "0      ACCIDENT_39609  4.040838\n",
              "1      ACCIDENT_39610  3.541159\n",
              "2      ACCIDENT_39611  4.962862\n",
              "3      ACCIDENT_39612  4.485795\n",
              "4      ACCIDENT_39613  4.412438\n",
              "...               ...       ...\n",
              "10958  ACCIDENT_50567  4.958821\n",
              "10959  ACCIDENT_50568  4.192525\n",
              "10960  ACCIDENT_50569  4.190703\n",
              "10961  ACCIDENT_50570  4.294964\n",
              "10962  ACCIDENT_50571  4.294793\n",
              "\n",
              "[10963 rows x 2 columns]"
            ]
          },
          "execution_count": 21,
          "metadata": {},
          "output_type": "execute_result"
        }
      ],
      "source": [
        "submit"
      ]
    },
    {
      "cell_type": "code",
      "execution_count": 22,
      "metadata": {
        "pbl_cell_type": "code",
        "step_id": 5178,
        "step_number": 12,
        "trusted": true
      },
      "outputs": [],
      "source": [
        "submit.to_csv('automl.csv', index=False)"
      ]
    },
    {
      "cell_type": "code",
      "execution_count": null,
      "metadata": {},
      "outputs": [],
      "source": []
    }
  ],
  "metadata": {
    "kernelspec": {
      "display_name": "Python 3",
      "language": "python",
      "name": "python3"
    },
    "language_info": {
      "codemirror_mode": {
        "name": "ipython",
        "version": 3
      },
      "file_extension": ".py",
      "mimetype": "text/x-python",
      "name": "python",
      "nbconvert_exporter": "python",
      "pygments_lexer": "ipython3",
      "version": "3.10.13"
    }
  },
  "nbformat": 4,
  "nbformat_minor": 4
}
