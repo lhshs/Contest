{
 "cells": [
  {
   "cell_type": "markdown",
   "id": "d20fe02f",
   "metadata": {},
   "source": [
    "## 기상청 API 허브"
   ]
  },
  {
   "cell_type": "code",
   "execution_count": null,
   "id": "55b12082",
   "metadata": {
    "ExecuteTime": {
     "end_time": "2023-06-21T09:49:18.025776Z",
     "start_time": "2023-06-21T09:49:17.999766Z"
    }
   },
   "outputs": [],
   "source": [
    "import sys\n",
    "\n",
    "print(\"--sys.version—\")\n",
    "print(sys.version)"
   ]
  },
  {
   "cell_type": "markdown",
   "id": "29c66509",
   "metadata": {},
   "source": [
    "DATA 수집 목표 : 2012 ~ (최소기간)"
   ]
  },
  {
   "cell_type": "markdown",
   "id": "02808f06",
   "metadata": {},
   "source": [
    "https://apihub.kma.go.kr/"
   ]
  },
  {
   "cell_type": "code",
   "execution_count": 1,
   "id": "73390206",
   "metadata": {
    "ExecuteTime": {
     "end_time": "2023-06-21T10:29:30.664436Z",
     "start_time": "2023-06-21T10:29:28.424414Z"
    }
   },
   "outputs": [],
   "source": [
    "import pandas as pd\n",
    "import matplotlib.pyplot as plt\n",
    "\n",
    "import urllib\n",
    "import urllib.request\n",
    "from urllib.parse import unquote\n",
    "\n",
    "import json\n",
    "\n",
    "import requests\n",
    "import pprint\n",
    "\n",
    "from datetime import datetime, timedelta\n",
    "import warnings\n",
    "warnings.filterwarnings('ignore')\n",
    "\n",
    "from tqdm import tqdm"
   ]
  },
  {
   "cell_type": "code",
   "execution_count": null,
   "id": "f77e82f7",
   "metadata": {},
   "outputs": [],
   "source": [
    "import pickle"
   ]
  },
  {
   "cell_type": "code",
   "execution_count": null,
   "id": "019dc215",
   "metadata": {},
   "outputs": [],
   "source": [
    "with open('단기해상예보.pkl', 'wb') as f:\n",
    "    pickle.dump(lst, f)"
   ]
  },
  {
   "cell_type": "code",
   "execution_count": null,
   "id": "2d9c6a74",
   "metadata": {},
   "outputs": [],
   "source": [
    "with open('단기해상예보.pkl', 'rb') as f:\n",
    "    lst = pickle.load(f)"
   ]
  },
  {
   "cell_type": "code",
   "execution_count": null,
   "id": "ab3bff43",
   "metadata": {},
   "outputs": [],
   "source": [
    "for i in lst:\n",
    "    print(i[:5])"
   ]
  },
  {
   "cell_type": "markdown",
   "id": "0de74611",
   "metadata": {},
   "source": [
    "### Text"
   ]
  },
  {
   "cell_type": "code",
   "execution_count": null,
   "id": "9700d1eb",
   "metadata": {
    "ExecuteTime": {
     "end_time": "2023-06-19T09:27:49.073664Z",
     "start_time": "2023-06-19T09:27:49.066682Z"
    }
   },
   "outputs": [],
   "source": [
    "year = [2012, 2013, 2014, 2015, 2016, 2017, 2018, 2019, 2020, 2021, 2022]\n",
    "year2 = [2012, 2016, 2020]#, 2023]\n",
    "# month = [1, 4, 7, 10]"
   ]
  },
  {
   "cell_type": "code",
   "execution_count": null,
   "id": "8f885ce4",
   "metadata": {
    "ExecuteTime": {
     "end_time": "2023-06-16T06:24:13.879671Z",
     "start_time": "2023-06-16T06:24:13.874681Z"
    }
   },
   "outputs": [],
   "source": [
    "def one_year_term(year):\n",
    "    url = f'https://apihub.kma.go.kr/api/typ01/url/kma_snow2.php?tm={year+1}01010000&tm_st={year}01010000&snow=2&help=0&authKey=vBjTN-oHQjaY0zfqB_I2uw'\n",
    "    response = requests.get(url)\n",
    "    text = response.text.split('\\n')\n",
    "    return text\n",
    "    "
   ]
  },
  {
   "cell_type": "code",
   "execution_count": null,
   "id": "5f7a40c6",
   "metadata": {
    "ExecuteTime": {
     "end_time": "2023-06-19T09:21:17.650219Z",
     "start_time": "2023-06-19T09:21:17.633266Z"
    }
   },
   "outputs": [],
   "source": [
    "def six_month_term(year, a, b):\n",
    "    \n",
    "    url = f'https://apihub.kma.go.kr/api/typ01/url/fct_afs_do.php?reg=&tmfc1={year}{a}0100&tmfc2={year}{b}0100&disp=1&help=0&authKey=yEtC0d2xQmKLQtHdsWJi5g'\n",
    "    response = requests.get(url)\n",
    "    text = response.text.split('\\n')\n",
    "    return text\n",
    "    "
   ]
  },
  {
   "cell_type": "code",
   "execution_count": null,
   "id": "6edde42e",
   "metadata": {
    "ExecuteTime": {
     "end_time": "2023-06-21T10:08:33.844964Z",
     "start_time": "2023-06-21T10:07:17.287144Z"
    }
   },
   "outputs": [],
   "source": [
    "\n",
    "url = f'https://apihub.kma.go.kr/api/typ01/url/kma_snow2.php?tm=202303130000&tm_st=202301010000&snow=2&help=0&authKey=zxiqblJaSgSYqm5SWioEeA'\n",
    "response = requests.get(url)\n",
    "text = response.text.split('\\n')\n"
   ]
  },
  {
   "cell_type": "code",
   "execution_count": null,
   "id": "0d34e55e",
   "metadata": {
    "ExecuteTime": {
     "end_time": "2023-06-21T10:08:45.078691Z",
     "start_time": "2023-06-21T10:08:45.035803Z"
    }
   },
   "outputs": [],
   "source": [
    "text[-5:]"
   ]
  },
  {
   "cell_type": "code",
   "execution_count": null,
   "id": "0184fe85",
   "metadata": {},
   "outputs": [],
   "source": [
    "lst = []\n",
    "\n",
    "for i in tqdm(year):\n",
    "    lst.append(one_year_term(i))"
   ]
  },
  {
   "cell_type": "code",
   "execution_count": null,
   "id": "4aa01125",
   "metadata": {},
   "outputs": [],
   "source": [
    "len(lst)"
   ]
  },
  {
   "cell_type": "code",
   "execution_count": null,
   "id": "0d14fbf7",
   "metadata": {},
   "outputs": [],
   "source": [
    "# 2012, 2016, 2020 : 기간 초과"
   ]
  },
  {
   "cell_type": "code",
   "execution_count": null,
   "id": "df254e9a",
   "metadata": {
    "ExecuteTime": {
     "end_time": "2023-06-19T09:34:31.929032Z",
     "start_time": "2023-06-19T09:28:24.756262Z"
    }
   },
   "outputs": [],
   "source": [
    "lst_half = []\n",
    "\n",
    "for i in tqdm(year2):\n",
    "    lst_half.append(short_term_half(i, '01', '06'))\n",
    "    lst_half.append(short_term_half(i, '07', '12'))\n",
    "    "
   ]
  },
  {
   "cell_type": "code",
   "execution_count": null,
   "id": "bd9fcc46",
   "metadata": {
    "ExecuteTime": {
     "end_time": "2023-06-16T07:11:38.995066Z",
     "start_time": "2023-06-16T07:11:38.980106Z"
    }
   },
   "outputs": [],
   "source": [
    "len(lst_half)"
   ]
  },
  {
   "cell_type": "code",
   "execution_count": null,
   "id": "4336ee0b",
   "metadata": {
    "ExecuteTime": {
     "end_time": "2023-06-16T07:15:12.921828Z",
     "start_time": "2023-06-16T07:15:12.891908Z"
    }
   },
   "outputs": [],
   "source": [
    "lst_half[4][:-5]"
   ]
  },
  {
   "cell_type": "code",
   "execution_count": null,
   "id": "ed2afcb0",
   "metadata": {},
   "outputs": [],
   "source": [
    "lst[0]"
   ]
  },
  {
   "cell_type": "code",
   "execution_count": null,
   "id": "c73fe25f",
   "metadata": {
    "ExecuteTime": {
     "end_time": "2023-06-16T06:51:27.055008Z",
     "start_time": "2023-06-16T06:51:15.909166Z"
    }
   },
   "outputs": [],
   "source": [
    "for i in range(11):\n",
    "    print(lst[i][:5])"
   ]
  },
  {
   "cell_type": "code",
   "execution_count": null,
   "id": "a92965bd",
   "metadata": {
    "ExecuteTime": {
     "end_time": "2023-06-21T10:09:07.893768Z",
     "start_time": "2023-06-21T10:09:07.876685Z"
    },
    "scrolled": true
   },
   "outputs": [],
   "source": [
    "# columns 추출\n",
    "col_name = text[1].split()\n",
    "col_name = col_name[1:]\n",
    "print(col_name)\n",
    "print(len(col_name))"
   ]
  },
  {
   "cell_type": "code",
   "execution_count": null,
   "id": "d6175a96",
   "metadata": {
    "ExecuteTime": {
     "end_time": "2023-06-14T19:03:50.082044Z",
     "start_time": "2023-06-14T19:03:50.078071Z"
    }
   },
   "outputs": [],
   "source": [
    "# col_name = [i.strip() for i in col_name]"
   ]
  },
  {
   "cell_type": "code",
   "execution_count": null,
   "id": "2d93e0cd",
   "metadata": {
    "ExecuteTime": {
     "end_time": "2023-06-14T19:04:14.397353Z",
     "start_time": "2023-06-14T19:04:14.393380Z"
    }
   },
   "outputs": [],
   "source": [
    "# col_name[0] = 'TM_FC'"
   ]
  },
  {
   "cell_type": "code",
   "execution_count": null,
   "id": "103899b2",
   "metadata": {
    "ExecuteTime": {
     "end_time": "2023-06-19T13:03:42.353992Z",
     "start_time": "2023-06-19T13:03:42.339029Z"
    }
   },
   "outputs": [],
   "source": [
    "col_name"
   ]
  },
  {
   "cell_type": "code",
   "execution_count": null,
   "id": "f4f18cec",
   "metadata": {
    "ExecuteTime": {
     "end_time": "2023-06-19T12:37:55.466565Z",
     "start_time": "2023-06-19T12:37:55.454582Z"
    }
   },
   "outputs": [],
   "source": [
    "for i in lst:\n",
    "    print(i[-3:])"
   ]
  },
  {
   "cell_type": "code",
   "execution_count": null,
   "id": "c98bcf70",
   "metadata": {},
   "outputs": [],
   "source": [
    "# df_2013, df_2014, df_2015, \n",
    "# df_2017, df_2018, df_2019, \n",
    "# df_2021, df_2022"
   ]
  },
  {
   "cell_type": "code",
   "execution_count": null,
   "id": "7caae18f",
   "metadata": {},
   "outputs": [],
   "source": [
    "len(lst[0])"
   ]
  },
  {
   "cell_type": "code",
   "execution_count": null,
   "id": "225a6e60",
   "metadata": {},
   "outputs": [],
   "source": [
    "lst[1][2].split(',')[1][:4]"
   ]
  },
  {
   "cell_type": "code",
   "execution_count": null,
   "id": "1a2319d8",
   "metadata": {
    "ExecuteTime": {
     "end_time": "2023-06-19T13:05:19.505918Z",
     "start_time": "2023-06-19T13:05:17.406536Z"
    },
    "scrolled": true
   },
   "outputs": [],
   "source": [
    "# 단기 예특보\n",
    "# lst 내 text, Data Frame으로 만들기\n",
    "\n",
    "def to_df(lst):\n",
    "    for i in tqdm(range(len(lst))):\n",
    "        if len(lst[i]) > 2:\n",
    "            year = lst[i][2].split(',')[1][:4]\n",
    "            globals()['df_{}'.format(year)] = pd.DataFrame(lst[i][2:-2])[0].str.split(',', expand=True)\n",
    "#             'df_{}'.format(year).columns == col_name\n",
    "#             return 'df_{}'.format(year)\n",
    "#         else:\n",
    "#             pass"
   ]
  },
  {
   "cell_type": "code",
   "execution_count": null,
   "id": "16196479",
   "metadata": {},
   "outputs": [],
   "source": [
    "to_df(lst_half)"
   ]
  },
  {
   "cell_type": "code",
   "execution_count": null,
   "id": "dc16a5bf",
   "metadata": {},
   "outputs": [],
   "source": [
    "lst[1]"
   ]
  },
  {
   "cell_type": "code",
   "execution_count": null,
   "id": "3c055a21",
   "metadata": {},
   "outputs": [],
   "source": [
    "lst[1][3].split()[0][:4]"
   ]
  },
  {
   "cell_type": "code",
   "execution_count": null,
   "id": "2d7c2c71",
   "metadata": {},
   "outputs": [],
   "source": [
    "# 적설량\n",
    "# lst 내 text, Data Frame으로 만들기\n",
    "\n",
    "def to_df2(lst):\n",
    "    for i in tqdm(range(len(lst))):\n",
    "        year = lst[i][3].split()[0][:4]\n",
    "        globals()['df_{}_snow'.format(year)] = pd.DataFrame(lst[i][3:-2])[0].str.split(expand=True)\n"
   ]
  },
  {
   "cell_type": "code",
   "execution_count": null,
   "id": "74070c20",
   "metadata": {},
   "outputs": [],
   "source": [
    "to_df2(lst)"
   ]
  },
  {
   "cell_type": "code",
   "execution_count": null,
   "id": "e9e6a811",
   "metadata": {},
   "outputs": [],
   "source": [
    "df_2022_snow"
   ]
  },
  {
   "cell_type": "code",
   "execution_count": null,
   "id": "2e8f1663",
   "metadata": {
    "ExecuteTime": {
     "end_time": "2023-06-21T10:09:41.844086Z",
     "start_time": "2023-06-21T10:09:41.784844Z"
    }
   },
   "outputs": [],
   "source": [
    "text"
   ]
  },
  {
   "cell_type": "code",
   "execution_count": null,
   "id": "2485f1ed",
   "metadata": {
    "ExecuteTime": {
     "end_time": "2023-06-21T10:10:12.796037Z",
     "start_time": "2023-06-21T10:10:04.153889Z"
    }
   },
   "outputs": [],
   "source": [
    "df = pd.DataFrame(text[3:-2])[0].str.split(expand=True)\n",
    "# df3.drop(columns = [19], inplace=True)\n",
    "df.columns = col_name\n",
    "df"
   ]
  },
  {
   "cell_type": "code",
   "execution_count": null,
   "id": "0a6221fe",
   "metadata": {},
   "outputs": [],
   "source": [
    "df1"
   ]
  },
  {
   "cell_type": "code",
   "execution_count": null,
   "id": "843db9b5",
   "metadata": {},
   "outputs": [],
   "source": [
    "df_2020"
   ]
  },
  {
   "cell_type": "code",
   "execution_count": null,
   "id": "f130c96c",
   "metadata": {
    "ExecuteTime": {
     "end_time": "2023-06-14T18:16:57.577061Z",
     "start_time": "2023-06-14T18:16:57.559678Z"
    }
   },
   "outputs": [],
   "source": [
    "df[9].value_counts()"
   ]
  },
  {
   "cell_type": "code",
   "execution_count": null,
   "id": "1d3e5239",
   "metadata": {
    "ExecuteTime": {
     "end_time": "2023-06-14T17:31:03.683708Z",
     "start_time": "2023-06-14T17:31:01.630488Z"
    },
    "scrolled": true
   },
   "outputs": [],
   "source": [
    "'''\n",
    "# 띄어쓰기에 따라 나눠진 컬럼 합치기\n",
    "\n",
    "con_cols = [18, 19, 20, 21]\n",
    "\n",
    "df['con_cols'] = df[con_cols].apply(lambda row : ' '.join(row.values.astype(str)), axis=1)\n",
    "df.drop(columns = con_cols, inplace = True)\n",
    "'''"
   ]
  },
  {
   "cell_type": "code",
   "execution_count": null,
   "id": "1994472d",
   "metadata": {
    "ExecuteTime": {
     "end_time": "2023-06-14T19:04:25.207800Z",
     "start_time": "2023-06-14T19:04:25.205316Z"
    }
   },
   "outputs": [],
   "source": [
    "df = df.iloc[:,:11]"
   ]
  },
  {
   "cell_type": "code",
   "execution_count": null,
   "id": "8594eeb7",
   "metadata": {
    "ExecuteTime": {
     "end_time": "2023-06-14T19:02:03.281334Z",
     "start_time": "2023-06-14T19:02:03.276864Z"
    }
   },
   "outputs": [],
   "source": [
    "df.drop(columns = 11, inplace=True)"
   ]
  },
  {
   "cell_type": "code",
   "execution_count": null,
   "id": "29ad9459",
   "metadata": {},
   "outputs": [],
   "source": [
    "df_2012_snow"
   ]
  },
  {
   "cell_type": "code",
   "execution_count": null,
   "id": "b18be124",
   "metadata": {
    "ExecuteTime": {
     "end_time": "2023-06-16T07:25:55.949956Z",
     "start_time": "2023-06-16T07:25:11.146314Z"
    }
   },
   "outputs": [],
   "source": [
    "# df_2013, df_2014, df_2015, df_2017, df_2018, df_2019, df_2021, df_2022\n",
    "\n",
    "df_snow = pd.concat([df_2012_snow, df_2013_snow, df_2014_snow, df_2015_snow, df_2016_snow, df_2017_snow, df_2018_snow, df_2019_snow, df_2020_snow, df_2021_snow, df_2022_snow])\n",
    "# df1.drop(columns = [19], inplace=True)\n",
    "df_snow.columns = col_name\n",
    "df_snow"
   ]
  },
  {
   "cell_type": "code",
   "execution_count": null,
   "id": "edd7af32",
   "metadata": {},
   "outputs": [],
   "source": [
    "df_snow = df_snow.sort_values(by='YYMMDDHHMI')\n",
    "df_snow = df_snow.reset_index(drop=True)\n",
    "df_snow"
   ]
  },
  {
   "cell_type": "code",
   "execution_count": null,
   "id": "95c31d7e",
   "metadata": {},
   "outputs": [],
   "source": [
    "df_snow = df_snow.drop_duplicates()\n",
    "df_snow = df_snow.reset_index(drop=True)\n",
    "df_snow"
   ]
  },
  {
   "cell_type": "code",
   "execution_count": null,
   "id": "33c6b634",
   "metadata": {
    "ExecuteTime": {
     "end_time": "2023-06-19T13:25:29.421642Z",
     "start_time": "2023-06-19T13:25:26.551319Z"
    }
   },
   "outputs": [],
   "source": [
    "df_snow.to_csv('적설관측(~2022).csv')"
   ]
  },
  {
   "cell_type": "code",
   "execution_count": null,
   "id": "9b91a919",
   "metadata": {
    "ExecuteTime": {
     "end_time": "2023-06-19T12:38:50.797840Z",
     "start_time": "2023-06-19T12:38:49.894690Z"
    }
   },
   "outputs": [],
   "source": [
    "df2 = pd.concat([df_2012, df_2016, df_2020])\n",
    "df2.drop(columns = [19], inplace=True)\n",
    "df2.columns = col_name\n",
    "df2"
   ]
  },
  {
   "cell_type": "code",
   "execution_count": null,
   "id": "8ab7331a",
   "metadata": {},
   "outputs": [],
   "source": [
    "df = pd.concat([df1, df2, df3])\n",
    "df.sort_values(by='TM_FC', inplace=True)\n",
    "df = df.reset_index(drop=True)\n",
    "df"
   ]
  },
  {
   "cell_type": "code",
   "execution_count": null,
   "id": "32a44080",
   "metadata": {},
   "outputs": [],
   "source": [
    "df[:20]"
   ]
  },
  {
   "cell_type": "code",
   "execution_count": null,
   "id": "d342f14f",
   "metadata": {},
   "outputs": [],
   "source": [
    "df = df.drop_duplicates()\n",
    "df"
   ]
  },
  {
   "cell_type": "code",
   "execution_count": null,
   "id": "35f0ccf3",
   "metadata": {},
   "outputs": [],
   "source": [
    "df['TM_FC'].value_counts()"
   ]
  },
  {
   "cell_type": "code",
   "execution_count": null,
   "id": "1761d50d",
   "metadata": {
    "ExecuteTime": {
     "end_time": "2023-06-19T13:05:30.291317Z",
     "start_time": "2023-06-19T13:05:30.117780Z"
    }
   },
   "outputs": [],
   "source": [
    "# 필요없는 COLUMN 제거 구역코드(REG_ID), 예보관ID(MAN_ID), 예보관명(MAN_FC)\n",
    "# 구간(MOD) 12, 24 시간\n",
    "# SKY + PREP 한글화 = WF\n",
    "\n",
    "df.drop(columns = ['REG_ID', 'MAN_ID', 'MAN_FC'], inplace=True)"
   ]
  },
  {
   "cell_type": "code",
   "execution_count": null,
   "id": "532cbca6",
   "metadata": {
    "ExecuteTime": {
     "end_time": "2023-06-19T12:39:20.627999Z",
     "start_time": "2023-06-19T12:39:14.090670Z"
    }
   },
   "outputs": [],
   "source": [
    "df.to_csv('단기해상예보.csv')"
   ]
  },
  {
   "cell_type": "markdown",
   "id": "1048440e",
   "metadata": {},
   "source": [
    "### XML"
   ]
  },
  {
   "cell_type": "code",
   "execution_count": null,
   "id": "33d1dadd",
   "metadata": {
    "ExecuteTime": {
     "end_time": "2023-06-15T09:55:02.340726Z",
     "start_time": "2023-06-15T09:54:33.925119Z"
    }
   },
   "outputs": [],
   "source": [
    "url = 'https://apihub.kma.go.kr/api/typ02/openApi/SfcYearlyInfoService/getTyphoonList?pageNo=1&numOfRows=10&dataType=XML&year=2022&authKey=_v7wW5IUQqu-8FuSFNKrLA'\n",
    "\n",
    "response = requests.get(url)\n",
    "\n",
    "# xml 내용\n",
    "content = response.text\n",
    "\n",
    "# 깔끔한 출력 위한 코드\n",
    "pp = pprint.PrettyPrinter(indent=4)\n",
    "print(pp.pprint(content))"
   ]
  },
  {
   "cell_type": "code",
   "execution_count": null,
   "id": "c14ecf9f",
   "metadata": {
    "ExecuteTime": {
     "end_time": "2023-06-15T09:54:11.951008Z",
     "start_time": "2023-06-15T09:54:11.922075Z"
    },
    "scrolled": true
   },
   "outputs": [],
   "source": [
    "from os import name\n",
    "import xml.etree.ElementTree as et\n",
    "import bs4\n",
    "from lxml import html\n",
    "from urllib.parse import urlencode, quote_plus, unquote\n",
    "\n",
    "#bs4 사용하여 item 태그 분리\n",
    "xml_obj = bs4.BeautifulSoup(content,'lxml-xml')\n",
    "rows = xml_obj.findAll('info') # item 으로 구분되어 있는 경우도 있음\n",
    "print(rows)"
   ]
  },
  {
   "cell_type": "code",
   "execution_count": null,
   "id": "0a000891",
   "metadata": {
    "ExecuteTime": {
     "end_time": "2023-06-15T09:54:13.532554Z",
     "start_time": "2023-06-15T09:54:13.522581Z"
    }
   },
   "outputs": [],
   "source": [
    "# 각 행의 컬럼, 이름, 값을 가지는 리스트 만들기\n",
    "row_list = [] # 행값\n",
    "name_list = [] # 열이름값\n",
    "value_list = [] #데이터값\n",
    "\n",
    "# xml 안의 데이터 수집\n",
    "for i in range(0, len(rows)):\n",
    "    columns = rows[i].find_all()\n",
    "    #첫째 행 데이터 수집\n",
    "    for j in range(0,len(columns)):\n",
    "        if i ==0:\n",
    "            # 컬럼 이름 값 저장\n",
    "            name_list.append(columns[j].name)\n",
    "        # 컬럼의 각 데이터 값 저장\n",
    "        value_list.append(columns[j].text)\n",
    "    # 각 행의 value값 전체 저장\n",
    "    row_list.append(value_list)\n",
    "    # 데이터 리스트 값 초기화\n",
    "    value_list=[]"
   ]
  },
  {
   "cell_type": "code",
   "execution_count": null,
   "id": "4c4503ec",
   "metadata": {
    "ExecuteTime": {
     "end_time": "2023-06-15T09:54:14.853111Z",
     "start_time": "2023-06-15T09:54:14.833164Z"
    }
   },
   "outputs": [],
   "source": [
    "#xml값 DataFrame으로 만들기\n",
    "xml_df = pd.DataFrame(row_list, columns=name_list)\n",
    "print(xml_df.head())"
   ]
  },
  {
   "cell_type": "code",
   "execution_count": null,
   "id": "5dfae243",
   "metadata": {
    "ExecuteTime": {
     "end_time": "2023-06-15T09:54:16.569357Z",
     "start_time": "2023-06-15T09:54:16.559213Z"
    }
   },
   "outputs": [],
   "source": [
    "xml_df"
   ]
  },
  {
   "cell_type": "code",
   "execution_count": null,
   "id": "9c3ce421",
   "metadata": {
    "ExecuteTime": {
     "end_time": "2023-06-15T09:54:22.471436Z",
     "start_time": "2023-06-15T09:54:22.451465Z"
    }
   },
   "outputs": [],
   "source": [
    "xml_df.to_csv('우리나라영향태풍_2021.csv')"
   ]
  },
  {
   "cell_type": "markdown",
   "id": "8ffe9c11",
   "metadata": {},
   "source": [
    "# Data"
   ]
  },
  {
   "cell_type": "code",
   "execution_count": null,
   "id": "24274201",
   "metadata": {
    "ExecuteTime": {
     "end_time": "2023-06-19T16:37:55.340842Z",
     "start_time": "2023-06-19T16:37:45.668245Z"
    }
   },
   "outputs": [],
   "source": [
    "# df1 = pd.read_csv('H:/내 드라이브/취업/Contest/2307_PublicData/data/단기육상예보_1차.csv', index_col=0)\n",
    "# df2 = pd.read_csv('H:/내 드라이브/취업/Contest/2307_PublicData/data/단기육상예보_2차.csv', index_col=0)\n",
    "# df3 = pd.read_csv('H:/내 드라이브/취업/Contest/2307_PublicData/data/단기육상예보_3차.csv', index_col=0)\n",
    "\n",
    "df = pd.read_csv('H:/내 드라이브/취업/Contest/2307_PublicData/data/단기육상예보.csv', index_col=0)"
   ]
  },
  {
   "cell_type": "code",
   "execution_count": null,
   "id": "761a23f8",
   "metadata": {
    "ExecuteTime": {
     "end_time": "2023-06-19T16:37:57.479989Z",
     "start_time": "2023-06-19T16:37:57.446712Z"
    }
   },
   "outputs": [],
   "source": [
    "df1"
   ]
  },
  {
   "cell_type": "code",
   "execution_count": null,
   "id": "3dfde7b5",
   "metadata": {
    "ExecuteTime": {
     "end_time": "2023-06-19T16:37:57.654319Z",
     "start_time": "2023-06-19T16:37:57.638425Z"
    }
   },
   "outputs": [],
   "source": [
    "df2"
   ]
  },
  {
   "cell_type": "code",
   "execution_count": null,
   "id": "cc9d6931",
   "metadata": {
    "ExecuteTime": {
     "end_time": "2023-06-19T16:37:57.813253Z",
     "start_time": "2023-06-19T16:37:57.803816Z"
    }
   },
   "outputs": [],
   "source": [
    "df3"
   ]
  },
  {
   "cell_type": "code",
   "execution_count": null,
   "id": "357877b3",
   "metadata": {
    "ExecuteTime": {
     "end_time": "2023-06-19T16:38:15.599407Z",
     "start_time": "2023-06-19T16:38:15.580037Z"
    }
   },
   "outputs": [],
   "source": [
    "df3['TM_FC'] = df3['TM_FC'].astype('int64')"
   ]
  },
  {
   "cell_type": "code",
   "execution_count": null,
   "id": "eed76359",
   "metadata": {
    "ExecuteTime": {
     "end_time": "2023-06-19T16:38:41.704740Z",
     "start_time": "2023-06-19T16:38:38.828043Z"
    }
   },
   "outputs": [],
   "source": [
    "df = pd.concat([df1, df2, df3]).reset_index()\n",
    "df.drop(columns='index', inplace=True)\n",
    "df"
   ]
  },
  {
   "cell_type": "code",
   "execution_count": null,
   "id": "9b2ea0b0",
   "metadata": {
    "ExecuteTime": {
     "end_time": "2023-06-19T16:39:38.681425Z",
     "start_time": "2023-06-19T16:39:37.239103Z"
    },
    "scrolled": false
   },
   "outputs": [],
   "source": [
    "df = df.sort_values(by='TM_FC', ascending=True)\n",
    "df = df.reset_index(drop=True)\n",
    "df"
   ]
  },
  {
   "cell_type": "code",
   "execution_count": null,
   "id": "d4aeaa80",
   "metadata": {},
   "outputs": [],
   "source": [
    "df = df.drop_duplicates()\n",
    "df = df.reset_index(drop=True)\n",
    "df"
   ]
  },
  {
   "cell_type": "markdown",
   "id": "73a7b8cd",
   "metadata": {},
   "source": [
    "------"
   ]
  },
  {
   "cell_type": "code",
   "execution_count": 15,
   "id": "904ca729",
   "metadata": {
    "ExecuteTime": {
     "end_time": "2023-06-21T10:30:54.042598Z",
     "start_time": "2023-06-21T10:30:43.094609Z"
    }
   },
   "outputs": [],
   "source": [
    "df = pd.read_csv('./적설관측(~2022).csv', index_col = 0)\n",
    "df1 = pd.read_csv('./2023.csv', index_col = 0)"
   ]
  },
  {
   "cell_type": "code",
   "execution_count": null,
   "id": "22534043",
   "metadata": {
    "ExecuteTime": {
     "end_time": "2023-06-21T10:27:30.616639Z",
     "start_time": "2023-06-21T10:27:30.590705Z"
    }
   },
   "outputs": [],
   "source": [
    "df1.reset_index(inplace=True, drop=True)\n",
    "df1"
   ]
  },
  {
   "cell_type": "code",
   "execution_count": null,
   "id": "c2a618b4",
   "metadata": {
    "ExecuteTime": {
     "end_time": "2023-06-21T10:26:52.532099Z",
     "start_time": "2023-06-21T10:26:50.791982Z"
    }
   },
   "outputs": [],
   "source": [
    "df = df.drop_duplicates()"
   ]
  },
  {
   "cell_type": "code",
   "execution_count": null,
   "id": "380ef5fb",
   "metadata": {
    "ExecuteTime": {
     "end_time": "2023-06-21T10:27:17.206752Z",
     "start_time": "2023-06-21T10:27:17.174840Z"
    }
   },
   "outputs": [],
   "source": [
    "df.reset_index(inplace=True, drop=True)\n",
    "df"
   ]
  },
  {
   "cell_type": "code",
   "execution_count": 19,
   "id": "f35b7ed6",
   "metadata": {
    "ExecuteTime": {
     "end_time": "2023-06-21T10:31:13.886059Z",
     "start_time": "2023-06-21T10:31:13.449226Z"
    }
   },
   "outputs": [
    {
     "data": {
      "text/html": [
       "<div>\n",
       "<style scoped>\n",
       "    .dataframe tbody tr th:only-of-type {\n",
       "        vertical-align: middle;\n",
       "    }\n",
       "\n",
       "    .dataframe tbody tr th {\n",
       "        vertical-align: top;\n",
       "    }\n",
       "\n",
       "    .dataframe thead th {\n",
       "        text-align: right;\n",
       "    }\n",
       "</style>\n",
       "<table border=\"1\" class=\"dataframe\">\n",
       "  <thead>\n",
       "    <tr style=\"text-align: right;\">\n",
       "      <th></th>\n",
       "      <th>YYMMDDHHMI</th>\n",
       "      <th>STN</th>\n",
       "      <th>STN.1</th>\n",
       "      <th>LON</th>\n",
       "      <th>LAT</th>\n",
       "      <th>STN.2</th>\n",
       "      <th>SD_TOT</th>\n",
       "      <th>SD_DAY</th>\n",
       "      <th>SD_HR3</th>\n",
       "      <th>SD_D01</th>\n",
       "      <th>SD_H03</th>\n",
       "      <th>SD_H24</th>\n",
       "      <th>SD_H01</th>\n",
       "    </tr>\n",
       "  </thead>\n",
       "  <tbody>\n",
       "    <tr>\n",
       "      <th>0</th>\n",
       "      <td>201201010000</td>\n",
       "      <td>90</td>\n",
       "      <td>속초</td>\n",
       "      <td>128.564720</td>\n",
       "      <td>38.250850</td>\n",
       "      <td>000-----</td>\n",
       "      <td>1.6</td>\n",
       "      <td>-999.0</td>\n",
       "      <td>-999.0</td>\n",
       "      <td>0.0</td>\n",
       "      <td>0.0</td>\n",
       "      <td>0.0</td>\n",
       "      <td>0.0</td>\n",
       "    </tr>\n",
       "    <tr>\n",
       "      <th>1</th>\n",
       "      <td>201201010000</td>\n",
       "      <td>172</td>\n",
       "      <td>고창</td>\n",
       "      <td>126.599000</td>\n",
       "      <td>35.348950</td>\n",
       "      <td>000-----</td>\n",
       "      <td>-999.0</td>\n",
       "      <td>-999.0</td>\n",
       "      <td>-999.0</td>\n",
       "      <td>-999.0</td>\n",
       "      <td>-999.0</td>\n",
       "      <td>-999.0</td>\n",
       "      <td>-999.0</td>\n",
       "    </tr>\n",
       "    <tr>\n",
       "      <th>2</th>\n",
       "      <td>201201010000</td>\n",
       "      <td>283</td>\n",
       "      <td>경주시(공)</td>\n",
       "      <td>129.200909</td>\n",
       "      <td>35.817461</td>\n",
       "      <td>000-----</td>\n",
       "      <td>-999.0</td>\n",
       "      <td>-999.0</td>\n",
       "      <td>-999.0</td>\n",
       "      <td>-999.0</td>\n",
       "      <td>-999.0</td>\n",
       "      <td>-999.0</td>\n",
       "      <td>-999.0</td>\n",
       "    </tr>\n",
       "    <tr>\n",
       "      <th>3</th>\n",
       "      <td>201201010000</td>\n",
       "      <td>102</td>\n",
       "      <td>백령도</td>\n",
       "      <td>124.630460</td>\n",
       "      <td>37.966110</td>\n",
       "      <td>000-----</td>\n",
       "      <td>-999.0</td>\n",
       "      <td>-999.0</td>\n",
       "      <td>-999.0</td>\n",
       "      <td>-999.0</td>\n",
       "      <td>-999.0</td>\n",
       "      <td>-999.0</td>\n",
       "      <td>-999.0</td>\n",
       "    </tr>\n",
       "    <tr>\n",
       "      <th>4</th>\n",
       "      <td>201201010000</td>\n",
       "      <td>98</td>\n",
       "      <td>동두천</td>\n",
       "      <td>127.060690</td>\n",
       "      <td>37.901860</td>\n",
       "      <td>000-----</td>\n",
       "      <td>-999.0</td>\n",
       "      <td>-999.0</td>\n",
       "      <td>-999.0</td>\n",
       "      <td>-999.0</td>\n",
       "      <td>-999.0</td>\n",
       "      <td>-999.0</td>\n",
       "      <td>-999.0</td>\n",
       "    </tr>\n",
       "    <tr>\n",
       "      <th>...</th>\n",
       "      <td>...</td>\n",
       "      <td>...</td>\n",
       "      <td>...</td>\n",
       "      <td>...</td>\n",
       "      <td>...</td>\n",
       "      <td>...</td>\n",
       "      <td>...</td>\n",
       "      <td>...</td>\n",
       "      <td>...</td>\n",
       "      <td>...</td>\n",
       "      <td>...</td>\n",
       "      <td>...</td>\n",
       "      <td>...</td>\n",
       "    </tr>\n",
       "    <tr>\n",
       "      <th>787705</th>\n",
       "      <td>202303122000</td>\n",
       "      <td>5343</td>\n",
       "      <td>포항</td>\n",
       "      <td>129.379630</td>\n",
       "      <td>36.032590</td>\n",
       "      <td>000-----</td>\n",
       "      <td>-999.0</td>\n",
       "      <td>-999.0</td>\n",
       "      <td>-999.0</td>\n",
       "      <td>-999.0</td>\n",
       "      <td>-999.0</td>\n",
       "      <td>-999.0</td>\n",
       "      <td>-999.0</td>\n",
       "    </tr>\n",
       "    <tr>\n",
       "      <th>787706</th>\n",
       "      <td>202303122100</td>\n",
       "      <td>5343</td>\n",
       "      <td>포항</td>\n",
       "      <td>129.379630</td>\n",
       "      <td>36.032590</td>\n",
       "      <td>000-----</td>\n",
       "      <td>-999.0</td>\n",
       "      <td>-999.0</td>\n",
       "      <td>-999.0</td>\n",
       "      <td>-999.0</td>\n",
       "      <td>-999.0</td>\n",
       "      <td>-999.0</td>\n",
       "      <td>-999.0</td>\n",
       "    </tr>\n",
       "    <tr>\n",
       "      <th>787707</th>\n",
       "      <td>202303122200</td>\n",
       "      <td>5343</td>\n",
       "      <td>포항</td>\n",
       "      <td>129.379630</td>\n",
       "      <td>36.032590</td>\n",
       "      <td>000-----</td>\n",
       "      <td>-999.0</td>\n",
       "      <td>-999.0</td>\n",
       "      <td>-999.0</td>\n",
       "      <td>-999.0</td>\n",
       "      <td>-999.0</td>\n",
       "      <td>-999.0</td>\n",
       "      <td>-999.0</td>\n",
       "    </tr>\n",
       "    <tr>\n",
       "      <th>787708</th>\n",
       "      <td>202303122300</td>\n",
       "      <td>5343</td>\n",
       "      <td>포항</td>\n",
       "      <td>129.379630</td>\n",
       "      <td>36.032590</td>\n",
       "      <td>000-----</td>\n",
       "      <td>-999.0</td>\n",
       "      <td>-999.0</td>\n",
       "      <td>-999.0</td>\n",
       "      <td>-999.0</td>\n",
       "      <td>-999.0</td>\n",
       "      <td>-999.0</td>\n",
       "      <td>-999.0</td>\n",
       "    </tr>\n",
       "    <tr>\n",
       "      <th>787709</th>\n",
       "      <td>202303130000</td>\n",
       "      <td>5343</td>\n",
       "      <td>포항</td>\n",
       "      <td>129.379630</td>\n",
       "      <td>36.032590</td>\n",
       "      <td>000-----</td>\n",
       "      <td>-999.0</td>\n",
       "      <td>-999.0</td>\n",
       "      <td>-999.0</td>\n",
       "      <td>-999.0</td>\n",
       "      <td>-999.0</td>\n",
       "      <td>-999.0</td>\n",
       "      <td>-999.0</td>\n",
       "    </tr>\n",
       "  </tbody>\n",
       "</table>\n",
       "<p>7501934 rows × 13 columns</p>\n",
       "</div>"
      ],
      "text/plain": [
       "          YYMMDDHHMI   STN   STN.1         LON        LAT     STN.2  SD_TOT  \\\n",
       "0       201201010000    90      속초  128.564720  38.250850  000-----     1.6   \n",
       "1       201201010000   172      고창  126.599000  35.348950  000-----  -999.0   \n",
       "2       201201010000   283  경주시(공)  129.200909  35.817461  000-----  -999.0   \n",
       "3       201201010000   102     백령도  124.630460  37.966110  000-----  -999.0   \n",
       "4       201201010000    98     동두천  127.060690  37.901860  000-----  -999.0   \n",
       "...              ...   ...     ...         ...        ...       ...     ...   \n",
       "787705  202303122000  5343      포항  129.379630  36.032590  000-----  -999.0   \n",
       "787706  202303122100  5343      포항  129.379630  36.032590  000-----  -999.0   \n",
       "787707  202303122200  5343      포항  129.379630  36.032590  000-----  -999.0   \n",
       "787708  202303122300  5343      포항  129.379630  36.032590  000-----  -999.0   \n",
       "787709  202303130000  5343      포항  129.379630  36.032590  000-----  -999.0   \n",
       "\n",
       "        SD_DAY  SD_HR3  SD_D01  SD_H03  SD_H24  SD_H01  \n",
       "0       -999.0  -999.0     0.0     0.0     0.0     0.0  \n",
       "1       -999.0  -999.0  -999.0  -999.0  -999.0  -999.0  \n",
       "2       -999.0  -999.0  -999.0  -999.0  -999.0  -999.0  \n",
       "3       -999.0  -999.0  -999.0  -999.0  -999.0  -999.0  \n",
       "4       -999.0  -999.0  -999.0  -999.0  -999.0  -999.0  \n",
       "...        ...     ...     ...     ...     ...     ...  \n",
       "787705  -999.0  -999.0  -999.0  -999.0  -999.0  -999.0  \n",
       "787706  -999.0  -999.0  -999.0  -999.0  -999.0  -999.0  \n",
       "787707  -999.0  -999.0  -999.0  -999.0  -999.0  -999.0  \n",
       "787708  -999.0  -999.0  -999.0  -999.0  -999.0  -999.0  \n",
       "787709  -999.0  -999.0  -999.0  -999.0  -999.0  -999.0  \n",
       "\n",
       "[7501934 rows x 13 columns]"
      ]
     },
     "execution_count": 19,
     "metadata": {},
     "output_type": "execute_result"
    }
   ],
   "source": [
    "dd = pd.concat([df, df1])#.reset_index(drop=True)\n",
    "# df3 = df3.reset_index(drop=True)\n",
    "dd"
   ]
  },
  {
   "cell_type": "code",
   "execution_count": 20,
   "id": "666719ca",
   "metadata": {
    "ExecuteTime": {
     "end_time": "2023-06-21T10:31:40.622849Z",
     "start_time": "2023-06-21T10:31:40.013995Z"
    }
   },
   "outputs": [
    {
     "data": {
      "text/html": [
       "<div>\n",
       "<style scoped>\n",
       "    .dataframe tbody tr th:only-of-type {\n",
       "        vertical-align: middle;\n",
       "    }\n",
       "\n",
       "    .dataframe tbody tr th {\n",
       "        vertical-align: top;\n",
       "    }\n",
       "\n",
       "    .dataframe thead th {\n",
       "        text-align: right;\n",
       "    }\n",
       "</style>\n",
       "<table border=\"1\" class=\"dataframe\">\n",
       "  <thead>\n",
       "    <tr style=\"text-align: right;\">\n",
       "      <th></th>\n",
       "      <th>YYMMDDHHMI</th>\n",
       "      <th>STN</th>\n",
       "      <th>STN.1</th>\n",
       "      <th>LON</th>\n",
       "      <th>LAT</th>\n",
       "      <th>STN.2</th>\n",
       "      <th>SD_TOT</th>\n",
       "      <th>SD_DAY</th>\n",
       "      <th>SD_HR3</th>\n",
       "      <th>SD_D01</th>\n",
       "      <th>SD_H03</th>\n",
       "      <th>SD_H24</th>\n",
       "      <th>SD_H01</th>\n",
       "    </tr>\n",
       "  </thead>\n",
       "  <tbody>\n",
       "    <tr>\n",
       "      <th>0</th>\n",
       "      <td>201201010000</td>\n",
       "      <td>90</td>\n",
       "      <td>속초</td>\n",
       "      <td>128.564720</td>\n",
       "      <td>38.250850</td>\n",
       "      <td>000-----</td>\n",
       "      <td>1.6</td>\n",
       "      <td>-999.0</td>\n",
       "      <td>-999.0</td>\n",
       "      <td>0.0</td>\n",
       "      <td>0.0</td>\n",
       "      <td>0.0</td>\n",
       "      <td>0.0</td>\n",
       "    </tr>\n",
       "    <tr>\n",
       "      <th>1</th>\n",
       "      <td>201201010000</td>\n",
       "      <td>172</td>\n",
       "      <td>고창</td>\n",
       "      <td>126.599000</td>\n",
       "      <td>35.348950</td>\n",
       "      <td>000-----</td>\n",
       "      <td>-999.0</td>\n",
       "      <td>-999.0</td>\n",
       "      <td>-999.0</td>\n",
       "      <td>-999.0</td>\n",
       "      <td>-999.0</td>\n",
       "      <td>-999.0</td>\n",
       "      <td>-999.0</td>\n",
       "    </tr>\n",
       "    <tr>\n",
       "      <th>2</th>\n",
       "      <td>201201010000</td>\n",
       "      <td>283</td>\n",
       "      <td>경주시(공)</td>\n",
       "      <td>129.200909</td>\n",
       "      <td>35.817461</td>\n",
       "      <td>000-----</td>\n",
       "      <td>-999.0</td>\n",
       "      <td>-999.0</td>\n",
       "      <td>-999.0</td>\n",
       "      <td>-999.0</td>\n",
       "      <td>-999.0</td>\n",
       "      <td>-999.0</td>\n",
       "      <td>-999.0</td>\n",
       "    </tr>\n",
       "    <tr>\n",
       "      <th>3</th>\n",
       "      <td>201201010000</td>\n",
       "      <td>102</td>\n",
       "      <td>백령도</td>\n",
       "      <td>124.630460</td>\n",
       "      <td>37.966110</td>\n",
       "      <td>000-----</td>\n",
       "      <td>-999.0</td>\n",
       "      <td>-999.0</td>\n",
       "      <td>-999.0</td>\n",
       "      <td>-999.0</td>\n",
       "      <td>-999.0</td>\n",
       "      <td>-999.0</td>\n",
       "      <td>-999.0</td>\n",
       "    </tr>\n",
       "    <tr>\n",
       "      <th>4</th>\n",
       "      <td>201201010000</td>\n",
       "      <td>98</td>\n",
       "      <td>동두천</td>\n",
       "      <td>127.060690</td>\n",
       "      <td>37.901860</td>\n",
       "      <td>000-----</td>\n",
       "      <td>-999.0</td>\n",
       "      <td>-999.0</td>\n",
       "      <td>-999.0</td>\n",
       "      <td>-999.0</td>\n",
       "      <td>-999.0</td>\n",
       "      <td>-999.0</td>\n",
       "      <td>-999.0</td>\n",
       "    </tr>\n",
       "    <tr>\n",
       "      <th>...</th>\n",
       "      <td>...</td>\n",
       "      <td>...</td>\n",
       "      <td>...</td>\n",
       "      <td>...</td>\n",
       "      <td>...</td>\n",
       "      <td>...</td>\n",
       "      <td>...</td>\n",
       "      <td>...</td>\n",
       "      <td>...</td>\n",
       "      <td>...</td>\n",
       "      <td>...</td>\n",
       "      <td>...</td>\n",
       "      <td>...</td>\n",
       "    </tr>\n",
       "    <tr>\n",
       "      <th>7501929</th>\n",
       "      <td>202303122000</td>\n",
       "      <td>5343</td>\n",
       "      <td>포항</td>\n",
       "      <td>129.379630</td>\n",
       "      <td>36.032590</td>\n",
       "      <td>000-----</td>\n",
       "      <td>-999.0</td>\n",
       "      <td>-999.0</td>\n",
       "      <td>-999.0</td>\n",
       "      <td>-999.0</td>\n",
       "      <td>-999.0</td>\n",
       "      <td>-999.0</td>\n",
       "      <td>-999.0</td>\n",
       "    </tr>\n",
       "    <tr>\n",
       "      <th>7501930</th>\n",
       "      <td>202303122100</td>\n",
       "      <td>5343</td>\n",
       "      <td>포항</td>\n",
       "      <td>129.379630</td>\n",
       "      <td>36.032590</td>\n",
       "      <td>000-----</td>\n",
       "      <td>-999.0</td>\n",
       "      <td>-999.0</td>\n",
       "      <td>-999.0</td>\n",
       "      <td>-999.0</td>\n",
       "      <td>-999.0</td>\n",
       "      <td>-999.0</td>\n",
       "      <td>-999.0</td>\n",
       "    </tr>\n",
       "    <tr>\n",
       "      <th>7501931</th>\n",
       "      <td>202303122200</td>\n",
       "      <td>5343</td>\n",
       "      <td>포항</td>\n",
       "      <td>129.379630</td>\n",
       "      <td>36.032590</td>\n",
       "      <td>000-----</td>\n",
       "      <td>-999.0</td>\n",
       "      <td>-999.0</td>\n",
       "      <td>-999.0</td>\n",
       "      <td>-999.0</td>\n",
       "      <td>-999.0</td>\n",
       "      <td>-999.0</td>\n",
       "      <td>-999.0</td>\n",
       "    </tr>\n",
       "    <tr>\n",
       "      <th>7501932</th>\n",
       "      <td>202303122300</td>\n",
       "      <td>5343</td>\n",
       "      <td>포항</td>\n",
       "      <td>129.379630</td>\n",
       "      <td>36.032590</td>\n",
       "      <td>000-----</td>\n",
       "      <td>-999.0</td>\n",
       "      <td>-999.0</td>\n",
       "      <td>-999.0</td>\n",
       "      <td>-999.0</td>\n",
       "      <td>-999.0</td>\n",
       "      <td>-999.0</td>\n",
       "      <td>-999.0</td>\n",
       "    </tr>\n",
       "    <tr>\n",
       "      <th>7501933</th>\n",
       "      <td>202303130000</td>\n",
       "      <td>5343</td>\n",
       "      <td>포항</td>\n",
       "      <td>129.379630</td>\n",
       "      <td>36.032590</td>\n",
       "      <td>000-----</td>\n",
       "      <td>-999.0</td>\n",
       "      <td>-999.0</td>\n",
       "      <td>-999.0</td>\n",
       "      <td>-999.0</td>\n",
       "      <td>-999.0</td>\n",
       "      <td>-999.0</td>\n",
       "      <td>-999.0</td>\n",
       "    </tr>\n",
       "  </tbody>\n",
       "</table>\n",
       "<p>7501934 rows × 13 columns</p>\n",
       "</div>"
      ],
      "text/plain": [
       "           YYMMDDHHMI   STN   STN.1         LON        LAT     STN.2  SD_TOT  \\\n",
       "0        201201010000    90      속초  128.564720  38.250850  000-----     1.6   \n",
       "1        201201010000   172      고창  126.599000  35.348950  000-----  -999.0   \n",
       "2        201201010000   283  경주시(공)  129.200909  35.817461  000-----  -999.0   \n",
       "3        201201010000   102     백령도  124.630460  37.966110  000-----  -999.0   \n",
       "4        201201010000    98     동두천  127.060690  37.901860  000-----  -999.0   \n",
       "...               ...   ...     ...         ...        ...       ...     ...   \n",
       "7501929  202303122000  5343      포항  129.379630  36.032590  000-----  -999.0   \n",
       "7501930  202303122100  5343      포항  129.379630  36.032590  000-----  -999.0   \n",
       "7501931  202303122200  5343      포항  129.379630  36.032590  000-----  -999.0   \n",
       "7501932  202303122300  5343      포항  129.379630  36.032590  000-----  -999.0   \n",
       "7501933  202303130000  5343      포항  129.379630  36.032590  000-----  -999.0   \n",
       "\n",
       "         SD_DAY  SD_HR3  SD_D01  SD_H03  SD_H24  SD_H01  \n",
       "0        -999.0  -999.0     0.0     0.0     0.0     0.0  \n",
       "1        -999.0  -999.0  -999.0  -999.0  -999.0  -999.0  \n",
       "2        -999.0  -999.0  -999.0  -999.0  -999.0  -999.0  \n",
       "3        -999.0  -999.0  -999.0  -999.0  -999.0  -999.0  \n",
       "4        -999.0  -999.0  -999.0  -999.0  -999.0  -999.0  \n",
       "...         ...     ...     ...     ...     ...     ...  \n",
       "7501929  -999.0  -999.0  -999.0  -999.0  -999.0  -999.0  \n",
       "7501930  -999.0  -999.0  -999.0  -999.0  -999.0  -999.0  \n",
       "7501931  -999.0  -999.0  -999.0  -999.0  -999.0  -999.0  \n",
       "7501932  -999.0  -999.0  -999.0  -999.0  -999.0  -999.0  \n",
       "7501933  -999.0  -999.0  -999.0  -999.0  -999.0  -999.0  \n",
       "\n",
       "[7501934 rows x 13 columns]"
      ]
     },
     "execution_count": 20,
     "metadata": {},
     "output_type": "execute_result"
    }
   ],
   "source": [
    "dd = dd.reset_index(drop=True)\n",
    "dd"
   ]
  },
  {
   "cell_type": "code",
   "execution_count": 18,
   "id": "74c9de4e",
   "metadata": {
    "ExecuteTime": {
     "end_time": "2023-06-21T10:31:09.093382Z",
     "start_time": "2023-06-21T10:31:09.083447Z"
    }
   },
   "outputs": [
    {
     "data": {
      "text/plain": [
       "NoneType"
      ]
     },
     "execution_count": 18,
     "metadata": {},
     "output_type": "execute_result"
    }
   ],
   "source": [
    "type(dd)"
   ]
  },
  {
   "cell_type": "code",
   "execution_count": 13,
   "id": "2ee9d1d3",
   "metadata": {
    "ExecuteTime": {
     "end_time": "2023-06-21T10:30:34.716998Z",
     "start_time": "2023-06-21T10:30:34.683327Z"
    }
   },
   "outputs": [
    {
     "data": {
      "text/html": [
       "<div>\n",
       "<style scoped>\n",
       "    .dataframe tbody tr th:only-of-type {\n",
       "        vertical-align: middle;\n",
       "    }\n",
       "\n",
       "    .dataframe tbody tr th {\n",
       "        vertical-align: top;\n",
       "    }\n",
       "\n",
       "    .dataframe thead th {\n",
       "        text-align: right;\n",
       "    }\n",
       "</style>\n",
       "<table border=\"1\" class=\"dataframe\">\n",
       "  <thead>\n",
       "    <tr style=\"text-align: right;\">\n",
       "      <th></th>\n",
       "      <th>YYMMDDHHMI</th>\n",
       "      <th>STN</th>\n",
       "      <th>STN.1</th>\n",
       "      <th>LON</th>\n",
       "      <th>LAT</th>\n",
       "      <th>STN.2</th>\n",
       "      <th>SD_TOT</th>\n",
       "      <th>SD_DAY</th>\n",
       "      <th>SD_HR3</th>\n",
       "      <th>SD_D01</th>\n",
       "      <th>SD_H03</th>\n",
       "      <th>SD_H24</th>\n",
       "      <th>SD_H01</th>\n",
       "    </tr>\n",
       "  </thead>\n",
       "  <tbody>\n",
       "    <tr>\n",
       "      <th>0</th>\n",
       "      <td>202301010000</td>\n",
       "      <td>90</td>\n",
       "      <td>속초</td>\n",
       "      <td>128.56473</td>\n",
       "      <td>38.25085</td>\n",
       "      <td>000-----</td>\n",
       "      <td>-999.0</td>\n",
       "      <td>-999.0</td>\n",
       "      <td>-999.0</td>\n",
       "      <td>-999.0</td>\n",
       "      <td>-999.0</td>\n",
       "      <td>-999.0</td>\n",
       "      <td>-999.0</td>\n",
       "    </tr>\n",
       "    <tr>\n",
       "      <th>1</th>\n",
       "      <td>202301010100</td>\n",
       "      <td>90</td>\n",
       "      <td>속초</td>\n",
       "      <td>128.56473</td>\n",
       "      <td>38.25085</td>\n",
       "      <td>000-----</td>\n",
       "      <td>-999.0</td>\n",
       "      <td>-999.0</td>\n",
       "      <td>-999.0</td>\n",
       "      <td>-999.0</td>\n",
       "      <td>-999.0</td>\n",
       "      <td>-999.0</td>\n",
       "      <td>-999.0</td>\n",
       "    </tr>\n",
       "    <tr>\n",
       "      <th>2</th>\n",
       "      <td>202301010200</td>\n",
       "      <td>90</td>\n",
       "      <td>속초</td>\n",
       "      <td>128.56473</td>\n",
       "      <td>38.25085</td>\n",
       "      <td>000-----</td>\n",
       "      <td>-999.0</td>\n",
       "      <td>-999.0</td>\n",
       "      <td>-999.0</td>\n",
       "      <td>-999.0</td>\n",
       "      <td>-999.0</td>\n",
       "      <td>-999.0</td>\n",
       "      <td>-999.0</td>\n",
       "    </tr>\n",
       "    <tr>\n",
       "      <th>3</th>\n",
       "      <td>202301010300</td>\n",
       "      <td>90</td>\n",
       "      <td>속초</td>\n",
       "      <td>128.56473</td>\n",
       "      <td>38.25085</td>\n",
       "      <td>000-----</td>\n",
       "      <td>-999.0</td>\n",
       "      <td>-999.0</td>\n",
       "      <td>-999.0</td>\n",
       "      <td>-999.0</td>\n",
       "      <td>-999.0</td>\n",
       "      <td>-999.0</td>\n",
       "      <td>-999.0</td>\n",
       "    </tr>\n",
       "    <tr>\n",
       "      <th>4</th>\n",
       "      <td>202301010400</td>\n",
       "      <td>90</td>\n",
       "      <td>속초</td>\n",
       "      <td>128.56473</td>\n",
       "      <td>38.25085</td>\n",
       "      <td>000-----</td>\n",
       "      <td>-999.0</td>\n",
       "      <td>-999.0</td>\n",
       "      <td>-999.0</td>\n",
       "      <td>-999.0</td>\n",
       "      <td>-999.0</td>\n",
       "      <td>-999.0</td>\n",
       "      <td>-999.0</td>\n",
       "    </tr>\n",
       "    <tr>\n",
       "      <th>...</th>\n",
       "      <td>...</td>\n",
       "      <td>...</td>\n",
       "      <td>...</td>\n",
       "      <td>...</td>\n",
       "      <td>...</td>\n",
       "      <td>...</td>\n",
       "      <td>...</td>\n",
       "      <td>...</td>\n",
       "      <td>...</td>\n",
       "      <td>...</td>\n",
       "      <td>...</td>\n",
       "      <td>...</td>\n",
       "      <td>...</td>\n",
       "    </tr>\n",
       "    <tr>\n",
       "      <th>787705</th>\n",
       "      <td>202303122000</td>\n",
       "      <td>5343</td>\n",
       "      <td>포항</td>\n",
       "      <td>129.37963</td>\n",
       "      <td>36.03259</td>\n",
       "      <td>000-----</td>\n",
       "      <td>-999.0</td>\n",
       "      <td>-999.0</td>\n",
       "      <td>-999.0</td>\n",
       "      <td>-999.0</td>\n",
       "      <td>-999.0</td>\n",
       "      <td>-999.0</td>\n",
       "      <td>-999.0</td>\n",
       "    </tr>\n",
       "    <tr>\n",
       "      <th>787706</th>\n",
       "      <td>202303122100</td>\n",
       "      <td>5343</td>\n",
       "      <td>포항</td>\n",
       "      <td>129.37963</td>\n",
       "      <td>36.03259</td>\n",
       "      <td>000-----</td>\n",
       "      <td>-999.0</td>\n",
       "      <td>-999.0</td>\n",
       "      <td>-999.0</td>\n",
       "      <td>-999.0</td>\n",
       "      <td>-999.0</td>\n",
       "      <td>-999.0</td>\n",
       "      <td>-999.0</td>\n",
       "    </tr>\n",
       "    <tr>\n",
       "      <th>787707</th>\n",
       "      <td>202303122200</td>\n",
       "      <td>5343</td>\n",
       "      <td>포항</td>\n",
       "      <td>129.37963</td>\n",
       "      <td>36.03259</td>\n",
       "      <td>000-----</td>\n",
       "      <td>-999.0</td>\n",
       "      <td>-999.0</td>\n",
       "      <td>-999.0</td>\n",
       "      <td>-999.0</td>\n",
       "      <td>-999.0</td>\n",
       "      <td>-999.0</td>\n",
       "      <td>-999.0</td>\n",
       "    </tr>\n",
       "    <tr>\n",
       "      <th>787708</th>\n",
       "      <td>202303122300</td>\n",
       "      <td>5343</td>\n",
       "      <td>포항</td>\n",
       "      <td>129.37963</td>\n",
       "      <td>36.03259</td>\n",
       "      <td>000-----</td>\n",
       "      <td>-999.0</td>\n",
       "      <td>-999.0</td>\n",
       "      <td>-999.0</td>\n",
       "      <td>-999.0</td>\n",
       "      <td>-999.0</td>\n",
       "      <td>-999.0</td>\n",
       "      <td>-999.0</td>\n",
       "    </tr>\n",
       "    <tr>\n",
       "      <th>787709</th>\n",
       "      <td>202303130000</td>\n",
       "      <td>5343</td>\n",
       "      <td>포항</td>\n",
       "      <td>129.37963</td>\n",
       "      <td>36.03259</td>\n",
       "      <td>000-----</td>\n",
       "      <td>-999.0</td>\n",
       "      <td>-999.0</td>\n",
       "      <td>-999.0</td>\n",
       "      <td>-999.0</td>\n",
       "      <td>-999.0</td>\n",
       "      <td>-999.0</td>\n",
       "      <td>-999.0</td>\n",
       "    </tr>\n",
       "  </tbody>\n",
       "</table>\n",
       "<p>787710 rows × 13 columns</p>\n",
       "</div>"
      ],
      "text/plain": [
       "          YYMMDDHHMI   STN STN.1        LON       LAT     STN.2  SD_TOT  \\\n",
       "0       202301010000    90    속초  128.56473  38.25085  000-----  -999.0   \n",
       "1       202301010100    90    속초  128.56473  38.25085  000-----  -999.0   \n",
       "2       202301010200    90    속초  128.56473  38.25085  000-----  -999.0   \n",
       "3       202301010300    90    속초  128.56473  38.25085  000-----  -999.0   \n",
       "4       202301010400    90    속초  128.56473  38.25085  000-----  -999.0   \n",
       "...              ...   ...   ...        ...       ...       ...     ...   \n",
       "787705  202303122000  5343    포항  129.37963  36.03259  000-----  -999.0   \n",
       "787706  202303122100  5343    포항  129.37963  36.03259  000-----  -999.0   \n",
       "787707  202303122200  5343    포항  129.37963  36.03259  000-----  -999.0   \n",
       "787708  202303122300  5343    포항  129.37963  36.03259  000-----  -999.0   \n",
       "787709  202303130000  5343    포항  129.37963  36.03259  000-----  -999.0   \n",
       "\n",
       "        SD_DAY  SD_HR3  SD_D01  SD_H03  SD_H24  SD_H01  \n",
       "0       -999.0  -999.0  -999.0  -999.0  -999.0  -999.0  \n",
       "1       -999.0  -999.0  -999.0  -999.0  -999.0  -999.0  \n",
       "2       -999.0  -999.0  -999.0  -999.0  -999.0  -999.0  \n",
       "3       -999.0  -999.0  -999.0  -999.0  -999.0  -999.0  \n",
       "4       -999.0  -999.0  -999.0  -999.0  -999.0  -999.0  \n",
       "...        ...     ...     ...     ...     ...     ...  \n",
       "787705  -999.0  -999.0  -999.0  -999.0  -999.0  -999.0  \n",
       "787706  -999.0  -999.0  -999.0  -999.0  -999.0  -999.0  \n",
       "787707  -999.0  -999.0  -999.0  -999.0  -999.0  -999.0  \n",
       "787708  -999.0  -999.0  -999.0  -999.0  -999.0  -999.0  \n",
       "787709  -999.0  -999.0  -999.0  -999.0  -999.0  -999.0  \n",
       "\n",
       "[787710 rows x 13 columns]"
      ]
     },
     "execution_count": 13,
     "metadata": {},
     "output_type": "execute_result"
    }
   ],
   "source": [
    "df1"
   ]
  },
  {
   "cell_type": "code",
   "execution_count": null,
   "id": "2bb77f34",
   "metadata": {
    "ExecuteTime": {
     "end_time": "2023-06-19T09:55:44.004505Z",
     "start_time": "2023-06-19T09:55:43.968056Z"
    },
    "scrolled": true
   },
   "outputs": [],
   "source": [
    "for i in df2['STN.1'].value_counts().index : print(i)"
   ]
  },
  {
   "cell_type": "code",
   "execution_count": 21,
   "id": "a0f55a9f",
   "metadata": {
    "ExecuteTime": {
     "end_time": "2023-06-21T10:33:01.398809Z",
     "start_time": "2023-06-21T10:32:01.456599Z"
    }
   },
   "outputs": [],
   "source": [
    "dd.to_csv('적설관측자료.csv')"
   ]
  },
  {
   "cell_type": "code",
   "execution_count": null,
   "id": "07c162a2",
   "metadata": {},
   "outputs": [],
   "source": []
  }
 ],
 "metadata": {
  "kernelspec": {
   "display_name": "Python 3 (ipykernel)",
   "language": "python",
   "name": "python3"
  },
  "language_info": {
   "codemirror_mode": {
    "name": "ipython",
    "version": 3
   },
   "file_extension": ".py",
   "mimetype": "text/x-python",
   "name": "python",
   "nbconvert_exporter": "python",
   "pygments_lexer": "ipython3",
   "version": "3.8.9"
  },
  "toc": {
   "base_numbering": 1,
   "nav_menu": {},
   "number_sections": false,
   "sideBar": true,
   "skip_h1_title": false,
   "title_cell": "Table of Contents",
   "title_sidebar": "Contents",
   "toc_cell": false,
   "toc_position": {
    "height": "calc(100% - 180px)",
    "left": "10px",
    "top": "150px",
    "width": "206.208px"
   },
   "toc_section_display": true,
   "toc_window_display": true
  }
 },
 "nbformat": 4,
 "nbformat_minor": 5
}
