{
 "cells": [
  {
   "cell_type": "markdown",
   "id": "d20fe02f",
   "metadata": {},
   "source": [
    "## 기상청 API 허브"
   ]
  },
  {
   "cell_type": "code",
   "execution_count": null,
   "id": "55b12082",
   "metadata": {
    "ExecuteTime": {
     "end_time": "2023-06-21T09:49:18.025776Z",
     "start_time": "2023-06-21T09:49:17.999766Z"
    }
   },
   "outputs": [],
   "source": [
    "import sys\n",
    "\n",
    "print(\"--sys.version—\")\n",
    "print(sys.version)"
   ]
  },
  {
   "cell_type": "markdown",
   "id": "29c66509",
   "metadata": {},
   "source": [
    "DATA 수집 목표 : 2012 ~ (최소기간)"
   ]
  },
  {
   "cell_type": "markdown",
   "id": "02808f06",
   "metadata": {},
   "source": [
    "https://apihub.kma.go.kr/"
   ]
  },
  {
   "cell_type": "code",
   "execution_count": 1,
   "id": "73390206",
   "metadata": {
    "ExecuteTime": {
     "end_time": "2023-06-23T07:43:51.521556Z",
     "start_time": "2023-06-23T07:43:50.440439Z"
    }
   },
   "outputs": [],
   "source": [
    "import pandas as pd\n",
    "import matplotlib.pyplot as plt\n",
    "\n",
    "import urllib\n",
    "import urllib.request\n",
    "from urllib.parse import unquote\n",
    "\n",
    "import json\n",
    "\n",
    "import requests\n",
    "import pprint\n",
    "\n",
    "from datetime import datetime, timedelta\n",
    "import warnings\n",
    "warnings.filterwarnings('ignore')\n",
    "\n",
    "from tqdm import tqdm"
   ]
  },
  {
   "cell_type": "code",
   "execution_count": null,
   "id": "f77e82f7",
   "metadata": {},
   "outputs": [],
   "source": [
    "import pickle"
   ]
  },
  {
   "cell_type": "code",
   "execution_count": null,
   "id": "019dc215",
   "metadata": {},
   "outputs": [],
   "source": [
    "with open('단기해상예보.pkl', 'wb') as f:\n",
    "    pickle.dump(lst, f)"
   ]
  },
  {
   "cell_type": "code",
   "execution_count": null,
   "id": "2d9c6a74",
   "metadata": {},
   "outputs": [],
   "source": [
    "with open('단기해상예보.pkl', 'rb') as f:\n",
    "    lst = pickle.load(f)"
   ]
  },
  {
   "cell_type": "code",
   "execution_count": null,
   "id": "ab3bff43",
   "metadata": {},
   "outputs": [],
   "source": [
    "for i in lst:\n",
    "    print(i[:5])"
   ]
  },
  {
   "cell_type": "markdown",
   "id": "0de74611",
   "metadata": {},
   "source": [
    "### Text"
   ]
  },
  {
   "cell_type": "code",
   "execution_count": 27,
   "id": "9700d1eb",
   "metadata": {
    "ExecuteTime": {
     "end_time": "2023-06-23T07:51:11.263553Z",
     "start_time": "2023-06-23T07:51:11.255574Z"
    }
   },
   "outputs": [],
   "source": [
    "year = [2012, 2013, 2014, 2015, 2016, 2017, 2018, 2019, 2020, 2021, 2022]\n",
    "year2 = [2012, 2016, 2020]#, 2023]\n",
    "# month = [1, 4, 7, 10]"
   ]
  },
  {
   "cell_type": "code",
   "execution_count": 26,
   "id": "8f885ce4",
   "metadata": {
    "ExecuteTime": {
     "end_time": "2023-06-23T07:51:00.959327Z",
     "start_time": "2023-06-23T07:51:00.944368Z"
    }
   },
   "outputs": [],
   "source": [
    "def one_year_term(year):\n",
    "    url = f'https://apihub.kma.go.kr/api/typ01/url/kma_sfcdd3.php?tm1={year}0101&tm2={year+1}0101&stn=&help=0&authKey=yEtC0d2xQmKLQtHdsWJi5g'\n",
    "    response = requests.get(url)\n",
    "    text = response.text.split('\\n')\n",
    "    return text\n",
    "    "
   ]
  },
  {
   "cell_type": "code",
   "execution_count": null,
   "id": "5f7a40c6",
   "metadata": {
    "ExecuteTime": {
     "end_time": "2023-06-19T09:21:17.650219Z",
     "start_time": "2023-06-19T09:21:17.633266Z"
    }
   },
   "outputs": [],
   "source": [
    "def six_month_term(year, a, b):\n",
    "    \n",
    "    url = f'https://apihub.kma.go.kr/api/typ01/url/fct_afs_do.php?reg=&tmfc1={year}{a}0100&tmfc2={year}{b}0100&disp=1&help=0&authKey=yEtC0d2xQmKLQtHdsWJi5g'\n",
    "    response = requests.get(url)\n",
    "    text = response.text.split('\\n')\n",
    "    return text\n",
    "    "
   ]
  },
  {
   "cell_type": "code",
   "execution_count": 47,
   "id": "6edde42e",
   "metadata": {
    "ExecuteTime": {
     "end_time": "2023-06-23T07:55:15.577610Z",
     "start_time": "2023-06-23T07:54:59.546030Z"
    }
   },
   "outputs": [],
   "source": [
    "\n",
    "url = f'https://apihub.kma.go.kr/api/typ01/url/kma_sfcdd3.php?tm1=20230101&tm2=20230313&stn=&help=0&authKey=yEtC0d2xQmKLQtHdsWJi5g'\n",
    "response = requests.get(url)\n",
    "text = response.text.split('\\n')\n"
   ]
  },
  {
   "cell_type": "code",
   "execution_count": null,
   "id": "0d34e55e",
   "metadata": {
    "ExecuteTime": {
     "end_time": "2023-06-21T10:08:45.078691Z",
     "start_time": "2023-06-21T10:08:45.035803Z"
    }
   },
   "outputs": [],
   "source": [
    "text[-5:]"
   ]
  },
  {
   "cell_type": "code",
   "execution_count": 10,
   "id": "c6e81526",
   "metadata": {
    "ExecuteTime": {
     "end_time": "2023-06-23T07:47:39.473155Z",
     "start_time": "2023-06-23T07:47:29.036806Z"
    }
   },
   "outputs": [],
   "source": [
    "\n",
    "url = f'https://apihub.kma.go.kr/api/typ01/url/kma_sfctm3.php?tm1=202301010000&tm2=202303130000&stn=&help=1&authKey=yEtC0d2xQmKLQtHdsWJi5g'\n",
    "response = requests.get(url)\n",
    "text = response.text.split('\\n')\n"
   ]
  },
  {
   "cell_type": "code",
   "execution_count": 25,
   "id": "64265851",
   "metadata": {
    "ExecuteTime": {
     "end_time": "2023-06-23T07:49:28.227874Z",
     "start_time": "2023-06-23T07:49:28.210919Z"
    },
    "collapsed": true
   },
   "outputs": [
    {
     "data": {
      "text/plain": [
       "['#  1. TM     : 관측시각 (KST)\\r',\n",
       " '#  2. STN    : 국내 지점번호\\r',\n",
       " '#  3. WD     : 풍향 (16방위)\\r',\n",
       " '#  4. WS     : 풍속 (m/s)\\r',\n",
       " '#  5. GST_WD : 돌풍향 (16방위)\\r',\n",
       " '#  6. GST_WS : 돌풍속 (m/s)\\r',\n",
       " '#  7. GST_TM : 돌풍속이 관측된 시각 (시분)\\r',\n",
       " '#  8. PA     : 현지기압 (hPa)\\r',\n",
       " '#  9. PS     : 해면기압 (hPa)\\r',\n",
       " '# 10. PT     : 기압변화경향 (Code 0200) \\r',\n",
       " '# 11. PR     : 기압변화량 (hPa)\\r',\n",
       " '# 12. TA     : 기온 (C)\\r',\n",
       " '# 13. TD     : 이슬점온도 (C)\\r',\n",
       " '# 14. HM     : 상대습도 (%)\\r',\n",
       " '# 15. PV     : 수증기압 (hPa)\\r',\n",
       " '# 16. RN     : 강수량 (mm) : 여름철에는 1시간강수량, 겨울철에는 3시간강수량\\r',\n",
       " '# 17. RN_DAY : 일강수량 (mm) : 해당시간까지 관측된 양(통계표)\\r',\n",
       " '# 18. RN_JUN : 일강수량 (mm) : 해당시간까지 관측된 양을 전문으로 입력한 값(전문)\\r',\n",
       " '# 19. RN_INT : 강수강도 (mm/h) : 관측하는 곳이 별로 없음\\r',\n",
       " '# 20. SD_HR3 : 3시간 신적설 (cm) : 3시간 동안 내린 신적설의 높이\\r',\n",
       " '# 21. SD_DAY : 일 신적설 (cm) : 00시00분부터 위 관측시간까지 내린 신적설의 높이\\r',\n",
       " '# 22. SD_TOT : 적설 (cm) : 치우지 않고 그냥 계속 쌓이도록 놔눈 경우의 적설의 높이\\r',\n",
       " '# 23. WC     : GTS 현재일기 (Code 4677)\\r',\n",
       " '# 24. WP     : GTS 과거일기 (Code 4561) .. 3(황사),4(안개),5(가랑비),6(비),7(눈),8(소나기),9(뇌전)\\r',\n",
       " '# 25. WW     : 국내식 일기코드 (문자열 22개) : 2자리씩 11개까지 기록 가능 (코드는 기상자원과 문의)\\r',\n",
       " '# 26. CA_TOT : 전운량 (1/10)\\r',\n",
       " '# 27. CA_MID : 중하층운량 (1/10)\\r',\n",
       " '# 28. CH_MIN : 최저운고 (100m)\\r',\n",
       " '# 29. CT     : 운형 (문자열 8개) : 2자리 코드로 4개까지 기록 가능\\r',\n",
       " '# 30. CT_TOP : GTS 상층운형 (Code 0509)\\r',\n",
       " '# 31. CT_MID : GTS 중층운형 (Code 0515)\\r',\n",
       " '# 32. CT_LOW : GTS 하층운형 (Code 0513)\\r',\n",
       " '# 33. VS     : 시정 (10m)\\r',\n",
       " '# 34. SS     : 일조 (hr)\\r',\n",
       " '# 35. SI     : 일사 (MJ/m2)\\r',\n",
       " '# 36. ST_GD  : 지면상태 코드 (코드는 기상자원과 문의)\\r',\n",
       " '# 37. TS     : 지면온도 (C)\\r',\n",
       " '# 38. TE_005 : 5cm 지중온도 (C)\\r',\n",
       " '# 39. TE_01  : 10cm 지중온도 (C)\\r',\n",
       " '# 40. TE_02  : 20cm 지중온도 (C)\\r',\n",
       " '# 41. TE_03  : 30cm 지중온도 (C)\\r',\n",
       " '# 42. ST_SEA : 해면상태 코드 (코드는 기상자원과 문의)\\r',\n",
       " '# 43. WH     : 파고 (m) : 해안관측소에서 목측한 값\\r',\n",
       " '# 44. BF     : Beaufart 최대풍력(GTS코드)\\r',\n",
       " '# 45. IR     : 강수자료 유무 (Code 1819) .. 1(Sec1에 포함), 2(Sec3에 포함), 3(무강수), 4(결측)\\r',\n",
       " '# 46. IX     : 유인관측/무인관측 및 일기 포함여부 (code 1860) .. 1,2,3(유인) 4,5,6(무인) / 1,4(포함), 2,5(생략), 3,6(결측)\\r']"
      ]
     },
     "execution_count": 25,
     "metadata": {},
     "output_type": "execute_result"
    }
   ],
   "source": [
    "text[4:50]"
   ]
  },
  {
   "cell_type": "code",
   "execution_count": 28,
   "id": "0184fe85",
   "metadata": {
    "ExecuteTime": {
     "end_time": "2023-06-23T07:51:57.113129Z",
     "start_time": "2023-06-23T07:51:15.772202Z"
    }
   },
   "outputs": [
    {
     "name": "stderr",
     "output_type": "stream",
     "text": [
      "100%|████████████████████████████████████████████████████████████████| 11/11 [00:41<00:00,  3.76s/it]\n"
     ]
    }
   ],
   "source": [
    "lst = []\n",
    "\n",
    "for i in tqdm(year):\n",
    "    lst.append(one_year_term(i))"
   ]
  },
  {
   "cell_type": "code",
   "execution_count": null,
   "id": "421fef82",
   "metadata": {
    "ExecuteTime": {
     "end_time": "2023-06-23T07:20:21.046152Z",
     "start_time": "2023-06-23T07:20:20.812776Z"
    }
   },
   "outputs": [],
   "source": [
    "lst"
   ]
  },
  {
   "cell_type": "code",
   "execution_count": null,
   "id": "4aa01125",
   "metadata": {},
   "outputs": [],
   "source": [
    "len(lst)"
   ]
  },
  {
   "cell_type": "code",
   "execution_count": null,
   "id": "0d14fbf7",
   "metadata": {},
   "outputs": [],
   "source": [
    "# 2012, 2016, 2020 : 기간 초과"
   ]
  },
  {
   "cell_type": "code",
   "execution_count": null,
   "id": "df254e9a",
   "metadata": {
    "ExecuteTime": {
     "end_time": "2023-06-19T09:34:31.929032Z",
     "start_time": "2023-06-19T09:28:24.756262Z"
    }
   },
   "outputs": [],
   "source": [
    "lst_half = []\n",
    "\n",
    "for i in tqdm(year2):\n",
    "    lst_half.append(short_term_half(i, '01', '06'))\n",
    "    lst_half.append(short_term_half(i, '07', '12'))\n",
    "    "
   ]
  },
  {
   "cell_type": "code",
   "execution_count": null,
   "id": "bd9fcc46",
   "metadata": {
    "ExecuteTime": {
     "end_time": "2023-06-16T07:11:38.995066Z",
     "start_time": "2023-06-16T07:11:38.980106Z"
    }
   },
   "outputs": [],
   "source": [
    "len(lst_half)"
   ]
  },
  {
   "cell_type": "code",
   "execution_count": null,
   "id": "4336ee0b",
   "metadata": {
    "ExecuteTime": {
     "end_time": "2023-06-16T07:15:12.921828Z",
     "start_time": "2023-06-16T07:15:12.891908Z"
    }
   },
   "outputs": [],
   "source": [
    "lst_half[4][:-5]"
   ]
  },
  {
   "cell_type": "code",
   "execution_count": null,
   "id": "ed2afcb0",
   "metadata": {},
   "outputs": [],
   "source": [
    "lst[0]"
   ]
  },
  {
   "cell_type": "code",
   "execution_count": 29,
   "id": "c73fe25f",
   "metadata": {
    "ExecuteTime": {
     "end_time": "2023-06-23T07:51:58.228869Z",
     "start_time": "2023-06-23T07:51:58.210952Z"
    },
    "scrolled": true
   },
   "outputs": [
    {
     "name": "stdout",
     "output_type": "stream",
     "text": [
      "['#START7777', '#2345678901234567890123456789012345678901234567890123456789012345678901234567890123456789012345678901234567890123456789012345678901234567890123456789012345678901234567890123456789012345678901234567890123456789012345678901234567890123456789012345678901234567890123456789012345678901234567890123456789012345678901234567890123', '# YYMMDD STN   WS    WR  WD   WS   WS  WD   WS   WS    TA    TA   TA    TA   TA    TD    TS    TG    HM    HM   HM    PV  EV_S  EV_L    FG     PA     PS     PS   PS     PS   PS   CA   SS   SS   SS    SI    SI   SI     RN     RN    RN     RN   RN     RN   RN     RN   RN     SD   SD     SD   SD    TE    TE    TE    TE    TE', '#    KST  ID  AVG   DAY MAX  MAX  MAX INS  INS  INS   AVG   MAX  MAX   MIN  MIN   AVG   AVG   MIN   AVG   MIN  MIN   AVG               DUR    AVG    AVG    MAX  MAX    MIN  MIN  TOT  DAY  DUR  CMB   DAY   60M  60M    DAY    D99   DUR    60M  60M    10M  10M    POW  POW    NEW  NEW    MAX  MAX     5    10    15    30    50', '#             m/s     m  16  m/s   TM  16  m/s   TM     C     C   TM     C   TM     C     C     C     %     %   TM   hPa    mm    mm    hr    hPa    hPa    hPa   TM    hPa   TM    %   hr   hr   hr         MAX   TM     mm     mm    hr     mm   TM     mm   TM     mm   TM     cm   TM     cm   TM     C     C     C     C     C']\n",
      "['#START7777', '#2345678901234567890123456789012345678901234567890123456789012345678901234567890123456789012345678901234567890123456789012345678901234567890123456789012345678901234567890123456789012345678901234567890123456789012345678901234567890123456789012345678901234567890123456789012345678901234567890123456789012345678901234567890123', '# YYMMDD STN   WS    WR  WD   WS   WS  WD   WS   WS    TA    TA   TA    TA   TA    TD    TS    TG    HM    HM   HM    PV  EV_S  EV_L    FG     PA     PS     PS   PS     PS   PS   CA   SS   SS   SS    SI    SI   SI     RN     RN    RN     RN   RN     RN   RN     RN   RN     SD   SD     SD   SD    TE    TE    TE    TE    TE', '#    KST  ID  AVG   DAY MAX  MAX  MAX INS  INS  INS   AVG   MAX  MAX   MIN  MIN   AVG   AVG   MIN   AVG   MIN  MIN   AVG               DUR    AVG    AVG    MAX  MAX    MIN  MIN  TOT  DAY  DUR  CMB   DAY   60M  60M    DAY    D99   DUR    60M  60M    10M  10M    POW  POW    NEW  NEW    MAX  MAX     5    10    15    30    50', '#             m/s     m  16  m/s   TM  16  m/s   TM     C     C   TM     C   TM     C     C     C     %     %   TM   hPa    mm    mm    hr    hPa    hPa    hPa   TM    hPa   TM    %   hr   hr   hr         MAX   TM     mm     mm    hr     mm   TM     mm   TM     mm   TM     cm   TM     cm   TM     C     C     C     C     C']\n",
      "['#START7777', '#2345678901234567890123456789012345678901234567890123456789012345678901234567890123456789012345678901234567890123456789012345678901234567890123456789012345678901234567890123456789012345678901234567890123456789012345678901234567890123456789012345678901234567890123456789012345678901234567890123456789012345678901234567890123', '# YYMMDD STN   WS    WR  WD   WS   WS  WD   WS   WS    TA    TA   TA    TA   TA    TD    TS    TG    HM    HM   HM    PV  EV_S  EV_L    FG     PA     PS     PS   PS     PS   PS   CA   SS   SS   SS    SI    SI   SI     RN     RN    RN     RN   RN     RN   RN     RN   RN     SD   SD     SD   SD    TE    TE    TE    TE    TE', '#    KST  ID  AVG   DAY MAX  MAX  MAX INS  INS  INS   AVG   MAX  MAX   MIN  MIN   AVG   AVG   MIN   AVG   MIN  MIN   AVG               DUR    AVG    AVG    MAX  MAX    MIN  MIN  TOT  DAY  DUR  CMB   DAY   60M  60M    DAY    D99   DUR    60M  60M    10M  10M    POW  POW    NEW  NEW    MAX  MAX     5    10    15    30    50', '#             m/s     m  16  m/s   TM  16  m/s   TM     C     C   TM     C   TM     C     C     C     %     %   TM   hPa    mm    mm    hr    hPa    hPa    hPa   TM    hPa   TM    %   hr   hr   hr         MAX   TM     mm     mm    hr     mm   TM     mm   TM     mm   TM     cm   TM     cm   TM     C     C     C     C     C']\n",
      "['#START7777', '#2345678901234567890123456789012345678901234567890123456789012345678901234567890123456789012345678901234567890123456789012345678901234567890123456789012345678901234567890123456789012345678901234567890123456789012345678901234567890123456789012345678901234567890123456789012345678901234567890123456789012345678901234567890123', '# YYMMDD STN   WS    WR  WD   WS   WS  WD   WS   WS    TA    TA   TA    TA   TA    TD    TS    TG    HM    HM   HM    PV  EV_S  EV_L    FG     PA     PS     PS   PS     PS   PS   CA   SS   SS   SS    SI    SI   SI     RN     RN    RN     RN   RN     RN   RN     RN   RN     SD   SD     SD   SD    TE    TE    TE    TE    TE', '#    KST  ID  AVG   DAY MAX  MAX  MAX INS  INS  INS   AVG   MAX  MAX   MIN  MIN   AVG   AVG   MIN   AVG   MIN  MIN   AVG               DUR    AVG    AVG    MAX  MAX    MIN  MIN  TOT  DAY  DUR  CMB   DAY   60M  60M    DAY    D99   DUR    60M  60M    10M  10M    POW  POW    NEW  NEW    MAX  MAX     5    10    15    30    50', '#             m/s     m  16  m/s   TM  16  m/s   TM     C     C   TM     C   TM     C     C     C     %     %   TM   hPa    mm    mm    hr    hPa    hPa    hPa   TM    hPa   TM    %   hr   hr   hr         MAX   TM     mm     mm    hr     mm   TM     mm   TM     mm   TM     cm   TM     cm   TM     C     C     C     C     C']\n",
      "['#START7777', '#2345678901234567890123456789012345678901234567890123456789012345678901234567890123456789012345678901234567890123456789012345678901234567890123456789012345678901234567890123456789012345678901234567890123456789012345678901234567890123456789012345678901234567890123456789012345678901234567890123456789012345678901234567890123', '# YYMMDD STN   WS    WR  WD   WS   WS  WD   WS   WS    TA    TA   TA    TA   TA    TD    TS    TG    HM    HM   HM    PV  EV_S  EV_L    FG     PA     PS     PS   PS     PS   PS   CA   SS   SS   SS    SI    SI   SI     RN     RN    RN     RN   RN     RN   RN     RN   RN     SD   SD     SD   SD    TE    TE    TE    TE    TE', '#    KST  ID  AVG   DAY MAX  MAX  MAX INS  INS  INS   AVG   MAX  MAX   MIN  MIN   AVG   AVG   MIN   AVG   MIN  MIN   AVG               DUR    AVG    AVG    MAX  MAX    MIN  MIN  TOT  DAY  DUR  CMB   DAY   60M  60M    DAY    D99   DUR    60M  60M    10M  10M    POW  POW    NEW  NEW    MAX  MAX     5    10    15    30    50', '#             m/s     m  16  m/s   TM  16  m/s   TM     C     C   TM     C   TM     C     C     C     %     %   TM   hPa    mm    mm    hr    hPa    hPa    hPa   TM    hPa   TM    %   hr   hr   hr         MAX   TM     mm     mm    hr     mm   TM     mm   TM     mm   TM     cm   TM     cm   TM     C     C     C     C     C']\n",
      "['#START7777', '#2345678901234567890123456789012345678901234567890123456789012345678901234567890123456789012345678901234567890123456789012345678901234567890123456789012345678901234567890123456789012345678901234567890123456789012345678901234567890123456789012345678901234567890123456789012345678901234567890123456789012345678901234567890123', '# YYMMDD STN   WS    WR  WD   WS   WS  WD   WS   WS    TA    TA   TA    TA   TA    TD    TS    TG    HM    HM   HM    PV  EV_S  EV_L    FG     PA     PS     PS   PS     PS   PS   CA   SS   SS   SS    SI    SI   SI     RN     RN    RN     RN   RN     RN   RN     RN   RN     SD   SD     SD   SD    TE    TE    TE    TE    TE', '#    KST  ID  AVG   DAY MAX  MAX  MAX INS  INS  INS   AVG   MAX  MAX   MIN  MIN   AVG   AVG   MIN   AVG   MIN  MIN   AVG               DUR    AVG    AVG    MAX  MAX    MIN  MIN  TOT  DAY  DUR  CMB   DAY   60M  60M    DAY    D99   DUR    60M  60M    10M  10M    POW  POW    NEW  NEW    MAX  MAX     5    10    15    30    50', '#             m/s     m  16  m/s   TM  16  m/s   TM     C     C   TM     C   TM     C     C     C     %     %   TM   hPa    mm    mm    hr    hPa    hPa    hPa   TM    hPa   TM    %   hr   hr   hr         MAX   TM     mm     mm    hr     mm   TM     mm   TM     mm   TM     cm   TM     cm   TM     C     C     C     C     C']\n",
      "['#START7777', '#2345678901234567890123456789012345678901234567890123456789012345678901234567890123456789012345678901234567890123456789012345678901234567890123456789012345678901234567890123456789012345678901234567890123456789012345678901234567890123456789012345678901234567890123456789012345678901234567890123456789012345678901234567890123', '# YYMMDD STN   WS    WR  WD   WS   WS  WD   WS   WS    TA    TA   TA    TA   TA    TD    TS    TG    HM    HM   HM    PV  EV_S  EV_L    FG     PA     PS     PS   PS     PS   PS   CA   SS   SS   SS    SI    SI   SI     RN     RN    RN     RN   RN     RN   RN     RN   RN     SD   SD     SD   SD    TE    TE    TE    TE    TE', '#    KST  ID  AVG   DAY MAX  MAX  MAX INS  INS  INS   AVG   MAX  MAX   MIN  MIN   AVG   AVG   MIN   AVG   MIN  MIN   AVG               DUR    AVG    AVG    MAX  MAX    MIN  MIN  TOT  DAY  DUR  CMB   DAY   60M  60M    DAY    D99   DUR    60M  60M    10M  10M    POW  POW    NEW  NEW    MAX  MAX     5    10    15    30    50', '#             m/s     m  16  m/s   TM  16  m/s   TM     C     C   TM     C   TM     C     C     C     %     %   TM   hPa    mm    mm    hr    hPa    hPa    hPa   TM    hPa   TM    %   hr   hr   hr         MAX   TM     mm     mm    hr     mm   TM     mm   TM     mm   TM     cm   TM     cm   TM     C     C     C     C     C']\n",
      "['#START7777', '#2345678901234567890123456789012345678901234567890123456789012345678901234567890123456789012345678901234567890123456789012345678901234567890123456789012345678901234567890123456789012345678901234567890123456789012345678901234567890123456789012345678901234567890123456789012345678901234567890123456789012345678901234567890123', '# YYMMDD STN   WS    WR  WD   WS   WS  WD   WS   WS    TA    TA   TA    TA   TA    TD    TS    TG    HM    HM   HM    PV  EV_S  EV_L    FG     PA     PS     PS   PS     PS   PS   CA   SS   SS   SS    SI    SI   SI     RN     RN    RN     RN   RN     RN   RN     RN   RN     SD   SD     SD   SD    TE    TE    TE    TE    TE', '#    KST  ID  AVG   DAY MAX  MAX  MAX INS  INS  INS   AVG   MAX  MAX   MIN  MIN   AVG   AVG   MIN   AVG   MIN  MIN   AVG               DUR    AVG    AVG    MAX  MAX    MIN  MIN  TOT  DAY  DUR  CMB   DAY   60M  60M    DAY    D99   DUR    60M  60M    10M  10M    POW  POW    NEW  NEW    MAX  MAX     5    10    15    30    50', '#             m/s     m  16  m/s   TM  16  m/s   TM     C     C   TM     C   TM     C     C     C     %     %   TM   hPa    mm    mm    hr    hPa    hPa    hPa   TM    hPa   TM    %   hr   hr   hr         MAX   TM     mm     mm    hr     mm   TM     mm   TM     mm   TM     cm   TM     cm   TM     C     C     C     C     C']\n",
      "['#START7777', '#2345678901234567890123456789012345678901234567890123456789012345678901234567890123456789012345678901234567890123456789012345678901234567890123456789012345678901234567890123456789012345678901234567890123456789012345678901234567890123456789012345678901234567890123456789012345678901234567890123456789012345678901234567890123', '# YYMMDD STN   WS    WR  WD   WS   WS  WD   WS   WS    TA    TA   TA    TA   TA    TD    TS    TG    HM    HM   HM    PV  EV_S  EV_L    FG     PA     PS     PS   PS     PS   PS   CA   SS   SS   SS    SI    SI   SI     RN     RN    RN     RN   RN     RN   RN     RN   RN     SD   SD     SD   SD    TE    TE    TE    TE    TE', '#    KST  ID  AVG   DAY MAX  MAX  MAX INS  INS  INS   AVG   MAX  MAX   MIN  MIN   AVG   AVG   MIN   AVG   MIN  MIN   AVG               DUR    AVG    AVG    MAX  MAX    MIN  MIN  TOT  DAY  DUR  CMB   DAY   60M  60M    DAY    D99   DUR    60M  60M    10M  10M    POW  POW    NEW  NEW    MAX  MAX     5    10    15    30    50', '#             m/s     m  16  m/s   TM  16  m/s   TM     C     C   TM     C   TM     C     C     C     %     %   TM   hPa    mm    mm    hr    hPa    hPa    hPa   TM    hPa   TM    %   hr   hr   hr         MAX   TM     mm     mm    hr     mm   TM     mm   TM     mm   TM     cm   TM     cm   TM     C     C     C     C     C']\n",
      "['#START7777', '#2345678901234567890123456789012345678901234567890123456789012345678901234567890123456789012345678901234567890123456789012345678901234567890123456789012345678901234567890123456789012345678901234567890123456789012345678901234567890123456789012345678901234567890123456789012345678901234567890123456789012345678901234567890123', '# YYMMDD STN   WS    WR  WD   WS   WS  WD   WS   WS    TA    TA   TA    TA   TA    TD    TS    TG    HM    HM   HM    PV  EV_S  EV_L    FG     PA     PS     PS   PS     PS   PS   CA   SS   SS   SS    SI    SI   SI     RN     RN    RN     RN   RN     RN   RN     RN   RN     SD   SD     SD   SD    TE    TE    TE    TE    TE', '#    KST  ID  AVG   DAY MAX  MAX  MAX INS  INS  INS   AVG   MAX  MAX   MIN  MIN   AVG   AVG   MIN   AVG   MIN  MIN   AVG               DUR    AVG    AVG    MAX  MAX    MIN  MIN  TOT  DAY  DUR  CMB   DAY   60M  60M    DAY    D99   DUR    60M  60M    10M  10M    POW  POW    NEW  NEW    MAX  MAX     5    10    15    30    50', '#             m/s     m  16  m/s   TM  16  m/s   TM     C     C   TM     C   TM     C     C     C     %     %   TM   hPa    mm    mm    hr    hPa    hPa    hPa   TM    hPa   TM    %   hr   hr   hr         MAX   TM     mm     mm    hr     mm   TM     mm   TM     mm   TM     cm   TM     cm   TM     C     C     C     C     C']\n",
      "['#START7777', '#2345678901234567890123456789012345678901234567890123456789012345678901234567890123456789012345678901234567890123456789012345678901234567890123456789012345678901234567890123456789012345678901234567890123456789012345678901234567890123456789012345678901234567890123456789012345678901234567890123456789012345678901234567890123', '# YYMMDD STN   WS    WR  WD   WS   WS  WD   WS   WS    TA    TA   TA    TA   TA    TD    TS    TG    HM    HM   HM    PV  EV_S  EV_L    FG     PA     PS     PS   PS     PS   PS   CA   SS   SS   SS    SI    SI   SI     RN     RN    RN     RN   RN     RN   RN     RN   RN     SD   SD     SD   SD    TE    TE    TE    TE    TE', '#    KST  ID  AVG   DAY MAX  MAX  MAX INS  INS  INS   AVG   MAX  MAX   MIN  MIN   AVG   AVG   MIN   AVG   MIN  MIN   AVG               DUR    AVG    AVG    MAX  MAX    MIN  MIN  TOT  DAY  DUR  CMB   DAY   60M  60M    DAY    D99   DUR    60M  60M    10M  10M    POW  POW    NEW  NEW    MAX  MAX     5    10    15    30    50', '#             m/s     m  16  m/s   TM  16  m/s   TM     C     C   TM     C   TM     C     C     C     %     %   TM   hPa    mm    mm    hr    hPa    hPa    hPa   TM    hPa   TM    %   hr   hr   hr         MAX   TM     mm     mm    hr     mm   TM     mm   TM     mm   TM     cm   TM     cm   TM     C     C     C     C     C']\n"
     ]
    }
   ],
   "source": [
    "for i in range(11):\n",
    "    print(lst[i][:5])"
   ]
  },
  {
   "cell_type": "code",
   "execution_count": 31,
   "id": "a92965bd",
   "metadata": {
    "ExecuteTime": {
     "end_time": "2023-06-23T07:52:48.014862Z",
     "start_time": "2023-06-23T07:52:48.002912Z"
    },
    "scrolled": true
   },
   "outputs": [
    {
     "name": "stdout",
     "output_type": "stream",
     "text": [
      "['YYMMDD', 'STN', 'WS', 'WR', 'WD', 'WS', 'WS', 'WD', 'WS', 'WS', 'TA', 'TA', 'TA', 'TA', 'TA', 'TD', 'TS', 'TG', 'HM', 'HM', 'HM', 'PV', 'EV_S', 'EV_L', 'FG', 'PA', 'PS', 'PS', 'PS', 'PS', 'PS', 'CA', 'SS', 'SS', 'SS', 'SI', 'SI', 'SI', 'RN', 'RN', 'RN', 'RN', 'RN', 'RN', 'RN', 'RN', 'RN', 'SD', 'SD', 'SD', 'SD', 'TE', 'TE', 'TE', 'TE', 'TE']\n",
      "56\n"
     ]
    }
   ],
   "source": [
    "# columns 추출\n",
    "col_name = lst[1][2].split()\n",
    "# col_name = lst[1].split()\n",
    "col_name = col_name[1:]\n",
    "print(col_name)\n",
    "print(len(col_name))"
   ]
  },
  {
   "cell_type": "code",
   "execution_count": null,
   "id": "d6175a96",
   "metadata": {
    "ExecuteTime": {
     "end_time": "2023-06-14T19:03:50.082044Z",
     "start_time": "2023-06-14T19:03:50.078071Z"
    }
   },
   "outputs": [],
   "source": [
    "# col_name = [i.strip() for i in col_name]"
   ]
  },
  {
   "cell_type": "code",
   "execution_count": null,
   "id": "2d93e0cd",
   "metadata": {
    "ExecuteTime": {
     "end_time": "2023-06-14T19:04:14.397353Z",
     "start_time": "2023-06-14T19:04:14.393380Z"
    }
   },
   "outputs": [],
   "source": [
    "# col_name[0] = 'TM_FC'"
   ]
  },
  {
   "cell_type": "code",
   "execution_count": null,
   "id": "103899b2",
   "metadata": {
    "ExecuteTime": {
     "end_time": "2023-06-19T13:03:42.353992Z",
     "start_time": "2023-06-19T13:03:42.339029Z"
    }
   },
   "outputs": [],
   "source": [
    "col_name"
   ]
  },
  {
   "cell_type": "code",
   "execution_count": null,
   "id": "f4f18cec",
   "metadata": {
    "ExecuteTime": {
     "end_time": "2023-06-19T12:37:55.466565Z",
     "start_time": "2023-06-19T12:37:55.454582Z"
    }
   },
   "outputs": [],
   "source": [
    "for i in lst:\n",
    "    print(i[-3:])"
   ]
  },
  {
   "cell_type": "code",
   "execution_count": null,
   "id": "c98bcf70",
   "metadata": {},
   "outputs": [],
   "source": [
    "# df_2013, df_2014, df_2015, \n",
    "# df_2017, df_2018, df_2019, \n",
    "# df_2021, df_2022"
   ]
  },
  {
   "cell_type": "code",
   "execution_count": null,
   "id": "7caae18f",
   "metadata": {},
   "outputs": [],
   "source": [
    "len(lst[0])"
   ]
  },
  {
   "cell_type": "code",
   "execution_count": null,
   "id": "225a6e60",
   "metadata": {},
   "outputs": [],
   "source": [
    "for i in lst:\n",
    "    print(i[-3:])"
   ]
  },
  {
   "cell_type": "code",
   "execution_count": null,
   "id": "e56211bb",
   "metadata": {},
   "outputs": [],
   "source": [
    "# df_2013, df_2014, df_2015, \n",
    "# df_2017, df_2018, df_2019, \n",
    "# df_2021, df_2022"
   ]
  },
  {
   "cell_type": "code",
   "execution_count": null,
   "id": "e4fec3f9",
   "metadata": {},
   "outputs": [],
   "source": [
    "len(lst[0])"
   ]
  },
  {
   "cell_type": "code",
   "execution_count": 37,
   "id": "45d0ad60",
   "metadata": {
    "ExecuteTime": {
     "end_time": "2023-06-23T07:53:36.589248Z",
     "start_time": "2023-06-23T07:53:36.566278Z"
    }
   },
   "outputs": [
    {
     "data": {
      "text/plain": [
       "'2013'"
      ]
     },
     "execution_count": 37,
     "metadata": {},
     "output_type": "execute_result"
    }
   ],
   "source": [
    "lst[1][5].split()[0][:4]"
   ]
  },
  {
   "cell_type": "code",
   "execution_count": 40,
   "id": "31b7561d",
   "metadata": {
    "ExecuteTime": {
     "end_time": "2023-06-23T07:53:58.427229Z",
     "start_time": "2023-06-23T07:53:58.421245Z"
    }
   },
   "outputs": [
    {
     "data": {
      "text/plain": [
       "'20130101  90  2.5  2139  25  6.2  119  25 11.1 1432  -2.0   2.5 1352  -6.7  641 -10.6  -2.8  -8.5  52.3  38.0  118   2.8  -9.0  -9.0 -9.00 1014.7 1017.0 1019.8  248 1014.0 1326  5.1  5.4  9.6 -9.0 -9.00 -9.00   -9    0.0   -9.0  0.75   -9.0   -9   -9.0   -9   -9.0   -9   -9.0   -9   -9.0   -9 -99.0 -99.0 -99.0 -99.0 -99.0'"
      ]
     },
     "execution_count": 40,
     "metadata": {},
     "output_type": "execute_result"
    }
   ],
   "source": [
    "lst[1][5]"
   ]
  },
  {
   "cell_type": "code",
   "execution_count": 41,
   "id": "1a2319d8",
   "metadata": {
    "ExecuteTime": {
     "end_time": "2023-06-23T07:54:09.749421Z",
     "start_time": "2023-06-23T07:54:09.734479Z"
    },
    "scrolled": true
   },
   "outputs": [],
   "source": [
    "# 단기 예특보\n",
    "# lst 내 text, Data Frame으로 만들기\n",
    "\n",
    "def to_df(lst):\n",
    "    for i in tqdm(range(len(lst))):\n",
    "        if len(lst[i]) > 2:\n",
    "            year = lst[i][5].split()[0][:4]\n",
    "            globals()['df_{}'.format(year)] = pd.DataFrame(lst[i][5:-2])[0].str.split(expand=True)\n",
    "#             'df_{}'.format(year).columns == col_name\n",
    "#             return 'df_{}'.format(year)\n",
    "#         else:\n",
    "#             pass"
   ]
  },
  {
   "cell_type": "code",
   "execution_count": null,
   "id": "225317a5",
   "metadata": {},
   "outputs": [],
   "source": []
  },
  {
   "cell_type": "code",
   "execution_count": 42,
   "id": "16196479",
   "metadata": {
    "ExecuteTime": {
     "end_time": "2023-06-23T07:54:18.305269Z",
     "start_time": "2023-06-23T07:54:12.524188Z"
    }
   },
   "outputs": [
    {
     "name": "stderr",
     "output_type": "stream",
     "text": [
      "100%|████████████████████████████████████████████████████████████████| 11/11 [00:05<00:00,  1.91it/s]\n"
     ]
    }
   ],
   "source": [
    "to_df(lst)"
   ]
  },
  {
   "cell_type": "code",
   "execution_count": 46,
   "id": "98d30514",
   "metadata": {
    "ExecuteTime": {
     "end_time": "2023-06-23T07:54:23.811457Z",
     "start_time": "2023-06-23T07:54:23.728648Z"
    }
   },
   "outputs": [
    {
     "data": {
      "text/html": [
       "<div>\n",
       "<style scoped>\n",
       "    .dataframe tbody tr th:only-of-type {\n",
       "        vertical-align: middle;\n",
       "    }\n",
       "\n",
       "    .dataframe tbody tr th {\n",
       "        vertical-align: top;\n",
       "    }\n",
       "\n",
       "    .dataframe thead th {\n",
       "        text-align: right;\n",
       "    }\n",
       "</style>\n",
       "<table border=\"1\" class=\"dataframe\">\n",
       "  <thead>\n",
       "    <tr style=\"text-align: right;\">\n",
       "      <th></th>\n",
       "      <th>0</th>\n",
       "      <th>1</th>\n",
       "      <th>2</th>\n",
       "      <th>3</th>\n",
       "      <th>4</th>\n",
       "      <th>5</th>\n",
       "      <th>6</th>\n",
       "      <th>7</th>\n",
       "      <th>8</th>\n",
       "      <th>9</th>\n",
       "      <th>...</th>\n",
       "      <th>46</th>\n",
       "      <th>47</th>\n",
       "      <th>48</th>\n",
       "      <th>49</th>\n",
       "      <th>50</th>\n",
       "      <th>51</th>\n",
       "      <th>52</th>\n",
       "      <th>53</th>\n",
       "      <th>54</th>\n",
       "      <th>55</th>\n",
       "    </tr>\n",
       "  </thead>\n",
       "  <tbody>\n",
       "    <tr>\n",
       "      <th>0</th>\n",
       "      <td>20150101</td>\n",
       "      <td>90</td>\n",
       "      <td>2.2</td>\n",
       "      <td>1900</td>\n",
       "      <td>29</td>\n",
       "      <td>6.1</td>\n",
       "      <td>41</td>\n",
       "      <td>29</td>\n",
       "      <td>11.3</td>\n",
       "      <td>32</td>\n",
       "      <td>...</td>\n",
       "      <td>-9</td>\n",
       "      <td>-9.0</td>\n",
       "      <td>-9</td>\n",
       "      <td>-9.0</td>\n",
       "      <td>-9</td>\n",
       "      <td>-99.0</td>\n",
       "      <td>-99.0</td>\n",
       "      <td>-99.0</td>\n",
       "      <td>-99.0</td>\n",
       "      <td>-99.0</td>\n",
       "    </tr>\n",
       "    <tr>\n",
       "      <th>1</th>\n",
       "      <td>20150101</td>\n",
       "      <td>95</td>\n",
       "      <td>2.1</td>\n",
       "      <td>1777</td>\n",
       "      <td>29</td>\n",
       "      <td>4.7</td>\n",
       "      <td>1321</td>\n",
       "      <td>32</td>\n",
       "      <td>7.7</td>\n",
       "      <td>1357</td>\n",
       "      <td>...</td>\n",
       "      <td>-9</td>\n",
       "      <td>-9.0</td>\n",
       "      <td>-9</td>\n",
       "      <td>-9.0</td>\n",
       "      <td>-9</td>\n",
       "      <td>-99.0</td>\n",
       "      <td>-99.0</td>\n",
       "      <td>-99.0</td>\n",
       "      <td>-99.0</td>\n",
       "      <td>-99.0</td>\n",
       "    </tr>\n",
       "    <tr>\n",
       "      <th>2</th>\n",
       "      <td>20150101</td>\n",
       "      <td>98</td>\n",
       "      <td>3.4</td>\n",
       "      <td>2948</td>\n",
       "      <td>32</td>\n",
       "      <td>7.0</td>\n",
       "      <td>1043</td>\n",
       "      <td>32</td>\n",
       "      <td>10.3</td>\n",
       "      <td>1018</td>\n",
       "      <td>...</td>\n",
       "      <td>-9</td>\n",
       "      <td>-9.0</td>\n",
       "      <td>-9</td>\n",
       "      <td>-9.0</td>\n",
       "      <td>-9</td>\n",
       "      <td>-99.0</td>\n",
       "      <td>-99.0</td>\n",
       "      <td>-99.0</td>\n",
       "      <td>-99.0</td>\n",
       "      <td>-99.0</td>\n",
       "    </tr>\n",
       "    <tr>\n",
       "      <th>3</th>\n",
       "      <td>20150101</td>\n",
       "      <td>99</td>\n",
       "      <td>3.2</td>\n",
       "      <td>2787</td>\n",
       "      <td>29</td>\n",
       "      <td>6.2</td>\n",
       "      <td>1159</td>\n",
       "      <td>34</td>\n",
       "      <td>9.6</td>\n",
       "      <td>139</td>\n",
       "      <td>...</td>\n",
       "      <td>-9</td>\n",
       "      <td>-9.0</td>\n",
       "      <td>-9</td>\n",
       "      <td>-9.0</td>\n",
       "      <td>-9</td>\n",
       "      <td>-99.0</td>\n",
       "      <td>-99.0</td>\n",
       "      <td>-99.0</td>\n",
       "      <td>-99.0</td>\n",
       "      <td>-99.0</td>\n",
       "    </tr>\n",
       "    <tr>\n",
       "      <th>4</th>\n",
       "      <td>20150101</td>\n",
       "      <td>100</td>\n",
       "      <td>5.9</td>\n",
       "      <td>5128</td>\n",
       "      <td>27</td>\n",
       "      <td>9.1</td>\n",
       "      <td>1253</td>\n",
       "      <td>27</td>\n",
       "      <td>15.1</td>\n",
       "      <td>4</td>\n",
       "      <td>...</td>\n",
       "      <td>-9</td>\n",
       "      <td>-9.0</td>\n",
       "      <td>-9</td>\n",
       "      <td>-9.0</td>\n",
       "      <td>-9</td>\n",
       "      <td>-99.0</td>\n",
       "      <td>-99.0</td>\n",
       "      <td>-99.0</td>\n",
       "      <td>-99.0</td>\n",
       "      <td>-99.0</td>\n",
       "    </tr>\n",
       "    <tr>\n",
       "      <th>...</th>\n",
       "      <td>...</td>\n",
       "      <td>...</td>\n",
       "      <td>...</td>\n",
       "      <td>...</td>\n",
       "      <td>...</td>\n",
       "      <td>...</td>\n",
       "      <td>...</td>\n",
       "      <td>...</td>\n",
       "      <td>...</td>\n",
       "      <td>...</td>\n",
       "      <td>...</td>\n",
       "      <td>...</td>\n",
       "      <td>...</td>\n",
       "      <td>...</td>\n",
       "      <td>...</td>\n",
       "      <td>...</td>\n",
       "      <td>...</td>\n",
       "      <td>...</td>\n",
       "      <td>...</td>\n",
       "      <td>...</td>\n",
       "      <td>...</td>\n",
       "    </tr>\n",
       "    <tr>\n",
       "      <th>34288</th>\n",
       "      <td>20160101</td>\n",
       "      <td>285</td>\n",
       "      <td>0.5</td>\n",
       "      <td>421</td>\n",
       "      <td>7</td>\n",
       "      <td>2.4</td>\n",
       "      <td>1145</td>\n",
       "      <td>5</td>\n",
       "      <td>3.7</td>\n",
       "      <td>1150</td>\n",
       "      <td>...</td>\n",
       "      <td>-9</td>\n",
       "      <td>-9.0</td>\n",
       "      <td>-9</td>\n",
       "      <td>-9.0</td>\n",
       "      <td>-9</td>\n",
       "      <td>-99.0</td>\n",
       "      <td>-99.0</td>\n",
       "      <td>-99.0</td>\n",
       "      <td>-99.0</td>\n",
       "      <td>-99.0</td>\n",
       "    </tr>\n",
       "    <tr>\n",
       "      <th>34289</th>\n",
       "      <td>20160101</td>\n",
       "      <td>288</td>\n",
       "      <td>0.5</td>\n",
       "      <td>471</td>\n",
       "      <td>29</td>\n",
       "      <td>2.0</td>\n",
       "      <td>1408</td>\n",
       "      <td>7</td>\n",
       "      <td>3.6</td>\n",
       "      <td>1408</td>\n",
       "      <td>...</td>\n",
       "      <td>-9</td>\n",
       "      <td>-9.0</td>\n",
       "      <td>-9</td>\n",
       "      <td>-9.0</td>\n",
       "      <td>-9</td>\n",
       "      <td>-99.0</td>\n",
       "      <td>-99.0</td>\n",
       "      <td>-99.0</td>\n",
       "      <td>-99.0</td>\n",
       "      <td>-99.0</td>\n",
       "    </tr>\n",
       "    <tr>\n",
       "      <th>34290</th>\n",
       "      <td>20160101</td>\n",
       "      <td>289</td>\n",
       "      <td>0.7</td>\n",
       "      <td>562</td>\n",
       "      <td>32</td>\n",
       "      <td>2.5</td>\n",
       "      <td>1634</td>\n",
       "      <td>32</td>\n",
       "      <td>5.1</td>\n",
       "      <td>1627</td>\n",
       "      <td>...</td>\n",
       "      <td>-9</td>\n",
       "      <td>-9.0</td>\n",
       "      <td>-9</td>\n",
       "      <td>-9.0</td>\n",
       "      <td>-9</td>\n",
       "      <td>-99.0</td>\n",
       "      <td>-99.0</td>\n",
       "      <td>-99.0</td>\n",
       "      <td>-99.0</td>\n",
       "      <td>-99.0</td>\n",
       "    </tr>\n",
       "    <tr>\n",
       "      <th>34291</th>\n",
       "      <td>20160101</td>\n",
       "      <td>294</td>\n",
       "      <td>1.6</td>\n",
       "      <td>1363</td>\n",
       "      <td>27</td>\n",
       "      <td>4.3</td>\n",
       "      <td>2343</td>\n",
       "      <td>29</td>\n",
       "      <td>8.6</td>\n",
       "      <td>2343</td>\n",
       "      <td>...</td>\n",
       "      <td>-9</td>\n",
       "      <td>-9.0</td>\n",
       "      <td>-9</td>\n",
       "      <td>-9.0</td>\n",
       "      <td>-9</td>\n",
       "      <td>-99.0</td>\n",
       "      <td>-99.0</td>\n",
       "      <td>-99.0</td>\n",
       "      <td>-99.0</td>\n",
       "      <td>-99.0</td>\n",
       "    </tr>\n",
       "    <tr>\n",
       "      <th>34292</th>\n",
       "      <td>20160101</td>\n",
       "      <td>295</td>\n",
       "      <td>0.9</td>\n",
       "      <td>779</td>\n",
       "      <td>25</td>\n",
       "      <td>1.8</td>\n",
       "      <td>1500</td>\n",
       "      <td>23</td>\n",
       "      <td>3.8</td>\n",
       "      <td>1535</td>\n",
       "      <td>...</td>\n",
       "      <td>-9</td>\n",
       "      <td>-9.0</td>\n",
       "      <td>-9</td>\n",
       "      <td>-9.0</td>\n",
       "      <td>-9</td>\n",
       "      <td>-99.0</td>\n",
       "      <td>-99.0</td>\n",
       "      <td>-99.0</td>\n",
       "      <td>-99.0</td>\n",
       "      <td>-99.0</td>\n",
       "    </tr>\n",
       "  </tbody>\n",
       "</table>\n",
       "<p>34293 rows × 56 columns</p>\n",
       "</div>"
      ],
      "text/plain": [
       "             0    1    2     3   4    5     6   7     8     9   ...  46    47  \\\n",
       "0      20150101   90  2.2  1900  29  6.1    41  29  11.3    32  ...  -9  -9.0   \n",
       "1      20150101   95  2.1  1777  29  4.7  1321  32   7.7  1357  ...  -9  -9.0   \n",
       "2      20150101   98  3.4  2948  32  7.0  1043  32  10.3  1018  ...  -9  -9.0   \n",
       "3      20150101   99  3.2  2787  29  6.2  1159  34   9.6   139  ...  -9  -9.0   \n",
       "4      20150101  100  5.9  5128  27  9.1  1253  27  15.1     4  ...  -9  -9.0   \n",
       "...         ...  ...  ...   ...  ..  ...   ...  ..   ...   ...  ...  ..   ...   \n",
       "34288  20160101  285  0.5   421   7  2.4  1145   5   3.7  1150  ...  -9  -9.0   \n",
       "34289  20160101  288  0.5   471  29  2.0  1408   7   3.6  1408  ...  -9  -9.0   \n",
       "34290  20160101  289  0.7   562  32  2.5  1634  32   5.1  1627  ...  -9  -9.0   \n",
       "34291  20160101  294  1.6  1363  27  4.3  2343  29   8.6  2343  ...  -9  -9.0   \n",
       "34292  20160101  295  0.9   779  25  1.8  1500  23   3.8  1535  ...  -9  -9.0   \n",
       "\n",
       "       48    49  50     51     52     53     54     55  \n",
       "0      -9  -9.0  -9  -99.0  -99.0  -99.0  -99.0  -99.0  \n",
       "1      -9  -9.0  -9  -99.0  -99.0  -99.0  -99.0  -99.0  \n",
       "2      -9  -9.0  -9  -99.0  -99.0  -99.0  -99.0  -99.0  \n",
       "3      -9  -9.0  -9  -99.0  -99.0  -99.0  -99.0  -99.0  \n",
       "4      -9  -9.0  -9  -99.0  -99.0  -99.0  -99.0  -99.0  \n",
       "...    ..   ...  ..    ...    ...    ...    ...    ...  \n",
       "34288  -9  -9.0  -9  -99.0  -99.0  -99.0  -99.0  -99.0  \n",
       "34289  -9  -9.0  -9  -99.0  -99.0  -99.0  -99.0  -99.0  \n",
       "34290  -9  -9.0  -9  -99.0  -99.0  -99.0  -99.0  -99.0  \n",
       "34291  -9  -9.0  -9  -99.0  -99.0  -99.0  -99.0  -99.0  \n",
       "34292  -9  -9.0  -9  -99.0  -99.0  -99.0  -99.0  -99.0  \n",
       "\n",
       "[34293 rows x 56 columns]"
      ]
     },
     "execution_count": 46,
     "metadata": {},
     "output_type": "execute_result"
    }
   ],
   "source": [
    "df_2015"
   ]
  },
  {
   "cell_type": "code",
   "execution_count": null,
   "id": "dc16a5bf",
   "metadata": {},
   "outputs": [],
   "source": [
    "lst[1]"
   ]
  },
  {
   "cell_type": "code",
   "execution_count": null,
   "id": "3c055a21",
   "metadata": {},
   "outputs": [],
   "source": [
    "lst[1][3].split()[0][:4]"
   ]
  },
  {
   "cell_type": "code",
   "execution_count": null,
   "id": "2d7c2c71",
   "metadata": {},
   "outputs": [],
   "source": [
    "# 적설량\n",
    "# lst 내 text, Data Frame으로 만들기\n",
    "\n",
    "def to_df2(lst):\n",
    "    for i in tqdm(range(len(lst))):\n",
    "        year = lst[i][3].split()[0][:4]\n",
    "        globals()['df_{}_snow'.format(year)] = pd.DataFrame(lst[i][3:-2])[0].str.split(expand=True)\n"
   ]
  },
  {
   "cell_type": "code",
   "execution_count": null,
   "id": "74070c20",
   "metadata": {},
   "outputs": [],
   "source": [
    "to_df2(lst)"
   ]
  },
  {
   "cell_type": "code",
   "execution_count": null,
   "id": "e9e6a811",
   "metadata": {},
   "outputs": [],
   "source": [
    "df_2022_snow"
   ]
  },
  {
   "cell_type": "code",
   "execution_count": null,
   "id": "2e8f1663",
   "metadata": {
    "ExecuteTime": {
     "end_time": "2023-06-21T10:09:41.844086Z",
     "start_time": "2023-06-21T10:09:41.784844Z"
    }
   },
   "outputs": [],
   "source": [
    "text"
   ]
  },
  {
   "cell_type": "code",
   "execution_count": null,
   "id": "2485f1ed",
   "metadata": {},
   "outputs": [],
   "source": [
    "df = pd.DataFrame(lst[0][3:-2])[0].str.split(expand=True)\n",
    "# df3.drop(columns = [19], inplace=True)\n",
    "df.columns = col_name\n",
    "df"
   ]
  },
  {
   "cell_type": "code",
   "execution_count": null,
   "id": "0a6221fe",
   "metadata": {},
   "outputs": [],
   "source": [
    "df1"
   ]
  },
  {
   "cell_type": "code",
   "execution_count": null,
   "id": "843db9b5",
   "metadata": {},
   "outputs": [],
   "source": [
    "df_2020"
   ]
  },
  {
   "cell_type": "code",
   "execution_count": null,
   "id": "f130c96c",
   "metadata": {
    "ExecuteTime": {
     "end_time": "2023-06-14T18:16:57.577061Z",
     "start_time": "2023-06-14T18:16:57.559678Z"
    }
   },
   "outputs": [],
   "source": [
    "df[9].value_counts()"
   ]
  },
  {
   "cell_type": "code",
   "execution_count": null,
   "id": "1d3e5239",
   "metadata": {
    "ExecuteTime": {
     "end_time": "2023-06-14T17:31:03.683708Z",
     "start_time": "2023-06-14T17:31:01.630488Z"
    },
    "scrolled": true
   },
   "outputs": [],
   "source": [
    "'''\n",
    "# 띄어쓰기에 따라 나눠진 컬럼 합치기\n",
    "\n",
    "con_cols = [18, 19, 20, 21]\n",
    "\n",
    "df['con_cols'] = df[con_cols].apply(lambda row : ' '.join(row.values.astype(str)), axis=1)\n",
    "df.drop(columns = con_cols, inplace = True)\n",
    "'''"
   ]
  },
  {
   "cell_type": "code",
   "execution_count": null,
   "id": "1994472d",
   "metadata": {
    "ExecuteTime": {
     "end_time": "2023-06-14T19:04:25.207800Z",
     "start_time": "2023-06-14T19:04:25.205316Z"
    }
   },
   "outputs": [],
   "source": [
    "df = df.iloc[:,:11]"
   ]
  },
  {
   "cell_type": "code",
   "execution_count": null,
   "id": "8594eeb7",
   "metadata": {
    "ExecuteTime": {
     "end_time": "2023-06-14T19:02:03.281334Z",
     "start_time": "2023-06-14T19:02:03.276864Z"
    }
   },
   "outputs": [],
   "source": [
    "df.drop(columns = 11, inplace=True)"
   ]
  },
  {
   "cell_type": "code",
   "execution_count": null,
   "id": "29ad9459",
   "metadata": {},
   "outputs": [],
   "source": [
    "df_2012_snow"
   ]
  },
  {
   "cell_type": "code",
   "execution_count": null,
   "id": "6fdd7b6f",
   "metadata": {},
   "outputs": [],
   "source": [
    "text"
   ]
  },
  {
   "cell_type": "code",
   "execution_count": 48,
   "id": "3e4d6610",
   "metadata": {
    "ExecuteTime": {
     "end_time": "2023-06-23T07:56:24.876523Z",
     "start_time": "2023-06-23T07:56:24.735874Z"
    }
   },
   "outputs": [
    {
     "data": {
      "text/html": [
       "<div>\n",
       "<style scoped>\n",
       "    .dataframe tbody tr th:only-of-type {\n",
       "        vertical-align: middle;\n",
       "    }\n",
       "\n",
       "    .dataframe tbody tr th {\n",
       "        vertical-align: top;\n",
       "    }\n",
       "\n",
       "    .dataframe thead th {\n",
       "        text-align: right;\n",
       "    }\n",
       "</style>\n",
       "<table border=\"1\" class=\"dataframe\">\n",
       "  <thead>\n",
       "    <tr style=\"text-align: right;\">\n",
       "      <th></th>\n",
       "      <th>0</th>\n",
       "      <th>1</th>\n",
       "      <th>2</th>\n",
       "      <th>3</th>\n",
       "      <th>4</th>\n",
       "      <th>5</th>\n",
       "      <th>6</th>\n",
       "      <th>7</th>\n",
       "      <th>8</th>\n",
       "      <th>9</th>\n",
       "      <th>...</th>\n",
       "      <th>46</th>\n",
       "      <th>47</th>\n",
       "      <th>48</th>\n",
       "      <th>49</th>\n",
       "      <th>50</th>\n",
       "      <th>51</th>\n",
       "      <th>52</th>\n",
       "      <th>53</th>\n",
       "      <th>54</th>\n",
       "      <th>55</th>\n",
       "    </tr>\n",
       "  </thead>\n",
       "  <tbody>\n",
       "    <tr>\n",
       "      <th>0</th>\n",
       "      <td>20230101</td>\n",
       "      <td>90</td>\n",
       "      <td>3.0</td>\n",
       "      <td>2583</td>\n",
       "      <td>29</td>\n",
       "      <td>8.7</td>\n",
       "      <td>2</td>\n",
       "      <td>32</td>\n",
       "      <td>13.2</td>\n",
       "      <td>10</td>\n",
       "      <td>...</td>\n",
       "      <td>-9</td>\n",
       "      <td>-9.0</td>\n",
       "      <td>-9</td>\n",
       "      <td>-9.0</td>\n",
       "      <td>-9</td>\n",
       "      <td>-99.0</td>\n",
       "      <td>-99.0</td>\n",
       "      <td>-99.0</td>\n",
       "      <td>-99.0</td>\n",
       "      <td>-99.0</td>\n",
       "    </tr>\n",
       "    <tr>\n",
       "      <th>1</th>\n",
       "      <td>20230101</td>\n",
       "      <td>93</td>\n",
       "      <td>1.3</td>\n",
       "      <td>1113</td>\n",
       "      <td>29</td>\n",
       "      <td>5.3</td>\n",
       "      <td>1408</td>\n",
       "      <td>27</td>\n",
       "      <td>11.9</td>\n",
       "      <td>1410</td>\n",
       "      <td>...</td>\n",
       "      <td>-9</td>\n",
       "      <td>-9.0</td>\n",
       "      <td>-9</td>\n",
       "      <td>1.5</td>\n",
       "      <td>1</td>\n",
       "      <td>1.3</td>\n",
       "      <td>5.1</td>\n",
       "      <td>8.6</td>\n",
       "      <td>15.4</td>\n",
       "      <td>17.3</td>\n",
       "    </tr>\n",
       "    <tr>\n",
       "      <th>2</th>\n",
       "      <td>20230101</td>\n",
       "      <td>95</td>\n",
       "      <td>1.1</td>\n",
       "      <td>987</td>\n",
       "      <td>20</td>\n",
       "      <td>3.2</td>\n",
       "      <td>100</td>\n",
       "      <td>27</td>\n",
       "      <td>6.4</td>\n",
       "      <td>1401</td>\n",
       "      <td>...</td>\n",
       "      <td>-9</td>\n",
       "      <td>-9.0</td>\n",
       "      <td>-9</td>\n",
       "      <td>-9.0</td>\n",
       "      <td>-9</td>\n",
       "      <td>-99.0</td>\n",
       "      <td>-99.0</td>\n",
       "      <td>-99.0</td>\n",
       "      <td>-99.0</td>\n",
       "      <td>-99.0</td>\n",
       "    </tr>\n",
       "    <tr>\n",
       "      <th>3</th>\n",
       "      <td>20230101</td>\n",
       "      <td>98</td>\n",
       "      <td>1.2</td>\n",
       "      <td>1007</td>\n",
       "      <td>29</td>\n",
       "      <td>5.3</td>\n",
       "      <td>1634</td>\n",
       "      <td>29</td>\n",
       "      <td>8.5</td>\n",
       "      <td>1428</td>\n",
       "      <td>...</td>\n",
       "      <td>-9</td>\n",
       "      <td>-9.0</td>\n",
       "      <td>-9</td>\n",
       "      <td>-9.0</td>\n",
       "      <td>-9</td>\n",
       "      <td>-99.0</td>\n",
       "      <td>-99.0</td>\n",
       "      <td>-99.0</td>\n",
       "      <td>-99.0</td>\n",
       "      <td>-99.0</td>\n",
       "    </tr>\n",
       "    <tr>\n",
       "      <th>4</th>\n",
       "      <td>20230101</td>\n",
       "      <td>99</td>\n",
       "      <td>0.9</td>\n",
       "      <td>816</td>\n",
       "      <td>32</td>\n",
       "      <td>4.5</td>\n",
       "      <td>1353</td>\n",
       "      <td>32</td>\n",
       "      <td>7.7</td>\n",
       "      <td>1350</td>\n",
       "      <td>...</td>\n",
       "      <td>-9</td>\n",
       "      <td>-9.0</td>\n",
       "      <td>-9</td>\n",
       "      <td>-9.0</td>\n",
       "      <td>-9</td>\n",
       "      <td>-99.0</td>\n",
       "      <td>-99.0</td>\n",
       "      <td>-99.0</td>\n",
       "      <td>-99.0</td>\n",
       "      <td>-99.0</td>\n",
       "    </tr>\n",
       "    <tr>\n",
       "      <th>...</th>\n",
       "      <td>...</td>\n",
       "      <td>...</td>\n",
       "      <td>...</td>\n",
       "      <td>...</td>\n",
       "      <td>...</td>\n",
       "      <td>...</td>\n",
       "      <td>...</td>\n",
       "      <td>...</td>\n",
       "      <td>...</td>\n",
       "      <td>...</td>\n",
       "      <td>...</td>\n",
       "      <td>...</td>\n",
       "      <td>...</td>\n",
       "      <td>...</td>\n",
       "      <td>...</td>\n",
       "      <td>...</td>\n",
       "      <td>...</td>\n",
       "      <td>...</td>\n",
       "      <td>...</td>\n",
       "      <td>...</td>\n",
       "      <td>...</td>\n",
       "    </tr>\n",
       "    <tr>\n",
       "      <th>6969</th>\n",
       "      <td>20230313</td>\n",
       "      <td>288</td>\n",
       "      <td>1.7</td>\n",
       "      <td>1483</td>\n",
       "      <td>34</td>\n",
       "      <td>4.9</td>\n",
       "      <td>932</td>\n",
       "      <td>36</td>\n",
       "      <td>8.0</td>\n",
       "      <td>926</td>\n",
       "      <td>...</td>\n",
       "      <td>-9</td>\n",
       "      <td>-9.0</td>\n",
       "      <td>-9</td>\n",
       "      <td>-9.0</td>\n",
       "      <td>-9</td>\n",
       "      <td>-99.0</td>\n",
       "      <td>-99.0</td>\n",
       "      <td>-99.0</td>\n",
       "      <td>-99.0</td>\n",
       "      <td>-99.0</td>\n",
       "    </tr>\n",
       "    <tr>\n",
       "      <th>6970</th>\n",
       "      <td>20230313</td>\n",
       "      <td>289</td>\n",
       "      <td>4.2</td>\n",
       "      <td>3604</td>\n",
       "      <td>29</td>\n",
       "      <td>9.9</td>\n",
       "      <td>339</td>\n",
       "      <td>32</td>\n",
       "      <td>18.9</td>\n",
       "      <td>316</td>\n",
       "      <td>...</td>\n",
       "      <td>-9</td>\n",
       "      <td>-9.0</td>\n",
       "      <td>-9</td>\n",
       "      <td>-9.0</td>\n",
       "      <td>-9</td>\n",
       "      <td>-99.0</td>\n",
       "      <td>-99.0</td>\n",
       "      <td>-99.0</td>\n",
       "      <td>-99.0</td>\n",
       "      <td>-99.0</td>\n",
       "    </tr>\n",
       "    <tr>\n",
       "      <th>6971</th>\n",
       "      <td>20230313</td>\n",
       "      <td>294</td>\n",
       "      <td>2.4</td>\n",
       "      <td>2060</td>\n",
       "      <td>29</td>\n",
       "      <td>4.4</td>\n",
       "      <td>627</td>\n",
       "      <td>25</td>\n",
       "      <td>10.3</td>\n",
       "      <td>1919</td>\n",
       "      <td>...</td>\n",
       "      <td>-9</td>\n",
       "      <td>-9.0</td>\n",
       "      <td>-9</td>\n",
       "      <td>-9.0</td>\n",
       "      <td>-9</td>\n",
       "      <td>-99.0</td>\n",
       "      <td>-99.0</td>\n",
       "      <td>-99.0</td>\n",
       "      <td>-99.0</td>\n",
       "      <td>-99.0</td>\n",
       "    </tr>\n",
       "    <tr>\n",
       "      <th>6972</th>\n",
       "      <td>20230313</td>\n",
       "      <td>295</td>\n",
       "      <td>2.1</td>\n",
       "      <td>1851</td>\n",
       "      <td>32</td>\n",
       "      <td>6.5</td>\n",
       "      <td>2</td>\n",
       "      <td>32</td>\n",
       "      <td>12.3</td>\n",
       "      <td>41</td>\n",
       "      <td>...</td>\n",
       "      <td>-9</td>\n",
       "      <td>-9.0</td>\n",
       "      <td>-9</td>\n",
       "      <td>-9.0</td>\n",
       "      <td>-9</td>\n",
       "      <td>-99.0</td>\n",
       "      <td>-99.0</td>\n",
       "      <td>-99.0</td>\n",
       "      <td>-99.0</td>\n",
       "      <td>-99.0</td>\n",
       "    </tr>\n",
       "    <tr>\n",
       "      <th>6973</th>\n",
       "      <td>20230313</td>\n",
       "      <td>296</td>\n",
       "      <td>2.1</td>\n",
       "      <td>1780</td>\n",
       "      <td>18</td>\n",
       "      <td>5.1</td>\n",
       "      <td>1751</td>\n",
       "      <td>27</td>\n",
       "      <td>9.2</td>\n",
       "      <td>145</td>\n",
       "      <td>...</td>\n",
       "      <td>-9</td>\n",
       "      <td>-9.0</td>\n",
       "      <td>-9</td>\n",
       "      <td>-9.0</td>\n",
       "      <td>-9</td>\n",
       "      <td>-99.0</td>\n",
       "      <td>-99.0</td>\n",
       "      <td>-99.0</td>\n",
       "      <td>-99.0</td>\n",
       "      <td>-99.0</td>\n",
       "    </tr>\n",
       "  </tbody>\n",
       "</table>\n",
       "<p>6974 rows × 56 columns</p>\n",
       "</div>"
      ],
      "text/plain": [
       "            0    1    2     3   4    5     6   7     8     9   ...  46    47  \\\n",
       "0     20230101   90  3.0  2583  29  8.7     2  32  13.2    10  ...  -9  -9.0   \n",
       "1     20230101   93  1.3  1113  29  5.3  1408  27  11.9  1410  ...  -9  -9.0   \n",
       "2     20230101   95  1.1   987  20  3.2   100  27   6.4  1401  ...  -9  -9.0   \n",
       "3     20230101   98  1.2  1007  29  5.3  1634  29   8.5  1428  ...  -9  -9.0   \n",
       "4     20230101   99  0.9   816  32  4.5  1353  32   7.7  1350  ...  -9  -9.0   \n",
       "...        ...  ...  ...   ...  ..  ...   ...  ..   ...   ...  ...  ..   ...   \n",
       "6969  20230313  288  1.7  1483  34  4.9   932  36   8.0   926  ...  -9  -9.0   \n",
       "6970  20230313  289  4.2  3604  29  9.9   339  32  18.9   316  ...  -9  -9.0   \n",
       "6971  20230313  294  2.4  2060  29  4.4   627  25  10.3  1919  ...  -9  -9.0   \n",
       "6972  20230313  295  2.1  1851  32  6.5     2  32  12.3    41  ...  -9  -9.0   \n",
       "6973  20230313  296  2.1  1780  18  5.1  1751  27   9.2   145  ...  -9  -9.0   \n",
       "\n",
       "      48    49  50     51     52     53     54     55  \n",
       "0     -9  -9.0  -9  -99.0  -99.0  -99.0  -99.0  -99.0  \n",
       "1     -9   1.5   1    1.3    5.1    8.6   15.4   17.3  \n",
       "2     -9  -9.0  -9  -99.0  -99.0  -99.0  -99.0  -99.0  \n",
       "3     -9  -9.0  -9  -99.0  -99.0  -99.0  -99.0  -99.0  \n",
       "4     -9  -9.0  -9  -99.0  -99.0  -99.0  -99.0  -99.0  \n",
       "...   ..   ...  ..    ...    ...    ...    ...    ...  \n",
       "6969  -9  -9.0  -9  -99.0  -99.0  -99.0  -99.0  -99.0  \n",
       "6970  -9  -9.0  -9  -99.0  -99.0  -99.0  -99.0  -99.0  \n",
       "6971  -9  -9.0  -9  -99.0  -99.0  -99.0  -99.0  -99.0  \n",
       "6972  -9  -9.0  -9  -99.0  -99.0  -99.0  -99.0  -99.0  \n",
       "6973  -9  -9.0  -9  -99.0  -99.0  -99.0  -99.0  -99.0  \n",
       "\n",
       "[6974 rows x 56 columns]"
      ]
     },
     "execution_count": 48,
     "metadata": {},
     "output_type": "execute_result"
    }
   ],
   "source": [
    "df_2023 = pd.DataFrame(text[5:-2])[0].str.split(expand=True)\n",
    "df_2023"
   ]
  },
  {
   "cell_type": "code",
   "execution_count": null,
   "id": "43ddb2d0",
   "metadata": {
    "ExecuteTime": {
     "end_time": "2023-06-23T07:38:45.388173Z",
     "start_time": "2023-06-23T07:38:45.291976Z"
    }
   },
   "outputs": [],
   "source": [
    "df_2023[0].sort_values()"
   ]
  },
  {
   "cell_type": "code",
   "execution_count": 50,
   "id": "b18be124",
   "metadata": {
    "ExecuteTime": {
     "end_time": "2023-06-23T07:56:52.927959Z",
     "start_time": "2023-06-23T07:56:51.832966Z"
    }
   },
   "outputs": [
    {
     "data": {
      "text/html": [
       "<div>\n",
       "<style scoped>\n",
       "    .dataframe tbody tr th:only-of-type {\n",
       "        vertical-align: middle;\n",
       "    }\n",
       "\n",
       "    .dataframe tbody tr th {\n",
       "        vertical-align: top;\n",
       "    }\n",
       "\n",
       "    .dataframe thead th {\n",
       "        text-align: right;\n",
       "    }\n",
       "</style>\n",
       "<table border=\"1\" class=\"dataframe\">\n",
       "  <thead>\n",
       "    <tr style=\"text-align: right;\">\n",
       "      <th></th>\n",
       "      <th>YYMMDD</th>\n",
       "      <th>STN</th>\n",
       "      <th>WS</th>\n",
       "      <th>WR</th>\n",
       "      <th>WD</th>\n",
       "      <th>WS</th>\n",
       "      <th>WS</th>\n",
       "      <th>WD</th>\n",
       "      <th>WS</th>\n",
       "      <th>WS</th>\n",
       "      <th>...</th>\n",
       "      <th>RN</th>\n",
       "      <th>SD</th>\n",
       "      <th>SD</th>\n",
       "      <th>SD</th>\n",
       "      <th>SD</th>\n",
       "      <th>TE</th>\n",
       "      <th>TE</th>\n",
       "      <th>TE</th>\n",
       "      <th>TE</th>\n",
       "      <th>TE</th>\n",
       "    </tr>\n",
       "  </thead>\n",
       "  <tbody>\n",
       "    <tr>\n",
       "      <th>0</th>\n",
       "      <td>20120101</td>\n",
       "      <td>90</td>\n",
       "      <td>2.2</td>\n",
       "      <td>1915</td>\n",
       "      <td>29</td>\n",
       "      <td>5.7</td>\n",
       "      <td>1714</td>\n",
       "      <td>29</td>\n",
       "      <td>9.8</td>\n",
       "      <td>1420</td>\n",
       "      <td>...</td>\n",
       "      <td>-9</td>\n",
       "      <td>-9.0</td>\n",
       "      <td>-9</td>\n",
       "      <td>1.6</td>\n",
       "      <td>1</td>\n",
       "      <td>-99.0</td>\n",
       "      <td>-99.0</td>\n",
       "      <td>-99.0</td>\n",
       "      <td>-99.0</td>\n",
       "      <td>-99.0</td>\n",
       "    </tr>\n",
       "    <tr>\n",
       "      <th>1</th>\n",
       "      <td>20120101</td>\n",
       "      <td>95</td>\n",
       "      <td>1.2</td>\n",
       "      <td>1077</td>\n",
       "      <td>34</td>\n",
       "      <td>4.8</td>\n",
       "      <td>1414</td>\n",
       "      <td>34</td>\n",
       "      <td>7.8</td>\n",
       "      <td>1407</td>\n",
       "      <td>...</td>\n",
       "      <td>-9</td>\n",
       "      <td>-9.0</td>\n",
       "      <td>-9</td>\n",
       "      <td>-9.0</td>\n",
       "      <td>-9</td>\n",
       "      <td>1.4</td>\n",
       "      <td>5.0</td>\n",
       "      <td>-99.0</td>\n",
       "      <td>-99.0</td>\n",
       "      <td>-99.0</td>\n",
       "    </tr>\n",
       "    <tr>\n",
       "      <th>2</th>\n",
       "      <td>20120101</td>\n",
       "      <td>98</td>\n",
       "      <td>1.8</td>\n",
       "      <td>1585</td>\n",
       "      <td>29</td>\n",
       "      <td>7.4</td>\n",
       "      <td>1445</td>\n",
       "      <td>29</td>\n",
       "      <td>11.0</td>\n",
       "      <td>1439</td>\n",
       "      <td>...</td>\n",
       "      <td>-9</td>\n",
       "      <td>-9.0</td>\n",
       "      <td>-9</td>\n",
       "      <td>-9.0</td>\n",
       "      <td>-9</td>\n",
       "      <td>-99.0</td>\n",
       "      <td>-99.0</td>\n",
       "      <td>-99.0</td>\n",
       "      <td>-99.0</td>\n",
       "      <td>-99.0</td>\n",
       "    </tr>\n",
       "    <tr>\n",
       "      <th>3</th>\n",
       "      <td>20120101</td>\n",
       "      <td>99</td>\n",
       "      <td>1.5</td>\n",
       "      <td>1313</td>\n",
       "      <td>29</td>\n",
       "      <td>6.0</td>\n",
       "      <td>1546</td>\n",
       "      <td>32</td>\n",
       "      <td>8.8</td>\n",
       "      <td>1607</td>\n",
       "      <td>...</td>\n",
       "      <td>-9</td>\n",
       "      <td>-9.0</td>\n",
       "      <td>-9</td>\n",
       "      <td>-9.0</td>\n",
       "      <td>-9</td>\n",
       "      <td>-99.0</td>\n",
       "      <td>-99.0</td>\n",
       "      <td>-99.0</td>\n",
       "      <td>-99.0</td>\n",
       "      <td>-99.0</td>\n",
       "    </tr>\n",
       "    <tr>\n",
       "      <th>4</th>\n",
       "      <td>20120101</td>\n",
       "      <td>100</td>\n",
       "      <td>4.5</td>\n",
       "      <td>3868</td>\n",
       "      <td>27</td>\n",
       "      <td>6.7</td>\n",
       "      <td>332</td>\n",
       "      <td>27</td>\n",
       "      <td>10.1</td>\n",
       "      <td>1233</td>\n",
       "      <td>...</td>\n",
       "      <td>-9</td>\n",
       "      <td>0.3</td>\n",
       "      <td>2400</td>\n",
       "      <td>22.7</td>\n",
       "      <td>2400</td>\n",
       "      <td>-99.0</td>\n",
       "      <td>-99.0</td>\n",
       "      <td>-99.0</td>\n",
       "      <td>-99.0</td>\n",
       "      <td>-99.0</td>\n",
       "    </tr>\n",
       "    <tr>\n",
       "      <th>...</th>\n",
       "      <td>...</td>\n",
       "      <td>...</td>\n",
       "      <td>...</td>\n",
       "      <td>...</td>\n",
       "      <td>...</td>\n",
       "      <td>...</td>\n",
       "      <td>...</td>\n",
       "      <td>...</td>\n",
       "      <td>...</td>\n",
       "      <td>...</td>\n",
       "      <td>...</td>\n",
       "      <td>...</td>\n",
       "      <td>...</td>\n",
       "      <td>...</td>\n",
       "      <td>...</td>\n",
       "      <td>...</td>\n",
       "      <td>...</td>\n",
       "      <td>...</td>\n",
       "      <td>...</td>\n",
       "      <td>...</td>\n",
       "      <td>...</td>\n",
       "    </tr>\n",
       "    <tr>\n",
       "      <th>6969</th>\n",
       "      <td>20230313</td>\n",
       "      <td>288</td>\n",
       "      <td>1.7</td>\n",
       "      <td>1483</td>\n",
       "      <td>34</td>\n",
       "      <td>4.9</td>\n",
       "      <td>932</td>\n",
       "      <td>36</td>\n",
       "      <td>8.0</td>\n",
       "      <td>926</td>\n",
       "      <td>...</td>\n",
       "      <td>-9</td>\n",
       "      <td>-9.0</td>\n",
       "      <td>-9</td>\n",
       "      <td>-9.0</td>\n",
       "      <td>-9</td>\n",
       "      <td>-99.0</td>\n",
       "      <td>-99.0</td>\n",
       "      <td>-99.0</td>\n",
       "      <td>-99.0</td>\n",
       "      <td>-99.0</td>\n",
       "    </tr>\n",
       "    <tr>\n",
       "      <th>6970</th>\n",
       "      <td>20230313</td>\n",
       "      <td>289</td>\n",
       "      <td>4.2</td>\n",
       "      <td>3604</td>\n",
       "      <td>29</td>\n",
       "      <td>9.9</td>\n",
       "      <td>339</td>\n",
       "      <td>32</td>\n",
       "      <td>18.9</td>\n",
       "      <td>316</td>\n",
       "      <td>...</td>\n",
       "      <td>-9</td>\n",
       "      <td>-9.0</td>\n",
       "      <td>-9</td>\n",
       "      <td>-9.0</td>\n",
       "      <td>-9</td>\n",
       "      <td>-99.0</td>\n",
       "      <td>-99.0</td>\n",
       "      <td>-99.0</td>\n",
       "      <td>-99.0</td>\n",
       "      <td>-99.0</td>\n",
       "    </tr>\n",
       "    <tr>\n",
       "      <th>6971</th>\n",
       "      <td>20230313</td>\n",
       "      <td>294</td>\n",
       "      <td>2.4</td>\n",
       "      <td>2060</td>\n",
       "      <td>29</td>\n",
       "      <td>4.4</td>\n",
       "      <td>627</td>\n",
       "      <td>25</td>\n",
       "      <td>10.3</td>\n",
       "      <td>1919</td>\n",
       "      <td>...</td>\n",
       "      <td>-9</td>\n",
       "      <td>-9.0</td>\n",
       "      <td>-9</td>\n",
       "      <td>-9.0</td>\n",
       "      <td>-9</td>\n",
       "      <td>-99.0</td>\n",
       "      <td>-99.0</td>\n",
       "      <td>-99.0</td>\n",
       "      <td>-99.0</td>\n",
       "      <td>-99.0</td>\n",
       "    </tr>\n",
       "    <tr>\n",
       "      <th>6972</th>\n",
       "      <td>20230313</td>\n",
       "      <td>295</td>\n",
       "      <td>2.1</td>\n",
       "      <td>1851</td>\n",
       "      <td>32</td>\n",
       "      <td>6.5</td>\n",
       "      <td>2</td>\n",
       "      <td>32</td>\n",
       "      <td>12.3</td>\n",
       "      <td>41</td>\n",
       "      <td>...</td>\n",
       "      <td>-9</td>\n",
       "      <td>-9.0</td>\n",
       "      <td>-9</td>\n",
       "      <td>-9.0</td>\n",
       "      <td>-9</td>\n",
       "      <td>-99.0</td>\n",
       "      <td>-99.0</td>\n",
       "      <td>-99.0</td>\n",
       "      <td>-99.0</td>\n",
       "      <td>-99.0</td>\n",
       "    </tr>\n",
       "    <tr>\n",
       "      <th>6973</th>\n",
       "      <td>20230313</td>\n",
       "      <td>296</td>\n",
       "      <td>2.1</td>\n",
       "      <td>1780</td>\n",
       "      <td>18</td>\n",
       "      <td>5.1</td>\n",
       "      <td>1751</td>\n",
       "      <td>27</td>\n",
       "      <td>9.2</td>\n",
       "      <td>145</td>\n",
       "      <td>...</td>\n",
       "      <td>-9</td>\n",
       "      <td>-9.0</td>\n",
       "      <td>-9</td>\n",
       "      <td>-9.0</td>\n",
       "      <td>-9</td>\n",
       "      <td>-99.0</td>\n",
       "      <td>-99.0</td>\n",
       "      <td>-99.0</td>\n",
       "      <td>-99.0</td>\n",
       "      <td>-99.0</td>\n",
       "    </tr>\n",
       "  </tbody>\n",
       "</table>\n",
       "<p>387010 rows × 56 columns</p>\n",
       "</div>"
      ],
      "text/plain": [
       "        YYMMDD  STN   WS    WR  WD   WS    WS  WD    WS    WS  ...  RN    SD  \\\n",
       "0     20120101   90  2.2  1915  29  5.7  1714  29   9.8  1420  ...  -9  -9.0   \n",
       "1     20120101   95  1.2  1077  34  4.8  1414  34   7.8  1407  ...  -9  -9.0   \n",
       "2     20120101   98  1.8  1585  29  7.4  1445  29  11.0  1439  ...  -9  -9.0   \n",
       "3     20120101   99  1.5  1313  29  6.0  1546  32   8.8  1607  ...  -9  -9.0   \n",
       "4     20120101  100  4.5  3868  27  6.7   332  27  10.1  1233  ...  -9   0.3   \n",
       "...        ...  ...  ...   ...  ..  ...   ...  ..   ...   ...  ...  ..   ...   \n",
       "6969  20230313  288  1.7  1483  34  4.9   932  36   8.0   926  ...  -9  -9.0   \n",
       "6970  20230313  289  4.2  3604  29  9.9   339  32  18.9   316  ...  -9  -9.0   \n",
       "6971  20230313  294  2.4  2060  29  4.4   627  25  10.3  1919  ...  -9  -9.0   \n",
       "6972  20230313  295  2.1  1851  32  6.5     2  32  12.3    41  ...  -9  -9.0   \n",
       "6973  20230313  296  2.1  1780  18  5.1  1751  27   9.2   145  ...  -9  -9.0   \n",
       "\n",
       "        SD    SD    SD     TE     TE     TE     TE     TE  \n",
       "0       -9   1.6     1  -99.0  -99.0  -99.0  -99.0  -99.0  \n",
       "1       -9  -9.0    -9    1.4    5.0  -99.0  -99.0  -99.0  \n",
       "2       -9  -9.0    -9  -99.0  -99.0  -99.0  -99.0  -99.0  \n",
       "3       -9  -9.0    -9  -99.0  -99.0  -99.0  -99.0  -99.0  \n",
       "4     2400  22.7  2400  -99.0  -99.0  -99.0  -99.0  -99.0  \n",
       "...    ...   ...   ...    ...    ...    ...    ...    ...  \n",
       "6969    -9  -9.0    -9  -99.0  -99.0  -99.0  -99.0  -99.0  \n",
       "6970    -9  -9.0    -9  -99.0  -99.0  -99.0  -99.0  -99.0  \n",
       "6971    -9  -9.0    -9  -99.0  -99.0  -99.0  -99.0  -99.0  \n",
       "6972    -9  -9.0    -9  -99.0  -99.0  -99.0  -99.0  -99.0  \n",
       "6973    -9  -9.0    -9  -99.0  -99.0  -99.0  -99.0  -99.0  \n",
       "\n",
       "[387010 rows x 56 columns]"
      ]
     },
     "execution_count": 50,
     "metadata": {},
     "output_type": "execute_result"
    }
   ],
   "source": [
    "# df_2013, df_2014, df_2015, df_2017, df_2018, df_2019, df_2021, df_2022\n",
    "\n",
    "df = pd.concat([df_2012, df_2013, df_2014, df_2015, df_2016, df_2017, df_2018, df_2019, df_2020, df_2021, df_2022, df_2023])\n",
    "# df1.drop(columns = [19], inplace=True)\n",
    "df.columns = col_name\n",
    "df"
   ]
  },
  {
   "cell_type": "code",
   "execution_count": null,
   "id": "5950e08e",
   "metadata": {
    "ExecuteTime": {
     "end_time": "2023-06-23T07:41:59.790202Z",
     "start_time": "2023-06-23T07:41:59.768806Z"
    }
   },
   "outputs": [],
   "source": [
    "df1.reset_index(drop=True, inplace=True)\n",
    "df_2023.reset_index(drop=True, inplace=True)"
   ]
  },
  {
   "cell_type": "code",
   "execution_count": 2,
   "id": "877a2b36",
   "metadata": {
    "ExecuteTime": {
     "end_time": "2023-06-23T07:44:38.938904Z",
     "start_time": "2023-06-23T07:44:38.498939Z"
    }
   },
   "outputs": [
    {
     "ename": "NameError",
     "evalue": "name 'df1' is not defined",
     "output_type": "error",
     "traceback": [
      "\u001b[1;31m---------------------------------------------------------------------------\u001b[0m",
      "\u001b[1;31mNameError\u001b[0m                                 Traceback (most recent call last)",
      "Input \u001b[1;32mIn [2]\u001b[0m, in \u001b[0;36m<cell line: 1>\u001b[1;34m()\u001b[0m\n\u001b[1;32m----> 1\u001b[0m \u001b[43mdf1\u001b[49m\u001b[38;5;241m.\u001b[39mto_csv(\u001b[38;5;124m'\u001b[39m\u001b[38;5;124m1.csv\u001b[39m\u001b[38;5;124m'\u001b[39m)\n\u001b[0;32m      2\u001b[0m df_2023\u001b[38;5;241m.\u001b[39mto_csv(\u001b[38;5;124m'\u001b[39m\u001b[38;5;124m2.csv\u001b[39m\u001b[38;5;124m'\u001b[39m)\n",
      "\u001b[1;31mNameError\u001b[0m: name 'df1' is not defined"
     ]
    }
   ],
   "source": [
    "df1.to_csv('1.csv')\n",
    "df_2023.to_csv('2.csv')"
   ]
  },
  {
   "cell_type": "code",
   "execution_count": 3,
   "id": "13735c40",
   "metadata": {
    "ExecuteTime": {
     "end_time": "2023-06-23T07:44:46.496681Z",
     "start_time": "2023-06-23T07:44:43.322421Z"
    }
   },
   "outputs": [],
   "source": [
    "df1 = pd.read_csv('./1.csv', index_col = 0)\n",
    "df_2023 = pd.read_csv('./2.csv', index_col = 0)"
   ]
  },
  {
   "cell_type": "code",
   "execution_count": 4,
   "id": "e2b15795",
   "metadata": {
    "ExecuteTime": {
     "end_time": "2023-06-23T07:45:01.193138Z",
     "start_time": "2023-06-23T07:45:00.993672Z"
    }
   },
   "outputs": [
    {
     "data": {
      "text/html": [
       "<div>\n",
       "<style scoped>\n",
       "    .dataframe tbody tr th:only-of-type {\n",
       "        vertical-align: middle;\n",
       "    }\n",
       "\n",
       "    .dataframe tbody tr th {\n",
       "        vertical-align: top;\n",
       "    }\n",
       "\n",
       "    .dataframe thead th {\n",
       "        text-align: right;\n",
       "    }\n",
       "</style>\n",
       "<table border=\"1\" class=\"dataframe\">\n",
       "  <thead>\n",
       "    <tr style=\"text-align: right;\">\n",
       "      <th></th>\n",
       "      <th>YYMMDDHHMI</th>\n",
       "      <th>STN</th>\n",
       "      <th>WD</th>\n",
       "      <th>WS</th>\n",
       "      <th>GST</th>\n",
       "      <th>GST.1</th>\n",
       "      <th>GST.2</th>\n",
       "      <th>PA</th>\n",
       "      <th>PS</th>\n",
       "      <th>PT</th>\n",
       "      <th>...</th>\n",
       "      <th>TS</th>\n",
       "      <th>TE</th>\n",
       "      <th>TE.1</th>\n",
       "      <th>TE.2</th>\n",
       "      <th>TE.3</th>\n",
       "      <th>ST.1</th>\n",
       "      <th>WH</th>\n",
       "      <th>BF</th>\n",
       "      <th>IR</th>\n",
       "      <th>IX</th>\n",
       "    </tr>\n",
       "  </thead>\n",
       "  <tbody>\n",
       "    <tr>\n",
       "      <th>0</th>\n",
       "      <td>201212020000</td>\n",
       "      <td>90</td>\n",
       "      <td>25</td>\n",
       "      <td>1.0</td>\n",
       "      <td>-9</td>\n",
       "      <td>-9.0</td>\n",
       "      <td>-9</td>\n",
       "      <td>1025.4</td>\n",
       "      <td>1027.7</td>\n",
       "      <td>7</td>\n",
       "      <td>...</td>\n",
       "      <td>-0.3</td>\n",
       "      <td>-99.0</td>\n",
       "      <td>-99.0</td>\n",
       "      <td>-99.0</td>\n",
       "      <td>-99.0</td>\n",
       "      <td>-9</td>\n",
       "      <td>1.5</td>\n",
       "      <td>-9</td>\n",
       "      <td>3</td>\n",
       "      <td>2</td>\n",
       "    </tr>\n",
       "    <tr>\n",
       "      <th>1</th>\n",
       "      <td>201212020000</td>\n",
       "      <td>95</td>\n",
       "      <td>32</td>\n",
       "      <td>0.6</td>\n",
       "      <td>-9</td>\n",
       "      <td>-9.0</td>\n",
       "      <td>-9</td>\n",
       "      <td>1007.7</td>\n",
       "      <td>1027.4</td>\n",
       "      <td>7</td>\n",
       "      <td>...</td>\n",
       "      <td>-2.2</td>\n",
       "      <td>0.7</td>\n",
       "      <td>1.2</td>\n",
       "      <td>2.3</td>\n",
       "      <td>3.3</td>\n",
       "      <td>-9</td>\n",
       "      <td>-9.0</td>\n",
       "      <td>-9</td>\n",
       "      <td>3</td>\n",
       "      <td>2</td>\n",
       "    </tr>\n",
       "    <tr>\n",
       "      <th>2</th>\n",
       "      <td>201212020000</td>\n",
       "      <td>98</td>\n",
       "      <td>0</td>\n",
       "      <td>0.2</td>\n",
       "      <td>-9</td>\n",
       "      <td>-9.0</td>\n",
       "      <td>-9</td>\n",
       "      <td>1012.6</td>\n",
       "      <td>1026.5</td>\n",
       "      <td>7</td>\n",
       "      <td>...</td>\n",
       "      <td>-1.9</td>\n",
       "      <td>-99.0</td>\n",
       "      <td>-99.0</td>\n",
       "      <td>-99.0</td>\n",
       "      <td>-99.0</td>\n",
       "      <td>-9</td>\n",
       "      <td>-9.0</td>\n",
       "      <td>-9</td>\n",
       "      <td>3</td>\n",
       "      <td>-9</td>\n",
       "    </tr>\n",
       "    <tr>\n",
       "      <th>3</th>\n",
       "      <td>201212020000</td>\n",
       "      <td>99</td>\n",
       "      <td>5</td>\n",
       "      <td>1.4</td>\n",
       "      <td>-9</td>\n",
       "      <td>-9.0</td>\n",
       "      <td>-9</td>\n",
       "      <td>1023.1</td>\n",
       "      <td>1026.9</td>\n",
       "      <td>7</td>\n",
       "      <td>...</td>\n",
       "      <td>-1.4</td>\n",
       "      <td>-99.0</td>\n",
       "      <td>-99.0</td>\n",
       "      <td>-99.0</td>\n",
       "      <td>-99.0</td>\n",
       "      <td>-9</td>\n",
       "      <td>-9.0</td>\n",
       "      <td>-9</td>\n",
       "      <td>3</td>\n",
       "      <td>-9</td>\n",
       "    </tr>\n",
       "    <tr>\n",
       "      <th>4</th>\n",
       "      <td>201212020000</td>\n",
       "      <td>100</td>\n",
       "      <td>0</td>\n",
       "      <td>0.1</td>\n",
       "      <td>-9</td>\n",
       "      <td>-9.0</td>\n",
       "      <td>-9</td>\n",
       "      <td>933.6</td>\n",
       "      <td>1030.5</td>\n",
       "      <td>7</td>\n",
       "      <td>...</td>\n",
       "      <td>-5.4</td>\n",
       "      <td>-99.0</td>\n",
       "      <td>-99.0</td>\n",
       "      <td>-99.0</td>\n",
       "      <td>-99.0</td>\n",
       "      <td>-9</td>\n",
       "      <td>-9.0</td>\n",
       "      <td>-9</td>\n",
       "      <td>3</td>\n",
       "      <td>2</td>\n",
       "    </tr>\n",
       "    <tr>\n",
       "      <th>...</th>\n",
       "      <td>...</td>\n",
       "      <td>...</td>\n",
       "      <td>...</td>\n",
       "      <td>...</td>\n",
       "      <td>...</td>\n",
       "      <td>...</td>\n",
       "      <td>...</td>\n",
       "      <td>...</td>\n",
       "      <td>...</td>\n",
       "      <td>...</td>\n",
       "      <td>...</td>\n",
       "      <td>...</td>\n",
       "      <td>...</td>\n",
       "      <td>...</td>\n",
       "      <td>...</td>\n",
       "      <td>...</td>\n",
       "      <td>...</td>\n",
       "      <td>...</td>\n",
       "      <td>...</td>\n",
       "      <td>...</td>\n",
       "      <td>...</td>\n",
       "    </tr>\n",
       "    <tr>\n",
       "      <th>748545</th>\n",
       "      <td>202301010000</td>\n",
       "      <td>285</td>\n",
       "      <td>0</td>\n",
       "      <td>0.0</td>\n",
       "      <td>-9</td>\n",
       "      <td>-9.0</td>\n",
       "      <td>-9</td>\n",
       "      <td>1026.8</td>\n",
       "      <td>1030.3</td>\n",
       "      <td>3</td>\n",
       "      <td>...</td>\n",
       "      <td>-2.6</td>\n",
       "      <td>-99.0</td>\n",
       "      <td>-99.0</td>\n",
       "      <td>-99.0</td>\n",
       "      <td>-99.0</td>\n",
       "      <td>-9</td>\n",
       "      <td>-9.0</td>\n",
       "      <td>-9</td>\n",
       "      <td>3</td>\n",
       "      <td>-9</td>\n",
       "    </tr>\n",
       "    <tr>\n",
       "      <th>748546</th>\n",
       "      <td>202301010000</td>\n",
       "      <td>288</td>\n",
       "      <td>0</td>\n",
       "      <td>0.2</td>\n",
       "      <td>-9</td>\n",
       "      <td>-9.0</td>\n",
       "      <td>-9</td>\n",
       "      <td>1028.7</td>\n",
       "      <td>1029.8</td>\n",
       "      <td>3</td>\n",
       "      <td>...</td>\n",
       "      <td>-3.8</td>\n",
       "      <td>-99.0</td>\n",
       "      <td>-99.0</td>\n",
       "      <td>-99.0</td>\n",
       "      <td>-99.0</td>\n",
       "      <td>-9</td>\n",
       "      <td>-9.0</td>\n",
       "      <td>-9</td>\n",
       "      <td>3</td>\n",
       "      <td>-9</td>\n",
       "    </tr>\n",
       "    <tr>\n",
       "      <th>748547</th>\n",
       "      <td>202301010000</td>\n",
       "      <td>289</td>\n",
       "      <td>34</td>\n",
       "      <td>1.6</td>\n",
       "      <td>-9</td>\n",
       "      <td>-9.0</td>\n",
       "      <td>-9</td>\n",
       "      <td>1013.6</td>\n",
       "      <td>1031.2</td>\n",
       "      <td>0</td>\n",
       "      <td>...</td>\n",
       "      <td>-0.9</td>\n",
       "      <td>-99.0</td>\n",
       "      <td>-99.0</td>\n",
       "      <td>-99.0</td>\n",
       "      <td>-99.0</td>\n",
       "      <td>-9</td>\n",
       "      <td>-9.0</td>\n",
       "      <td>-9</td>\n",
       "      <td>3</td>\n",
       "      <td>-9</td>\n",
       "    </tr>\n",
       "    <tr>\n",
       "      <th>748548</th>\n",
       "      <td>202301010000</td>\n",
       "      <td>294</td>\n",
       "      <td>27</td>\n",
       "      <td>1.4</td>\n",
       "      <td>-9</td>\n",
       "      <td>-9.0</td>\n",
       "      <td>-9</td>\n",
       "      <td>1024.4</td>\n",
       "      <td>1030.1</td>\n",
       "      <td>3</td>\n",
       "      <td>...</td>\n",
       "      <td>-2.8</td>\n",
       "      <td>-99.0</td>\n",
       "      <td>-99.0</td>\n",
       "      <td>-99.0</td>\n",
       "      <td>-99.0</td>\n",
       "      <td>-9</td>\n",
       "      <td>-9.0</td>\n",
       "      <td>-9</td>\n",
       "      <td>3</td>\n",
       "      <td>-9</td>\n",
       "    </tr>\n",
       "    <tr>\n",
       "      <th>748549</th>\n",
       "      <td>202301010000</td>\n",
       "      <td>295</td>\n",
       "      <td>25</td>\n",
       "      <td>1.0</td>\n",
       "      <td>-9</td>\n",
       "      <td>-9.0</td>\n",
       "      <td>-9</td>\n",
       "      <td>1024.9</td>\n",
       "      <td>1030.8</td>\n",
       "      <td>2</td>\n",
       "      <td>...</td>\n",
       "      <td>-1.1</td>\n",
       "      <td>-99.0</td>\n",
       "      <td>-99.0</td>\n",
       "      <td>-99.0</td>\n",
       "      <td>-99.0</td>\n",
       "      <td>-9</td>\n",
       "      <td>-9.0</td>\n",
       "      <td>-9</td>\n",
       "      <td>3</td>\n",
       "      <td>-9</td>\n",
       "    </tr>\n",
       "  </tbody>\n",
       "</table>\n",
       "<p>748550 rows × 46 columns</p>\n",
       "</div>"
      ],
      "text/plain": [
       "          YYMMDDHHMI  STN  WD   WS  GST  GST.1  GST.2      PA      PS  PT  \\\n",
       "0       201212020000   90  25  1.0   -9   -9.0     -9  1025.4  1027.7   7   \n",
       "1       201212020000   95  32  0.6   -9   -9.0     -9  1007.7  1027.4   7   \n",
       "2       201212020000   98   0  0.2   -9   -9.0     -9  1012.6  1026.5   7   \n",
       "3       201212020000   99   5  1.4   -9   -9.0     -9  1023.1  1026.9   7   \n",
       "4       201212020000  100   0  0.1   -9   -9.0     -9   933.6  1030.5   7   \n",
       "...              ...  ...  ..  ...  ...    ...    ...     ...     ...  ..   \n",
       "748545  202301010000  285   0  0.0   -9   -9.0     -9  1026.8  1030.3   3   \n",
       "748546  202301010000  288   0  0.2   -9   -9.0     -9  1028.7  1029.8   3   \n",
       "748547  202301010000  289  34  1.6   -9   -9.0     -9  1013.6  1031.2   0   \n",
       "748548  202301010000  294  27  1.4   -9   -9.0     -9  1024.4  1030.1   3   \n",
       "748549  202301010000  295  25  1.0   -9   -9.0     -9  1024.9  1030.8   2   \n",
       "\n",
       "        ...   TS    TE  TE.1  TE.2  TE.3  ST.1   WH  BF  IR  IX  \n",
       "0       ... -0.3 -99.0 -99.0 -99.0 -99.0    -9  1.5  -9   3   2  \n",
       "1       ... -2.2   0.7   1.2   2.3   3.3    -9 -9.0  -9   3   2  \n",
       "2       ... -1.9 -99.0 -99.0 -99.0 -99.0    -9 -9.0  -9   3  -9  \n",
       "3       ... -1.4 -99.0 -99.0 -99.0 -99.0    -9 -9.0  -9   3  -9  \n",
       "4       ... -5.4 -99.0 -99.0 -99.0 -99.0    -9 -9.0  -9   3   2  \n",
       "...     ...  ...   ...   ...   ...   ...   ...  ...  ..  ..  ..  \n",
       "748545  ... -2.6 -99.0 -99.0 -99.0 -99.0    -9 -9.0  -9   3  -9  \n",
       "748546  ... -3.8 -99.0 -99.0 -99.0 -99.0    -9 -9.0  -9   3  -9  \n",
       "748547  ... -0.9 -99.0 -99.0 -99.0 -99.0    -9 -9.0  -9   3  -9  \n",
       "748548  ... -2.8 -99.0 -99.0 -99.0 -99.0    -9 -9.0  -9   3  -9  \n",
       "748549  ... -1.1 -99.0 -99.0 -99.0 -99.0    -9 -9.0  -9   3  -9  \n",
       "\n",
       "[748550 rows x 46 columns]"
      ]
     },
     "execution_count": 4,
     "metadata": {},
     "output_type": "execute_result"
    }
   ],
   "source": [
    "df1"
   ]
  },
  {
   "cell_type": "code",
   "execution_count": 6,
   "id": "7e6c04b3",
   "metadata": {
    "ExecuteTime": {
     "end_time": "2023-06-23T07:46:19.779394Z",
     "start_time": "2023-06-23T07:46:19.770419Z"
    }
   },
   "outputs": [],
   "source": [
    "df_2023.columns = df1.columns"
   ]
  },
  {
   "cell_type": "code",
   "execution_count": 8,
   "id": "d58cbf62",
   "metadata": {
    "ExecuteTime": {
     "end_time": "2023-06-23T07:46:27.809231Z",
     "start_time": "2023-06-23T07:46:27.430252Z"
    }
   },
   "outputs": [
    {
     "data": {
      "text/html": [
       "<div>\n",
       "<style scoped>\n",
       "    .dataframe tbody tr th:only-of-type {\n",
       "        vertical-align: middle;\n",
       "    }\n",
       "\n",
       "    .dataframe tbody tr th {\n",
       "        vertical-align: top;\n",
       "    }\n",
       "\n",
       "    .dataframe thead th {\n",
       "        text-align: right;\n",
       "    }\n",
       "</style>\n",
       "<table border=\"1\" class=\"dataframe\">\n",
       "  <thead>\n",
       "    <tr style=\"text-align: right;\">\n",
       "      <th></th>\n",
       "      <th>YYMMDDHHMI</th>\n",
       "      <th>STN</th>\n",
       "      <th>WD</th>\n",
       "      <th>WS</th>\n",
       "      <th>GST</th>\n",
       "      <th>GST.1</th>\n",
       "      <th>GST.2</th>\n",
       "      <th>PA</th>\n",
       "      <th>PS</th>\n",
       "      <th>PT</th>\n",
       "      <th>...</th>\n",
       "      <th>TS</th>\n",
       "      <th>TE</th>\n",
       "      <th>TE.1</th>\n",
       "      <th>TE.2</th>\n",
       "      <th>TE.3</th>\n",
       "      <th>ST.1</th>\n",
       "      <th>WH</th>\n",
       "      <th>BF</th>\n",
       "      <th>IR</th>\n",
       "      <th>IX</th>\n",
       "    </tr>\n",
       "  </thead>\n",
       "  <tbody>\n",
       "    <tr>\n",
       "      <th>0</th>\n",
       "      <td>201212020000</td>\n",
       "      <td>90</td>\n",
       "      <td>25</td>\n",
       "      <td>1.0</td>\n",
       "      <td>-9</td>\n",
       "      <td>-9.0</td>\n",
       "      <td>-9</td>\n",
       "      <td>1025.4</td>\n",
       "      <td>1027.7</td>\n",
       "      <td>7</td>\n",
       "      <td>...</td>\n",
       "      <td>-0.3</td>\n",
       "      <td>-99.0</td>\n",
       "      <td>-99.0</td>\n",
       "      <td>-99.0</td>\n",
       "      <td>-99.0</td>\n",
       "      <td>-9</td>\n",
       "      <td>1.5</td>\n",
       "      <td>-9</td>\n",
       "      <td>3</td>\n",
       "      <td>2</td>\n",
       "    </tr>\n",
       "    <tr>\n",
       "      <th>1</th>\n",
       "      <td>201212020000</td>\n",
       "      <td>95</td>\n",
       "      <td>32</td>\n",
       "      <td>0.6</td>\n",
       "      <td>-9</td>\n",
       "      <td>-9.0</td>\n",
       "      <td>-9</td>\n",
       "      <td>1007.7</td>\n",
       "      <td>1027.4</td>\n",
       "      <td>7</td>\n",
       "      <td>...</td>\n",
       "      <td>-2.2</td>\n",
       "      <td>0.7</td>\n",
       "      <td>1.2</td>\n",
       "      <td>2.3</td>\n",
       "      <td>3.3</td>\n",
       "      <td>-9</td>\n",
       "      <td>-9.0</td>\n",
       "      <td>-9</td>\n",
       "      <td>3</td>\n",
       "      <td>2</td>\n",
       "    </tr>\n",
       "    <tr>\n",
       "      <th>2</th>\n",
       "      <td>201212020000</td>\n",
       "      <td>98</td>\n",
       "      <td>0</td>\n",
       "      <td>0.2</td>\n",
       "      <td>-9</td>\n",
       "      <td>-9.0</td>\n",
       "      <td>-9</td>\n",
       "      <td>1012.6</td>\n",
       "      <td>1026.5</td>\n",
       "      <td>7</td>\n",
       "      <td>...</td>\n",
       "      <td>-1.9</td>\n",
       "      <td>-99.0</td>\n",
       "      <td>-99.0</td>\n",
       "      <td>-99.0</td>\n",
       "      <td>-99.0</td>\n",
       "      <td>-9</td>\n",
       "      <td>-9.0</td>\n",
       "      <td>-9</td>\n",
       "      <td>3</td>\n",
       "      <td>-9</td>\n",
       "    </tr>\n",
       "    <tr>\n",
       "      <th>3</th>\n",
       "      <td>201212020000</td>\n",
       "      <td>99</td>\n",
       "      <td>5</td>\n",
       "      <td>1.4</td>\n",
       "      <td>-9</td>\n",
       "      <td>-9.0</td>\n",
       "      <td>-9</td>\n",
       "      <td>1023.1</td>\n",
       "      <td>1026.9</td>\n",
       "      <td>7</td>\n",
       "      <td>...</td>\n",
       "      <td>-1.4</td>\n",
       "      <td>-99.0</td>\n",
       "      <td>-99.0</td>\n",
       "      <td>-99.0</td>\n",
       "      <td>-99.0</td>\n",
       "      <td>-9</td>\n",
       "      <td>-9.0</td>\n",
       "      <td>-9</td>\n",
       "      <td>3</td>\n",
       "      <td>-9</td>\n",
       "    </tr>\n",
       "    <tr>\n",
       "      <th>4</th>\n",
       "      <td>201212020000</td>\n",
       "      <td>100</td>\n",
       "      <td>0</td>\n",
       "      <td>0.1</td>\n",
       "      <td>-9</td>\n",
       "      <td>-9.0</td>\n",
       "      <td>-9</td>\n",
       "      <td>933.6</td>\n",
       "      <td>1030.5</td>\n",
       "      <td>7</td>\n",
       "      <td>...</td>\n",
       "      <td>-5.4</td>\n",
       "      <td>-99.0</td>\n",
       "      <td>-99.0</td>\n",
       "      <td>-99.0</td>\n",
       "      <td>-99.0</td>\n",
       "      <td>-9</td>\n",
       "      <td>-9.0</td>\n",
       "      <td>-9</td>\n",
       "      <td>3</td>\n",
       "      <td>2</td>\n",
       "    </tr>\n",
       "    <tr>\n",
       "      <th>...</th>\n",
       "      <td>...</td>\n",
       "      <td>...</td>\n",
       "      <td>...</td>\n",
       "      <td>...</td>\n",
       "      <td>...</td>\n",
       "      <td>...</td>\n",
       "      <td>...</td>\n",
       "      <td>...</td>\n",
       "      <td>...</td>\n",
       "      <td>...</td>\n",
       "      <td>...</td>\n",
       "      <td>...</td>\n",
       "      <td>...</td>\n",
       "      <td>...</td>\n",
       "      <td>...</td>\n",
       "      <td>...</td>\n",
       "      <td>...</td>\n",
       "      <td>...</td>\n",
       "      <td>...</td>\n",
       "      <td>...</td>\n",
       "      <td>...</td>\n",
       "    </tr>\n",
       "    <tr>\n",
       "      <th>69837</th>\n",
       "      <td>202303130000</td>\n",
       "      <td>288</td>\n",
       "      <td>32</td>\n",
       "      <td>3.3</td>\n",
       "      <td>-9</td>\n",
       "      <td>-9.0</td>\n",
       "      <td>-9</td>\n",
       "      <td>1020.6</td>\n",
       "      <td>1021.6</td>\n",
       "      <td>2</td>\n",
       "      <td>...</td>\n",
       "      <td>0.7</td>\n",
       "      <td>-99.0</td>\n",
       "      <td>-99.0</td>\n",
       "      <td>-99.0</td>\n",
       "      <td>-99.0</td>\n",
       "      <td>-9</td>\n",
       "      <td>-9.0</td>\n",
       "      <td>-9</td>\n",
       "      <td>3</td>\n",
       "      <td>-9</td>\n",
       "    </tr>\n",
       "    <tr>\n",
       "      <th>69838</th>\n",
       "      <td>202303130000</td>\n",
       "      <td>289</td>\n",
       "      <td>29</td>\n",
       "      <td>9.3</td>\n",
       "      <td>29</td>\n",
       "      <td>22.0</td>\n",
       "      <td>2334</td>\n",
       "      <td>1006.4</td>\n",
       "      <td>1023.8</td>\n",
       "      <td>2</td>\n",
       "      <td>...</td>\n",
       "      <td>0.0</td>\n",
       "      <td>-99.0</td>\n",
       "      <td>-99.0</td>\n",
       "      <td>-99.0</td>\n",
       "      <td>-99.0</td>\n",
       "      <td>-9</td>\n",
       "      <td>-9.0</td>\n",
       "      <td>-9</td>\n",
       "      <td>3</td>\n",
       "      <td>-9</td>\n",
       "    </tr>\n",
       "    <tr>\n",
       "      <th>69839</th>\n",
       "      <td>202303130000</td>\n",
       "      <td>294</td>\n",
       "      <td>29</td>\n",
       "      <td>2.6</td>\n",
       "      <td>34</td>\n",
       "      <td>10.0</td>\n",
       "      <td>2322</td>\n",
       "      <td>1016.8</td>\n",
       "      <td>1022.4</td>\n",
       "      <td>2</td>\n",
       "      <td>...</td>\n",
       "      <td>1.7</td>\n",
       "      <td>-99.0</td>\n",
       "      <td>-99.0</td>\n",
       "      <td>-99.0</td>\n",
       "      <td>-99.0</td>\n",
       "      <td>-9</td>\n",
       "      <td>-9.0</td>\n",
       "      <td>-9</td>\n",
       "      <td>3</td>\n",
       "      <td>-9</td>\n",
       "    </tr>\n",
       "    <tr>\n",
       "      <th>69840</th>\n",
       "      <td>202303130000</td>\n",
       "      <td>295</td>\n",
       "      <td>32</td>\n",
       "      <td>6.1</td>\n",
       "      <td>32</td>\n",
       "      <td>12.0</td>\n",
       "      <td>2318</td>\n",
       "      <td>1017.6</td>\n",
       "      <td>1023.3</td>\n",
       "      <td>2</td>\n",
       "      <td>...</td>\n",
       "      <td>0.5</td>\n",
       "      <td>-99.0</td>\n",
       "      <td>-99.0</td>\n",
       "      <td>-99.0</td>\n",
       "      <td>-99.0</td>\n",
       "      <td>-9</td>\n",
       "      <td>-9.0</td>\n",
       "      <td>-9</td>\n",
       "      <td>3</td>\n",
       "      <td>-9</td>\n",
       "    </tr>\n",
       "    <tr>\n",
       "      <th>69841</th>\n",
       "      <td>202303130000</td>\n",
       "      <td>296</td>\n",
       "      <td>29</td>\n",
       "      <td>4.0</td>\n",
       "      <td>25</td>\n",
       "      <td>10.0</td>\n",
       "      <td>2251</td>\n",
       "      <td>1021.3</td>\n",
       "      <td>1021.7</td>\n",
       "      <td>2</td>\n",
       "      <td>...</td>\n",
       "      <td>1.1</td>\n",
       "      <td>-99.0</td>\n",
       "      <td>-99.0</td>\n",
       "      <td>-99.0</td>\n",
       "      <td>-99.0</td>\n",
       "      <td>-9</td>\n",
       "      <td>-9.0</td>\n",
       "      <td>-9</td>\n",
       "      <td>3</td>\n",
       "      <td>-9</td>\n",
       "    </tr>\n",
       "  </tbody>\n",
       "</table>\n",
       "<p>818392 rows × 46 columns</p>\n",
       "</div>"
      ],
      "text/plain": [
       "         YYMMDDHHMI  STN  WD   WS  GST  GST.1  GST.2      PA      PS  PT  ...  \\\n",
       "0      201212020000   90  25  1.0   -9   -9.0     -9  1025.4  1027.7   7  ...   \n",
       "1      201212020000   95  32  0.6   -9   -9.0     -9  1007.7  1027.4   7  ...   \n",
       "2      201212020000   98   0  0.2   -9   -9.0     -9  1012.6  1026.5   7  ...   \n",
       "3      201212020000   99   5  1.4   -9   -9.0     -9  1023.1  1026.9   7  ...   \n",
       "4      201212020000  100   0  0.1   -9   -9.0     -9   933.6  1030.5   7  ...   \n",
       "...             ...  ...  ..  ...  ...    ...    ...     ...     ...  ..  ...   \n",
       "69837  202303130000  288  32  3.3   -9   -9.0     -9  1020.6  1021.6   2  ...   \n",
       "69838  202303130000  289  29  9.3   29   22.0   2334  1006.4  1023.8   2  ...   \n",
       "69839  202303130000  294  29  2.6   34   10.0   2322  1016.8  1022.4   2  ...   \n",
       "69840  202303130000  295  32  6.1   32   12.0   2318  1017.6  1023.3   2  ...   \n",
       "69841  202303130000  296  29  4.0   25   10.0   2251  1021.3  1021.7   2  ...   \n",
       "\n",
       "        TS    TE  TE.1  TE.2  TE.3  ST.1   WH  BF  IR  IX  \n",
       "0     -0.3 -99.0 -99.0 -99.0 -99.0    -9  1.5  -9   3   2  \n",
       "1     -2.2   0.7   1.2   2.3   3.3    -9 -9.0  -9   3   2  \n",
       "2     -1.9 -99.0 -99.0 -99.0 -99.0    -9 -9.0  -9   3  -9  \n",
       "3     -1.4 -99.0 -99.0 -99.0 -99.0    -9 -9.0  -9   3  -9  \n",
       "4     -5.4 -99.0 -99.0 -99.0 -99.0    -9 -9.0  -9   3   2  \n",
       "...    ...   ...   ...   ...   ...   ...  ...  ..  ..  ..  \n",
       "69837  0.7 -99.0 -99.0 -99.0 -99.0    -9 -9.0  -9   3  -9  \n",
       "69838  0.0 -99.0 -99.0 -99.0 -99.0    -9 -9.0  -9   3  -9  \n",
       "69839  1.7 -99.0 -99.0 -99.0 -99.0    -9 -9.0  -9   3  -9  \n",
       "69840  0.5 -99.0 -99.0 -99.0 -99.0    -9 -9.0  -9   3  -9  \n",
       "69841  1.1 -99.0 -99.0 -99.0 -99.0    -9 -9.0  -9   3  -9  \n",
       "\n",
       "[818392 rows x 46 columns]"
      ]
     },
     "execution_count": 8,
     "metadata": {},
     "output_type": "execute_result"
    }
   ],
   "source": [
    "df = pd.concat([df1, df_2023])\n",
    "# df1.drop(columns = [19], inplace=True)\n",
    "# df.columns = col_name\n",
    "# df.columns = df1.columns\n",
    "df"
   ]
  },
  {
   "cell_type": "code",
   "execution_count": 9,
   "id": "b66a2af1",
   "metadata": {
    "ExecuteTime": {
     "end_time": "2023-06-23T07:46:54.062142Z",
     "start_time": "2023-06-23T07:46:53.457388Z"
    }
   },
   "outputs": [
    {
     "data": {
      "text/html": [
       "<div>\n",
       "<style scoped>\n",
       "    .dataframe tbody tr th:only-of-type {\n",
       "        vertical-align: middle;\n",
       "    }\n",
       "\n",
       "    .dataframe tbody tr th {\n",
       "        vertical-align: top;\n",
       "    }\n",
       "\n",
       "    .dataframe thead th {\n",
       "        text-align: right;\n",
       "    }\n",
       "</style>\n",
       "<table border=\"1\" class=\"dataframe\">\n",
       "  <thead>\n",
       "    <tr style=\"text-align: right;\">\n",
       "      <th></th>\n",
       "      <th>YYMMDDHHMI</th>\n",
       "      <th>STN</th>\n",
       "      <th>WD</th>\n",
       "      <th>WS</th>\n",
       "      <th>GST</th>\n",
       "      <th>GST.1</th>\n",
       "      <th>GST.2</th>\n",
       "      <th>PA</th>\n",
       "      <th>PS</th>\n",
       "      <th>PT</th>\n",
       "      <th>...</th>\n",
       "      <th>TS</th>\n",
       "      <th>TE</th>\n",
       "      <th>TE.1</th>\n",
       "      <th>TE.2</th>\n",
       "      <th>TE.3</th>\n",
       "      <th>ST.1</th>\n",
       "      <th>WH</th>\n",
       "      <th>BF</th>\n",
       "      <th>IR</th>\n",
       "      <th>IX</th>\n",
       "    </tr>\n",
       "  </thead>\n",
       "  <tbody>\n",
       "    <tr>\n",
       "      <th>0</th>\n",
       "      <td>201212020000</td>\n",
       "      <td>90</td>\n",
       "      <td>25</td>\n",
       "      <td>1.0</td>\n",
       "      <td>-9</td>\n",
       "      <td>-9.0</td>\n",
       "      <td>-9</td>\n",
       "      <td>1025.4</td>\n",
       "      <td>1027.7</td>\n",
       "      <td>7</td>\n",
       "      <td>...</td>\n",
       "      <td>-0.3</td>\n",
       "      <td>-99.0</td>\n",
       "      <td>-99.0</td>\n",
       "      <td>-99.0</td>\n",
       "      <td>-99.0</td>\n",
       "      <td>-9</td>\n",
       "      <td>1.5</td>\n",
       "      <td>-9</td>\n",
       "      <td>3</td>\n",
       "      <td>2</td>\n",
       "    </tr>\n",
       "    <tr>\n",
       "      <th>1</th>\n",
       "      <td>201212020000</td>\n",
       "      <td>254</td>\n",
       "      <td>25</td>\n",
       "      <td>2.6</td>\n",
       "      <td>-9</td>\n",
       "      <td>-9.0</td>\n",
       "      <td>-9</td>\n",
       "      <td>1009.7</td>\n",
       "      <td>1025.9</td>\n",
       "      <td>7</td>\n",
       "      <td>...</td>\n",
       "      <td>-1.6</td>\n",
       "      <td>1.5</td>\n",
       "      <td>2.1</td>\n",
       "      <td>4.5</td>\n",
       "      <td>5.2</td>\n",
       "      <td>-9</td>\n",
       "      <td>-9.0</td>\n",
       "      <td>-9</td>\n",
       "      <td>3</td>\n",
       "      <td>-9</td>\n",
       "    </tr>\n",
       "    <tr>\n",
       "      <th>2</th>\n",
       "      <td>201212020000</td>\n",
       "      <td>253</td>\n",
       "      <td>32</td>\n",
       "      <td>1.4</td>\n",
       "      <td>-9</td>\n",
       "      <td>-9.0</td>\n",
       "      <td>-9</td>\n",
       "      <td>1019.7</td>\n",
       "      <td>1027.1</td>\n",
       "      <td>7</td>\n",
       "      <td>...</td>\n",
       "      <td>-0.1</td>\n",
       "      <td>5.3</td>\n",
       "      <td>5.1</td>\n",
       "      <td>6.3</td>\n",
       "      <td>7.1</td>\n",
       "      <td>-9</td>\n",
       "      <td>-9.0</td>\n",
       "      <td>-9</td>\n",
       "      <td>3</td>\n",
       "      <td>-9</td>\n",
       "    </tr>\n",
       "    <tr>\n",
       "      <th>3</th>\n",
       "      <td>201212020000</td>\n",
       "      <td>252</td>\n",
       "      <td>14</td>\n",
       "      <td>0.7</td>\n",
       "      <td>-9</td>\n",
       "      <td>-9.0</td>\n",
       "      <td>-9</td>\n",
       "      <td>1020.8</td>\n",
       "      <td>1025.6</td>\n",
       "      <td>5</td>\n",
       "      <td>...</td>\n",
       "      <td>-0.9</td>\n",
       "      <td>2.1</td>\n",
       "      <td>4.0</td>\n",
       "      <td>5.6</td>\n",
       "      <td>6.2</td>\n",
       "      <td>-9</td>\n",
       "      <td>-9.0</td>\n",
       "      <td>-9</td>\n",
       "      <td>3</td>\n",
       "      <td>-9</td>\n",
       "    </tr>\n",
       "    <tr>\n",
       "      <th>4</th>\n",
       "      <td>201212020000</td>\n",
       "      <td>251</td>\n",
       "      <td>0</td>\n",
       "      <td>0.4</td>\n",
       "      <td>-9</td>\n",
       "      <td>-9.0</td>\n",
       "      <td>-9</td>\n",
       "      <td>1018.3</td>\n",
       "      <td>1025.2</td>\n",
       "      <td>5</td>\n",
       "      <td>...</td>\n",
       "      <td>0.9</td>\n",
       "      <td>3.2</td>\n",
       "      <td>4.2</td>\n",
       "      <td>6.4</td>\n",
       "      <td>6.9</td>\n",
       "      <td>-9</td>\n",
       "      <td>-9.0</td>\n",
       "      <td>-9</td>\n",
       "      <td>3</td>\n",
       "      <td>-9</td>\n",
       "    </tr>\n",
       "    <tr>\n",
       "      <th>...</th>\n",
       "      <td>...</td>\n",
       "      <td>...</td>\n",
       "      <td>...</td>\n",
       "      <td>...</td>\n",
       "      <td>...</td>\n",
       "      <td>...</td>\n",
       "      <td>...</td>\n",
       "      <td>...</td>\n",
       "      <td>...</td>\n",
       "      <td>...</td>\n",
       "      <td>...</td>\n",
       "      <td>...</td>\n",
       "      <td>...</td>\n",
       "      <td>...</td>\n",
       "      <td>...</td>\n",
       "      <td>...</td>\n",
       "      <td>...</td>\n",
       "      <td>...</td>\n",
       "      <td>...</td>\n",
       "      <td>...</td>\n",
       "      <td>...</td>\n",
       "    </tr>\n",
       "    <tr>\n",
       "      <th>818387</th>\n",
       "      <td>202303130000</td>\n",
       "      <td>143</td>\n",
       "      <td>27</td>\n",
       "      <td>5.0</td>\n",
       "      <td>27</td>\n",
       "      <td>14.0</td>\n",
       "      <td>2237</td>\n",
       "      <td>1015.2</td>\n",
       "      <td>1022.0</td>\n",
       "      <td>2</td>\n",
       "      <td>...</td>\n",
       "      <td>0.9</td>\n",
       "      <td>-99.0</td>\n",
       "      <td>-99.0</td>\n",
       "      <td>-99.0</td>\n",
       "      <td>-99.0</td>\n",
       "      <td>-9</td>\n",
       "      <td>-9.0</td>\n",
       "      <td>-9</td>\n",
       "      <td>3</td>\n",
       "      <td>2</td>\n",
       "    </tr>\n",
       "    <tr>\n",
       "      <th>818388</th>\n",
       "      <td>202303130000</td>\n",
       "      <td>140</td>\n",
       "      <td>29</td>\n",
       "      <td>6.3</td>\n",
       "      <td>29</td>\n",
       "      <td>17.0</td>\n",
       "      <td>2144</td>\n",
       "      <td>1023.2</td>\n",
       "      <td>1026.7</td>\n",
       "      <td>2</td>\n",
       "      <td>...</td>\n",
       "      <td>-0.2</td>\n",
       "      <td>-99.0</td>\n",
       "      <td>-99.0</td>\n",
       "      <td>-99.0</td>\n",
       "      <td>-99.0</td>\n",
       "      <td>-9</td>\n",
       "      <td>-9.0</td>\n",
       "      <td>-9</td>\n",
       "      <td>3</td>\n",
       "      <td>-9</td>\n",
       "    </tr>\n",
       "    <tr>\n",
       "      <th>818389</th>\n",
       "      <td>202303130000</td>\n",
       "      <td>138</td>\n",
       "      <td>25</td>\n",
       "      <td>4.4</td>\n",
       "      <td>27</td>\n",
       "      <td>12.0</td>\n",
       "      <td>2317</td>\n",
       "      <td>1019.6</td>\n",
       "      <td>1020.1</td>\n",
       "      <td>2</td>\n",
       "      <td>...</td>\n",
       "      <td>0.4</td>\n",
       "      <td>8.5</td>\n",
       "      <td>10.0</td>\n",
       "      <td>12.6</td>\n",
       "      <td>12.9</td>\n",
       "      <td>-9</td>\n",
       "      <td>0.5</td>\n",
       "      <td>-9</td>\n",
       "      <td>3</td>\n",
       "      <td>2</td>\n",
       "    </tr>\n",
       "    <tr>\n",
       "      <th>818390</th>\n",
       "      <td>202303130000</td>\n",
       "      <td>135</td>\n",
       "      <td>27</td>\n",
       "      <td>7.8</td>\n",
       "      <td>27</td>\n",
       "      <td>17.0</td>\n",
       "      <td>2316</td>\n",
       "      <td>992.6</td>\n",
       "      <td>1023.4</td>\n",
       "      <td>2</td>\n",
       "      <td>...</td>\n",
       "      <td>-0.5</td>\n",
       "      <td>-99.0</td>\n",
       "      <td>-99.0</td>\n",
       "      <td>-99.0</td>\n",
       "      <td>-99.0</td>\n",
       "      <td>-9</td>\n",
       "      <td>-9.0</td>\n",
       "      <td>-9</td>\n",
       "      <td>3</td>\n",
       "      <td>-9</td>\n",
       "    </tr>\n",
       "    <tr>\n",
       "      <th>818391</th>\n",
       "      <td>202303130000</td>\n",
       "      <td>296</td>\n",
       "      <td>29</td>\n",
       "      <td>4.0</td>\n",
       "      <td>25</td>\n",
       "      <td>10.0</td>\n",
       "      <td>2251</td>\n",
       "      <td>1021.3</td>\n",
       "      <td>1021.7</td>\n",
       "      <td>2</td>\n",
       "      <td>...</td>\n",
       "      <td>1.1</td>\n",
       "      <td>-99.0</td>\n",
       "      <td>-99.0</td>\n",
       "      <td>-99.0</td>\n",
       "      <td>-99.0</td>\n",
       "      <td>-9</td>\n",
       "      <td>-9.0</td>\n",
       "      <td>-9</td>\n",
       "      <td>3</td>\n",
       "      <td>-9</td>\n",
       "    </tr>\n",
       "  </tbody>\n",
       "</table>\n",
       "<p>818392 rows × 46 columns</p>\n",
       "</div>"
      ],
      "text/plain": [
       "          YYMMDDHHMI  STN  WD   WS  GST  GST.1  GST.2      PA      PS  PT  \\\n",
       "0       201212020000   90  25  1.0   -9   -9.0     -9  1025.4  1027.7   7   \n",
       "1       201212020000  254  25  2.6   -9   -9.0     -9  1009.7  1025.9   7   \n",
       "2       201212020000  253  32  1.4   -9   -9.0     -9  1019.7  1027.1   7   \n",
       "3       201212020000  252  14  0.7   -9   -9.0     -9  1020.8  1025.6   5   \n",
       "4       201212020000  251   0  0.4   -9   -9.0     -9  1018.3  1025.2   5   \n",
       "...              ...  ...  ..  ...  ...    ...    ...     ...     ...  ..   \n",
       "818387  202303130000  143  27  5.0   27   14.0   2237  1015.2  1022.0   2   \n",
       "818388  202303130000  140  29  6.3   29   17.0   2144  1023.2  1026.7   2   \n",
       "818389  202303130000  138  25  4.4   27   12.0   2317  1019.6  1020.1   2   \n",
       "818390  202303130000  135  27  7.8   27   17.0   2316   992.6  1023.4   2   \n",
       "818391  202303130000  296  29  4.0   25   10.0   2251  1021.3  1021.7   2   \n",
       "\n",
       "        ...   TS    TE  TE.1  TE.2  TE.3  ST.1   WH  BF  IR  IX  \n",
       "0       ... -0.3 -99.0 -99.0 -99.0 -99.0    -9  1.5  -9   3   2  \n",
       "1       ... -1.6   1.5   2.1   4.5   5.2    -9 -9.0  -9   3  -9  \n",
       "2       ... -0.1   5.3   5.1   6.3   7.1    -9 -9.0  -9   3  -9  \n",
       "3       ... -0.9   2.1   4.0   5.6   6.2    -9 -9.0  -9   3  -9  \n",
       "4       ...  0.9   3.2   4.2   6.4   6.9    -9 -9.0  -9   3  -9  \n",
       "...     ...  ...   ...   ...   ...   ...   ...  ...  ..  ..  ..  \n",
       "818387  ...  0.9 -99.0 -99.0 -99.0 -99.0    -9 -9.0  -9   3   2  \n",
       "818388  ... -0.2 -99.0 -99.0 -99.0 -99.0    -9 -9.0  -9   3  -9  \n",
       "818389  ...  0.4   8.5  10.0  12.6  12.9    -9  0.5  -9   3   2  \n",
       "818390  ... -0.5 -99.0 -99.0 -99.0 -99.0    -9 -9.0  -9   3  -9  \n",
       "818391  ...  1.1 -99.0 -99.0 -99.0 -99.0    -9 -9.0  -9   3  -9  \n",
       "\n",
       "[818392 rows x 46 columns]"
      ]
     },
     "execution_count": 9,
     "metadata": {},
     "output_type": "execute_result"
    }
   ],
   "source": [
    "df = df.sort_values(by='YYMMDDHHMI')\n",
    "df = df.reset_index(drop=True)\n",
    "df"
   ]
  },
  {
   "cell_type": "code",
   "execution_count": 51,
   "id": "509deb50",
   "metadata": {
    "ExecuteTime": {
     "end_time": "2023-06-23T07:57:21.858513Z",
     "start_time": "2023-06-23T07:57:15.691659Z"
    }
   },
   "outputs": [],
   "source": [
    "df.to_csv('지상관측_일.csv')"
   ]
  },
  {
   "cell_type": "code",
   "execution_count": null,
   "id": "6f8c3db9",
   "metadata": {},
   "outputs": [],
   "source": []
  },
  {
   "cell_type": "code",
   "execution_count": null,
   "id": "edd7af32",
   "metadata": {},
   "outputs": [],
   "source": [
    "df_snow = df_snow.sort_values(by='YYMMDDHHMI')\n",
    "df_snow = df_snow.reset_index(drop=True)\n",
    "df_snow"
   ]
  },
  {
   "cell_type": "code",
   "execution_count": null,
   "id": "95c31d7e",
   "metadata": {},
   "outputs": [],
   "source": [
    "df_snow = df_snow.drop_duplicates()\n",
    "df_snow = df_snow.reset_index(drop=True)\n",
    "df_snow"
   ]
  },
  {
   "cell_type": "code",
   "execution_count": null,
   "id": "33c6b634",
   "metadata": {
    "ExecuteTime": {
     "end_time": "2023-06-19T13:25:29.421642Z",
     "start_time": "2023-06-19T13:25:26.551319Z"
    }
   },
   "outputs": [],
   "source": [
    "df_snow.to_csv('적설관측(~2022).csv')"
   ]
  },
  {
   "cell_type": "code",
   "execution_count": null,
   "id": "a4cf11d1",
   "metadata": {},
   "outputs": [],
   "source": [
    "df_snow = df_snow.sort_values(by='YYMMDDHHMI')\n",
    "df_snow = df_snow.reset_index(drop=True)\n",
    "df_snow"
   ]
  },
  {
   "cell_type": "code",
   "execution_count": null,
   "id": "617ec857",
   "metadata": {},
   "outputs": [],
   "source": [
    "df_snow = df_snow.drop_duplicates()\n",
    "df_snow = df_snow.reset_index(drop=True)\n",
    "df_snow"
   ]
  },
  {
   "cell_type": "code",
   "execution_count": null,
   "id": "6f5e8ae3",
   "metadata": {
    "ExecuteTime": {
     "end_time": "2023-06-19T13:25:29.421642Z",
     "start_time": "2023-06-19T13:25:26.551319Z"
    }
   },
   "outputs": [],
   "source": [
    "df_snow.to_csv('적설관측(~2022).csv')"
   ]
  },
  {
   "cell_type": "code",
   "execution_count": null,
   "id": "9b91a919",
   "metadata": {
    "ExecuteTime": {
     "end_time": "2023-06-19T12:38:50.797840Z",
     "start_time": "2023-06-19T12:38:49.894690Z"
    }
   },
   "outputs": [],
   "source": [
    "df2 = pd.concat([df_2012, df_2016, df_2020])\n",
    "df2.drop(columns = [19], inplace=True)\n",
    "df2.columns = col_name\n",
    "df2"
   ]
  },
  {
   "cell_type": "code",
   "execution_count": null,
   "id": "8ab7331a",
   "metadata": {},
   "outputs": [],
   "source": [
    "df = pd.concat([df1, df2, df3])\n",
    "df.sort_values(by='TM_FC', inplace=True)\n",
    "df = df.reset_index(drop=True)\n",
    "df"
   ]
  },
  {
   "cell_type": "code",
   "execution_count": null,
   "id": "32a44080",
   "metadata": {},
   "outputs": [],
   "source": [
    "df[:20]"
   ]
  },
  {
   "cell_type": "code",
   "execution_count": null,
   "id": "d342f14f",
   "metadata": {},
   "outputs": [],
   "source": [
    "df = df.drop_duplicates()\n",
    "df"
   ]
  },
  {
   "cell_type": "code",
   "execution_count": null,
   "id": "35f0ccf3",
   "metadata": {},
   "outputs": [],
   "source": [
    "df['TM_FC'].value_counts()"
   ]
  },
  {
   "cell_type": "code",
   "execution_count": null,
   "id": "1761d50d",
   "metadata": {
    "ExecuteTime": {
     "end_time": "2023-06-19T13:05:30.291317Z",
     "start_time": "2023-06-19T13:05:30.117780Z"
    }
   },
   "outputs": [],
   "source": [
    "# 필요없는 COLUMN 제거 구역코드(REG_ID), 예보관ID(MAN_ID), 예보관명(MAN_FC)\n",
    "# 구간(MOD) 12, 24 시간\n",
    "# SKY + PREP 한글화 = WF\n",
    "\n",
    "df.drop(columns = ['REG_ID', 'MAN_ID', 'MAN_FC'], inplace=True)"
   ]
  },
  {
   "cell_type": "code",
   "execution_count": null,
   "id": "532cbca6",
   "metadata": {
    "ExecuteTime": {
     "end_time": "2023-06-19T12:39:20.627999Z",
     "start_time": "2023-06-19T12:39:14.090670Z"
    }
   },
   "outputs": [],
   "source": [
    "df.to_csv('단기해상예보.csv')"
   ]
  },
  {
   "cell_type": "markdown",
   "id": "1048440e",
   "metadata": {},
   "source": [
    "### XML"
   ]
  },
  {
   "cell_type": "code",
   "execution_count": null,
   "id": "33d1dadd",
   "metadata": {
    "ExecuteTime": {
     "end_time": "2023-06-15T09:55:02.340726Z",
     "start_time": "2023-06-15T09:54:33.925119Z"
    }
   },
   "outputs": [],
   "source": [
    "url = 'https://apihub.kma.go.kr/api/typ02/openApi/SfcYearlyInfoService/getTyphoonList?pageNo=1&numOfRows=10&dataType=XML&year=2022&authKey=_v7wW5IUQqu-8FuSFNKrLA'\n",
    "\n",
    "response = requests.get(url)\n",
    "\n",
    "# xml 내용\n",
    "content = response.text\n",
    "\n",
    "# 깔끔한 출력 위한 코드\n",
    "pp = pprint.PrettyPrinter(indent=4)\n",
    "print(pp.pprint(content))"
   ]
  },
  {
   "cell_type": "code",
   "execution_count": null,
   "id": "c14ecf9f",
   "metadata": {
    "ExecuteTime": {
     "end_time": "2023-06-15T09:54:11.951008Z",
     "start_time": "2023-06-15T09:54:11.922075Z"
    },
    "scrolled": true
   },
   "outputs": [],
   "source": [
    "from os import name\n",
    "import xml.etree.ElementTree as et\n",
    "import bs4\n",
    "from lxml import html\n",
    "from urllib.parse import urlencode, quote_plus, unquote\n",
    "\n",
    "#bs4 사용하여 item 태그 분리\n",
    "xml_obj = bs4.BeautifulSoup(content,'lxml-xml')\n",
    "rows = xml_obj.findAll('info') # item 으로 구분되어 있는 경우도 있음\n",
    "print(rows)"
   ]
  },
  {
   "cell_type": "code",
   "execution_count": null,
   "id": "0a000891",
   "metadata": {
    "ExecuteTime": {
     "end_time": "2023-06-15T09:54:13.532554Z",
     "start_time": "2023-06-15T09:54:13.522581Z"
    }
   },
   "outputs": [],
   "source": [
    "# 각 행의 컬럼, 이름, 값을 가지는 리스트 만들기\n",
    "row_list = [] # 행값\n",
    "name_list = [] # 열이름값\n",
    "value_list = [] #데이터값\n",
    "\n",
    "# xml 안의 데이터 수집\n",
    "for i in range(0, len(rows)):\n",
    "    columns = rows[i].find_all()\n",
    "    #첫째 행 데이터 수집\n",
    "    for j in range(0,len(columns)):\n",
    "        if i ==0:\n",
    "            # 컬럼 이름 값 저장\n",
    "            name_list.append(columns[j].name)\n",
    "        # 컬럼의 각 데이터 값 저장\n",
    "        value_list.append(columns[j].text)\n",
    "    # 각 행의 value값 전체 저장\n",
    "    row_list.append(value_list)\n",
    "    # 데이터 리스트 값 초기화\n",
    "    value_list=[]"
   ]
  },
  {
   "cell_type": "code",
   "execution_count": null,
   "id": "4c4503ec",
   "metadata": {
    "ExecuteTime": {
     "end_time": "2023-06-15T09:54:14.853111Z",
     "start_time": "2023-06-15T09:54:14.833164Z"
    }
   },
   "outputs": [],
   "source": [
    "#xml값 DataFrame으로 만들기\n",
    "xml_df = pd.DataFrame(row_list, columns=name_list)\n",
    "print(xml_df.head())"
   ]
  },
  {
   "cell_type": "code",
   "execution_count": null,
   "id": "5dfae243",
   "metadata": {
    "ExecuteTime": {
     "end_time": "2023-06-15T09:54:16.569357Z",
     "start_time": "2023-06-15T09:54:16.559213Z"
    }
   },
   "outputs": [],
   "source": [
    "xml_df"
   ]
  },
  {
   "cell_type": "code",
   "execution_count": null,
   "id": "9c3ce421",
   "metadata": {
    "ExecuteTime": {
     "end_time": "2023-06-15T09:54:22.471436Z",
     "start_time": "2023-06-15T09:54:22.451465Z"
    }
   },
   "outputs": [],
   "source": [
    "xml_df.to_csv('우리나라영향태풍_2021.csv')"
   ]
  },
  {
   "cell_type": "markdown",
   "id": "8ffe9c11",
   "metadata": {},
   "source": [
    "# Data"
   ]
  },
  {
   "cell_type": "code",
   "execution_count": null,
   "id": "24274201",
   "metadata": {
    "ExecuteTime": {
     "end_time": "2023-06-19T16:37:55.340842Z",
     "start_time": "2023-06-19T16:37:45.668245Z"
    }
   },
   "outputs": [],
   "source": [
    "# df1 = pd.read_csv('H:/내 드라이브/취업/Contest/2307_PublicData/data/단기육상예보_1차.csv', index_col=0)\n",
    "# df2 = pd.read_csv('H:/내 드라이브/취업/Contest/2307_PublicData/data/단기육상예보_2차.csv', index_col=0)\n",
    "# df3 = pd.read_csv('H:/내 드라이브/취업/Contest/2307_PublicData/data/단기육상예보_3차.csv', index_col=0)\n",
    "\n",
    "df = pd.read_csv('H:/내 드라이브/취업/Contest/2307_PublicData/data/단기육상예보.csv', index_col=0)"
   ]
  },
  {
   "cell_type": "code",
   "execution_count": null,
   "id": "761a23f8",
   "metadata": {
    "ExecuteTime": {
     "end_time": "2023-06-19T16:37:57.479989Z",
     "start_time": "2023-06-19T16:37:57.446712Z"
    }
   },
   "outputs": [],
   "source": [
    "df1"
   ]
  },
  {
   "cell_type": "code",
   "execution_count": null,
   "id": "3dfde7b5",
   "metadata": {
    "ExecuteTime": {
     "end_time": "2023-06-19T16:37:57.654319Z",
     "start_time": "2023-06-19T16:37:57.638425Z"
    }
   },
   "outputs": [],
   "source": [
    "df2"
   ]
  },
  {
   "cell_type": "code",
   "execution_count": null,
   "id": "cc9d6931",
   "metadata": {
    "ExecuteTime": {
     "end_time": "2023-06-19T16:37:57.813253Z",
     "start_time": "2023-06-19T16:37:57.803816Z"
    }
   },
   "outputs": [],
   "source": [
    "df3"
   ]
  },
  {
   "cell_type": "code",
   "execution_count": null,
   "id": "357877b3",
   "metadata": {
    "ExecuteTime": {
     "end_time": "2023-06-19T16:38:15.599407Z",
     "start_time": "2023-06-19T16:38:15.580037Z"
    }
   },
   "outputs": [],
   "source": [
    "df3['TM_FC'] = df3['TM_FC'].astype('int64')"
   ]
  },
  {
   "cell_type": "code",
   "execution_count": null,
   "id": "eed76359",
   "metadata": {
    "ExecuteTime": {
     "end_time": "2023-06-19T16:38:41.704740Z",
     "start_time": "2023-06-19T16:38:38.828043Z"
    }
   },
   "outputs": [],
   "source": [
    "df = pd.concat([df1, df2, df3]).reset_index()\n",
    "df.drop(columns='index', inplace=True)\n",
    "df"
   ]
  },
  {
   "cell_type": "code",
   "execution_count": null,
   "id": "9b2ea0b0",
   "metadata": {
    "ExecuteTime": {
     "end_time": "2023-06-19T16:39:38.681425Z",
     "start_time": "2023-06-19T16:39:37.239103Z"
    },
    "scrolled": false
   },
   "outputs": [],
   "source": [
    "df = df.sort_values(by='TM_FC', ascending=True)\n",
    "df = df.reset_index(drop=True)\n",
    "df"
   ]
  },
  {
   "cell_type": "code",
   "execution_count": null,
   "id": "d4aeaa80",
   "metadata": {},
   "outputs": [],
   "source": [
    "df = df.drop_duplicates()\n",
    "df = df.reset_index(drop=True)\n",
    "df"
   ]
  },
  {
   "cell_type": "code",
   "execution_count": null,
   "id": "23ac89f6",
   "metadata": {},
   "outputs": [],
   "source": [
    "df = df.drop_duplicates()\n",
    "df = df.reset_index(drop=True)\n",
    "df"
   ]
  },
  {
   "cell_type": "markdown",
   "id": "73a7b8cd",
   "metadata": {},
   "source": [
    "------"
   ]
  },
  {
   "cell_type": "code",
   "execution_count": 52,
   "id": "904ca729",
   "metadata": {
    "ExecuteTime": {
     "end_time": "2023-06-23T07:57:55.509715Z",
     "start_time": "2023-06-23T07:57:50.519150Z"
    }
   },
   "outputs": [],
   "source": [
    "df = pd.read_csv('./지상관측_시간.csv', index_col = 0)\n",
    "df2 = pd.read_csv('./지상관측_일.csv', index_col = 0)"
   ]
  },
  {
   "cell_type": "code",
   "execution_count": 55,
   "id": "50b58a25",
   "metadata": {
    "ExecuteTime": {
     "end_time": "2023-06-23T07:58:30.040629Z",
     "start_time": "2023-06-23T07:58:29.887968Z"
    }
   },
   "outputs": [
    {
     "data": {
      "text/html": [
       "<div>\n",
       "<style scoped>\n",
       "    .dataframe tbody tr th:only-of-type {\n",
       "        vertical-align: middle;\n",
       "    }\n",
       "\n",
       "    .dataframe tbody tr th {\n",
       "        vertical-align: top;\n",
       "    }\n",
       "\n",
       "    .dataframe thead th {\n",
       "        text-align: right;\n",
       "    }\n",
       "</style>\n",
       "<table border=\"1\" class=\"dataframe\">\n",
       "  <thead>\n",
       "    <tr style=\"text-align: right;\">\n",
       "      <th></th>\n",
       "      <th>YYMMDD</th>\n",
       "      <th>STN</th>\n",
       "      <th>WS</th>\n",
       "      <th>WR</th>\n",
       "      <th>WD</th>\n",
       "      <th>WS.1</th>\n",
       "      <th>WS.2</th>\n",
       "      <th>WD.1</th>\n",
       "      <th>WS.3</th>\n",
       "      <th>WS.4</th>\n",
       "      <th>...</th>\n",
       "      <th>RN.8</th>\n",
       "      <th>SD</th>\n",
       "      <th>SD.1</th>\n",
       "      <th>SD.2</th>\n",
       "      <th>SD.3</th>\n",
       "      <th>TE</th>\n",
       "      <th>TE.1</th>\n",
       "      <th>TE.2</th>\n",
       "      <th>TE.3</th>\n",
       "      <th>TE.4</th>\n",
       "    </tr>\n",
       "  </thead>\n",
       "  <tbody>\n",
       "    <tr>\n",
       "      <th>0</th>\n",
       "      <td>20120101</td>\n",
       "      <td>90</td>\n",
       "      <td>2.2</td>\n",
       "      <td>1915</td>\n",
       "      <td>29</td>\n",
       "      <td>5.7</td>\n",
       "      <td>1714</td>\n",
       "      <td>29</td>\n",
       "      <td>9.8</td>\n",
       "      <td>1420</td>\n",
       "      <td>...</td>\n",
       "      <td>-9</td>\n",
       "      <td>-9.0</td>\n",
       "      <td>-9</td>\n",
       "      <td>1.6</td>\n",
       "      <td>1</td>\n",
       "      <td>-99.0</td>\n",
       "      <td>-99.0</td>\n",
       "      <td>-99.0</td>\n",
       "      <td>-99.0</td>\n",
       "      <td>-99.0</td>\n",
       "    </tr>\n",
       "    <tr>\n",
       "      <th>1</th>\n",
       "      <td>20120101</td>\n",
       "      <td>95</td>\n",
       "      <td>1.2</td>\n",
       "      <td>1077</td>\n",
       "      <td>34</td>\n",
       "      <td>4.8</td>\n",
       "      <td>1414</td>\n",
       "      <td>34</td>\n",
       "      <td>7.8</td>\n",
       "      <td>1407</td>\n",
       "      <td>...</td>\n",
       "      <td>-9</td>\n",
       "      <td>-9.0</td>\n",
       "      <td>-9</td>\n",
       "      <td>-9.0</td>\n",
       "      <td>-9</td>\n",
       "      <td>1.4</td>\n",
       "      <td>5.0</td>\n",
       "      <td>-99.0</td>\n",
       "      <td>-99.0</td>\n",
       "      <td>-99.0</td>\n",
       "    </tr>\n",
       "    <tr>\n",
       "      <th>2</th>\n",
       "      <td>20120101</td>\n",
       "      <td>98</td>\n",
       "      <td>1.8</td>\n",
       "      <td>1585</td>\n",
       "      <td>29</td>\n",
       "      <td>7.4</td>\n",
       "      <td>1445</td>\n",
       "      <td>29</td>\n",
       "      <td>11.0</td>\n",
       "      <td>1439</td>\n",
       "      <td>...</td>\n",
       "      <td>-9</td>\n",
       "      <td>-9.0</td>\n",
       "      <td>-9</td>\n",
       "      <td>-9.0</td>\n",
       "      <td>-9</td>\n",
       "      <td>-99.0</td>\n",
       "      <td>-99.0</td>\n",
       "      <td>-99.0</td>\n",
       "      <td>-99.0</td>\n",
       "      <td>-99.0</td>\n",
       "    </tr>\n",
       "    <tr>\n",
       "      <th>3</th>\n",
       "      <td>20120101</td>\n",
       "      <td>99</td>\n",
       "      <td>1.5</td>\n",
       "      <td>1313</td>\n",
       "      <td>29</td>\n",
       "      <td>6.0</td>\n",
       "      <td>1546</td>\n",
       "      <td>32</td>\n",
       "      <td>8.8</td>\n",
       "      <td>1607</td>\n",
       "      <td>...</td>\n",
       "      <td>-9</td>\n",
       "      <td>-9.0</td>\n",
       "      <td>-9</td>\n",
       "      <td>-9.0</td>\n",
       "      <td>-9</td>\n",
       "      <td>-99.0</td>\n",
       "      <td>-99.0</td>\n",
       "      <td>-99.0</td>\n",
       "      <td>-99.0</td>\n",
       "      <td>-99.0</td>\n",
       "    </tr>\n",
       "    <tr>\n",
       "      <th>4</th>\n",
       "      <td>20120101</td>\n",
       "      <td>100</td>\n",
       "      <td>4.5</td>\n",
       "      <td>3868</td>\n",
       "      <td>27</td>\n",
       "      <td>6.7</td>\n",
       "      <td>332</td>\n",
       "      <td>27</td>\n",
       "      <td>10.1</td>\n",
       "      <td>1233</td>\n",
       "      <td>...</td>\n",
       "      <td>-9</td>\n",
       "      <td>0.3</td>\n",
       "      <td>2400</td>\n",
       "      <td>22.7</td>\n",
       "      <td>2400</td>\n",
       "      <td>-99.0</td>\n",
       "      <td>-99.0</td>\n",
       "      <td>-99.0</td>\n",
       "      <td>-99.0</td>\n",
       "      <td>-99.0</td>\n",
       "    </tr>\n",
       "    <tr>\n",
       "      <th>...</th>\n",
       "      <td>...</td>\n",
       "      <td>...</td>\n",
       "      <td>...</td>\n",
       "      <td>...</td>\n",
       "      <td>...</td>\n",
       "      <td>...</td>\n",
       "      <td>...</td>\n",
       "      <td>...</td>\n",
       "      <td>...</td>\n",
       "      <td>...</td>\n",
       "      <td>...</td>\n",
       "      <td>...</td>\n",
       "      <td>...</td>\n",
       "      <td>...</td>\n",
       "      <td>...</td>\n",
       "      <td>...</td>\n",
       "      <td>...</td>\n",
       "      <td>...</td>\n",
       "      <td>...</td>\n",
       "      <td>...</td>\n",
       "      <td>...</td>\n",
       "    </tr>\n",
       "    <tr>\n",
       "      <th>387005</th>\n",
       "      <td>20230313</td>\n",
       "      <td>288</td>\n",
       "      <td>1.7</td>\n",
       "      <td>1483</td>\n",
       "      <td>34</td>\n",
       "      <td>4.9</td>\n",
       "      <td>932</td>\n",
       "      <td>36</td>\n",
       "      <td>8.0</td>\n",
       "      <td>926</td>\n",
       "      <td>...</td>\n",
       "      <td>-9</td>\n",
       "      <td>-9.0</td>\n",
       "      <td>-9</td>\n",
       "      <td>-9.0</td>\n",
       "      <td>-9</td>\n",
       "      <td>-99.0</td>\n",
       "      <td>-99.0</td>\n",
       "      <td>-99.0</td>\n",
       "      <td>-99.0</td>\n",
       "      <td>-99.0</td>\n",
       "    </tr>\n",
       "    <tr>\n",
       "      <th>387006</th>\n",
       "      <td>20230313</td>\n",
       "      <td>289</td>\n",
       "      <td>4.2</td>\n",
       "      <td>3604</td>\n",
       "      <td>29</td>\n",
       "      <td>9.9</td>\n",
       "      <td>339</td>\n",
       "      <td>32</td>\n",
       "      <td>18.9</td>\n",
       "      <td>316</td>\n",
       "      <td>...</td>\n",
       "      <td>-9</td>\n",
       "      <td>-9.0</td>\n",
       "      <td>-9</td>\n",
       "      <td>-9.0</td>\n",
       "      <td>-9</td>\n",
       "      <td>-99.0</td>\n",
       "      <td>-99.0</td>\n",
       "      <td>-99.0</td>\n",
       "      <td>-99.0</td>\n",
       "      <td>-99.0</td>\n",
       "    </tr>\n",
       "    <tr>\n",
       "      <th>387007</th>\n",
       "      <td>20230313</td>\n",
       "      <td>294</td>\n",
       "      <td>2.4</td>\n",
       "      <td>2060</td>\n",
       "      <td>29</td>\n",
       "      <td>4.4</td>\n",
       "      <td>627</td>\n",
       "      <td>25</td>\n",
       "      <td>10.3</td>\n",
       "      <td>1919</td>\n",
       "      <td>...</td>\n",
       "      <td>-9</td>\n",
       "      <td>-9.0</td>\n",
       "      <td>-9</td>\n",
       "      <td>-9.0</td>\n",
       "      <td>-9</td>\n",
       "      <td>-99.0</td>\n",
       "      <td>-99.0</td>\n",
       "      <td>-99.0</td>\n",
       "      <td>-99.0</td>\n",
       "      <td>-99.0</td>\n",
       "    </tr>\n",
       "    <tr>\n",
       "      <th>387008</th>\n",
       "      <td>20230313</td>\n",
       "      <td>295</td>\n",
       "      <td>2.1</td>\n",
       "      <td>1851</td>\n",
       "      <td>32</td>\n",
       "      <td>6.5</td>\n",
       "      <td>2</td>\n",
       "      <td>32</td>\n",
       "      <td>12.3</td>\n",
       "      <td>41</td>\n",
       "      <td>...</td>\n",
       "      <td>-9</td>\n",
       "      <td>-9.0</td>\n",
       "      <td>-9</td>\n",
       "      <td>-9.0</td>\n",
       "      <td>-9</td>\n",
       "      <td>-99.0</td>\n",
       "      <td>-99.0</td>\n",
       "      <td>-99.0</td>\n",
       "      <td>-99.0</td>\n",
       "      <td>-99.0</td>\n",
       "    </tr>\n",
       "    <tr>\n",
       "      <th>387009</th>\n",
       "      <td>20230313</td>\n",
       "      <td>296</td>\n",
       "      <td>2.1</td>\n",
       "      <td>1780</td>\n",
       "      <td>18</td>\n",
       "      <td>5.1</td>\n",
       "      <td>1751</td>\n",
       "      <td>27</td>\n",
       "      <td>9.2</td>\n",
       "      <td>145</td>\n",
       "      <td>...</td>\n",
       "      <td>-9</td>\n",
       "      <td>-9.0</td>\n",
       "      <td>-9</td>\n",
       "      <td>-9.0</td>\n",
       "      <td>-9</td>\n",
       "      <td>-99.0</td>\n",
       "      <td>-99.0</td>\n",
       "      <td>-99.0</td>\n",
       "      <td>-99.0</td>\n",
       "      <td>-99.0</td>\n",
       "    </tr>\n",
       "  </tbody>\n",
       "</table>\n",
       "<p>387010 rows × 56 columns</p>\n",
       "</div>"
      ],
      "text/plain": [
       "          YYMMDD  STN   WS    WR  WD  WS.1  WS.2  WD.1  WS.3  WS.4  ...  RN.8  \\\n",
       "0       20120101   90  2.2  1915  29   5.7  1714    29   9.8  1420  ...    -9   \n",
       "1       20120101   95  1.2  1077  34   4.8  1414    34   7.8  1407  ...    -9   \n",
       "2       20120101   98  1.8  1585  29   7.4  1445    29  11.0  1439  ...    -9   \n",
       "3       20120101   99  1.5  1313  29   6.0  1546    32   8.8  1607  ...    -9   \n",
       "4       20120101  100  4.5  3868  27   6.7   332    27  10.1  1233  ...    -9   \n",
       "...          ...  ...  ...   ...  ..   ...   ...   ...   ...   ...  ...   ...   \n",
       "387005  20230313  288  1.7  1483  34   4.9   932    36   8.0   926  ...    -9   \n",
       "387006  20230313  289  4.2  3604  29   9.9   339    32  18.9   316  ...    -9   \n",
       "387007  20230313  294  2.4  2060  29   4.4   627    25  10.3  1919  ...    -9   \n",
       "387008  20230313  295  2.1  1851  32   6.5     2    32  12.3    41  ...    -9   \n",
       "387009  20230313  296  2.1  1780  18   5.1  1751    27   9.2   145  ...    -9   \n",
       "\n",
       "         SD  SD.1  SD.2  SD.3    TE  TE.1  TE.2  TE.3  TE.4  \n",
       "0      -9.0    -9   1.6     1 -99.0 -99.0 -99.0 -99.0 -99.0  \n",
       "1      -9.0    -9  -9.0    -9   1.4   5.0 -99.0 -99.0 -99.0  \n",
       "2      -9.0    -9  -9.0    -9 -99.0 -99.0 -99.0 -99.0 -99.0  \n",
       "3      -9.0    -9  -9.0    -9 -99.0 -99.0 -99.0 -99.0 -99.0  \n",
       "4       0.3  2400  22.7  2400 -99.0 -99.0 -99.0 -99.0 -99.0  \n",
       "...     ...   ...   ...   ...   ...   ...   ...   ...   ...  \n",
       "387005 -9.0    -9  -9.0    -9 -99.0 -99.0 -99.0 -99.0 -99.0  \n",
       "387006 -9.0    -9  -9.0    -9 -99.0 -99.0 -99.0 -99.0 -99.0  \n",
       "387007 -9.0    -9  -9.0    -9 -99.0 -99.0 -99.0 -99.0 -99.0  \n",
       "387008 -9.0    -9  -9.0    -9 -99.0 -99.0 -99.0 -99.0 -99.0  \n",
       "387009 -9.0    -9  -9.0    -9 -99.0 -99.0 -99.0 -99.0 -99.0  \n",
       "\n",
       "[387010 rows x 56 columns]"
      ]
     },
     "execution_count": 55,
     "metadata": {},
     "output_type": "execute_result"
    }
   ],
   "source": [
    "df2.reset_index(drop=True, inplace = True)\n",
    "df2"
   ]
  },
  {
   "cell_type": "code",
   "execution_count": 56,
   "id": "26a675ad",
   "metadata": {
    "ExecuteTime": {
     "end_time": "2023-06-23T07:58:50.857521Z",
     "start_time": "2023-06-23T07:58:40.338617Z"
    }
   },
   "outputs": [],
   "source": [
    "df2.to_csv('지상관측_일.csv')"
   ]
  },
  {
   "cell_type": "code",
   "execution_count": null,
   "id": "22534043",
   "metadata": {
    "ExecuteTime": {
     "end_time": "2023-06-21T10:27:30.616639Z",
     "start_time": "2023-06-21T10:27:30.590705Z"
    }
   },
   "outputs": [],
   "source": [
    "df1.reset_index(inplace=True, drop=True)\n",
    "df1"
   ]
  },
  {
   "cell_type": "code",
   "execution_count": null,
   "id": "c2a618b4",
   "metadata": {
    "ExecuteTime": {
     "end_time": "2023-06-21T10:26:52.532099Z",
     "start_time": "2023-06-21T10:26:50.791982Z"
    }
   },
   "outputs": [],
   "source": [
    "df = df.drop_duplicates()"
   ]
  },
  {
   "cell_type": "code",
   "execution_count": null,
   "id": "380ef5fb",
   "metadata": {
    "ExecuteTime": {
     "end_time": "2023-06-21T10:27:17.206752Z",
     "start_time": "2023-06-21T10:27:17.174840Z"
    }
   },
   "outputs": [],
   "source": [
    "df.reset_index(inplace=True, drop=True)\n",
    "df"
   ]
  },
  {
   "cell_type": "code",
   "execution_count": null,
   "id": "f35b7ed6",
   "metadata": {
    "ExecuteTime": {
     "end_time": "2023-06-21T10:31:13.886059Z",
     "start_time": "2023-06-21T10:31:13.449226Z"
    }
   },
   "outputs": [],
   "source": [
    "dd = pd.concat([df, df1])#.reset_index(drop=True)\n",
    "# df3 = df3.reset_index(drop=True)\n",
    "dd"
   ]
  },
  {
   "cell_type": "code",
   "execution_count": null,
   "id": "666719ca",
   "metadata": {
    "ExecuteTime": {
     "end_time": "2023-06-21T10:31:40.622849Z",
     "start_time": "2023-06-21T10:31:40.013995Z"
    }
   },
   "outputs": [],
   "source": [
    "dd = dd.reset_index(drop=True)\n",
    "dd"
   ]
  },
  {
   "cell_type": "code",
   "execution_count": null,
   "id": "74c9de4e",
   "metadata": {
    "ExecuteTime": {
     "end_time": "2023-06-21T10:31:09.093382Z",
     "start_time": "2023-06-21T10:31:09.083447Z"
    }
   },
   "outputs": [],
   "source": [
    "type(dd)"
   ]
  },
  {
   "cell_type": "code",
   "execution_count": null,
   "id": "2ee9d1d3",
   "metadata": {
    "ExecuteTime": {
     "end_time": "2023-06-21T10:30:34.716998Z",
     "start_time": "2023-06-21T10:30:34.683327Z"
    }
   },
   "outputs": [],
   "source": [
    "df1"
   ]
  },
  {
   "cell_type": "code",
   "execution_count": null,
   "id": "2bb77f34",
   "metadata": {
    "ExecuteTime": {
     "end_time": "2023-06-19T09:55:44.004505Z",
     "start_time": "2023-06-19T09:55:43.968056Z"
    },
    "scrolled": true
   },
   "outputs": [],
   "source": [
    "for i in df2['STN.1'].value_counts().index : print(i)"
   ]
  },
  {
   "cell_type": "code",
   "execution_count": null,
   "id": "a0f55a9f",
   "metadata": {
    "ExecuteTime": {
     "end_time": "2023-06-21T10:33:01.398809Z",
     "start_time": "2023-06-21T10:32:01.456599Z"
    }
   },
   "outputs": [],
   "source": [
    "dd.to_csv('적설관측자료.csv')"
   ]
  },
  {
   "cell_type": "code",
   "execution_count": null,
   "id": "07c162a2",
   "metadata": {},
   "outputs": [],
   "source": []
  }
 ],
 "metadata": {
  "kernelspec": {
   "display_name": "Python 3 (ipykernel)",
   "language": "python",
   "name": "python3"
  },
  "language_info": {
   "codemirror_mode": {
    "name": "ipython",
    "version": 3
   },
   "file_extension": ".py",
   "mimetype": "text/x-python",
   "name": "python",
   "nbconvert_exporter": "python",
   "pygments_lexer": "ipython3",
   "version": "3.8.9"
  },
  "toc": {
   "base_numbering": 1,
   "nav_menu": {},
   "number_sections": true,
   "sideBar": true,
   "skip_h1_title": false,
   "title_cell": "Table of Contents",
   "title_sidebar": "Contents",
   "toc_cell": false,
   "toc_position": {},
   "toc_section_display": true,
   "toc_window_display": false
  }
 },
 "nbformat": 4,
 "nbformat_minor": 5
}
