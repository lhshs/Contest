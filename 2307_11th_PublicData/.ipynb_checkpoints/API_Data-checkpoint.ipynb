{
 "cells": [
  {
   "cell_type": "markdown",
   "id": "d20fe02f",
   "metadata": {},
   "source": [
    "## 기상청 API 허브"
   ]
  },
  {
   "cell_type": "markdown",
   "id": "29c66509",
   "metadata": {},
   "source": [
    "DATA 수집 목표 : 2012 ~ (최소기간)"
   ]
  },
  {
   "cell_type": "markdown",
   "id": "02808f06",
   "metadata": {},
   "source": [
    "https://apihub.kma.go.kr/"
   ]
  },
  {
   "cell_type": "code",
   "execution_count": 1,
   "id": "73390206",
   "metadata": {
    "ExecuteTime": {
     "end_time": "2023-06-19T16:37:41.796227Z",
     "start_time": "2023-06-19T16:37:41.207179Z"
    }
   },
   "outputs": [],
   "source": [
    "import pandas as pd\n",
    "import matplotlib.pyplot as plt\n",
    "\n",
    "import urllib\n",
    "import urllib.request\n",
    "from urllib.parse import unquote\n",
    "\n",
    "import json\n",
    "\n",
    "import requests\n",
    "import pprint\n",
    "\n",
    "from datetime import datetime, timedelta\n",
    "import warnings\n",
    "warnings.filterwarnings('ignore')\n",
    "\n",
    "from tqdm import tqdm"
   ]
  },
  {
   "cell_type": "markdown",
   "id": "0de74611",
   "metadata": {},
   "source": [
    "### Text"
   ]
  },
  {
   "cell_type": "code",
   "execution_count": null,
   "id": "9700d1eb",
   "metadata": {
    "ExecuteTime": {
     "end_time": "2023-06-19T09:27:49.073664Z",
     "start_time": "2023-06-19T09:27:49.066682Z"
    }
   },
   "outputs": [],
   "source": [
    "year = [2012, 2013, 2014, 2015, 2016, 2017, 2018, 2019, 2020, 2021, 2022]\n",
    "year2 = [2012, 2016, 2020]#, 2023]\n",
    "# month = [1, 4, 7, 10]"
   ]
  },
  {
   "cell_type": "code",
   "execution_count": null,
   "id": "8f885ce4",
   "metadata": {
    "ExecuteTime": {
     "end_time": "2023-06-16T06:24:13.879671Z",
     "start_time": "2023-06-16T06:24:13.874681Z"
    }
   },
   "outputs": [],
   "source": [
    "def short_term(year):\n",
    "    url = f'https://apihub.kma.go.kr/api/typ01/url/fct_afs_dl.php?reg=&tmfc1={year}010100&tmfc2={year+1}010100&disp=1&help=0&authKey=XZ15B2mZRGqdeQdpmURqUg'\n",
    "    response = requests.get(url)\n",
    "    text = response.text.split('\\n')\n",
    "    return text\n",
    "    "
   ]
  },
  {
   "cell_type": "code",
   "execution_count": null,
   "id": "5f7a40c6",
   "metadata": {
    "ExecuteTime": {
     "end_time": "2023-06-19T09:21:17.650219Z",
     "start_time": "2023-06-19T09:21:17.633266Z"
    }
   },
   "outputs": [],
   "source": [
    "def short_term_half(year, a, b):\n",
    "    \n",
    "    url = f'https://apihub.kma.go.kr/api/typ01/url/fct_afs_dl.php?reg=&tmfc1={year}{a}0100&tmfc2={year}{b}0100&disp=1&help=0&authKey=yEtC0d2xQmKLQtHdsWJi5g'\n",
    "    response = requests.get(url)\n",
    "    text = response.text.split('\\n')\n",
    "    return text\n",
    "    "
   ]
  },
  {
   "cell_type": "code",
   "execution_count": null,
   "id": "f5173db3",
   "metadata": {
    "ExecuteTime": {
     "end_time": "2023-06-19T12:48:27.059388Z",
     "start_time": "2023-06-19T12:47:30.491926Z"
    }
   },
   "outputs": [],
   "source": [
    "url = 'https://apihub.kma.go.kr/api/typ01/url/fct_afs_dl.php?reg=&tmfc1=2023010100&tmfc2=2023031300&disp=1&help=0&authKey=yEtC0d2xQmKLQtHdsWJi5g'\n",
    "response = requests.get(url)\n",
    "text = response.text.split('\\n')"
   ]
  },
  {
   "cell_type": "code",
   "execution_count": null,
   "id": "281ea800",
   "metadata": {
    "ExecuteTime": {
     "end_time": "2023-06-19T12:57:42.987052Z",
     "start_time": "2023-06-19T12:57:42.950151Z"
    }
   },
   "outputs": [],
   "source": [
    "text"
   ]
  },
  {
   "cell_type": "code",
   "execution_count": null,
   "id": "0184fe85",
   "metadata": {},
   "outputs": [],
   "source": [
    "lst = []\n",
    "\n",
    "for i in tqdm(year2):\n",
    "    lst.append(short_term(i))"
   ]
  },
  {
   "cell_type": "code",
   "execution_count": null,
   "id": "0d14fbf7",
   "metadata": {},
   "outputs": [],
   "source": [
    "# 2012, 2016, 2020 : 기간 초과"
   ]
  },
  {
   "cell_type": "code",
   "execution_count": null,
   "id": "37ceed42",
   "metadata": {
    "ExecuteTime": {
     "end_time": "2023-06-19T09:19:33.536799Z",
     "start_time": "2023-06-19T09:19:33.519875Z"
    }
   },
   "outputs": [],
   "source": [
    "year_test = [2012]"
   ]
  },
  {
   "cell_type": "code",
   "execution_count": null,
   "id": "df254e9a",
   "metadata": {
    "ExecuteTime": {
     "end_time": "2023-06-19T09:34:31.929032Z",
     "start_time": "2023-06-19T09:28:24.756262Z"
    }
   },
   "outputs": [],
   "source": [
    "lst_half = []\n",
    "\n",
    "for i in tqdm(year2):\n",
    "    lst_half.append(short_term_half(i, '01', '06'))\n",
    "    lst_half.append(short_term_half(i, '07', '12'))\n",
    "    "
   ]
  },
  {
   "cell_type": "code",
   "execution_count": null,
   "id": "9f12d8af",
   "metadata": {
    "ExecuteTime": {
     "end_time": "2023-06-19T12:35:15.169948Z",
     "start_time": "2023-06-19T12:35:15.159975Z"
    }
   },
   "outputs": [],
   "source": [
    "for i in range(6):\n",
    "    print(lst_half[i][:50])"
   ]
  },
  {
   "cell_type": "code",
   "execution_count": null,
   "id": "bd9fcc46",
   "metadata": {
    "ExecuteTime": {
     "end_time": "2023-06-16T07:11:38.995066Z",
     "start_time": "2023-06-16T07:11:38.980106Z"
    }
   },
   "outputs": [],
   "source": [
    "len(lst_half)"
   ]
  },
  {
   "cell_type": "code",
   "execution_count": null,
   "id": "4336ee0b",
   "metadata": {
    "ExecuteTime": {
     "end_time": "2023-06-16T07:15:12.921828Z",
     "start_time": "2023-06-16T07:15:12.891908Z"
    }
   },
   "outputs": [],
   "source": [
    "lst_half[4][:-5]"
   ]
  },
  {
   "cell_type": "code",
   "execution_count": null,
   "id": "b97df347",
   "metadata": {
    "ExecuteTime": {
     "end_time": "2023-06-16T07:24:10.701194Z",
     "start_time": "2023-06-16T07:24:10.689228Z"
    }
   },
   "outputs": [],
   "source": [
    "col_name = 'REG_ID TM_FC TM_EF        MOD NE STN C MAN_ID       MAN_FC     W1 T W2  TA  ST SKY  PREP WF'.split()\n",
    "len(col_name)"
   ]
  },
  {
   "cell_type": "code",
   "execution_count": null,
   "id": "c73fe25f",
   "metadata": {
    "ExecuteTime": {
     "end_time": "2023-06-16T06:51:27.055008Z",
     "start_time": "2023-06-16T06:51:15.909166Z"
    }
   },
   "outputs": [],
   "source": [
    "for i in range(8):\n",
    "    print(lst[i])"
   ]
  },
  {
   "cell_type": "markdown",
   "id": "ae5c4976",
   "metadata": {},
   "source": [
    "tmfc1=2022060100&tmfc2=2023031300"
   ]
  },
  {
   "cell_type": "code",
   "execution_count": null,
   "id": "9c9b71a2",
   "metadata": {
    "ExecuteTime": {
     "end_time": "2023-06-15T10:33:10.529881Z",
     "start_time": "2023-06-15T10:33:10.468937Z"
    },
    "scrolled": true
   },
   "outputs": [],
   "source": [
    "text"
   ]
  },
  {
   "cell_type": "code",
   "execution_count": null,
   "id": "68136874",
   "metadata": {
    "ExecuteTime": {
     "end_time": "2023-06-19T12:57:52.227427Z",
     "start_time": "2023-06-19T12:57:52.210505Z"
    },
    "scrolled": false
   },
   "outputs": [],
   "source": [
    "text[-5:]"
   ]
  },
  {
   "cell_type": "code",
   "execution_count": null,
   "id": "64c2796f",
   "metadata": {
    "ExecuteTime": {
     "end_time": "2023-06-19T12:35:58.410195Z",
     "start_time": "2023-06-19T12:35:58.392216Z"
    }
   },
   "outputs": [],
   "source": [
    "lst_half[1][1]"
   ]
  },
  {
   "cell_type": "code",
   "execution_count": null,
   "id": "a92965bd",
   "metadata": {
    "ExecuteTime": {
     "end_time": "2023-06-19T12:36:02.836302Z",
     "start_time": "2023-06-19T12:36:02.823336Z"
    },
    "scrolled": true
   },
   "outputs": [],
   "source": [
    "# columns 추출\n",
    "col_name = lst_half[1][1].split()\n",
    "col_name = col_name[1:]\n",
    "print(col_name)\n",
    "print(len(col_name))"
   ]
  },
  {
   "cell_type": "code",
   "execution_count": null,
   "id": "d6175a96",
   "metadata": {
    "ExecuteTime": {
     "end_time": "2023-06-14T19:03:50.082044Z",
     "start_time": "2023-06-14T19:03:50.078071Z"
    }
   },
   "outputs": [],
   "source": [
    "# col_name = [i.strip() for i in col_name]"
   ]
  },
  {
   "cell_type": "code",
   "execution_count": null,
   "id": "2d93e0cd",
   "metadata": {
    "ExecuteTime": {
     "end_time": "2023-06-14T19:04:14.397353Z",
     "start_time": "2023-06-14T19:04:14.393380Z"
    }
   },
   "outputs": [],
   "source": [
    "# col_name[0] = 'TM_FC'"
   ]
  },
  {
   "cell_type": "code",
   "execution_count": null,
   "id": "103899b2",
   "metadata": {
    "ExecuteTime": {
     "end_time": "2023-06-19T13:03:42.353992Z",
     "start_time": "2023-06-19T13:03:42.339029Z"
    }
   },
   "outputs": [],
   "source": [
    "col_name"
   ]
  },
  {
   "cell_type": "code",
   "execution_count": null,
   "id": "ef47a967",
   "metadata": {
    "ExecuteTime": {
     "end_time": "2023-06-15T10:34:50.471303Z",
     "start_time": "2023-06-15T10:34:50.458221Z"
    },
    "scrolled": true
   },
   "outputs": [],
   "source": [
    "# 컬럼 시작 숫자 설정\n",
    "text[-2]"
   ]
  },
  {
   "cell_type": "code",
   "execution_count": null,
   "id": "f4f18cec",
   "metadata": {
    "ExecuteTime": {
     "end_time": "2023-06-19T12:37:55.466565Z",
     "start_time": "2023-06-19T12:37:55.454582Z"
    }
   },
   "outputs": [],
   "source": [
    "for i in range(6):\n",
    "    print(lst_half[i][-2:])"
   ]
  },
  {
   "cell_type": "code",
   "execution_count": null,
   "id": "2658502c",
   "metadata": {
    "ExecuteTime": {
     "end_time": "2023-06-19T13:04:00.215195Z",
     "start_time": "2023-06-19T13:04:00.198243Z"
    }
   },
   "outputs": [],
   "source": [
    "text[1]"
   ]
  },
  {
   "cell_type": "code",
   "execution_count": null,
   "id": "1a2319d8",
   "metadata": {
    "ExecuteTime": {
     "end_time": "2023-06-19T13:05:19.505918Z",
     "start_time": "2023-06-19T13:05:17.406536Z"
    },
    "scrolled": true
   },
   "outputs": [],
   "source": [
    "df_2023 = pd.DataFrame(text[2:-2])[0].str.split(',', expand=True)\n",
    "df_2023.drop(columns=17, inplace=True, axis=1)\n",
    "df_2023.columns = col_name\n",
    "df_2023"
   ]
  },
  {
   "cell_type": "code",
   "execution_count": null,
   "id": "f130c96c",
   "metadata": {
    "ExecuteTime": {
     "end_time": "2023-06-14T18:16:57.577061Z",
     "start_time": "2023-06-14T18:16:57.559678Z"
    }
   },
   "outputs": [],
   "source": [
    "df[9].value_counts()"
   ]
  },
  {
   "cell_type": "code",
   "execution_count": null,
   "id": "1d3e5239",
   "metadata": {
    "ExecuteTime": {
     "end_time": "2023-06-14T17:31:03.683708Z",
     "start_time": "2023-06-14T17:31:01.630488Z"
    },
    "scrolled": true
   },
   "outputs": [],
   "source": [
    "'''\n",
    "# 띄어쓰기에 따라 나눠진 컬럼 합치기\n",
    "\n",
    "con_cols = [18, 19, 20, 21]\n",
    "\n",
    "df['con_cols'] = df[con_cols].apply(lambda row : ' '.join(row.values.astype(str)), axis=1)\n",
    "df.drop(columns = con_cols, inplace = True)\n",
    "'''"
   ]
  },
  {
   "cell_type": "code",
   "execution_count": null,
   "id": "1994472d",
   "metadata": {
    "ExecuteTime": {
     "end_time": "2023-06-14T19:04:25.207800Z",
     "start_time": "2023-06-14T19:04:25.205316Z"
    }
   },
   "outputs": [],
   "source": [
    "df = df.iloc[:,:11]"
   ]
  },
  {
   "cell_type": "code",
   "execution_count": null,
   "id": "8594eeb7",
   "metadata": {
    "ExecuteTime": {
     "end_time": "2023-06-14T19:02:03.281334Z",
     "start_time": "2023-06-14T19:02:03.276864Z"
    }
   },
   "outputs": [],
   "source": [
    "df.drop(columns = 11, inplace=True)"
   ]
  },
  {
   "cell_type": "code",
   "execution_count": null,
   "id": "b18be124",
   "metadata": {
    "ExecuteTime": {
     "end_time": "2023-06-16T07:25:55.949956Z",
     "start_time": "2023-06-16T07:25:11.146314Z"
    }
   },
   "outputs": [],
   "source": [
    "# df_2013, df_2014, df_2015, df_2017, df_2018, df_2019, df_2021, df_2022\n",
    "\n",
    "df1 = pd.concat([df_2013, df_2014, df_2015, df_2017, df_2018, df_2019, df_2021, df_2022])\n",
    "df1.drop(columns = [17], inplace=True)\n",
    "df1.columns = col_name\n",
    "df1"
   ]
  },
  {
   "cell_type": "code",
   "execution_count": null,
   "id": "9b91a919",
   "metadata": {
    "ExecuteTime": {
     "end_time": "2023-06-19T12:38:50.797840Z",
     "start_time": "2023-06-19T12:38:49.894690Z"
    }
   },
   "outputs": [],
   "source": [
    "df2 = pd.concat([df_2012, df_2016, df_2020])\n",
    "df2.drop(columns = [17], inplace=True)\n",
    "df2.columns = col_name\n",
    "df2"
   ]
  },
  {
   "cell_type": "code",
   "execution_count": null,
   "id": "1761d50d",
   "metadata": {
    "ExecuteTime": {
     "end_time": "2023-06-19T13:05:30.291317Z",
     "start_time": "2023-06-19T13:05:30.117780Z"
    }
   },
   "outputs": [],
   "source": [
    "# 필요없는 COLUMN 제거 구역코드(REG_ID), 예보관ID(MAN_ID), 예보관명(MAN_FC)\n",
    "# 구간(MOD) 12, 24 시간\n",
    "# SKY + PREP 한글화 = WF\n",
    "\n",
    "df_2023.drop(columns = ['REG_ID', 'MAN_ID', 'MAN_FC'], inplace=True)"
   ]
  },
  {
   "cell_type": "code",
   "execution_count": null,
   "id": "0b78fc2b",
   "metadata": {
    "ExecuteTime": {
     "end_time": "2023-06-19T13:05:33.142179Z",
     "start_time": "2023-06-19T13:05:33.115186Z"
    }
   },
   "outputs": [],
   "source": [
    "df_2023"
   ]
  },
  {
   "cell_type": "code",
   "execution_count": null,
   "id": "532cbca6",
   "metadata": {
    "ExecuteTime": {
     "end_time": "2023-06-19T12:39:20.627999Z",
     "start_time": "2023-06-19T12:39:14.090670Z"
    }
   },
   "outputs": [],
   "source": [
    "df2.to_csv('단기육상예보_2차.csv')"
   ]
  },
  {
   "cell_type": "markdown",
   "id": "1048440e",
   "metadata": {},
   "source": [
    "### XML"
   ]
  },
  {
   "cell_type": "code",
   "execution_count": null,
   "id": "33d1dadd",
   "metadata": {
    "ExecuteTime": {
     "end_time": "2023-06-15T09:55:02.340726Z",
     "start_time": "2023-06-15T09:54:33.925119Z"
    }
   },
   "outputs": [],
   "source": [
    "url = 'https://apihub.kma.go.kr/api/typ02/openApi/SfcYearlyInfoService/getTyphoonList?pageNo=1&numOfRows=10&dataType=XML&year=2022&authKey=_v7wW5IUQqu-8FuSFNKrLA'\n",
    "\n",
    "response = requests.get(url)\n",
    "\n",
    "# xml 내용\n",
    "content = response.text\n",
    "\n",
    "# 깔끔한 출력 위한 코드\n",
    "pp = pprint.PrettyPrinter(indent=4)\n",
    "print(pp.pprint(content))"
   ]
  },
  {
   "cell_type": "code",
   "execution_count": null,
   "id": "c14ecf9f",
   "metadata": {
    "ExecuteTime": {
     "end_time": "2023-06-15T09:54:11.951008Z",
     "start_time": "2023-06-15T09:54:11.922075Z"
    },
    "scrolled": true
   },
   "outputs": [],
   "source": [
    "from os import name\n",
    "import xml.etree.ElementTree as et\n",
    "import bs4\n",
    "from lxml import html\n",
    "from urllib.parse import urlencode, quote_plus, unquote\n",
    "\n",
    "#bs4 사용하여 item 태그 분리\n",
    "xml_obj = bs4.BeautifulSoup(content,'lxml-xml')\n",
    "rows = xml_obj.findAll('info') # item 으로 구분되어 있는 경우도 있음\n",
    "print(rows)"
   ]
  },
  {
   "cell_type": "code",
   "execution_count": null,
   "id": "0a000891",
   "metadata": {
    "ExecuteTime": {
     "end_time": "2023-06-15T09:54:13.532554Z",
     "start_time": "2023-06-15T09:54:13.522581Z"
    }
   },
   "outputs": [],
   "source": [
    "# 각 행의 컬럼, 이름, 값을 가지는 리스트 만들기\n",
    "row_list = [] # 행값\n",
    "name_list = [] # 열이름값\n",
    "value_list = [] #데이터값\n",
    "\n",
    "# xml 안의 데이터 수집\n",
    "for i in range(0, len(rows)):\n",
    "    columns = rows[i].find_all()\n",
    "    #첫째 행 데이터 수집\n",
    "    for j in range(0,len(columns)):\n",
    "        if i ==0:\n",
    "            # 컬럼 이름 값 저장\n",
    "            name_list.append(columns[j].name)\n",
    "        # 컬럼의 각 데이터 값 저장\n",
    "        value_list.append(columns[j].text)\n",
    "    # 각 행의 value값 전체 저장\n",
    "    row_list.append(value_list)\n",
    "    # 데이터 리스트 값 초기화\n",
    "    value_list=[]"
   ]
  },
  {
   "cell_type": "code",
   "execution_count": null,
   "id": "4c4503ec",
   "metadata": {
    "ExecuteTime": {
     "end_time": "2023-06-15T09:54:14.853111Z",
     "start_time": "2023-06-15T09:54:14.833164Z"
    }
   },
   "outputs": [],
   "source": [
    "#xml값 DataFrame으로 만들기\n",
    "xml_df = pd.DataFrame(row_list, columns=name_list)\n",
    "print(xml_df.head())"
   ]
  },
  {
   "cell_type": "code",
   "execution_count": null,
   "id": "5dfae243",
   "metadata": {
    "ExecuteTime": {
     "end_time": "2023-06-15T09:54:16.569357Z",
     "start_time": "2023-06-15T09:54:16.559213Z"
    }
   },
   "outputs": [],
   "source": [
    "xml_df"
   ]
  },
  {
   "cell_type": "code",
   "execution_count": null,
   "id": "9c3ce421",
   "metadata": {
    "ExecuteTime": {
     "end_time": "2023-06-15T09:54:22.471436Z",
     "start_time": "2023-06-15T09:54:22.451465Z"
    }
   },
   "outputs": [],
   "source": [
    "xml_df.to_csv('우리나라영향태풍_2021.csv')"
   ]
  },
  {
   "cell_type": "markdown",
   "id": "8ffe9c11",
   "metadata": {},
   "source": [
    "# Data"
   ]
  },
  {
   "cell_type": "code",
   "execution_count": 2,
   "id": "24274201",
   "metadata": {
    "ExecuteTime": {
     "end_time": "2023-06-19T16:37:55.340842Z",
     "start_time": "2023-06-19T16:37:45.668245Z"
    }
   },
   "outputs": [],
   "source": [
    "df1 = pd.read_csv('H:/내 드라이브/취업/Contest/2307_PublicData/data/단기육상예보_1차.csv', index_col=0)\n",
    "df2 = pd.read_csv('H:/내 드라이브/취업/Contest/2307_PublicData/data/단기육상예보_2차.csv', index_col=0)\n",
    "df3 = pd.read_csv('H:/내 드라이브/취업/Contest/2307_PublicData/data/단기육상예보_3차.csv', index_col=0)"
   ]
  },
  {
   "cell_type": "code",
   "execution_count": 3,
   "id": "761a23f8",
   "metadata": {
    "ExecuteTime": {
     "end_time": "2023-06-19T16:37:57.479989Z",
     "start_time": "2023-06-19T16:37:57.446712Z"
    }
   },
   "outputs": [
    {
     "data": {
      "text/html": [
       "<div>\n",
       "<style scoped>\n",
       "    .dataframe tbody tr th:only-of-type {\n",
       "        vertical-align: middle;\n",
       "    }\n",
       "\n",
       "    .dataframe tbody tr th {\n",
       "        vertical-align: top;\n",
       "    }\n",
       "\n",
       "    .dataframe thead th {\n",
       "        text-align: right;\n",
       "    }\n",
       "</style>\n",
       "<table border=\"1\" class=\"dataframe\">\n",
       "  <thead>\n",
       "    <tr style=\"text-align: right;\">\n",
       "      <th></th>\n",
       "      <th>TM_FC</th>\n",
       "      <th>TM_EF</th>\n",
       "      <th>MOD</th>\n",
       "      <th>NE</th>\n",
       "      <th>STN</th>\n",
       "      <th>C</th>\n",
       "      <th>W1</th>\n",
       "      <th>T</th>\n",
       "      <th>W2</th>\n",
       "      <th>TA</th>\n",
       "      <th>ST</th>\n",
       "      <th>SKY</th>\n",
       "      <th>PREP</th>\n",
       "      <th>WF</th>\n",
       "    </tr>\n",
       "  </thead>\n",
       "  <tbody>\n",
       "    <tr>\n",
       "      <th>0</th>\n",
       "      <td>201301010500</td>\n",
       "      <td>201301011200</td>\n",
       "      <td>A02</td>\n",
       "      <td>1</td>\n",
       "      <td>112</td>\n",
       "      <td>2</td>\n",
       "      <td>NW</td>\n",
       "      <td>1</td>\n",
       "      <td>N</td>\n",
       "      <td>1</td>\n",
       "      <td>60</td>\n",
       "      <td>DB04</td>\n",
       "      <td>3</td>\n",
       "      <td>흐리고 한때 눈</td>\n",
       "    </tr>\n",
       "    <tr>\n",
       "      <th>1</th>\n",
       "      <td>201301010500</td>\n",
       "      <td>201301020000</td>\n",
       "      <td>A02</td>\n",
       "      <td>2</td>\n",
       "      <td>112</td>\n",
       "      <td>2</td>\n",
       "      <td>NW</td>\n",
       "      <td>1</td>\n",
       "      <td>N</td>\n",
       "      <td>-10</td>\n",
       "      <td>70</td>\n",
       "      <td>DB04</td>\n",
       "      <td>3</td>\n",
       "      <td>흐리고 눈</td>\n",
       "    </tr>\n",
       "    <tr>\n",
       "      <th>2</th>\n",
       "      <td>201301010500</td>\n",
       "      <td>201301021200</td>\n",
       "      <td>A02</td>\n",
       "      <td>3</td>\n",
       "      <td>112</td>\n",
       "      <td>2</td>\n",
       "      <td>NW</td>\n",
       "      <td>1</td>\n",
       "      <td>N</td>\n",
       "      <td>-9</td>\n",
       "      <td>60</td>\n",
       "      <td>DB04</td>\n",
       "      <td>3</td>\n",
       "      <td>흐리고 한때 눈</td>\n",
       "    </tr>\n",
       "    <tr>\n",
       "      <th>3</th>\n",
       "      <td>201301010500</td>\n",
       "      <td>201301010000</td>\n",
       "      <td>A02</td>\n",
       "      <td>0</td>\n",
       "      <td>108</td>\n",
       "      <td>2</td>\n",
       "      <td>E</td>\n",
       "      <td>1</td>\n",
       "      <td>SE</td>\n",
       "      <td>-99</td>\n",
       "      <td>60</td>\n",
       "      <td>DB04</td>\n",
       "      <td>3</td>\n",
       "      <td>흐리고 한때 눈</td>\n",
       "    </tr>\n",
       "    <tr>\n",
       "      <th>4</th>\n",
       "      <td>201301010500</td>\n",
       "      <td>201301011200</td>\n",
       "      <td>A02</td>\n",
       "      <td>1</td>\n",
       "      <td>108</td>\n",
       "      <td>2</td>\n",
       "      <td>SW</td>\n",
       "      <td>1</td>\n",
       "      <td>W</td>\n",
       "      <td>-1</td>\n",
       "      <td>60</td>\n",
       "      <td>DB04</td>\n",
       "      <td>3</td>\n",
       "      <td>흐리고 가끔 눈</td>\n",
       "    </tr>\n",
       "    <tr>\n",
       "      <th>...</th>\n",
       "      <td>...</td>\n",
       "      <td>...</td>\n",
       "      <td>...</td>\n",
       "      <td>...</td>\n",
       "      <td>...</td>\n",
       "      <td>...</td>\n",
       "      <td>...</td>\n",
       "      <td>...</td>\n",
       "      <td>...</td>\n",
       "      <td>...</td>\n",
       "      <td>...</td>\n",
       "      <td>...</td>\n",
       "      <td>...</td>\n",
       "      <td>...</td>\n",
       "    </tr>\n",
       "    <tr>\n",
       "      <th>1253483</th>\n",
       "      <td>202209171700</td>\n",
       "      <td>202209171200</td>\n",
       "      <td>A02</td>\n",
       "      <td>0</td>\n",
       "      <td>184</td>\n",
       "      <td>2</td>\n",
       "      <td>NE</td>\n",
       "      <td>1</td>\n",
       "      <td>E</td>\n",
       "      <td>-99</td>\n",
       "      <td>60</td>\n",
       "      <td>DB04</td>\n",
       "      <td>1</td>\n",
       "      <td>흐리고 한때 비</td>\n",
       "    </tr>\n",
       "    <tr>\n",
       "      <th>1253484</th>\n",
       "      <td>202209171700</td>\n",
       "      <td>202209180000</td>\n",
       "      <td>A02</td>\n",
       "      <td>1</td>\n",
       "      <td>184</td>\n",
       "      <td>2</td>\n",
       "      <td>N</td>\n",
       "      <td>1</td>\n",
       "      <td>NE</td>\n",
       "      <td>24</td>\n",
       "      <td>30</td>\n",
       "      <td>DB04</td>\n",
       "      <td>0</td>\n",
       "      <td>흐림</td>\n",
       "    </tr>\n",
       "    <tr>\n",
       "      <th>1253485</th>\n",
       "      <td>202209171700</td>\n",
       "      <td>202209181200</td>\n",
       "      <td>A02</td>\n",
       "      <td>2</td>\n",
       "      <td>184</td>\n",
       "      <td>2</td>\n",
       "      <td>N</td>\n",
       "      <td>1</td>\n",
       "      <td>NE</td>\n",
       "      <td>27</td>\n",
       "      <td>20</td>\n",
       "      <td>DB03</td>\n",
       "      <td>0</td>\n",
       "      <td>구름많음</td>\n",
       "    </tr>\n",
       "    <tr>\n",
       "      <th>1253486</th>\n",
       "      <td>202209171700</td>\n",
       "      <td>202209190000</td>\n",
       "      <td>A02</td>\n",
       "      <td>3</td>\n",
       "      <td>184</td>\n",
       "      <td>2</td>\n",
       "      <td>NW</td>\n",
       "      <td>1</td>\n",
       "      <td>N</td>\n",
       "      <td>24</td>\n",
       "      <td>20</td>\n",
       "      <td>DB03</td>\n",
       "      <td>0</td>\n",
       "      <td>구름많음</td>\n",
       "    </tr>\n",
       "    <tr>\n",
       "      <th>1253487</th>\n",
       "      <td>202209171700</td>\n",
       "      <td>202209191200</td>\n",
       "      <td>A02</td>\n",
       "      <td>4</td>\n",
       "      <td>184</td>\n",
       "      <td>2</td>\n",
       "      <td>NW</td>\n",
       "      <td>1</td>\n",
       "      <td>N</td>\n",
       "      <td>26</td>\n",
       "      <td>10</td>\n",
       "      <td>DB01</td>\n",
       "      <td>0</td>\n",
       "      <td>맑음</td>\n",
       "    </tr>\n",
       "  </tbody>\n",
       "</table>\n",
       "<p>9713986 rows × 14 columns</p>\n",
       "</div>"
      ],
      "text/plain": [
       "                TM_FC         TM_EF  MOD  NE  STN  C  W1  T  W2  TA  ST   SKY  \\\n",
       "0        201301010500  201301011200  A02   1  112  2  NW  1   N   1  60  DB04   \n",
       "1        201301010500  201301020000  A02   2  112  2  NW  1   N -10  70  DB04   \n",
       "2        201301010500  201301021200  A02   3  112  2  NW  1   N  -9  60  DB04   \n",
       "3        201301010500  201301010000  A02   0  108  2   E  1  SE -99  60  DB04   \n",
       "4        201301010500  201301011200  A02   1  108  2  SW  1   W  -1  60  DB04   \n",
       "...               ...           ...  ...  ..  ... ..  .. ..  ..  ..  ..   ...   \n",
       "1253483  202209171700  202209171200  A02   0  184  2  NE  1   E -99  60  DB04   \n",
       "1253484  202209171700  202209180000  A02   1  184  2   N  1  NE  24  30  DB04   \n",
       "1253485  202209171700  202209181200  A02   2  184  2   N  1  NE  27  20  DB03   \n",
       "1253486  202209171700  202209190000  A02   3  184  2  NW  1   N  24  20  DB03   \n",
       "1253487  202209171700  202209191200  A02   4  184  2  NW  1   N  26  10  DB01   \n",
       "\n",
       "         PREP        WF  \n",
       "0           3  흐리고 한때 눈  \n",
       "1           3     흐리고 눈  \n",
       "2           3  흐리고 한때 눈  \n",
       "3           3  흐리고 한때 눈  \n",
       "4           3  흐리고 가끔 눈  \n",
       "...       ...       ...  \n",
       "1253483     1  흐리고 한때 비  \n",
       "1253484     0        흐림  \n",
       "1253485     0      구름많음  \n",
       "1253486     0      구름많음  \n",
       "1253487     0        맑음  \n",
       "\n",
       "[9713986 rows x 14 columns]"
      ]
     },
     "execution_count": 3,
     "metadata": {},
     "output_type": "execute_result"
    }
   ],
   "source": [
    "df1"
   ]
  },
  {
   "cell_type": "code",
   "execution_count": 4,
   "id": "3dfde7b5",
   "metadata": {
    "ExecuteTime": {
     "end_time": "2023-06-19T16:37:57.654319Z",
     "start_time": "2023-06-19T16:37:57.638425Z"
    }
   },
   "outputs": [
    {
     "data": {
      "text/html": [
       "<div>\n",
       "<style scoped>\n",
       "    .dataframe tbody tr th:only-of-type {\n",
       "        vertical-align: middle;\n",
       "    }\n",
       "\n",
       "    .dataframe tbody tr th {\n",
       "        vertical-align: top;\n",
       "    }\n",
       "\n",
       "    .dataframe thead th {\n",
       "        text-align: right;\n",
       "    }\n",
       "</style>\n",
       "<table border=\"1\" class=\"dataframe\">\n",
       "  <thead>\n",
       "    <tr style=\"text-align: right;\">\n",
       "      <th></th>\n",
       "      <th>TM_FC</th>\n",
       "      <th>TM_EF</th>\n",
       "      <th>MOD</th>\n",
       "      <th>NE</th>\n",
       "      <th>STN</th>\n",
       "      <th>C</th>\n",
       "      <th>W1</th>\n",
       "      <th>T</th>\n",
       "      <th>W2</th>\n",
       "      <th>TA</th>\n",
       "      <th>ST</th>\n",
       "      <th>SKY</th>\n",
       "      <th>PREP</th>\n",
       "      <th>WF</th>\n",
       "    </tr>\n",
       "  </thead>\n",
       "  <tbody>\n",
       "    <tr>\n",
       "      <th>0</th>\n",
       "      <td>201201010500</td>\n",
       "      <td>201201011200</td>\n",
       "      <td>A02</td>\n",
       "      <td>1</td>\n",
       "      <td>112</td>\n",
       "      <td>2</td>\n",
       "      <td>NW</td>\n",
       "      <td>1</td>\n",
       "      <td>N</td>\n",
       "      <td>1</td>\n",
       "      <td>10</td>\n",
       "      <td>DB02</td>\n",
       "      <td>0</td>\n",
       "      <td>구름조금</td>\n",
       "    </tr>\n",
       "    <tr>\n",
       "      <th>1</th>\n",
       "      <td>201201010500</td>\n",
       "      <td>201201020000</td>\n",
       "      <td>A02</td>\n",
       "      <td>2</td>\n",
       "      <td>112</td>\n",
       "      <td>2</td>\n",
       "      <td>NW</td>\n",
       "      <td>1</td>\n",
       "      <td>N</td>\n",
       "      <td>-4</td>\n",
       "      <td>10</td>\n",
       "      <td>DB02</td>\n",
       "      <td>0</td>\n",
       "      <td>구름조금</td>\n",
       "    </tr>\n",
       "    <tr>\n",
       "      <th>2</th>\n",
       "      <td>201201010500</td>\n",
       "      <td>201201021200</td>\n",
       "      <td>A02</td>\n",
       "      <td>3</td>\n",
       "      <td>112</td>\n",
       "      <td>2</td>\n",
       "      <td>NW</td>\n",
       "      <td>1</td>\n",
       "      <td>N</td>\n",
       "      <td>1</td>\n",
       "      <td>20</td>\n",
       "      <td>DB03</td>\n",
       "      <td>0</td>\n",
       "      <td>구름많음</td>\n",
       "    </tr>\n",
       "    <tr>\n",
       "      <th>3</th>\n",
       "      <td>201201010500</td>\n",
       "      <td>201201010000</td>\n",
       "      <td>A02</td>\n",
       "      <td>0</td>\n",
       "      <td>108</td>\n",
       "      <td>2</td>\n",
       "      <td>W</td>\n",
       "      <td>1</td>\n",
       "      <td>NW</td>\n",
       "      <td>-99</td>\n",
       "      <td>20</td>\n",
       "      <td>DB03</td>\n",
       "      <td>0</td>\n",
       "      <td>구름많음</td>\n",
       "    </tr>\n",
       "    <tr>\n",
       "      <th>4</th>\n",
       "      <td>201201010500</td>\n",
       "      <td>201201011200</td>\n",
       "      <td>A02</td>\n",
       "      <td>1</td>\n",
       "      <td>108</td>\n",
       "      <td>2</td>\n",
       "      <td>NW</td>\n",
       "      <td>1</td>\n",
       "      <td>N</td>\n",
       "      <td>1</td>\n",
       "      <td>20</td>\n",
       "      <td>DB03</td>\n",
       "      <td>0</td>\n",
       "      <td>구름많음</td>\n",
       "    </tr>\n",
       "    <tr>\n",
       "      <th>...</th>\n",
       "      <td>...</td>\n",
       "      <td>...</td>\n",
       "      <td>...</td>\n",
       "      <td>...</td>\n",
       "      <td>...</td>\n",
       "      <td>...</td>\n",
       "      <td>...</td>\n",
       "      <td>...</td>\n",
       "      <td>...</td>\n",
       "      <td>...</td>\n",
       "      <td>...</td>\n",
       "      <td>...</td>\n",
       "      <td>...</td>\n",
       "      <td>...</td>\n",
       "    </tr>\n",
       "    <tr>\n",
       "      <th>491258</th>\n",
       "      <td>201205312300</td>\n",
       "      <td>201206020000</td>\n",
       "      <td>A02</td>\n",
       "      <td>3</td>\n",
       "      <td>156</td>\n",
       "      <td>2</td>\n",
       "      <td>N</td>\n",
       "      <td>1</td>\n",
       "      <td>NE</td>\n",
       "      <td>17</td>\n",
       "      <td>20</td>\n",
       "      <td>DB03</td>\n",
       "      <td>0</td>\n",
       "      <td>구름많음</td>\n",
       "    </tr>\n",
       "    <tr>\n",
       "      <th>491259</th>\n",
       "      <td>201205312300</td>\n",
       "      <td>201205311200</td>\n",
       "      <td>A02</td>\n",
       "      <td>0</td>\n",
       "      <td>156</td>\n",
       "      <td>2</td>\n",
       "      <td>N</td>\n",
       "      <td>1</td>\n",
       "      <td>NE</td>\n",
       "      <td>-99</td>\n",
       "      <td>10</td>\n",
       "      <td>DB02</td>\n",
       "      <td>0</td>\n",
       "      <td>구름조금</td>\n",
       "    </tr>\n",
       "    <tr>\n",
       "      <th>491260</th>\n",
       "      <td>201205312300</td>\n",
       "      <td>201206010000</td>\n",
       "      <td>A02</td>\n",
       "      <td>1</td>\n",
       "      <td>156</td>\n",
       "      <td>2</td>\n",
       "      <td>NW</td>\n",
       "      <td>1</td>\n",
       "      <td>N</td>\n",
       "      <td>15</td>\n",
       "      <td>10</td>\n",
       "      <td>DB02</td>\n",
       "      <td>0</td>\n",
       "      <td>구름조금</td>\n",
       "    </tr>\n",
       "    <tr>\n",
       "      <th>491261</th>\n",
       "      <td>201205312300</td>\n",
       "      <td>201206011200</td>\n",
       "      <td>A02</td>\n",
       "      <td>2</td>\n",
       "      <td>156</td>\n",
       "      <td>2</td>\n",
       "      <td>NW</td>\n",
       "      <td>1</td>\n",
       "      <td>N</td>\n",
       "      <td>26</td>\n",
       "      <td>20</td>\n",
       "      <td>DB03</td>\n",
       "      <td>0</td>\n",
       "      <td>구름많음</td>\n",
       "    </tr>\n",
       "    <tr>\n",
       "      <th>491262</th>\n",
       "      <td>201205312300</td>\n",
       "      <td>201206020000</td>\n",
       "      <td>A02</td>\n",
       "      <td>3</td>\n",
       "      <td>156</td>\n",
       "      <td>2</td>\n",
       "      <td>NE</td>\n",
       "      <td>1</td>\n",
       "      <td>E</td>\n",
       "      <td>15</td>\n",
       "      <td>20</td>\n",
       "      <td>DB03</td>\n",
       "      <td>0</td>\n",
       "      <td>구름많음</td>\n",
       "    </tr>\n",
       "  </tbody>\n",
       "</table>\n",
       "<p>1473789 rows × 14 columns</p>\n",
       "</div>"
      ],
      "text/plain": [
       "               TM_FC         TM_EF  MOD  NE  STN  C  W1  T  W2  TA  ST   SKY  \\\n",
       "0       201201010500  201201011200  A02   1  112  2  NW  1   N   1  10  DB02   \n",
       "1       201201010500  201201020000  A02   2  112  2  NW  1   N  -4  10  DB02   \n",
       "2       201201010500  201201021200  A02   3  112  2  NW  1   N   1  20  DB03   \n",
       "3       201201010500  201201010000  A02   0  108  2   W  1  NW -99  20  DB03   \n",
       "4       201201010500  201201011200  A02   1  108  2  NW  1   N   1  20  DB03   \n",
       "...              ...           ...  ...  ..  ... ..  .. ..  ..  ..  ..   ...   \n",
       "491258  201205312300  201206020000  A02   3  156  2   N  1  NE  17  20  DB03   \n",
       "491259  201205312300  201205311200  A02   0  156  2   N  1  NE -99  10  DB02   \n",
       "491260  201205312300  201206010000  A02   1  156  2  NW  1   N  15  10  DB02   \n",
       "491261  201205312300  201206011200  A02   2  156  2  NW  1   N  26  20  DB03   \n",
       "491262  201205312300  201206020000  A02   3  156  2  NE  1   E  15  20  DB03   \n",
       "\n",
       "        PREP    WF  \n",
       "0          0  구름조금  \n",
       "1          0  구름조금  \n",
       "2          0  구름많음  \n",
       "3          0  구름많음  \n",
       "4          0  구름많음  \n",
       "...      ...   ...  \n",
       "491258     0  구름많음  \n",
       "491259     0  구름조금  \n",
       "491260     0  구름조금  \n",
       "491261     0  구름많음  \n",
       "491262     0  구름많음  \n",
       "\n",
       "[1473789 rows x 14 columns]"
      ]
     },
     "execution_count": 4,
     "metadata": {},
     "output_type": "execute_result"
    }
   ],
   "source": [
    "df2"
   ]
  },
  {
   "cell_type": "code",
   "execution_count": 5,
   "id": "cc9d6931",
   "metadata": {
    "ExecuteTime": {
     "end_time": "2023-06-19T16:37:57.813253Z",
     "start_time": "2023-06-19T16:37:57.803816Z"
    }
   },
   "outputs": [
    {
     "data": {
      "text/html": [
       "<div>\n",
       "<style scoped>\n",
       "    .dataframe tbody tr th:only-of-type {\n",
       "        vertical-align: middle;\n",
       "    }\n",
       "\n",
       "    .dataframe tbody tr th {\n",
       "        vertical-align: top;\n",
       "    }\n",
       "\n",
       "    .dataframe thead th {\n",
       "        text-align: right;\n",
       "    }\n",
       "</style>\n",
       "<table border=\"1\" class=\"dataframe\">\n",
       "  <thead>\n",
       "    <tr style=\"text-align: right;\">\n",
       "      <th></th>\n",
       "      <th>TM_FC</th>\n",
       "      <th>TM_EF</th>\n",
       "      <th>MOD</th>\n",
       "      <th>NE</th>\n",
       "      <th>STN</th>\n",
       "      <th>C</th>\n",
       "      <th>W1</th>\n",
       "      <th>T</th>\n",
       "      <th>W2</th>\n",
       "      <th>TA</th>\n",
       "      <th>ST</th>\n",
       "      <th>SKY</th>\n",
       "      <th>PREP</th>\n",
       "      <th>WF</th>\n",
       "    </tr>\n",
       "  </thead>\n",
       "  <tbody>\n",
       "    <tr>\n",
       "      <th>0</th>\n",
       "      <td>202301010500</td>\n",
       "      <td>202301010000</td>\n",
       "      <td>A02</td>\n",
       "      <td>0</td>\n",
       "      <td>109</td>\n",
       "      <td>2</td>\n",
       "      <td>N</td>\n",
       "      <td>1</td>\n",
       "      <td>NE</td>\n",
       "      <td>-99</td>\n",
       "      <td>0</td>\n",
       "      <td>DB01</td>\n",
       "      <td>0</td>\n",
       "      <td>맑음</td>\n",
       "    </tr>\n",
       "    <tr>\n",
       "      <th>1</th>\n",
       "      <td>202301010500</td>\n",
       "      <td>202301011200</td>\n",
       "      <td>A02</td>\n",
       "      <td>1</td>\n",
       "      <td>109</td>\n",
       "      <td>2</td>\n",
       "      <td>NW</td>\n",
       "      <td>1</td>\n",
       "      <td>N</td>\n",
       "      <td>2</td>\n",
       "      <td>10</td>\n",
       "      <td>DB03</td>\n",
       "      <td>0</td>\n",
       "      <td>구름많음</td>\n",
       "    </tr>\n",
       "    <tr>\n",
       "      <th>2</th>\n",
       "      <td>202301010500</td>\n",
       "      <td>202301020000</td>\n",
       "      <td>A02</td>\n",
       "      <td>2</td>\n",
       "      <td>109</td>\n",
       "      <td>2</td>\n",
       "      <td>NW</td>\n",
       "      <td>1</td>\n",
       "      <td>N</td>\n",
       "      <td>-4</td>\n",
       "      <td>10</td>\n",
       "      <td>DB03</td>\n",
       "      <td>0</td>\n",
       "      <td>구름많음</td>\n",
       "    </tr>\n",
       "    <tr>\n",
       "      <th>3</th>\n",
       "      <td>202301010500</td>\n",
       "      <td>202301021200</td>\n",
       "      <td>A02</td>\n",
       "      <td>3</td>\n",
       "      <td>109</td>\n",
       "      <td>2</td>\n",
       "      <td>NW</td>\n",
       "      <td>1</td>\n",
       "      <td>N</td>\n",
       "      <td>0</td>\n",
       "      <td>10</td>\n",
       "      <td>DB01</td>\n",
       "      <td>0</td>\n",
       "      <td>맑음</td>\n",
       "    </tr>\n",
       "    <tr>\n",
       "      <th>4</th>\n",
       "      <td>202301010500</td>\n",
       "      <td>202301030000</td>\n",
       "      <td>A02</td>\n",
       "      <td>4</td>\n",
       "      <td>109</td>\n",
       "      <td>2</td>\n",
       "      <td>NW</td>\n",
       "      <td>1</td>\n",
       "      <td>N</td>\n",
       "      <td>-3</td>\n",
       "      <td>10</td>\n",
       "      <td>DB03</td>\n",
       "      <td>0</td>\n",
       "      <td>구름많음</td>\n",
       "    </tr>\n",
       "    <tr>\n",
       "      <th>...</th>\n",
       "      <td>...</td>\n",
       "      <td>...</td>\n",
       "      <td>...</td>\n",
       "      <td>...</td>\n",
       "      <td>...</td>\n",
       "      <td>...</td>\n",
       "      <td>...</td>\n",
       "      <td>...</td>\n",
       "      <td>...</td>\n",
       "      <td>...</td>\n",
       "      <td>...</td>\n",
       "      <td>...</td>\n",
       "      <td>...</td>\n",
       "      <td>...</td>\n",
       "    </tr>\n",
       "    <tr>\n",
       "      <th>342499</th>\n",
       "      <td>202303121700</td>\n",
       "      <td>202303141200</td>\n",
       "      <td>A02</td>\n",
       "      <td>4</td>\n",
       "      <td>156</td>\n",
       "      <td>2</td>\n",
       "      <td>SE</td>\n",
       "      <td>1</td>\n",
       "      <td>S</td>\n",
       "      <td>16</td>\n",
       "      <td>0</td>\n",
       "      <td>DB01</td>\n",
       "      <td>0</td>\n",
       "      <td>맑음</td>\n",
       "    </tr>\n",
       "    <tr>\n",
       "      <th>342500</th>\n",
       "      <td>202303121700</td>\n",
       "      <td>202303150000</td>\n",
       "      <td>A02</td>\n",
       "      <td>5</td>\n",
       "      <td>156</td>\n",
       "      <td>2</td>\n",
       "      <td>S</td>\n",
       "      <td>1</td>\n",
       "      <td>SW</td>\n",
       "      <td>6</td>\n",
       "      <td>0</td>\n",
       "      <td>DB01</td>\n",
       "      <td>0</td>\n",
       "      <td>맑음</td>\n",
       "    </tr>\n",
       "    <tr>\n",
       "      <th>342501</th>\n",
       "      <td>202303121700</td>\n",
       "      <td>202303151200</td>\n",
       "      <td>A02</td>\n",
       "      <td>6</td>\n",
       "      <td>156</td>\n",
       "      <td>2</td>\n",
       "      <td>NW</td>\n",
       "      <td>1</td>\n",
       "      <td>N</td>\n",
       "      <td>18</td>\n",
       "      <td>30</td>\n",
       "      <td>DB04</td>\n",
       "      <td>0</td>\n",
       "      <td>흐림</td>\n",
       "    </tr>\n",
       "    <tr>\n",
       "      <th>342502</th>\n",
       "      <td>202303121700</td>\n",
       "      <td>202303160000</td>\n",
       "      <td>A02</td>\n",
       "      <td>7</td>\n",
       "      <td>156</td>\n",
       "      <td>2</td>\n",
       "      <td>N</td>\n",
       "      <td>1</td>\n",
       "      <td>NE</td>\n",
       "      <td>4</td>\n",
       "      <td>30</td>\n",
       "      <td>DB04</td>\n",
       "      <td>0</td>\n",
       "      <td>흐림</td>\n",
       "    </tr>\n",
       "    <tr>\n",
       "      <th>342503</th>\n",
       "      <td>202303121700</td>\n",
       "      <td>202303161200</td>\n",
       "      <td>A02</td>\n",
       "      <td>8</td>\n",
       "      <td>156</td>\n",
       "      <td>2</td>\n",
       "      <td>N</td>\n",
       "      <td>1</td>\n",
       "      <td>NE</td>\n",
       "      <td>15</td>\n",
       "      <td>30</td>\n",
       "      <td>DB04</td>\n",
       "      <td>0</td>\n",
       "      <td>흐림</td>\n",
       "    </tr>\n",
       "  </tbody>\n",
       "</table>\n",
       "<p>342504 rows × 14 columns</p>\n",
       "</div>"
      ],
      "text/plain": [
       "               TM_FC         TM_EF  MOD  NE  STN  C  W1  T  W2  TA  ST   SKY  \\\n",
       "0       202301010500  202301010000  A02   0  109  2   N  1  NE -99   0  DB01   \n",
       "1       202301010500  202301011200  A02   1  109  2  NW  1   N   2  10  DB03   \n",
       "2       202301010500  202301020000  A02   2  109  2  NW  1   N  -4  10  DB03   \n",
       "3       202301010500  202301021200  A02   3  109  2  NW  1   N   0  10  DB01   \n",
       "4       202301010500  202301030000  A02   4  109  2  NW  1   N  -3  10  DB03   \n",
       "...              ...           ...  ...  ..  ... ..  .. ..  ..  ..  ..   ...   \n",
       "342499  202303121700  202303141200  A02   4  156  2  SE  1   S  16   0  DB01   \n",
       "342500  202303121700  202303150000  A02   5  156  2   S  1  SW   6   0  DB01   \n",
       "342501  202303121700  202303151200  A02   6  156  2  NW  1   N  18  30  DB04   \n",
       "342502  202303121700  202303160000  A02   7  156  2   N  1  NE   4  30  DB04   \n",
       "342503  202303121700  202303161200  A02   8  156  2   N  1  NE  15  30  DB04   \n",
       "\n",
       "        PREP    WF  \n",
       "0          0    맑음  \n",
       "1          0  구름많음  \n",
       "2          0  구름많음  \n",
       "3          0    맑음  \n",
       "4          0  구름많음  \n",
       "...      ...   ...  \n",
       "342499     0    맑음  \n",
       "342500     0    맑음  \n",
       "342501     0    흐림  \n",
       "342502     0    흐림  \n",
       "342503     0    흐림  \n",
       "\n",
       "[342504 rows x 14 columns]"
      ]
     },
     "execution_count": 5,
     "metadata": {},
     "output_type": "execute_result"
    }
   ],
   "source": [
    "df3"
   ]
  },
  {
   "cell_type": "code",
   "execution_count": 7,
   "id": "357877b3",
   "metadata": {
    "ExecuteTime": {
     "end_time": "2023-06-19T16:38:15.599407Z",
     "start_time": "2023-06-19T16:38:15.580037Z"
    }
   },
   "outputs": [],
   "source": [
    "df3['TM_FC'] = df3['TM_FC'].astype('int64')"
   ]
  },
  {
   "cell_type": "code",
   "execution_count": 9,
   "id": "eed76359",
   "metadata": {
    "ExecuteTime": {
     "end_time": "2023-06-19T16:38:41.704740Z",
     "start_time": "2023-06-19T16:38:38.828043Z"
    }
   },
   "outputs": [
    {
     "data": {
      "text/html": [
       "<div>\n",
       "<style scoped>\n",
       "    .dataframe tbody tr th:only-of-type {\n",
       "        vertical-align: middle;\n",
       "    }\n",
       "\n",
       "    .dataframe tbody tr th {\n",
       "        vertical-align: top;\n",
       "    }\n",
       "\n",
       "    .dataframe thead th {\n",
       "        text-align: right;\n",
       "    }\n",
       "</style>\n",
       "<table border=\"1\" class=\"dataframe\">\n",
       "  <thead>\n",
       "    <tr style=\"text-align: right;\">\n",
       "      <th></th>\n",
       "      <th>TM_FC</th>\n",
       "      <th>TM_EF</th>\n",
       "      <th>MOD</th>\n",
       "      <th>NE</th>\n",
       "      <th>STN</th>\n",
       "      <th>C</th>\n",
       "      <th>W1</th>\n",
       "      <th>T</th>\n",
       "      <th>W2</th>\n",
       "      <th>TA</th>\n",
       "      <th>ST</th>\n",
       "      <th>SKY</th>\n",
       "      <th>PREP</th>\n",
       "      <th>WF</th>\n",
       "    </tr>\n",
       "  </thead>\n",
       "  <tbody>\n",
       "    <tr>\n",
       "      <th>0</th>\n",
       "      <td>201301010500</td>\n",
       "      <td>201301011200</td>\n",
       "      <td>A02</td>\n",
       "      <td>1</td>\n",
       "      <td>112</td>\n",
       "      <td>2</td>\n",
       "      <td>NW</td>\n",
       "      <td>1</td>\n",
       "      <td>N</td>\n",
       "      <td>1</td>\n",
       "      <td>60</td>\n",
       "      <td>DB04</td>\n",
       "      <td>3</td>\n",
       "      <td>흐리고 한때 눈</td>\n",
       "    </tr>\n",
       "    <tr>\n",
       "      <th>1</th>\n",
       "      <td>201301010500</td>\n",
       "      <td>201301020000</td>\n",
       "      <td>A02</td>\n",
       "      <td>2</td>\n",
       "      <td>112</td>\n",
       "      <td>2</td>\n",
       "      <td>NW</td>\n",
       "      <td>1</td>\n",
       "      <td>N</td>\n",
       "      <td>-10</td>\n",
       "      <td>70</td>\n",
       "      <td>DB04</td>\n",
       "      <td>3</td>\n",
       "      <td>흐리고 눈</td>\n",
       "    </tr>\n",
       "    <tr>\n",
       "      <th>2</th>\n",
       "      <td>201301010500</td>\n",
       "      <td>201301021200</td>\n",
       "      <td>A02</td>\n",
       "      <td>3</td>\n",
       "      <td>112</td>\n",
       "      <td>2</td>\n",
       "      <td>NW</td>\n",
       "      <td>1</td>\n",
       "      <td>N</td>\n",
       "      <td>-9</td>\n",
       "      <td>60</td>\n",
       "      <td>DB04</td>\n",
       "      <td>3</td>\n",
       "      <td>흐리고 한때 눈</td>\n",
       "    </tr>\n",
       "    <tr>\n",
       "      <th>3</th>\n",
       "      <td>201301010500</td>\n",
       "      <td>201301010000</td>\n",
       "      <td>A02</td>\n",
       "      <td>0</td>\n",
       "      <td>108</td>\n",
       "      <td>2</td>\n",
       "      <td>E</td>\n",
       "      <td>1</td>\n",
       "      <td>SE</td>\n",
       "      <td>-99</td>\n",
       "      <td>60</td>\n",
       "      <td>DB04</td>\n",
       "      <td>3</td>\n",
       "      <td>흐리고 한때 눈</td>\n",
       "    </tr>\n",
       "    <tr>\n",
       "      <th>4</th>\n",
       "      <td>201301010500</td>\n",
       "      <td>201301011200</td>\n",
       "      <td>A02</td>\n",
       "      <td>1</td>\n",
       "      <td>108</td>\n",
       "      <td>2</td>\n",
       "      <td>SW</td>\n",
       "      <td>1</td>\n",
       "      <td>W</td>\n",
       "      <td>-1</td>\n",
       "      <td>60</td>\n",
       "      <td>DB04</td>\n",
       "      <td>3</td>\n",
       "      <td>흐리고 가끔 눈</td>\n",
       "    </tr>\n",
       "    <tr>\n",
       "      <th>...</th>\n",
       "      <td>...</td>\n",
       "      <td>...</td>\n",
       "      <td>...</td>\n",
       "      <td>...</td>\n",
       "      <td>...</td>\n",
       "      <td>...</td>\n",
       "      <td>...</td>\n",
       "      <td>...</td>\n",
       "      <td>...</td>\n",
       "      <td>...</td>\n",
       "      <td>...</td>\n",
       "      <td>...</td>\n",
       "      <td>...</td>\n",
       "      <td>...</td>\n",
       "    </tr>\n",
       "    <tr>\n",
       "      <th>11530274</th>\n",
       "      <td>202303121700</td>\n",
       "      <td>202303141200</td>\n",
       "      <td>A02</td>\n",
       "      <td>4</td>\n",
       "      <td>156</td>\n",
       "      <td>2</td>\n",
       "      <td>SE</td>\n",
       "      <td>1</td>\n",
       "      <td>S</td>\n",
       "      <td>16</td>\n",
       "      <td>0</td>\n",
       "      <td>DB01</td>\n",
       "      <td>0</td>\n",
       "      <td>맑음</td>\n",
       "    </tr>\n",
       "    <tr>\n",
       "      <th>11530275</th>\n",
       "      <td>202303121700</td>\n",
       "      <td>202303150000</td>\n",
       "      <td>A02</td>\n",
       "      <td>5</td>\n",
       "      <td>156</td>\n",
       "      <td>2</td>\n",
       "      <td>S</td>\n",
       "      <td>1</td>\n",
       "      <td>SW</td>\n",
       "      <td>6</td>\n",
       "      <td>0</td>\n",
       "      <td>DB01</td>\n",
       "      <td>0</td>\n",
       "      <td>맑음</td>\n",
       "    </tr>\n",
       "    <tr>\n",
       "      <th>11530276</th>\n",
       "      <td>202303121700</td>\n",
       "      <td>202303151200</td>\n",
       "      <td>A02</td>\n",
       "      <td>6</td>\n",
       "      <td>156</td>\n",
       "      <td>2</td>\n",
       "      <td>NW</td>\n",
       "      <td>1</td>\n",
       "      <td>N</td>\n",
       "      <td>18</td>\n",
       "      <td>30</td>\n",
       "      <td>DB04</td>\n",
       "      <td>0</td>\n",
       "      <td>흐림</td>\n",
       "    </tr>\n",
       "    <tr>\n",
       "      <th>11530277</th>\n",
       "      <td>202303121700</td>\n",
       "      <td>202303160000</td>\n",
       "      <td>A02</td>\n",
       "      <td>7</td>\n",
       "      <td>156</td>\n",
       "      <td>2</td>\n",
       "      <td>N</td>\n",
       "      <td>1</td>\n",
       "      <td>NE</td>\n",
       "      <td>4</td>\n",
       "      <td>30</td>\n",
       "      <td>DB04</td>\n",
       "      <td>0</td>\n",
       "      <td>흐림</td>\n",
       "    </tr>\n",
       "    <tr>\n",
       "      <th>11530278</th>\n",
       "      <td>202303121700</td>\n",
       "      <td>202303161200</td>\n",
       "      <td>A02</td>\n",
       "      <td>8</td>\n",
       "      <td>156</td>\n",
       "      <td>2</td>\n",
       "      <td>N</td>\n",
       "      <td>1</td>\n",
       "      <td>NE</td>\n",
       "      <td>15</td>\n",
       "      <td>30</td>\n",
       "      <td>DB04</td>\n",
       "      <td>0</td>\n",
       "      <td>흐림</td>\n",
       "    </tr>\n",
       "  </tbody>\n",
       "</table>\n",
       "<p>11530279 rows × 14 columns</p>\n",
       "</div>"
      ],
      "text/plain": [
       "                 TM_FC         TM_EF  MOD  NE  STN  C  W1  T  W2  TA  ST  \\\n",
       "0         201301010500  201301011200  A02   1  112  2  NW  1   N   1  60   \n",
       "1         201301010500  201301020000  A02   2  112  2  NW  1   N -10  70   \n",
       "2         201301010500  201301021200  A02   3  112  2  NW  1   N  -9  60   \n",
       "3         201301010500  201301010000  A02   0  108  2   E  1  SE -99  60   \n",
       "4         201301010500  201301011200  A02   1  108  2  SW  1   W  -1  60   \n",
       "...                ...           ...  ...  ..  ... ..  .. ..  ..  ..  ..   \n",
       "11530274  202303121700  202303141200  A02   4  156  2  SE  1   S  16   0   \n",
       "11530275  202303121700  202303150000  A02   5  156  2   S  1  SW   6   0   \n",
       "11530276  202303121700  202303151200  A02   6  156  2  NW  1   N  18  30   \n",
       "11530277  202303121700  202303160000  A02   7  156  2   N  1  NE   4  30   \n",
       "11530278  202303121700  202303161200  A02   8  156  2   N  1  NE  15  30   \n",
       "\n",
       "           SKY  PREP        WF  \n",
       "0         DB04     3  흐리고 한때 눈  \n",
       "1         DB04     3     흐리고 눈  \n",
       "2         DB04     3  흐리고 한때 눈  \n",
       "3         DB04     3  흐리고 한때 눈  \n",
       "4         DB04     3  흐리고 가끔 눈  \n",
       "...        ...   ...       ...  \n",
       "11530274  DB01     0        맑음  \n",
       "11530275  DB01     0        맑음  \n",
       "11530276  DB04     0        흐림  \n",
       "11530277  DB04     0        흐림  \n",
       "11530278  DB04     0        흐림  \n",
       "\n",
       "[11530279 rows x 14 columns]"
      ]
     },
     "execution_count": 9,
     "metadata": {},
     "output_type": "execute_result"
    }
   ],
   "source": [
    "df = pd.concat([df1, df2, df3]).reset_index()\n",
    "df.drop(columns='index', inplace=True)\n",
    "df"
   ]
  },
  {
   "cell_type": "code",
   "execution_count": 15,
   "id": "9b2ea0b0",
   "metadata": {
    "ExecuteTime": {
     "end_time": "2023-06-19T16:39:38.681425Z",
     "start_time": "2023-06-19T16:39:37.239103Z"
    },
    "scrolled": false
   },
   "outputs": [
    {
     "data": {
      "text/html": [
       "<div>\n",
       "<style scoped>\n",
       "    .dataframe tbody tr th:only-of-type {\n",
       "        vertical-align: middle;\n",
       "    }\n",
       "\n",
       "    .dataframe tbody tr th {\n",
       "        vertical-align: top;\n",
       "    }\n",
       "\n",
       "    .dataframe thead th {\n",
       "        text-align: right;\n",
       "    }\n",
       "</style>\n",
       "<table border=\"1\" class=\"dataframe\">\n",
       "  <thead>\n",
       "    <tr style=\"text-align: right;\">\n",
       "      <th></th>\n",
       "      <th>TM_FC</th>\n",
       "      <th>TM_EF</th>\n",
       "      <th>MOD</th>\n",
       "      <th>NE</th>\n",
       "      <th>STN</th>\n",
       "      <th>C</th>\n",
       "      <th>W1</th>\n",
       "      <th>T</th>\n",
       "      <th>W2</th>\n",
       "      <th>TA</th>\n",
       "      <th>ST</th>\n",
       "      <th>SKY</th>\n",
       "      <th>PREP</th>\n",
       "      <th>WF</th>\n",
       "    </tr>\n",
       "  </thead>\n",
       "  <tbody>\n",
       "    <tr>\n",
       "      <th>0</th>\n",
       "      <td>201201010500</td>\n",
       "      <td>201201011200</td>\n",
       "      <td>A02</td>\n",
       "      <td>1</td>\n",
       "      <td>112</td>\n",
       "      <td>2</td>\n",
       "      <td>NW</td>\n",
       "      <td>1</td>\n",
       "      <td>N</td>\n",
       "      <td>1</td>\n",
       "      <td>10</td>\n",
       "      <td>DB02</td>\n",
       "      <td>0</td>\n",
       "      <td>구름조금</td>\n",
       "    </tr>\n",
       "    <tr>\n",
       "      <th>1</th>\n",
       "      <td>201201010500</td>\n",
       "      <td>201201011200</td>\n",
       "      <td>A02</td>\n",
       "      <td>1</td>\n",
       "      <td>101</td>\n",
       "      <td>2</td>\n",
       "      <td>NW</td>\n",
       "      <td>1</td>\n",
       "      <td>N</td>\n",
       "      <td>0</td>\n",
       "      <td>20</td>\n",
       "      <td>DB02</td>\n",
       "      <td>0</td>\n",
       "      <td>구름많음</td>\n",
       "    </tr>\n",
       "    <tr>\n",
       "      <th>2</th>\n",
       "      <td>201201010500</td>\n",
       "      <td>201201021200</td>\n",
       "      <td>A02</td>\n",
       "      <td>3</td>\n",
       "      <td>101</td>\n",
       "      <td>2</td>\n",
       "      <td>W</td>\n",
       "      <td>1</td>\n",
       "      <td>NW</td>\n",
       "      <td>0</td>\n",
       "      <td>10</td>\n",
       "      <td>DB02</td>\n",
       "      <td>0</td>\n",
       "      <td>구름조금</td>\n",
       "    </tr>\n",
       "    <tr>\n",
       "      <th>3</th>\n",
       "      <td>201201010500</td>\n",
       "      <td>201201011200</td>\n",
       "      <td>A02</td>\n",
       "      <td>1</td>\n",
       "      <td>112</td>\n",
       "      <td>2</td>\n",
       "      <td>NW</td>\n",
       "      <td>1</td>\n",
       "      <td>N</td>\n",
       "      <td>1</td>\n",
       "      <td>10</td>\n",
       "      <td>DB02</td>\n",
       "      <td>0</td>\n",
       "      <td>구름조금</td>\n",
       "    </tr>\n",
       "    <tr>\n",
       "      <th>4</th>\n",
       "      <td>201201010500</td>\n",
       "      <td>201201020000</td>\n",
       "      <td>A02</td>\n",
       "      <td>2</td>\n",
       "      <td>112</td>\n",
       "      <td>2</td>\n",
       "      <td>NW</td>\n",
       "      <td>1</td>\n",
       "      <td>N</td>\n",
       "      <td>-4</td>\n",
       "      <td>10</td>\n",
       "      <td>DB02</td>\n",
       "      <td>0</td>\n",
       "      <td>구름조금</td>\n",
       "    </tr>\n",
       "    <tr>\n",
       "      <th>...</th>\n",
       "      <td>...</td>\n",
       "      <td>...</td>\n",
       "      <td>...</td>\n",
       "      <td>...</td>\n",
       "      <td>...</td>\n",
       "      <td>...</td>\n",
       "      <td>...</td>\n",
       "      <td>...</td>\n",
       "      <td>...</td>\n",
       "      <td>...</td>\n",
       "      <td>...</td>\n",
       "      <td>...</td>\n",
       "      <td>...</td>\n",
       "      <td>...</td>\n",
       "    </tr>\n",
       "    <tr>\n",
       "      <th>11530274</th>\n",
       "      <td>202303121700</td>\n",
       "      <td>202303131200</td>\n",
       "      <td>A02</td>\n",
       "      <td>2</td>\n",
       "      <td>156</td>\n",
       "      <td>2</td>\n",
       "      <td>S</td>\n",
       "      <td>1</td>\n",
       "      <td>SW</td>\n",
       "      <td>8</td>\n",
       "      <td>10</td>\n",
       "      <td>DB01</td>\n",
       "      <td>0</td>\n",
       "      <td>맑음</td>\n",
       "    </tr>\n",
       "    <tr>\n",
       "      <th>11530275</th>\n",
       "      <td>202303121700</td>\n",
       "      <td>202303140000</td>\n",
       "      <td>A02</td>\n",
       "      <td>3</td>\n",
       "      <td>156</td>\n",
       "      <td>2</td>\n",
       "      <td>SE</td>\n",
       "      <td>1</td>\n",
       "      <td>S</td>\n",
       "      <td>0</td>\n",
       "      <td>0</td>\n",
       "      <td>DB01</td>\n",
       "      <td>0</td>\n",
       "      <td>맑음</td>\n",
       "    </tr>\n",
       "    <tr>\n",
       "      <th>11530276</th>\n",
       "      <td>202303121700</td>\n",
       "      <td>202303141200</td>\n",
       "      <td>A02</td>\n",
       "      <td>4</td>\n",
       "      <td>156</td>\n",
       "      <td>2</td>\n",
       "      <td>SE</td>\n",
       "      <td>1</td>\n",
       "      <td>S</td>\n",
       "      <td>16</td>\n",
       "      <td>0</td>\n",
       "      <td>DB01</td>\n",
       "      <td>0</td>\n",
       "      <td>맑음</td>\n",
       "    </tr>\n",
       "    <tr>\n",
       "      <th>11530277</th>\n",
       "      <td>202303121700</td>\n",
       "      <td>202303150000</td>\n",
       "      <td>A02</td>\n",
       "      <td>5</td>\n",
       "      <td>107</td>\n",
       "      <td>2</td>\n",
       "      <td>SE</td>\n",
       "      <td>1</td>\n",
       "      <td>S</td>\n",
       "      <td>2</td>\n",
       "      <td>60</td>\n",
       "      <td>DB04</td>\n",
       "      <td>1</td>\n",
       "      <td>흐리고 한때 비</td>\n",
       "    </tr>\n",
       "    <tr>\n",
       "      <th>11530278</th>\n",
       "      <td>202303121700</td>\n",
       "      <td>202303161200</td>\n",
       "      <td>A02</td>\n",
       "      <td>8</td>\n",
       "      <td>156</td>\n",
       "      <td>2</td>\n",
       "      <td>N</td>\n",
       "      <td>1</td>\n",
       "      <td>NE</td>\n",
       "      <td>15</td>\n",
       "      <td>30</td>\n",
       "      <td>DB04</td>\n",
       "      <td>0</td>\n",
       "      <td>흐림</td>\n",
       "    </tr>\n",
       "  </tbody>\n",
       "</table>\n",
       "<p>11530279 rows × 14 columns</p>\n",
       "</div>"
      ],
      "text/plain": [
       "                 TM_FC         TM_EF  MOD  NE  STN  C  W1  T  W2  TA  ST  \\\n",
       "0         201201010500  201201011200  A02   1  112  2  NW  1   N   1  10   \n",
       "1         201201010500  201201011200  A02   1  101  2  NW  1   N   0  20   \n",
       "2         201201010500  201201021200  A02   3  101  2   W  1  NW   0  10   \n",
       "3         201201010500  201201011200  A02   1  112  2  NW  1   N   1  10   \n",
       "4         201201010500  201201020000  A02   2  112  2  NW  1   N  -4  10   \n",
       "...                ...           ...  ...  ..  ... ..  .. ..  ..  ..  ..   \n",
       "11530274  202303121700  202303131200  A02   2  156  2   S  1  SW   8  10   \n",
       "11530275  202303121700  202303140000  A02   3  156  2  SE  1   S   0   0   \n",
       "11530276  202303121700  202303141200  A02   4  156  2  SE  1   S  16   0   \n",
       "11530277  202303121700  202303150000  A02   5  107  2  SE  1   S   2  60   \n",
       "11530278  202303121700  202303161200  A02   8  156  2   N  1  NE  15  30   \n",
       "\n",
       "           SKY  PREP        WF  \n",
       "0         DB02     0      구름조금  \n",
       "1         DB02     0      구름많음  \n",
       "2         DB02     0      구름조금  \n",
       "3         DB02     0      구름조금  \n",
       "4         DB02     0      구름조금  \n",
       "...        ...   ...       ...  \n",
       "11530274  DB01     0        맑음  \n",
       "11530275  DB01     0        맑음  \n",
       "11530276  DB01     0        맑음  \n",
       "11530277  DB04     1  흐리고 한때 비  \n",
       "11530278  DB04     0        흐림  \n",
       "\n",
       "[11530279 rows x 14 columns]"
      ]
     },
     "execution_count": 15,
     "metadata": {},
     "output_type": "execute_result"
    }
   ],
   "source": [
    "df = df.sort_values(by='TM_FC', ascending=True)\n",
    "df = df.reset_index(drop=True)\n",
    "df"
   ]
  },
  {
   "cell_type": "markdown",
   "id": "73a7b8cd",
   "metadata": {},
   "source": [
    "------"
   ]
  },
  {
   "cell_type": "code",
   "execution_count": null,
   "id": "904ca729",
   "metadata": {
    "ExecuteTime": {
     "end_time": "2023-06-19T09:52:34.374654Z",
     "start_time": "2023-06-19T09:51:32.299055Z"
    }
   },
   "outputs": [],
   "source": [
    "df2 = pd.read_csv('G:/내 드라이브/취업/Contest/2307_PublicData/data/적설관측자료(2023).csv')\n",
    "df2"
   ]
  },
  {
   "cell_type": "code",
   "execution_count": null,
   "id": "2bb77f34",
   "metadata": {
    "ExecuteTime": {
     "end_time": "2023-06-19T09:55:44.004505Z",
     "start_time": "2023-06-19T09:55:43.968056Z"
    },
    "scrolled": true
   },
   "outputs": [],
   "source": [
    "for i in df2['STN.1'].value_counts().index : print(i)"
   ]
  },
  {
   "cell_type": "code",
   "execution_count": 16,
   "id": "a0f55a9f",
   "metadata": {
    "ExecuteTime": {
     "end_time": "2023-06-19T16:40:28.661060Z",
     "start_time": "2023-06-19T16:40:02.494638Z"
    }
   },
   "outputs": [],
   "source": [
    "df.to_csv('단기육상예보.csv')"
   ]
  },
  {
   "cell_type": "code",
   "execution_count": null,
   "id": "e70ceea5",
   "metadata": {
    "ExecuteTime": {
     "end_time": "2023-06-19T13:25:29.421642Z",
     "start_time": "2023-06-19T13:25:26.551319Z"
    }
   },
   "outputs": [],
   "source": [
    "df_2023.to_csv('단기육상예보_3차.csv')"
   ]
  },
  {
   "cell_type": "code",
   "execution_count": null,
   "id": "3e384b8d",
   "metadata": {},
   "outputs": [],
   "source": []
  }
 ],
 "metadata": {
  "kernelspec": {
   "display_name": "Python 3 (ipykernel)",
   "language": "python",
   "name": "python3"
  },
  "language_info": {
   "codemirror_mode": {
    "name": "ipython",
    "version": 3
   },
   "file_extension": ".py",
   "mimetype": "text/x-python",
   "name": "python",
   "nbconvert_exporter": "python",
   "pygments_lexer": "ipython3",
   "version": "3.11.4"
  },
  "toc": {
   "base_numbering": 1,
   "nav_menu": {},
   "number_sections": false,
   "sideBar": true,
   "skip_h1_title": false,
   "title_cell": "Table of Contents",
   "title_sidebar": "Contents",
   "toc_cell": false,
   "toc_position": {
    "height": "calc(100% - 180px)",
    "left": "10px",
    "top": "150px",
    "width": "206.219px"
   },
   "toc_section_display": true,
   "toc_window_display": true
  }
 },
 "nbformat": 4,
 "nbformat_minor": 5
}
