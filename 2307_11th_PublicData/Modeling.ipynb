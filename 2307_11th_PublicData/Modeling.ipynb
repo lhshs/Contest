{
 "cells": [
  {
   "cell_type": "code",
   "execution_count": 2,
   "id": "94018ae5",
   "metadata": {
    "ExecuteTime": {
     "end_time": "2023-07-01T10:10:40.025806Z",
     "start_time": "2023-07-01T10:10:39.054057Z"
    }
   },
   "outputs": [],
   "source": [
    "import pandas as pd\n",
    "import numpy as np\n",
    "import matplotlib.pyplot as plt\n",
    "\n",
    "# 한글 폰트 설정\n",
    "plt.rc('font', family='Malgun Gothic')\n",
    "plt.rcParams['axes.unicode_minus'] = False\n",
    "plt.rcParams['agg.path.chunksize'] = 10000\n",
    "\n",
    "from tqdm import tqdm\n",
    "\n",
    "import warnings\n",
    "warnings.filterwarnings('ignore')"
   ]
  },
  {
   "cell_type": "code",
   "execution_count": 23,
   "id": "76b0735a",
   "metadata": {
    "ExecuteTime": {
     "end_time": "2023-07-01T10:28:54.234628Z",
     "start_time": "2023-07-01T10:28:13.615554Z"
    }
   },
   "outputs": [
    {
     "ename": "ParserError",
     "evalue": "Error tokenizing data. C error: Calling read(nbytes) on source failed. Try engine='python'.",
     "output_type": "error",
     "traceback": [
      "\u001b[1;31m---------------------------------------------------------------------------\u001b[0m",
      "\u001b[1;31mParserError\u001b[0m                               Traceback (most recent call last)",
      "Input \u001b[1;32mIn [23]\u001b[0m, in \u001b[0;36m<cell line: 1>\u001b[1;34m()\u001b[0m\n\u001b[1;32m----> 1\u001b[0m test \u001b[38;5;241m=\u001b[39m \u001b[43mpd\u001b[49m\u001b[38;5;241;43m.\u001b[39;49m\u001b[43mread_csv\u001b[49m\u001b[43m(\u001b[49m\u001b[38;5;124;43m'\u001b[39;49m\u001b[38;5;124;43mG:/내 드라이브/취업/Contest/2307_PublicData/data/5분단위_전력수요량_최근포함.csv\u001b[39;49m\u001b[38;5;124;43m'\u001b[39;49m\u001b[43m,\u001b[49m\u001b[43m \u001b[49m\u001b[43msep\u001b[49m\u001b[38;5;241;43m=\u001b[39;49m\u001b[38;5;124;43m'\u001b[39;49m\u001b[38;5;124;43m,\u001b[39;49m\u001b[38;5;124;43m'\u001b[39;49m\u001b[43m,\u001b[49m\u001b[43m \u001b[49m\u001b[43mindex_col\u001b[49m\u001b[38;5;241;43m=\u001b[39;49m\u001b[38;5;241;43m0\u001b[39;49m\u001b[43m)\u001b[49m\n",
      "File \u001b[1;32mc:\\python38-64\\lib\\site-packages\\pandas\\util\\_decorators.py:211\u001b[0m, in \u001b[0;36mdeprecate_kwarg.<locals>._deprecate_kwarg.<locals>.wrapper\u001b[1;34m(*args, **kwargs)\u001b[0m\n\u001b[0;32m    209\u001b[0m     \u001b[38;5;28;01melse\u001b[39;00m:\n\u001b[0;32m    210\u001b[0m         kwargs[new_arg_name] \u001b[38;5;241m=\u001b[39m new_arg_value\n\u001b[1;32m--> 211\u001b[0m \u001b[38;5;28;01mreturn\u001b[39;00m \u001b[43mfunc\u001b[49m\u001b[43m(\u001b[49m\u001b[38;5;241;43m*\u001b[39;49m\u001b[43margs\u001b[49m\u001b[43m,\u001b[49m\u001b[43m \u001b[49m\u001b[38;5;241;43m*\u001b[39;49m\u001b[38;5;241;43m*\u001b[39;49m\u001b[43mkwargs\u001b[49m\u001b[43m)\u001b[49m\n",
      "File \u001b[1;32mc:\\python38-64\\lib\\site-packages\\pandas\\util\\_decorators.py:331\u001b[0m, in \u001b[0;36mdeprecate_nonkeyword_arguments.<locals>.decorate.<locals>.wrapper\u001b[1;34m(*args, **kwargs)\u001b[0m\n\u001b[0;32m    325\u001b[0m \u001b[38;5;28;01mif\u001b[39;00m \u001b[38;5;28mlen\u001b[39m(args) \u001b[38;5;241m>\u001b[39m num_allow_args:\n\u001b[0;32m    326\u001b[0m     warnings\u001b[38;5;241m.\u001b[39mwarn(\n\u001b[0;32m    327\u001b[0m         msg\u001b[38;5;241m.\u001b[39mformat(arguments\u001b[38;5;241m=\u001b[39m_format_argument_list(allow_args)),\n\u001b[0;32m    328\u001b[0m         \u001b[38;5;167;01mFutureWarning\u001b[39;00m,\n\u001b[0;32m    329\u001b[0m         stacklevel\u001b[38;5;241m=\u001b[39mfind_stack_level(),\n\u001b[0;32m    330\u001b[0m     )\n\u001b[1;32m--> 331\u001b[0m \u001b[38;5;28;01mreturn\u001b[39;00m \u001b[43mfunc\u001b[49m\u001b[43m(\u001b[49m\u001b[38;5;241;43m*\u001b[39;49m\u001b[43margs\u001b[49m\u001b[43m,\u001b[49m\u001b[43m \u001b[49m\u001b[38;5;241;43m*\u001b[39;49m\u001b[38;5;241;43m*\u001b[39;49m\u001b[43mkwargs\u001b[49m\u001b[43m)\u001b[49m\n",
      "File \u001b[1;32mc:\\python38-64\\lib\\site-packages\\pandas\\io\\parsers\\readers.py:950\u001b[0m, in \u001b[0;36mread_csv\u001b[1;34m(filepath_or_buffer, sep, delimiter, header, names, index_col, usecols, squeeze, prefix, mangle_dupe_cols, dtype, engine, converters, true_values, false_values, skipinitialspace, skiprows, skipfooter, nrows, na_values, keep_default_na, na_filter, verbose, skip_blank_lines, parse_dates, infer_datetime_format, keep_date_col, date_parser, dayfirst, cache_dates, iterator, chunksize, compression, thousands, decimal, lineterminator, quotechar, quoting, doublequote, escapechar, comment, encoding, encoding_errors, dialect, error_bad_lines, warn_bad_lines, on_bad_lines, delim_whitespace, low_memory, memory_map, float_precision, storage_options)\u001b[0m\n\u001b[0;32m    935\u001b[0m kwds_defaults \u001b[38;5;241m=\u001b[39m _refine_defaults_read(\n\u001b[0;32m    936\u001b[0m     dialect,\n\u001b[0;32m    937\u001b[0m     delimiter,\n\u001b[1;32m   (...)\u001b[0m\n\u001b[0;32m    946\u001b[0m     defaults\u001b[38;5;241m=\u001b[39m{\u001b[38;5;124m\"\u001b[39m\u001b[38;5;124mdelimiter\u001b[39m\u001b[38;5;124m\"\u001b[39m: \u001b[38;5;124m\"\u001b[39m\u001b[38;5;124m,\u001b[39m\u001b[38;5;124m\"\u001b[39m},\n\u001b[0;32m    947\u001b[0m )\n\u001b[0;32m    948\u001b[0m kwds\u001b[38;5;241m.\u001b[39mupdate(kwds_defaults)\n\u001b[1;32m--> 950\u001b[0m \u001b[38;5;28;01mreturn\u001b[39;00m \u001b[43m_read\u001b[49m\u001b[43m(\u001b[49m\u001b[43mfilepath_or_buffer\u001b[49m\u001b[43m,\u001b[49m\u001b[43m \u001b[49m\u001b[43mkwds\u001b[49m\u001b[43m)\u001b[49m\n",
      "File \u001b[1;32mc:\\python38-64\\lib\\site-packages\\pandas\\io\\parsers\\readers.py:611\u001b[0m, in \u001b[0;36m_read\u001b[1;34m(filepath_or_buffer, kwds)\u001b[0m\n\u001b[0;32m    608\u001b[0m     \u001b[38;5;28;01mreturn\u001b[39;00m parser\n\u001b[0;32m    610\u001b[0m \u001b[38;5;28;01mwith\u001b[39;00m parser:\n\u001b[1;32m--> 611\u001b[0m     \u001b[38;5;28;01mreturn\u001b[39;00m \u001b[43mparser\u001b[49m\u001b[38;5;241;43m.\u001b[39;49m\u001b[43mread\u001b[49m\u001b[43m(\u001b[49m\u001b[43mnrows\u001b[49m\u001b[43m)\u001b[49m\n",
      "File \u001b[1;32mc:\\python38-64\\lib\\site-packages\\pandas\\io\\parsers\\readers.py:1778\u001b[0m, in \u001b[0;36mTextFileReader.read\u001b[1;34m(self, nrows)\u001b[0m\n\u001b[0;32m   1771\u001b[0m nrows \u001b[38;5;241m=\u001b[39m validate_integer(\u001b[38;5;124m\"\u001b[39m\u001b[38;5;124mnrows\u001b[39m\u001b[38;5;124m\"\u001b[39m, nrows)\n\u001b[0;32m   1772\u001b[0m \u001b[38;5;28;01mtry\u001b[39;00m:\n\u001b[0;32m   1773\u001b[0m     \u001b[38;5;66;03m# error: \"ParserBase\" has no attribute \"read\"\u001b[39;00m\n\u001b[0;32m   1774\u001b[0m     (\n\u001b[0;32m   1775\u001b[0m         index,\n\u001b[0;32m   1776\u001b[0m         columns,\n\u001b[0;32m   1777\u001b[0m         col_dict,\n\u001b[1;32m-> 1778\u001b[0m     ) \u001b[38;5;241m=\u001b[39m \u001b[38;5;28;43mself\u001b[39;49m\u001b[38;5;241;43m.\u001b[39;49m\u001b[43m_engine\u001b[49m\u001b[38;5;241;43m.\u001b[39;49m\u001b[43mread\u001b[49m\u001b[43m(\u001b[49m\u001b[43m  \u001b[49m\u001b[38;5;66;43;03m# type: ignore[attr-defined]\u001b[39;49;00m\n\u001b[0;32m   1779\u001b[0m \u001b[43m        \u001b[49m\u001b[43mnrows\u001b[49m\n\u001b[0;32m   1780\u001b[0m \u001b[43m    \u001b[49m\u001b[43m)\u001b[49m\n\u001b[0;32m   1781\u001b[0m \u001b[38;5;28;01mexcept\u001b[39;00m \u001b[38;5;167;01mException\u001b[39;00m:\n\u001b[0;32m   1782\u001b[0m     \u001b[38;5;28mself\u001b[39m\u001b[38;5;241m.\u001b[39mclose()\n",
      "File \u001b[1;32mc:\\python38-64\\lib\\site-packages\\pandas\\io\\parsers\\c_parser_wrapper.py:230\u001b[0m, in \u001b[0;36mCParserWrapper.read\u001b[1;34m(self, nrows)\u001b[0m\n\u001b[0;32m    228\u001b[0m \u001b[38;5;28;01mtry\u001b[39;00m:\n\u001b[0;32m    229\u001b[0m     \u001b[38;5;28;01mif\u001b[39;00m \u001b[38;5;28mself\u001b[39m\u001b[38;5;241m.\u001b[39mlow_memory:\n\u001b[1;32m--> 230\u001b[0m         chunks \u001b[38;5;241m=\u001b[39m \u001b[38;5;28;43mself\u001b[39;49m\u001b[38;5;241;43m.\u001b[39;49m\u001b[43m_reader\u001b[49m\u001b[38;5;241;43m.\u001b[39;49m\u001b[43mread_low_memory\u001b[49m\u001b[43m(\u001b[49m\u001b[43mnrows\u001b[49m\u001b[43m)\u001b[49m\n\u001b[0;32m    231\u001b[0m         \u001b[38;5;66;03m# destructive to chunks\u001b[39;00m\n\u001b[0;32m    232\u001b[0m         data \u001b[38;5;241m=\u001b[39m _concatenate_chunks(chunks)\n",
      "File \u001b[1;32mc:\\python38-64\\lib\\site-packages\\pandas\\_libs\\parsers.pyx:808\u001b[0m, in \u001b[0;36mpandas._libs.parsers.TextReader.read_low_memory\u001b[1;34m()\u001b[0m\n",
      "File \u001b[1;32mc:\\python38-64\\lib\\site-packages\\pandas\\_libs\\parsers.pyx:866\u001b[0m, in \u001b[0;36mpandas._libs.parsers.TextReader._read_rows\u001b[1;34m()\u001b[0m\n",
      "File \u001b[1;32mc:\\python38-64\\lib\\site-packages\\pandas\\_libs\\parsers.pyx:852\u001b[0m, in \u001b[0;36mpandas._libs.parsers.TextReader._tokenize_rows\u001b[1;34m()\u001b[0m\n",
      "File \u001b[1;32mc:\\python38-64\\lib\\site-packages\\pandas\\_libs\\parsers.pyx:1973\u001b[0m, in \u001b[0;36mpandas._libs.parsers.raise_parser_error\u001b[1;34m()\u001b[0m\n",
      "\u001b[1;31mParserError\u001b[0m: Error tokenizing data. C error: Calling read(nbytes) on source failed. Try engine='python'."
     ]
    }
   ],
   "source": [
    "test = pd.read_csv('G:/내 드라이브/취업/Contest/2307_PublicData/data/5분단위_전력수요량_최근포함.csv', sep=',', index_col=0)"
   ]
  },
  {
   "cell_type": "code",
   "execution_count": null,
   "id": "48fe995a",
   "metadata": {},
   "outputs": [],
   "source": [
    "test"
   ]
  },
  {
   "cell_type": "code",
   "execution_count": 16,
   "id": "bf6b31a3",
   "metadata": {
    "ExecuteTime": {
     "end_time": "2023-07-01T10:15:29.705678Z",
     "start_time": "2023-07-01T10:15:25.792546Z"
    }
   },
   "outputs": [],
   "source": [
    "df = pd.read_csv('G:/내 드라이브/취업/Contest/2307_PublicData/data/final_ver1.csv', sep=',', index_col=0)"
   ]
  },
  {
   "cell_type": "code",
   "execution_count": 17,
   "id": "e8ea72ed",
   "metadata": {
    "ExecuteTime": {
     "end_time": "2023-07-01T10:15:29.750558Z",
     "start_time": "2023-07-01T10:15:29.707673Z"
    },
    "scrolled": true
   },
   "outputs": [
    {
     "data": {
      "text/html": [
       "<div>\n",
       "<style scoped>\n",
       "    .dataframe tbody tr th:only-of-type {\n",
       "        vertical-align: middle;\n",
       "    }\n",
       "\n",
       "    .dataframe tbody tr th {\n",
       "        vertical-align: top;\n",
       "    }\n",
       "\n",
       "    .dataframe thead th {\n",
       "        text-align: right;\n",
       "    }\n",
       "</style>\n",
       "<table border=\"1\" class=\"dataframe\">\n",
       "  <thead>\n",
       "    <tr style=\"text-align: right;\">\n",
       "      <th></th>\n",
       "      <th>기온(°C)</th>\n",
       "      <th>강수량(mm)</th>\n",
       "      <th>풍속(m/s)</th>\n",
       "      <th>풍향(16방위)</th>\n",
       "      <th>습도(%)</th>\n",
       "      <th>증기압(hPa)</th>\n",
       "      <th>이슬점온도(°C)</th>\n",
       "      <th>현지기압(hPa)</th>\n",
       "      <th>해면기압(hPa)</th>\n",
       "      <th>적설(cm)</th>\n",
       "      <th>지면온도(°C)</th>\n",
       "      <th>5cm 지중온도(°C)</th>\n",
       "      <th>10cm 지중온도(°C)</th>\n",
       "      <th>20cm 지중온도(°C)</th>\n",
       "      <th>30cm 지중온도(°C)</th>\n",
       "      <th>현재수요(MW)</th>\n",
       "    </tr>\n",
       "    <tr>\n",
       "      <th>기준일시</th>\n",
       "      <th></th>\n",
       "      <th></th>\n",
       "      <th></th>\n",
       "      <th></th>\n",
       "      <th></th>\n",
       "      <th></th>\n",
       "      <th></th>\n",
       "      <th></th>\n",
       "      <th></th>\n",
       "      <th></th>\n",
       "      <th></th>\n",
       "      <th></th>\n",
       "      <th></th>\n",
       "      <th></th>\n",
       "      <th></th>\n",
       "      <th></th>\n",
       "    </tr>\n",
       "  </thead>\n",
       "  <tbody>\n",
       "    <tr>\n",
       "      <th>2012-06-01 00:00</th>\n",
       "      <td>16.387097</td>\n",
       "      <td>0.550000</td>\n",
       "      <td>1.196774</td>\n",
       "      <td>155.376344</td>\n",
       "      <td>84.494624</td>\n",
       "      <td>15.670968</td>\n",
       "      <td>13.632258</td>\n",
       "      <td>1004.618280</td>\n",
       "      <td>1017.255914</td>\n",
       "      <td>0.0</td>\n",
       "      <td>16.559140</td>\n",
       "      <td>20.403125</td>\n",
       "      <td>21.359375</td>\n",
       "      <td>22.046875</td>\n",
       "      <td>21.656250</td>\n",
       "      <td>51726.33</td>\n",
       "    </tr>\n",
       "    <tr>\n",
       "      <th>2012-06-01 00:05</th>\n",
       "      <td>16.344534</td>\n",
       "      <td>0.519167</td>\n",
       "      <td>1.189247</td>\n",
       "      <td>154.928315</td>\n",
       "      <td>84.643369</td>\n",
       "      <td>15.657885</td>\n",
       "      <td>13.619355</td>\n",
       "      <td>1004.589785</td>\n",
       "      <td>1017.229928</td>\n",
       "      <td>0.0</td>\n",
       "      <td>16.514337</td>\n",
       "      <td>20.355729</td>\n",
       "      <td>21.320312</td>\n",
       "      <td>22.021615</td>\n",
       "      <td>21.647396</td>\n",
       "      <td>51342.53</td>\n",
       "    </tr>\n",
       "    <tr>\n",
       "      <th>2012-06-01 00:10</th>\n",
       "      <td>16.301971</td>\n",
       "      <td>0.488333</td>\n",
       "      <td>1.181720</td>\n",
       "      <td>154.480287</td>\n",
       "      <td>84.792115</td>\n",
       "      <td>15.644803</td>\n",
       "      <td>13.606452</td>\n",
       "      <td>1004.561290</td>\n",
       "      <td>1017.203943</td>\n",
       "      <td>0.0</td>\n",
       "      <td>16.469534</td>\n",
       "      <td>20.308333</td>\n",
       "      <td>21.281250</td>\n",
       "      <td>21.996354</td>\n",
       "      <td>21.638542</td>\n",
       "      <td>51583.17</td>\n",
       "    </tr>\n",
       "    <tr>\n",
       "      <th>2012-06-01 00:15</th>\n",
       "      <td>16.259409</td>\n",
       "      <td>0.457500</td>\n",
       "      <td>1.174194</td>\n",
       "      <td>154.032258</td>\n",
       "      <td>84.940860</td>\n",
       "      <td>15.631720</td>\n",
       "      <td>13.593548</td>\n",
       "      <td>1004.532796</td>\n",
       "      <td>1017.177957</td>\n",
       "      <td>0.0</td>\n",
       "      <td>16.424731</td>\n",
       "      <td>20.260938</td>\n",
       "      <td>21.242188</td>\n",
       "      <td>21.971094</td>\n",
       "      <td>21.629687</td>\n",
       "      <td>51631.69</td>\n",
       "    </tr>\n",
       "    <tr>\n",
       "      <th>2012-06-01 00:20</th>\n",
       "      <td>16.216846</td>\n",
       "      <td>0.426667</td>\n",
       "      <td>1.166667</td>\n",
       "      <td>153.584229</td>\n",
       "      <td>85.089606</td>\n",
       "      <td>15.618638</td>\n",
       "      <td>13.580645</td>\n",
       "      <td>1004.504301</td>\n",
       "      <td>1017.151971</td>\n",
       "      <td>0.0</td>\n",
       "      <td>16.379928</td>\n",
       "      <td>20.213542</td>\n",
       "      <td>21.203125</td>\n",
       "      <td>21.945833</td>\n",
       "      <td>21.620833</td>\n",
       "      <td>51252.66</td>\n",
       "    </tr>\n",
       "    <tr>\n",
       "      <th>...</th>\n",
       "      <td>...</td>\n",
       "      <td>...</td>\n",
       "      <td>...</td>\n",
       "      <td>...</td>\n",
       "      <td>...</td>\n",
       "      <td>...</td>\n",
       "      <td>...</td>\n",
       "      <td>...</td>\n",
       "      <td>...</td>\n",
       "      <td>...</td>\n",
       "      <td>...</td>\n",
       "      <td>...</td>\n",
       "      <td>...</td>\n",
       "      <td>...</td>\n",
       "      <td>...</td>\n",
       "      <td>...</td>\n",
       "    </tr>\n",
       "    <tr>\n",
       "      <th>2023-03-12 23:35</th>\n",
       "      <td>2.080000</td>\n",
       "      <td>0.000000</td>\n",
       "      <td>5.155789</td>\n",
       "      <td>283.684211</td>\n",
       "      <td>47.126316</td>\n",
       "      <td>3.382105</td>\n",
       "      <td>-8.191579</td>\n",
       "      <td>1010.196842</td>\n",
       "      <td>1023.077895</td>\n",
       "      <td>0.8</td>\n",
       "      <td>1.409474</td>\n",
       "      <td>6.558621</td>\n",
       "      <td>8.082759</td>\n",
       "      <td>9.510345</td>\n",
       "      <td>9.882759</td>\n",
       "      <td>60235.00</td>\n",
       "    </tr>\n",
       "    <tr>\n",
       "      <th>2023-03-12 23:40</th>\n",
       "      <td>2.080000</td>\n",
       "      <td>0.000000</td>\n",
       "      <td>5.155789</td>\n",
       "      <td>283.684211</td>\n",
       "      <td>47.126316</td>\n",
       "      <td>3.382105</td>\n",
       "      <td>-8.191579</td>\n",
       "      <td>1010.196842</td>\n",
       "      <td>1023.077895</td>\n",
       "      <td>0.8</td>\n",
       "      <td>1.409474</td>\n",
       "      <td>6.558621</td>\n",
       "      <td>8.082759</td>\n",
       "      <td>9.510345</td>\n",
       "      <td>9.882759</td>\n",
       "      <td>60107.00</td>\n",
       "    </tr>\n",
       "    <tr>\n",
       "      <th>2023-03-12 23:45</th>\n",
       "      <td>2.080000</td>\n",
       "      <td>0.000000</td>\n",
       "      <td>5.155789</td>\n",
       "      <td>283.684211</td>\n",
       "      <td>47.126316</td>\n",
       "      <td>3.382105</td>\n",
       "      <td>-8.191579</td>\n",
       "      <td>1010.196842</td>\n",
       "      <td>1023.077895</td>\n",
       "      <td>0.8</td>\n",
       "      <td>1.409474</td>\n",
       "      <td>6.558621</td>\n",
       "      <td>8.082759</td>\n",
       "      <td>9.510345</td>\n",
       "      <td>9.882759</td>\n",
       "      <td>59726.00</td>\n",
       "    </tr>\n",
       "    <tr>\n",
       "      <th>2023-03-12 23:50</th>\n",
       "      <td>2.080000</td>\n",
       "      <td>0.000000</td>\n",
       "      <td>5.155789</td>\n",
       "      <td>283.684211</td>\n",
       "      <td>47.126316</td>\n",
       "      <td>3.382105</td>\n",
       "      <td>-8.191579</td>\n",
       "      <td>1010.196842</td>\n",
       "      <td>1023.077895</td>\n",
       "      <td>0.8</td>\n",
       "      <td>1.409474</td>\n",
       "      <td>6.558621</td>\n",
       "      <td>8.082759</td>\n",
       "      <td>9.510345</td>\n",
       "      <td>9.882759</td>\n",
       "      <td>59486.00</td>\n",
       "    </tr>\n",
       "    <tr>\n",
       "      <th>2023-03-12 23:55</th>\n",
       "      <td>2.080000</td>\n",
       "      <td>0.000000</td>\n",
       "      <td>5.155789</td>\n",
       "      <td>283.684211</td>\n",
       "      <td>47.126316</td>\n",
       "      <td>3.382105</td>\n",
       "      <td>-8.191579</td>\n",
       "      <td>1010.196842</td>\n",
       "      <td>1023.077895</td>\n",
       "      <td>0.8</td>\n",
       "      <td>1.409474</td>\n",
       "      <td>6.558621</td>\n",
       "      <td>8.082759</td>\n",
       "      <td>9.510345</td>\n",
       "      <td>9.882759</td>\n",
       "      <td>58930.00</td>\n",
       "    </tr>\n",
       "  </tbody>\n",
       "</table>\n",
       "<p>1132418 rows × 16 columns</p>\n",
       "</div>"
      ],
      "text/plain": [
       "                     기온(°C)   강수량(mm)   풍속(m/s)    풍향(16방위)      습도(%)  \\\n",
       "기준일시                                                                     \n",
       "2012-06-01 00:00  16.387097  0.550000  1.196774  155.376344  84.494624   \n",
       "2012-06-01 00:05  16.344534  0.519167  1.189247  154.928315  84.643369   \n",
       "2012-06-01 00:10  16.301971  0.488333  1.181720  154.480287  84.792115   \n",
       "2012-06-01 00:15  16.259409  0.457500  1.174194  154.032258  84.940860   \n",
       "2012-06-01 00:20  16.216846  0.426667  1.166667  153.584229  85.089606   \n",
       "...                     ...       ...       ...         ...        ...   \n",
       "2023-03-12 23:35   2.080000  0.000000  5.155789  283.684211  47.126316   \n",
       "2023-03-12 23:40   2.080000  0.000000  5.155789  283.684211  47.126316   \n",
       "2023-03-12 23:45   2.080000  0.000000  5.155789  283.684211  47.126316   \n",
       "2023-03-12 23:50   2.080000  0.000000  5.155789  283.684211  47.126316   \n",
       "2023-03-12 23:55   2.080000  0.000000  5.155789  283.684211  47.126316   \n",
       "\n",
       "                   증기압(hPa)  이슬점온도(°C)    현지기압(hPa)    해면기압(hPa)  적설(cm)  \\\n",
       "기준일시                                                                       \n",
       "2012-06-01 00:00  15.670968  13.632258  1004.618280  1017.255914     0.0   \n",
       "2012-06-01 00:05  15.657885  13.619355  1004.589785  1017.229928     0.0   \n",
       "2012-06-01 00:10  15.644803  13.606452  1004.561290  1017.203943     0.0   \n",
       "2012-06-01 00:15  15.631720  13.593548  1004.532796  1017.177957     0.0   \n",
       "2012-06-01 00:20  15.618638  13.580645  1004.504301  1017.151971     0.0   \n",
       "...                     ...        ...          ...          ...     ...   \n",
       "2023-03-12 23:35   3.382105  -8.191579  1010.196842  1023.077895     0.8   \n",
       "2023-03-12 23:40   3.382105  -8.191579  1010.196842  1023.077895     0.8   \n",
       "2023-03-12 23:45   3.382105  -8.191579  1010.196842  1023.077895     0.8   \n",
       "2023-03-12 23:50   3.382105  -8.191579  1010.196842  1023.077895     0.8   \n",
       "2023-03-12 23:55   3.382105  -8.191579  1010.196842  1023.077895     0.8   \n",
       "\n",
       "                   지면온도(°C)  5cm 지중온도(°C)  10cm 지중온도(°C)  20cm 지중온도(°C)  \\\n",
       "기준일시                                                                      \n",
       "2012-06-01 00:00  16.559140     20.403125      21.359375      22.046875   \n",
       "2012-06-01 00:05  16.514337     20.355729      21.320312      22.021615   \n",
       "2012-06-01 00:10  16.469534     20.308333      21.281250      21.996354   \n",
       "2012-06-01 00:15  16.424731     20.260938      21.242188      21.971094   \n",
       "2012-06-01 00:20  16.379928     20.213542      21.203125      21.945833   \n",
       "...                     ...           ...            ...            ...   \n",
       "2023-03-12 23:35   1.409474      6.558621       8.082759       9.510345   \n",
       "2023-03-12 23:40   1.409474      6.558621       8.082759       9.510345   \n",
       "2023-03-12 23:45   1.409474      6.558621       8.082759       9.510345   \n",
       "2023-03-12 23:50   1.409474      6.558621       8.082759       9.510345   \n",
       "2023-03-12 23:55   1.409474      6.558621       8.082759       9.510345   \n",
       "\n",
       "                  30cm 지중온도(°C)  현재수요(MW)  \n",
       "기준일시                                       \n",
       "2012-06-01 00:00      21.656250  51726.33  \n",
       "2012-06-01 00:05      21.647396  51342.53  \n",
       "2012-06-01 00:10      21.638542  51583.17  \n",
       "2012-06-01 00:15      21.629687  51631.69  \n",
       "2012-06-01 00:20      21.620833  51252.66  \n",
       "...                         ...       ...  \n",
       "2023-03-12 23:35       9.882759  60235.00  \n",
       "2023-03-12 23:40       9.882759  60107.00  \n",
       "2023-03-12 23:45       9.882759  59726.00  \n",
       "2023-03-12 23:50       9.882759  59486.00  \n",
       "2023-03-12 23:55       9.882759  58930.00  \n",
       "\n",
       "[1132418 rows x 16 columns]"
      ]
     },
     "execution_count": 17,
     "metadata": {},
     "output_type": "execute_result"
    }
   ],
   "source": [
    "df"
   ]
  },
  {
   "cell_type": "markdown",
   "id": "a9407272",
   "metadata": {},
   "source": [
    "# Linear Regression, Sliding Window"
   ]
  },
  {
   "cell_type": "code",
   "execution_count": 19,
   "id": "d12111bf",
   "metadata": {
    "ExecuteTime": {
     "end_time": "2023-07-01T10:19:04.962834Z",
     "start_time": "2023-07-01T10:19:04.181686Z"
    }
   },
   "outputs": [],
   "source": [
    "from sklearn.linear_model import LinearRegression"
   ]
  },
  {
   "cell_type": "code",
   "execution_count": 20,
   "id": "ef933565",
   "metadata": {
    "ExecuteTime": {
     "end_time": "2023-07-01T10:19:52.797345Z",
     "start_time": "2023-07-01T10:19:52.281201Z"
    },
    "scrolled": true
   },
   "outputs": [
    {
     "ename": "ValueError",
     "evalue": "Found array with 0 sample(s) (shape=(0, 1)) while a minimum of 1 is required by LinearRegression.",
     "output_type": "error",
     "traceback": [
      "\u001b[1;31m---------------------------------------------------------------------------\u001b[0m",
      "\u001b[1;31mValueError\u001b[0m                                Traceback (most recent call last)",
      "Input \u001b[1;32mIn [20]\u001b[0m, in \u001b[0;36m<cell line: 9>\u001b[1;34m()\u001b[0m\n\u001b[0;32m     21\u001b[0m \u001b[38;5;66;03m# 선형 회귀 모델 학습\u001b[39;00m\n\u001b[0;32m     22\u001b[0m model \u001b[38;5;241m=\u001b[39m LinearRegression()\n\u001b[1;32m---> 23\u001b[0m \u001b[43mmodel\u001b[49m\u001b[38;5;241;43m.\u001b[39;49m\u001b[43mfit\u001b[49m\u001b[43m(\u001b[49m\u001b[43mX\u001b[49m\u001b[43m,\u001b[49m\u001b[43m \u001b[49m\u001b[43my\u001b[49m\u001b[43m)\u001b[49m\n\u001b[0;32m     25\u001b[0m \u001b[38;5;66;03m# 다음 값을 예측하여 리스트에 추가\u001b[39;00m\n\u001b[0;32m     26\u001b[0m next_x \u001b[38;5;241m=\u001b[39m window_data[\u001b[38;5;241m-\u001b[39m\u001b[38;5;241m1\u001b[39m:]\u001b[38;5;241m.\u001b[39mvalues\u001b[38;5;241m.\u001b[39mreshape(\u001b[38;5;241m-\u001b[39m\u001b[38;5;241m1\u001b[39m, \u001b[38;5;241m1\u001b[39m)\n",
      "File \u001b[1;32mc:\\python38-64\\lib\\site-packages\\sklearn\\linear_model\\_base.py:648\u001b[0m, in \u001b[0;36mLinearRegression.fit\u001b[1;34m(self, X, y, sample_weight)\u001b[0m\n\u001b[0;32m    644\u001b[0m n_jobs_ \u001b[38;5;241m=\u001b[39m \u001b[38;5;28mself\u001b[39m\u001b[38;5;241m.\u001b[39mn_jobs\n\u001b[0;32m    646\u001b[0m accept_sparse \u001b[38;5;241m=\u001b[39m \u001b[38;5;28;01mFalse\u001b[39;00m \u001b[38;5;28;01mif\u001b[39;00m \u001b[38;5;28mself\u001b[39m\u001b[38;5;241m.\u001b[39mpositive \u001b[38;5;28;01melse\u001b[39;00m [\u001b[38;5;124m\"\u001b[39m\u001b[38;5;124mcsr\u001b[39m\u001b[38;5;124m\"\u001b[39m, \u001b[38;5;124m\"\u001b[39m\u001b[38;5;124mcsc\u001b[39m\u001b[38;5;124m\"\u001b[39m, \u001b[38;5;124m\"\u001b[39m\u001b[38;5;124mcoo\u001b[39m\u001b[38;5;124m\"\u001b[39m]\n\u001b[1;32m--> 648\u001b[0m X, y \u001b[38;5;241m=\u001b[39m \u001b[38;5;28;43mself\u001b[39;49m\u001b[38;5;241;43m.\u001b[39;49m\u001b[43m_validate_data\u001b[49m\u001b[43m(\u001b[49m\n\u001b[0;32m    649\u001b[0m \u001b[43m    \u001b[49m\u001b[43mX\u001b[49m\u001b[43m,\u001b[49m\u001b[43m \u001b[49m\u001b[43my\u001b[49m\u001b[43m,\u001b[49m\u001b[43m \u001b[49m\u001b[43maccept_sparse\u001b[49m\u001b[38;5;241;43m=\u001b[39;49m\u001b[43maccept_sparse\u001b[49m\u001b[43m,\u001b[49m\u001b[43m \u001b[49m\u001b[43my_numeric\u001b[49m\u001b[38;5;241;43m=\u001b[39;49m\u001b[38;5;28;43;01mTrue\u001b[39;49;00m\u001b[43m,\u001b[49m\u001b[43m \u001b[49m\u001b[43mmulti_output\u001b[49m\u001b[38;5;241;43m=\u001b[39;49m\u001b[38;5;28;43;01mTrue\u001b[39;49;00m\n\u001b[0;32m    650\u001b[0m \u001b[43m\u001b[49m\u001b[43m)\u001b[49m\n\u001b[0;32m    652\u001b[0m sample_weight \u001b[38;5;241m=\u001b[39m _check_sample_weight(\n\u001b[0;32m    653\u001b[0m     sample_weight, X, dtype\u001b[38;5;241m=\u001b[39mX\u001b[38;5;241m.\u001b[39mdtype, only_non_negative\u001b[38;5;241m=\u001b[39m\u001b[38;5;28;01mTrue\u001b[39;00m\n\u001b[0;32m    654\u001b[0m )\n\u001b[0;32m    656\u001b[0m X, y, X_offset, y_offset, X_scale \u001b[38;5;241m=\u001b[39m _preprocess_data(\n\u001b[0;32m    657\u001b[0m     X,\n\u001b[0;32m    658\u001b[0m     y,\n\u001b[1;32m   (...)\u001b[0m\n\u001b[0;32m    661\u001b[0m     sample_weight\u001b[38;5;241m=\u001b[39msample_weight,\n\u001b[0;32m    662\u001b[0m )\n",
      "File \u001b[1;32mc:\\python38-64\\lib\\site-packages\\sklearn\\base.py:584\u001b[0m, in \u001b[0;36mBaseEstimator._validate_data\u001b[1;34m(self, X, y, reset, validate_separately, **check_params)\u001b[0m\n\u001b[0;32m    582\u001b[0m         y \u001b[38;5;241m=\u001b[39m check_array(y, input_name\u001b[38;5;241m=\u001b[39m\u001b[38;5;124m\"\u001b[39m\u001b[38;5;124my\u001b[39m\u001b[38;5;124m\"\u001b[39m, \u001b[38;5;241m*\u001b[39m\u001b[38;5;241m*\u001b[39mcheck_y_params)\n\u001b[0;32m    583\u001b[0m     \u001b[38;5;28;01melse\u001b[39;00m:\n\u001b[1;32m--> 584\u001b[0m         X, y \u001b[38;5;241m=\u001b[39m \u001b[43mcheck_X_y\u001b[49m\u001b[43m(\u001b[49m\u001b[43mX\u001b[49m\u001b[43m,\u001b[49m\u001b[43m \u001b[49m\u001b[43my\u001b[49m\u001b[43m,\u001b[49m\u001b[43m \u001b[49m\u001b[38;5;241;43m*\u001b[39;49m\u001b[38;5;241;43m*\u001b[39;49m\u001b[43mcheck_params\u001b[49m\u001b[43m)\u001b[49m\n\u001b[0;32m    585\u001b[0m     out \u001b[38;5;241m=\u001b[39m X, y\n\u001b[0;32m    587\u001b[0m \u001b[38;5;28;01mif\u001b[39;00m \u001b[38;5;129;01mnot\u001b[39;00m no_val_X \u001b[38;5;129;01mand\u001b[39;00m check_params\u001b[38;5;241m.\u001b[39mget(\u001b[38;5;124m\"\u001b[39m\u001b[38;5;124mensure_2d\u001b[39m\u001b[38;5;124m\"\u001b[39m, \u001b[38;5;28;01mTrue\u001b[39;00m):\n",
      "File \u001b[1;32mc:\\python38-64\\lib\\site-packages\\sklearn\\utils\\validation.py:1106\u001b[0m, in \u001b[0;36mcheck_X_y\u001b[1;34m(X, y, accept_sparse, accept_large_sparse, dtype, order, copy, force_all_finite, ensure_2d, allow_nd, multi_output, ensure_min_samples, ensure_min_features, y_numeric, estimator)\u001b[0m\n\u001b[0;32m   1101\u001b[0m         estimator_name \u001b[38;5;241m=\u001b[39m _check_estimator_name(estimator)\n\u001b[0;32m   1102\u001b[0m     \u001b[38;5;28;01mraise\u001b[39;00m \u001b[38;5;167;01mValueError\u001b[39;00m(\n\u001b[0;32m   1103\u001b[0m         \u001b[38;5;124mf\u001b[39m\u001b[38;5;124m\"\u001b[39m\u001b[38;5;132;01m{\u001b[39;00mestimator_name\u001b[38;5;132;01m}\u001b[39;00m\u001b[38;5;124m requires y to be passed, but the target y is None\u001b[39m\u001b[38;5;124m\"\u001b[39m\n\u001b[0;32m   1104\u001b[0m     )\n\u001b[1;32m-> 1106\u001b[0m X \u001b[38;5;241m=\u001b[39m \u001b[43mcheck_array\u001b[49m\u001b[43m(\u001b[49m\n\u001b[0;32m   1107\u001b[0m \u001b[43m    \u001b[49m\u001b[43mX\u001b[49m\u001b[43m,\u001b[49m\n\u001b[0;32m   1108\u001b[0m \u001b[43m    \u001b[49m\u001b[43maccept_sparse\u001b[49m\u001b[38;5;241;43m=\u001b[39;49m\u001b[43maccept_sparse\u001b[49m\u001b[43m,\u001b[49m\n\u001b[0;32m   1109\u001b[0m \u001b[43m    \u001b[49m\u001b[43maccept_large_sparse\u001b[49m\u001b[38;5;241;43m=\u001b[39;49m\u001b[43maccept_large_sparse\u001b[49m\u001b[43m,\u001b[49m\n\u001b[0;32m   1110\u001b[0m \u001b[43m    \u001b[49m\u001b[43mdtype\u001b[49m\u001b[38;5;241;43m=\u001b[39;49m\u001b[43mdtype\u001b[49m\u001b[43m,\u001b[49m\n\u001b[0;32m   1111\u001b[0m \u001b[43m    \u001b[49m\u001b[43morder\u001b[49m\u001b[38;5;241;43m=\u001b[39;49m\u001b[43morder\u001b[49m\u001b[43m,\u001b[49m\n\u001b[0;32m   1112\u001b[0m \u001b[43m    \u001b[49m\u001b[43mcopy\u001b[49m\u001b[38;5;241;43m=\u001b[39;49m\u001b[43mcopy\u001b[49m\u001b[43m,\u001b[49m\n\u001b[0;32m   1113\u001b[0m \u001b[43m    \u001b[49m\u001b[43mforce_all_finite\u001b[49m\u001b[38;5;241;43m=\u001b[39;49m\u001b[43mforce_all_finite\u001b[49m\u001b[43m,\u001b[49m\n\u001b[0;32m   1114\u001b[0m \u001b[43m    \u001b[49m\u001b[43mensure_2d\u001b[49m\u001b[38;5;241;43m=\u001b[39;49m\u001b[43mensure_2d\u001b[49m\u001b[43m,\u001b[49m\n\u001b[0;32m   1115\u001b[0m \u001b[43m    \u001b[49m\u001b[43mallow_nd\u001b[49m\u001b[38;5;241;43m=\u001b[39;49m\u001b[43mallow_nd\u001b[49m\u001b[43m,\u001b[49m\n\u001b[0;32m   1116\u001b[0m \u001b[43m    \u001b[49m\u001b[43mensure_min_samples\u001b[49m\u001b[38;5;241;43m=\u001b[39;49m\u001b[43mensure_min_samples\u001b[49m\u001b[43m,\u001b[49m\n\u001b[0;32m   1117\u001b[0m \u001b[43m    \u001b[49m\u001b[43mensure_min_features\u001b[49m\u001b[38;5;241;43m=\u001b[39;49m\u001b[43mensure_min_features\u001b[49m\u001b[43m,\u001b[49m\n\u001b[0;32m   1118\u001b[0m \u001b[43m    \u001b[49m\u001b[43mestimator\u001b[49m\u001b[38;5;241;43m=\u001b[39;49m\u001b[43mestimator\u001b[49m\u001b[43m,\u001b[49m\n\u001b[0;32m   1119\u001b[0m \u001b[43m    \u001b[49m\u001b[43minput_name\u001b[49m\u001b[38;5;241;43m=\u001b[39;49m\u001b[38;5;124;43m\"\u001b[39;49m\u001b[38;5;124;43mX\u001b[39;49m\u001b[38;5;124;43m\"\u001b[39;49m\u001b[43m,\u001b[49m\n\u001b[0;32m   1120\u001b[0m \u001b[43m\u001b[49m\u001b[43m)\u001b[49m\n\u001b[0;32m   1122\u001b[0m y \u001b[38;5;241m=\u001b[39m _check_y(y, multi_output\u001b[38;5;241m=\u001b[39mmulti_output, y_numeric\u001b[38;5;241m=\u001b[39my_numeric, estimator\u001b[38;5;241m=\u001b[39mestimator)\n\u001b[0;32m   1124\u001b[0m check_consistent_length(X, y)\n",
      "File \u001b[1;32mc:\\python38-64\\lib\\site-packages\\sklearn\\utils\\validation.py:931\u001b[0m, in \u001b[0;36mcheck_array\u001b[1;34m(array, accept_sparse, accept_large_sparse, dtype, order, copy, force_all_finite, ensure_2d, allow_nd, ensure_min_samples, ensure_min_features, estimator, input_name)\u001b[0m\n\u001b[0;32m    929\u001b[0m     n_samples \u001b[38;5;241m=\u001b[39m _num_samples(array)\n\u001b[0;32m    930\u001b[0m     \u001b[38;5;28;01mif\u001b[39;00m n_samples \u001b[38;5;241m<\u001b[39m ensure_min_samples:\n\u001b[1;32m--> 931\u001b[0m         \u001b[38;5;28;01mraise\u001b[39;00m \u001b[38;5;167;01mValueError\u001b[39;00m(\n\u001b[0;32m    932\u001b[0m             \u001b[38;5;124m\"\u001b[39m\u001b[38;5;124mFound array with \u001b[39m\u001b[38;5;132;01m%d\u001b[39;00m\u001b[38;5;124m sample(s) (shape=\u001b[39m\u001b[38;5;132;01m%s\u001b[39;00m\u001b[38;5;124m) while a\u001b[39m\u001b[38;5;124m\"\u001b[39m\n\u001b[0;32m    933\u001b[0m             \u001b[38;5;124m\"\u001b[39m\u001b[38;5;124m minimum of \u001b[39m\u001b[38;5;132;01m%d\u001b[39;00m\u001b[38;5;124m is required\u001b[39m\u001b[38;5;132;01m%s\u001b[39;00m\u001b[38;5;124m.\u001b[39m\u001b[38;5;124m\"\u001b[39m\n\u001b[0;32m    934\u001b[0m             \u001b[38;5;241m%\u001b[39m (n_samples, array\u001b[38;5;241m.\u001b[39mshape, ensure_min_samples, context)\n\u001b[0;32m    935\u001b[0m         )\n\u001b[0;32m    937\u001b[0m \u001b[38;5;28;01mif\u001b[39;00m ensure_min_features \u001b[38;5;241m>\u001b[39m \u001b[38;5;241m0\u001b[39m \u001b[38;5;129;01mand\u001b[39;00m array\u001b[38;5;241m.\u001b[39mndim \u001b[38;5;241m==\u001b[39m \u001b[38;5;241m2\u001b[39m:\n\u001b[0;32m    938\u001b[0m     n_features \u001b[38;5;241m=\u001b[39m array\u001b[38;5;241m.\u001b[39mshape[\u001b[38;5;241m1\u001b[39m]\n",
      "\u001b[1;31mValueError\u001b[0m: Found array with 0 sample(s) (shape=(0, 1)) while a minimum of 1 is required by LinearRegression."
     ]
    }
   ],
   "source": [
    "# Sliding window 크기와 예측할 시간 간격 설정\n",
    "window_size = 12  # 예시로 12개의 데이터로 sliding window를 구성\n",
    "prediction_interval = 72  # 예시로 3개의 데이터 후 값을 예측\n",
    "\n",
    "# 예측 결과를 저장할 리스트\n",
    "predictions = []\n",
    "\n",
    "# Sliding window 방식으로 시계열 예측\n",
    "for i in range(len(df) - window_size - prediction_interval + 1):\n",
    "    # Sliding window의 시작과 끝 인덱스\n",
    "    start_index = i\n",
    "    end_index = i + window_size\n",
    "    \n",
    "    # Sliding window 데이터 구성\n",
    "    window_data = df.iloc[start_index:end_index]\n",
    "    \n",
    "    # Features와 Target 분리\n",
    "    X = window_data[:-prediction_interval].values.reshape(-1, 1)\n",
    "    y = window_data[-prediction_interval:].values.reshape(-1, 1)\n",
    "    \n",
    "    # 선형 회귀 모델 학습\n",
    "    model = LinearRegression()\n",
    "    model.fit(X, y)\n",
    "    \n",
    "    # 다음 값을 예측하여 리스트에 추가\n",
    "    next_x = window_data[-1:].values.reshape(-1, 1)\n",
    "    next_prediction = model.predict(next_x)\n",
    "    predictions.append(next_prediction)\n",
    "\n",
    "# 예측 결과 출력\n",
    "print(\"다음\", prediction_interval, \"개의 값 예측:\")\n",
    "for prediction in predictions:\n",
    "    print(prediction.flatten())"
   ]
  },
  {
   "cell_type": "markdown",
   "id": "784c1dc2",
   "metadata": {},
   "source": [
    "# ARIMA"
   ]
  },
  {
   "cell_type": "code",
   "execution_count": 5,
   "id": "c54e2fdc",
   "metadata": {
    "ExecuteTime": {
     "end_time": "2023-07-01T10:12:03.426902Z",
     "start_time": "2023-07-01T10:12:02.683155Z"
    }
   },
   "outputs": [],
   "source": [
    "from statsmodels.tsa.arima.model import ARIMA"
   ]
  },
  {
   "cell_type": "code",
   "execution_count": 21,
   "id": "379db275",
   "metadata": {
    "ExecuteTime": {
     "end_time": "2023-07-01T10:23:40.606245Z",
     "start_time": "2023-07-01T10:22:21.275251Z"
    },
    "scrolled": true
   },
   "outputs": [
    {
     "name": "stderr",
     "output_type": "stream",
     "text": [
      "c:\\python38-64\\lib\\site-packages\\statsmodels\\tsa\\base\\tsa_model.py:473: ValueWarning: A date index has been provided, but it has no associated frequency information and so will be ignored when e.g. forecasting.\n",
      "  self._init_dates(dates, freq)\n",
      "c:\\python38-64\\lib\\site-packages\\statsmodels\\tsa\\base\\tsa_model.py:473: ValueWarning: A date index has been provided, but it is not monotonic and so will be ignored when e.g. forecasting.\n",
      "  self._init_dates(dates, freq)\n",
      "c:\\python38-64\\lib\\site-packages\\statsmodels\\tsa\\base\\tsa_model.py:473: ValueWarning: A date index has been provided, but it has no associated frequency information and so will be ignored when e.g. forecasting.\n",
      "  self._init_dates(dates, freq)\n",
      "c:\\python38-64\\lib\\site-packages\\statsmodels\\tsa\\base\\tsa_model.py:473: ValueWarning: A date index has been provided, but it is not monotonic and so will be ignored when e.g. forecasting.\n",
      "  self._init_dates(dates, freq)\n",
      "c:\\python38-64\\lib\\site-packages\\statsmodels\\tsa\\base\\tsa_model.py:473: ValueWarning: A date index has been provided, but it has no associated frequency information and so will be ignored when e.g. forecasting.\n",
      "  self._init_dates(dates, freq)\n",
      "c:\\python38-64\\lib\\site-packages\\statsmodels\\tsa\\base\\tsa_model.py:473: ValueWarning: A date index has been provided, but it is not monotonic and so will be ignored when e.g. forecasting.\n",
      "  self._init_dates(dates, freq)\n"
     ]
    },
    {
     "name": "stdout",
     "output_type": "stream",
     "text": [
      "다음 5분 후의 예측 값: 1132418    58714.902951\n",
      "1132419    58513.005772\n",
      "1132420    58323.498425\n",
      "1132421    58145.620584\n",
      "1132422    57978.658580\n",
      "               ...     \n",
      "1132485    55472.160611\n",
      "1132486    55469.260939\n",
      "1132487    55466.539212\n",
      "1132488    55463.984509\n",
      "1132489    55461.586581\n",
      "Name: predicted_mean, Length: 72, dtype: float64\n"
     ]
    },
    {
     "name": "stderr",
     "output_type": "stream",
     "text": [
      "c:\\python38-64\\lib\\site-packages\\statsmodels\\tsa\\base\\tsa_model.py:836: ValueWarning: No supported index is available. Prediction results will be given with an integer index beginning at `start`.\n",
      "  return get_prediction_index(\n"
     ]
    }
   ],
   "source": [
    "# ARIMA 모델 학습 및 예측\n",
    "\n",
    "model = ARIMA(df['현재수요(MW)'], order=(1, 1, 1))\n",
    "model_fit = model.fit()\n",
    "\n",
    "# 다음 5분 후의 값을 예측\n",
    "prediction = model_fit.forecast(steps=72)\n",
    "next_value = prediction\n",
    "\n",
    "print('다음 5분 후의 예측 값:', next_value)"
   ]
  },
  {
   "cell_type": "code",
   "execution_count": 22,
   "id": "5ee2d787",
   "metadata": {
    "ExecuteTime": {
     "end_time": "2023-07-01T10:24:17.588273Z",
     "start_time": "2023-07-01T10:24:17.578295Z"
    }
   },
   "outputs": [
    {
     "data": {
      "text/plain": [
       "1132418    58714.902951\n",
       "1132419    58513.005772\n",
       "1132420    58323.498425\n",
       "1132421    58145.620584\n",
       "1132422    57978.658580\n",
       "               ...     \n",
       "1132485    55472.160611\n",
       "1132486    55469.260939\n",
       "1132487    55466.539212\n",
       "1132488    55463.984509\n",
       "1132489    55461.586581\n",
       "Name: predicted_mean, Length: 72, dtype: float64"
      ]
     },
     "execution_count": 22,
     "metadata": {},
     "output_type": "execute_result"
    }
   ],
   "source": [
    "next_value"
   ]
  },
  {
   "cell_type": "markdown",
   "id": "c0c54991",
   "metadata": {},
   "source": [
    "# XGBoost"
   ]
  },
  {
   "cell_type": "code",
   "execution_count": null,
   "id": "dde0c5c3",
   "metadata": {},
   "outputs": [],
   "source": []
  },
  {
   "cell_type": "markdown",
   "id": "fa43e0c5",
   "metadata": {},
   "source": [
    "# LGBM"
   ]
  },
  {
   "cell_type": "code",
   "execution_count": null,
   "id": "370425bd",
   "metadata": {},
   "outputs": [],
   "source": []
  },
  {
   "cell_type": "markdown",
   "id": "f3965471",
   "metadata": {},
   "source": [
    "# LSTM"
   ]
  },
  {
   "cell_type": "code",
   "execution_count": null,
   "id": "aa5af43f",
   "metadata": {},
   "outputs": [],
   "source": []
  },
  {
   "cell_type": "markdown",
   "id": "04c37d8f",
   "metadata": {},
   "source": [
    "# Temporal Fusion Transformer"
   ]
  },
  {
   "cell_type": "code",
   "execution_count": null,
   "id": "b4cfcc17",
   "metadata": {},
   "outputs": [],
   "source": []
  }
 ],
 "metadata": {
  "kernelspec": {
   "display_name": "Python 3 (ipykernel)",
   "language": "python",
   "name": "python3"
  },
  "language_info": {
   "codemirror_mode": {
    "name": "ipython",
    "version": 3
   },
   "file_extension": ".py",
   "mimetype": "text/x-python",
   "name": "python",
   "nbconvert_exporter": "python",
   "pygments_lexer": "ipython3",
   "version": "3.8.9"
  },
  "toc": {
   "base_numbering": 1,
   "nav_menu": {},
   "number_sections": false,
   "sideBar": true,
   "skip_h1_title": false,
   "title_cell": "Table of Contents",
   "title_sidebar": "Contents",
   "toc_cell": false,
   "toc_position": {
    "height": "632.444px",
    "left": "57px",
    "top": "-1.25px",
    "width": "165px"
   },
   "toc_section_display": true,
   "toc_window_display": true
  }
 },
 "nbformat": 4,
 "nbformat_minor": 5
}
