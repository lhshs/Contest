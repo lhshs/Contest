{
 "cells": [
  {
   "cell_type": "markdown",
   "id": "4eed01a1",
   "metadata": {},
   "source": [
    "https://wonhwa.tistory.com/16"
   ]
  },
  {
   "cell_type": "code",
   "execution_count": 1,
   "id": "11ef924a",
   "metadata": {
    "ExecuteTime": {
     "end_time": "2023-06-08T17:20:57.481899Z",
     "start_time": "2023-06-08T17:20:57.422299Z"
    }
   },
   "outputs": [],
   "source": [
    "import requests\n",
    "import pprint"
   ]
  },
  {
   "cell_type": "code",
   "execution_count": 2,
   "id": "e1a992bf",
   "metadata": {
    "ExecuteTime": {
     "end_time": "2023-06-08T17:20:57.684042Z",
     "start_time": "2023-06-08T17:20:57.584212Z"
    },
    "scrolled": true
   },
   "outputs": [
    {
     "name": "stdout",
     "output_type": "stream",
     "text": [
      "('<?xml version=\"1.0\" encoding=\"UTF-8\"?>\\n'\n",
      " '<CardSubwayStatsNew>\\n'\n",
      " '<list_total_count>593</list_total_count>\\n'\n",
      " '<RESULT>\\n'\n",
      " '<CODE>INFO-000</CODE>\\n'\n",
      " '<MESSAGE>정상 처리되었습니다</MESSAGE>\\n'\n",
      " '</RESULT>\\n'\n",
      " '<row>\\n'\n",
      " '<USE_DT>20220301</USE_DT>\\n'\n",
      " '<LINE_NUM>1호선</LINE_NUM>\\n'\n",
      " '<SUB_STA_NM>서울역</SUB_STA_NM>\\n'\n",
      " '<RIDE_PASGR_NUM>20994</RIDE_PASGR_NUM>\\n'\n",
      " '<ALIGHT_PASGR_NUM>19468</ALIGHT_PASGR_NUM>\\n'\n",
      " '<WORK_DT>20220304</WORK_DT>\\n'\n",
      " '</row>\\n'\n",
      " '<row>\\n'\n",
      " '<USE_DT>20220301</USE_DT>\\n'\n",
      " '<LINE_NUM>1호선</LINE_NUM>\\n'\n",
      " '<SUB_STA_NM>시청</SUB_STA_NM>\\n'\n",
      " '<RIDE_PASGR_NUM>12439</RIDE_PASGR_NUM>\\n'\n",
      " '<ALIGHT_PASGR_NUM>12379</ALIGHT_PASGR_NUM>\\n'\n",
      " '<WORK_DT>20220304</WORK_DT>\\n'\n",
      " '</row>\\n'\n",
      " '<row>\\n'\n",
      " '<USE_DT>20220301</USE_DT>\\n'\n",
      " '<LINE_NUM>1호선</LINE_NUM>\\n'\n",
      " '<SUB_STA_NM>종각</SUB_STA_NM>\\n'\n",
      " '<RIDE_PASGR_NUM>15750</RIDE_PASGR_NUM>\\n'\n",
      " '<ALIGHT_PASGR_NUM>13544</ALIGHT_PASGR_NUM>\\n'\n",
      " '<WORK_DT>20220304</WORK_DT>\\n'\n",
      " '</row>\\n'\n",
      " '<row>\\n'\n",
      " '<USE_DT>20220301</USE_DT>\\n'\n",
      " '<LINE_NUM>1호선</LINE_NUM>\\n'\n",
      " '<SUB_STA_NM>종로3가</SUB_STA_NM>\\n'\n",
      " '<RIDE_PASGR_NUM>16349</RIDE_PASGR_NUM>\\n'\n",
      " '<ALIGHT_PASGR_NUM>14533</ALIGHT_PASGR_NUM>\\n'\n",
      " '<WORK_DT>20220304</WORK_DT>\\n'\n",
      " '</row>\\n'\n",
      " '<row>\\n'\n",
      " '<USE_DT>20220301</USE_DT>\\n'\n",
      " '<LINE_NUM>1호선</LINE_NUM>\\n'\n",
      " '<SUB_STA_NM>종로5가</SUB_STA_NM>\\n'\n",
      " '<RIDE_PASGR_NUM>14036</RIDE_PASGR_NUM>\\n'\n",
      " '<ALIGHT_PASGR_NUM>13472</ALIGHT_PASGR_NUM>\\n'\n",
      " '<WORK_DT>20220304</WORK_DT>\\n'\n",
      " '</row>\\n'\n",
      " '</CardSubwayStatsNew>\\n')\n",
      "None\n"
     ]
    }
   ],
   "source": [
    "url = 'http://openapi.seoul.go.kr:8088/sample/xml/CardSubwayStatsNew/1/5/20220301'\n",
    "\n",
    "# encoding = ''\n",
    "# decoding = ''\n",
    "\n",
    "response = requests.get(url)\n",
    "\n",
    "# xml 내용\n",
    "content = response.text\n",
    "\n",
    "# 깔끔한 출력 위한 코드\n",
    "pp = pprint.PrettyPrinter(indent=4)\n",
    "print(pp.pprint(content))"
   ]
  },
  {
   "cell_type": "code",
   "execution_count": 4,
   "id": "8eefc9ae",
   "metadata": {
    "ExecuteTime": {
     "end_time": "2023-06-08T10:37:31.467360Z",
     "start_time": "2023-06-08T10:37:31.454720Z"
    }
   },
   "outputs": [
    {
     "data": {
      "text/plain": [
       "str"
      ]
     },
     "execution_count": 4,
     "metadata": {},
     "output_type": "execute_result"
    }
   ],
   "source": [
    "type(content)"
   ]
  },
  {
   "cell_type": "code",
   "execution_count": 45,
   "id": "7e33d524",
   "metadata": {
    "ExecuteTime": {
     "end_time": "2023-06-03T12:34:49.292838Z",
     "start_time": "2023-06-03T12:34:49.272764Z"
    },
    "scrolled": true
   },
   "outputs": [
    {
     "name": "stdout",
     "output_type": "stream",
     "text": [
      "[<row>\n",
      "<USE_DT>20220301</USE_DT>\n",
      "<LINE_NUM>1호선</LINE_NUM>\n",
      "<SUB_STA_NM>서울역</SUB_STA_NM>\n",
      "<RIDE_PASGR_NUM>20994</RIDE_PASGR_NUM>\n",
      "<ALIGHT_PASGR_NUM>19468</ALIGHT_PASGR_NUM>\n",
      "<WORK_DT>20220304</WORK_DT>\n",
      "</row>, <row>\n",
      "<USE_DT>20220301</USE_DT>\n",
      "<LINE_NUM>1호선</LINE_NUM>\n",
      "<SUB_STA_NM>시청</SUB_STA_NM>\n",
      "<RIDE_PASGR_NUM>12439</RIDE_PASGR_NUM>\n",
      "<ALIGHT_PASGR_NUM>12379</ALIGHT_PASGR_NUM>\n",
      "<WORK_DT>20220304</WORK_DT>\n",
      "</row>, <row>\n",
      "<USE_DT>20220301</USE_DT>\n",
      "<LINE_NUM>1호선</LINE_NUM>\n",
      "<SUB_STA_NM>종각</SUB_STA_NM>\n",
      "<RIDE_PASGR_NUM>15750</RIDE_PASGR_NUM>\n",
      "<ALIGHT_PASGR_NUM>13544</ALIGHT_PASGR_NUM>\n",
      "<WORK_DT>20220304</WORK_DT>\n",
      "</row>, <row>\n",
      "<USE_DT>20220301</USE_DT>\n",
      "<LINE_NUM>1호선</LINE_NUM>\n",
      "<SUB_STA_NM>종로3가</SUB_STA_NM>\n",
      "<RIDE_PASGR_NUM>16349</RIDE_PASGR_NUM>\n",
      "<ALIGHT_PASGR_NUM>14533</ALIGHT_PASGR_NUM>\n",
      "<WORK_DT>20220304</WORK_DT>\n",
      "</row>, <row>\n",
      "<USE_DT>20220301</USE_DT>\n",
      "<LINE_NUM>1호선</LINE_NUM>\n",
      "<SUB_STA_NM>종로5가</SUB_STA_NM>\n",
      "<RIDE_PASGR_NUM>14036</RIDE_PASGR_NUM>\n",
      "<ALIGHT_PASGR_NUM>13472</ALIGHT_PASGR_NUM>\n",
      "<WORK_DT>20220304</WORK_DT>\n",
      "</row>]\n"
     ]
    }
   ],
   "source": [
    "from os import name\n",
    "import xml.etree.ElementTree as et\n",
    "import pandas as pd\n",
    "import bs4\n",
    "from lxml import html\n",
    "from urllib.parse import urlencode, quote_plus, unquote\n",
    "\n",
    "#bs4 사용하여 item 태그 분리\n",
    "xml_obj = bs4.BeautifulSoup(content,'lxml-xml')\n",
    "rows = xml_obj.findAll('row') # item 으로 구분되어 있는 경우도 있음\n",
    "print(rows)"
   ]
  },
  {
   "cell_type": "code",
   "execution_count": 46,
   "id": "23c3c985",
   "metadata": {
    "ExecuteTime": {
     "end_time": "2023-06-03T12:34:51.669903Z",
     "start_time": "2023-06-03T12:34:51.648963Z"
    }
   },
   "outputs": [],
   "source": [
    "# 각 행의 컬럼, 이름, 값을 가지는 리스트 만들기\n",
    "row_list = [] # 행값\n",
    "name_list = [] # 열이름값\n",
    "value_list = [] #데이터값\n",
    "\n",
    "# xml 안의 데이터 수집\n",
    "for i in range(0, len(rows)):\n",
    "    columns = rows[i].find_all()\n",
    "    #첫째 행 데이터 수집\n",
    "    for j in range(0,len(columns)):\n",
    "        if i ==0:\n",
    "            # 컬럼 이름 값 저장\n",
    "            name_list.append(columns[j].name)\n",
    "        # 컬럼의 각 데이터 값 저장\n",
    "        value_list.append(columns[j].text)\n",
    "    # 각 행의 value값 전체 저장\n",
    "    row_list.append(value_list)\n",
    "    # 데이터 리스트 값 초기화\n",
    "    value_list=[]"
   ]
  },
  {
   "cell_type": "code",
   "execution_count": 47,
   "id": "af5d5819",
   "metadata": {
    "ExecuteTime": {
     "end_time": "2023-06-03T12:34:51.853088Z",
     "start_time": "2023-06-03T12:34:51.845108Z"
    }
   },
   "outputs": [
    {
     "name": "stdout",
     "output_type": "stream",
     "text": [
      "     USE_DT LINE_NUM SUB_STA_NM RIDE_PASGR_NUM ALIGHT_PASGR_NUM   WORK_DT\n",
      "0  20220301      1호선        서울역          20994            19468  20220304\n",
      "1  20220301      1호선         시청          12439            12379  20220304\n",
      "2  20220301      1호선         종각          15750            13544  20220304\n",
      "3  20220301      1호선       종로3가          16349            14533  20220304\n",
      "4  20220301      1호선       종로5가          14036            13472  20220304\n"
     ]
    }
   ],
   "source": [
    "#xml값 DataFrame으로 만들기\n",
    "test_df = pd.DataFrame(row_list, columns=name_list)\n",
    "print(test_df.head())"
   ]
  },
  {
   "cell_type": "code",
   "execution_count": 48,
   "id": "514af76e",
   "metadata": {
    "ExecuteTime": {
     "end_time": "2023-06-03T12:34:52.816074Z",
     "start_time": "2023-06-03T12:34:52.803080Z"
    }
   },
   "outputs": [
    {
     "data": {
      "text/html": [
       "<div>\n",
       "<style scoped>\n",
       "    .dataframe tbody tr th:only-of-type {\n",
       "        vertical-align: middle;\n",
       "    }\n",
       "\n",
       "    .dataframe tbody tr th {\n",
       "        vertical-align: top;\n",
       "    }\n",
       "\n",
       "    .dataframe thead th {\n",
       "        text-align: right;\n",
       "    }\n",
       "</style>\n",
       "<table border=\"1\" class=\"dataframe\">\n",
       "  <thead>\n",
       "    <tr style=\"text-align: right;\">\n",
       "      <th></th>\n",
       "      <th>USE_DT</th>\n",
       "      <th>LINE_NUM</th>\n",
       "      <th>SUB_STA_NM</th>\n",
       "      <th>RIDE_PASGR_NUM</th>\n",
       "      <th>ALIGHT_PASGR_NUM</th>\n",
       "      <th>WORK_DT</th>\n",
       "    </tr>\n",
       "  </thead>\n",
       "  <tbody>\n",
       "    <tr>\n",
       "      <th>0</th>\n",
       "      <td>20220301</td>\n",
       "      <td>1호선</td>\n",
       "      <td>서울역</td>\n",
       "      <td>20994</td>\n",
       "      <td>19468</td>\n",
       "      <td>20220304</td>\n",
       "    </tr>\n",
       "    <tr>\n",
       "      <th>1</th>\n",
       "      <td>20220301</td>\n",
       "      <td>1호선</td>\n",
       "      <td>시청</td>\n",
       "      <td>12439</td>\n",
       "      <td>12379</td>\n",
       "      <td>20220304</td>\n",
       "    </tr>\n",
       "    <tr>\n",
       "      <th>2</th>\n",
       "      <td>20220301</td>\n",
       "      <td>1호선</td>\n",
       "      <td>종각</td>\n",
       "      <td>15750</td>\n",
       "      <td>13544</td>\n",
       "      <td>20220304</td>\n",
       "    </tr>\n",
       "    <tr>\n",
       "      <th>3</th>\n",
       "      <td>20220301</td>\n",
       "      <td>1호선</td>\n",
       "      <td>종로3가</td>\n",
       "      <td>16349</td>\n",
       "      <td>14533</td>\n",
       "      <td>20220304</td>\n",
       "    </tr>\n",
       "    <tr>\n",
       "      <th>4</th>\n",
       "      <td>20220301</td>\n",
       "      <td>1호선</td>\n",
       "      <td>종로5가</td>\n",
       "      <td>14036</td>\n",
       "      <td>13472</td>\n",
       "      <td>20220304</td>\n",
       "    </tr>\n",
       "  </tbody>\n",
       "</table>\n",
       "</div>"
      ],
      "text/plain": [
       "     USE_DT LINE_NUM SUB_STA_NM RIDE_PASGR_NUM ALIGHT_PASGR_NUM   WORK_DT\n",
       "0  20220301      1호선        서울역          20994            19468  20220304\n",
       "1  20220301      1호선         시청          12439            12379  20220304\n",
       "2  20220301      1호선         종각          15750            13544  20220304\n",
       "3  20220301      1호선       종로3가          16349            14533  20220304\n",
       "4  20220301      1호선       종로5가          14036            13472  20220304"
      ]
     },
     "execution_count": 48,
     "metadata": {},
     "output_type": "execute_result"
    }
   ],
   "source": [
    "test_df"
   ]
  },
  {
   "cell_type": "code",
   "execution_count": null,
   "id": "33f0e169",
   "metadata": {},
   "outputs": [],
   "source": []
  }
 ],
 "metadata": {
  "kernelspec": {
   "display_name": "Python 3 (ipykernel)",
   "language": "python",
   "name": "python3"
  },
  "language_info": {
   "codemirror_mode": {
    "name": "ipython",
    "version": 3
   },
   "file_extension": ".py",
   "mimetype": "text/x-python",
   "name": "python",
   "nbconvert_exporter": "python",
   "pygments_lexer": "ipython3",
   "version": "3.8.9"
  },
  "toc": {
   "base_numbering": 1,
   "nav_menu": {},
   "number_sections": true,
   "sideBar": true,
   "skip_h1_title": false,
   "title_cell": "Table of Contents",
   "title_sidebar": "Contents",
   "toc_cell": false,
   "toc_position": {},
   "toc_section_display": true,
   "toc_window_display": false
  }
 },
 "nbformat": 4,
 "nbformat_minor": 5
}
