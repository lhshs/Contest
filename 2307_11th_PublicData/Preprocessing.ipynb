{
 "cells": [
  {
   "cell_type": "markdown",
   "id": "026ed374",
   "metadata": {},
   "source": [
    "# 가설"
   ]
  },
  {
   "cell_type": "markdown",
   "id": "f86063db",
   "metadata": {},
   "source": [
    "모든 가설의 비교 대상은 과거 전력량 데이터로만 실시간 예측을 했을 때 이다\n",
    "\n",
    "1. 기상청 데이터 중 지상에서 관측된 데이터를 활용해 예측한다면 유의미한 결과가 나올 것이다\n",
    "    - 전력 사용량만 예측하는 단변량과 수집한 데이터를 통합해 모델링\n",
    "2. 지상관측데이터 중 일상 생활에 영향을 주는 기상 데이터는 전력 사용량 예측에 도움이 될 것이다\n",
    "    - 기온, 강수량, 적설 등"
   ]
  },
  {
   "cell_type": "markdown",
   "id": "b84cde05",
   "metadata": {},
   "source": [
    "# 꼭 해야 할 것"
   ]
  },
  {
   "cell_type": "markdown",
   "id": "de81e644",
   "metadata": {},
   "source": [
    "1. 정규화\n",
    "2. 가설설정 및 검증"
   ]
  },
  {
   "cell_type": "code",
   "execution_count": 1,
   "id": "87b340d6",
   "metadata": {
    "ExecuteTime": {
     "end_time": "2023-07-08T09:27:29.765087Z",
     "start_time": "2023-07-08T09:27:26.624328Z"
    }
   },
   "outputs": [],
   "source": [
    "import pandas as pd\n",
    "import numpy as np\n",
    "import matplotlib.pyplot as plt\n",
    "\n",
    "# 한글 폰트 설정\n",
    "plt.rc('font', family='Malgun Gothic')\n",
    "plt.rcParams['axes.unicode_minus'] = False\n",
    "plt.rcParams['agg.path.chunksize'] = 10000\n",
    "\n",
    "from tqdm import tqdm\n",
    "\n",
    "import warnings\n",
    "warnings.filterwarnings('ignore')"
   ]
  },
  {
   "cell_type": "code",
   "execution_count": 2,
   "id": "b97d2af3",
   "metadata": {
    "ExecuteTime": {
     "end_time": "2023-07-08T09:27:30.456263Z",
     "start_time": "2023-07-08T09:27:30.423329Z"
    }
   },
   "outputs": [],
   "source": [
    "# 결측치 확인\n",
    "def missing_per(df):\n",
    "    missing_percentages = df.isnull().mean() * 100\n",
    "    missing_percentages_df = pd.DataFrame({'결측치 비율(%)': missing_percentages})\n",
    "    \n",
    "    return missing_percentages_df\n",
    "\n",
    "# 80% 이상 결측치 컬럼 삭제\n",
    "def delete_nan_over_80(df):\n",
    "    threshold = 0.8\n",
    "    missing_percentages = df.isnull().mean()\n",
    "    columns_to_drop = missing_percentages[missing_percentages >= threshold].index\n",
    "    df = df.drop(columns=columns_to_drop)\n",
    "    return df\n",
    "\n",
    "# 스타일링 함수\n",
    "def highlight_cells(value):\n",
    "    if value >= 80 :  # 특정 값 이상인 경우\n",
    "        return 'background-color: yellow'\n",
    "    else:\n",
    "        return ''\n",
    "    \n",
    "# , 제거 함수\n",
    "def remove_comma(value):\n",
    "    if isinstance(value, str):\n",
    "        return value.replace(',', '')\n",
    "    else:\n",
    "        return value\n",
    "\n",
    "# 기준일시 기준 데이터 분포도 확인\n",
    "def value_confirm(df):\n",
    "    for column in tqdm(df.columns):\n",
    "        df[column].plot(figsize=(15,6))\n",
    "        plt.title(f'{column}_Plot')\n",
    "        plt.show()\n",
    "        \n",
    "        missing_percentages = round(df[column].isnull().mean() * 100, 2)\n",
    "        print('결측치 비율(%) : ', missing_percentages)\n",
    "        print()\n",
    "        print(df[column].value_counts())\n",
    "        print()\n",
    "        print(df[column].describe())\n",
    "        print('='*30)\n",
    "\n",
    "# nan값 처리 후 4사분위 값 비교\n",
    "def compare_describe(df1, df2):\n",
    "    for column in tqdm(df1.columns):\n",
    "        d1 = df1[[column]].describe()\n",
    "        d2 = df2[[column]].describe()\n",
    "\n",
    "        res = pd.concat([d1, d2], axis=1)\n",
    "        display(res)\n",
    "        \n",
    "        df1[column].plot(figsize=(15,6))\n",
    "        plt.title(f'{column}_Plot_before')\n",
    "        plt.show()\n",
    "        missing_percentages = round(df1[column].isnull().mean() * 100, 2)\n",
    "        print('결측치 비율(%) : ', missing_percentages)\n",
    "        print()\n",
    "        \n",
    "        df2[column].plot(figsize=(15,6))\n",
    "        plt.title(f'{column}_Plot_after')\n",
    "        plt.show()\n",
    "        missing_percentages = round(df2[column].isnull().mean() * 100, 2)\n",
    "        print('결측치 비율(%) : ', missing_percentages)\n",
    "        print()\n",
    "        print('='*30)\n",
    "\n",
    "# 특정 값 이상인 데이터를 평균 값으로 대체하는 함수\n",
    "def replace_above_threshold(df, column_name, threshold):\n",
    "    condition = df[column_name] <= threshold\n",
    "    selected_data = df.loc[condition, column_name]\n",
    "    mean_value = selected_data.mean()\n",
    "    df.loc[condition, column_name] = mean_value\n",
    "    return df"
   ]
  },
  {
   "cell_type": "markdown",
   "id": "3de3f3f8",
   "metadata": {},
   "source": [
    "# Time"
   ]
  },
  {
   "cell_type": "code",
   "execution_count": null,
   "id": "0d099fc4",
   "metadata": {
    "ExecuteTime": {
     "end_time": "2023-07-02T00:34:58.542403Z",
     "start_time": "2023-07-02T00:34:57.514654Z"
    }
   },
   "outputs": [],
   "source": [
    "# 문자열 데이터 drop\n",
    "\n",
    "time.drop(columns = ['운형(운형약어)'], inplace=True)"
   ]
  },
  {
   "cell_type": "code",
   "execution_count": null,
   "id": "bf12390f",
   "metadata": {
    "ExecuteTime": {
     "end_time": "2023-07-02T00:35:02.507570Z",
     "start_time": "2023-07-02T00:34:58.545362Z"
    }
   },
   "outputs": [],
   "source": [
    "# 여러 지역의 데이터를 평균으로 환산\n",
    "\n",
    "time = time.reset_index().groupby('기준일시').mean()"
   ]
  },
  {
   "cell_type": "code",
   "execution_count": null,
   "id": "9624defd",
   "metadata": {
    "ExecuteTime": {
     "end_time": "2023-07-01T09:46:34.448657Z",
     "start_time": "2023-07-01T09:46:34.411691Z"
    }
   },
   "outputs": [],
   "source": [
    "time"
   ]
  },
  {
   "cell_type": "code",
   "execution_count": null,
   "id": "5bc5dd11",
   "metadata": {
    "ExecuteTime": {
     "end_time": "2023-07-04T10:48:06.965969Z",
     "start_time": "2023-07-04T10:48:05.255791Z"
    }
   },
   "outputs": [],
   "source": [
    "# 결측치 비율 확인, 80% 이상 노란색\n",
    "\n",
    "display(missing_per(time).style.applymap(highlight_cells))"
   ]
  },
  {
   "cell_type": "code",
   "execution_count": null,
   "id": "98bf6aee",
   "metadata": {
    "ExecuteTime": {
     "end_time": "2023-07-01T09:52:02.030378Z",
     "start_time": "2023-07-01T09:51:54.701786Z"
    },
    "scrolled": true
   },
   "outputs": [],
   "source": [
    "value_confirm(time)"
   ]
  },
  {
   "cell_type": "code",
   "execution_count": null,
   "id": "a0007cd7",
   "metadata": {},
   "outputs": [],
   "source": [
    "'''\n",
    "=====\n",
    "Time Data\n",
    "\n",
    "전처리 방향(v1) : 의미상 유의미해 보이고, 결측치가 적은 컬럼은 최대한 살려보기\n",
    "\n",
    "* QC플래그 : 품질검사 정보 0(정상), 1(오류), 9(결측)\n",
    "=====\n",
    "\n",
    "'기온(°C)' : \n",
    "    - 결측값이 0.05비율로 있고 기온은 이전 값과 크게 다르지 않다고 판단하여 결측치는 이전 값으로 채움\n",
    "'기온 QC플래그' : 기온측정의 품질검사 데이터\n",
    "    - 9(Nan)로 측정된 4000개의 데이터와 약 40% 결측치가 있지만, \n",
    "    - 시계열 데이터 특성상 일자를 40%나 제거하면 유의미한 추세나 예측이 어렵다고 판단\n",
    "    - 전부 0으로 (정상 데이터로) 판단하고 진행\n",
    "    \n",
    "'강수량(mm)' : \n",
    "    - 결측치가 약 91%이지만, 비가 안온 날 것이라 판단하고 0으로 채우고 진행\n",
    "'강수량 QC플래그' : 강수량 품질검사 데이터\n",
    "    - 9(Nan)으로 측정된 데이터개 약 150만개에 결측치가 77% 이지만, \n",
    "    - 강수량 데이터와 마찬가지로 비가 안온 날 이라 가정하고 진행\n",
    "    \n",
    "'풍속(m/s)' : \n",
    "    - 결측치가 적어서 사용 가능해 보임\n",
    "    - 특정 시기에 튀는 부분이 보이기 때문에, 단순히 근처 값을 활용하기 보다\n",
    "    - 해당 시기 3일전의 평균값으로 채워서 진행\n",
    "'풍속 QC플래그' : 풍속 품질검사 데이터\n",
    "    - 결측치가 약 40%이고, 9(Nan)값이 약 5000개 이지만,\n",
    "    - 50% 이상 정상 데이터라 풍속 데이터도 활용하는 것으로 진행\n",
    "    - 2019년 부터 0(정상)값이 없는데, \n",
    "    - 앞 7년간 패턴으로 봤을 때 결측치들이 0의 값일 수 있다는 판단\n",
    "    \n",
    "'풍향(16방위)' : 풍향은 국제적으로 동서남북 4방위를 2번 더 나눈 16방위로 측정\n",
    "    - 결측치 비율이 0.23% 로 적기 때문에 가장 값이 많은 0으로 채우고 진행\n",
    "'풍향 QC플래그' : 풍향 품질검사 데이터\n",
    "    - 풍속 QC플래그와 마찬가지로 19년도 데이터부터 0(정상)값이 측정이 안됐지만,\n",
    "    - 이전 7년의 패턴과 비슷한 비율로 생각하고 정상데이터라 판단하여 진행\n",
    "    \n",
    "'습도(%)' : \n",
    "    - 결측치가 적고, 특정 패턴이 없는 것으로 판단되어 평균값으로 채우고 진행\n",
    "'습도 QC플래그' : 습도 품질검사 데이터\n",
    "    - 19년 하반기부터 0(정상)값이 측정되지 않았지만, 앞과 비슷한 패턴이라 판단하고 \n",
    "    - 습도 값도 활용하는 것으로 진행\n",
    "\n",
    "    '증기압(hPa)' : 대기의 전체 압력 중에서 그 대기에 함유되어 있는 수증기가 갖고 있는 분압\n",
    "        - 특정한 패턴이 보이지 않고, 결측치가 0.09%로 적기 때문에\n",
    "        - 평균값으로 결측치를 채우고 진행\n",
    "        \n",
    "    '이슬점온도(°C)' : 이슬이 형성되는 온도\n",
    "        - 특정한 패턴이 보이지 않고, 결측치가 0.11%로 적기 때문에\n",
    "        - 평균값으로 결측치를 채우고 진행\n",
    "        \n",
    "'현지기압(hPa)' : 해당 지역의 기압\n",
    "    - 결측치가 적고, 패턴이 보이는 듯 하지만 정확하지 않기 때문에\n",
    "    - 평균 값으로 채우고 진행\n",
    "'현지기압 QC플래그' : 현지기압 품질검사 데이터\n",
    "    - 앞선 QC플래그 처럼 결측치 비율이 약 40%대 이지만, \n",
    "    - 19년도 말 부터 1(비정상), 9(Nan)값은 측정됐지만 0(정상)값이 측정되지 않았으므로\n",
    "    - 결측치를 정상 값으로 판단하고 현지기압 데이터도 활용\n",
    "    \n",
    "'해면기압(hPa)' : 정해진 장소의 평균 해수면 높이에서의 기압\n",
    "    - 결측치가 적기 때문에, 평균값으로 채워서 진행\n",
    "'해면기압 QC플래그' : 해면기압 품질검사 데이터\n",
    "    - 앞선 현지기압 QC플래그와 마찬가지의 비율을 갖고 있기 때문에\n",
    "    - 해면기압도 활용\n",
    "\n",
    "'일조(hr)' : 태양의 직사광이 지표면에 비친 시간\n",
    "    - 0과 1의 데이터가 가장 많고 이상치 처럼 보이는 데이터가 있음\n",
    "    - 결측치가 45%로 꽤 많은 편이지만 \n",
    "    - 0과 1 사이 평균값에서 크게 벗어나지 않을 것이라 가정하고 진행\n",
    "    - 12년도 중순 ~ 13년도 초에만 관측되는 1 이상의 데이터는 이상치로 가정하고\n",
    "    - 1로 변형하여 진행\n",
    "'일조 QC플래그' : 일조 품질검사 데이터\n",
    "    - 결측치가 22%이지만 9(Nan) 값이 0(정상) 값 보다 많은 것으로 보아\n",
    "    - 데이터의 정보를 확신할 수 없음\n",
    "    - 일조 데이터는 제거하는 것이 좋아보임\n",
    "\n",
    "'일사(MJ/m2)' : 태양으로부터 지구를 향해 방사되는 에너지, 태양 복사 에너지\n",
    "    - 결측치가 76%로 많은 편이고 14년 하반기 및 가끔 결측치로 판단되는 값이 보임\n",
    "    - 결측치가 많아 어떤 값으로 채울지 고민됨\n",
    "'일사 QC플래그' : 일사 품질검사 데이터\n",
    "    - QC플래그 값 역시 9(Nan)으로 측정된 데이터가 70%이상이며, 19년 하반기 이후\n",
    "    - 0(정상)값이 측정되지는 않았지만 일사 데이터를 적극적으로 활용하기는 어려워 보임\n",
    "\n",
    "    '적설(cm)' : \n",
    "        - 절설 데이터는 활용해보면 좋을 것 같아, 결측치는 눈이 오지 않은 것으로 판단하고\n",
    "        - 0으로 처리하여 사용\n",
    "    '3시간신적설(cm)' : 3시간 동안 새로 쌓인 눈\n",
    "        - 결측치가 너무 많아 활용하기 어려움\n",
    "    '전운량(10분위)' : 전층에 있는 구름의 분포량\n",
    "        - 운량의 경우 목측으로 진행하기 때문에, 사람마다 판단하는 기준이 다를 것이라 생각되므로\n",
    "        - 활용하지 않는 것이 좋아 보임\n",
    "    '중하층운량(10분위)' : 중층과 하층에 있는 구름의 분포량\n",
    "        - 중하층운량도 마찬가지로 목측으로 진행하기 때문에\n",
    "        - 객관적인 판단이 어려울 듯 하여 활용하지 않는 것이 좋아보임\n",
    "    '운형(운형약어)' : 구름의 모양\n",
    "        - 154가지의 카테고리 데이터로써 활용하기 어려워 보임\n",
    "    '최저운고(100m )' : 구름의 최저 고도\n",
    "        - 결측치가 70%로 많은 편이며, 16년도 중순 시점을 전후로 값의 전반적인 차이가 보임\n",
    "        - 16년도 전후로 평균치가 달라졌는지는 아직 확인할 수 없으며\n",
    "        - 운고에 대한 지식이 없어 바로 활용하기는 어려워 보임\n",
    "    '시정(10m)' : 가시 거리\n",
    "        - 가시거리 10m로 측정된 데이터 인데, 데이터들의 의미를 정확히 파악할 수 없어\n",
    "        - 현재는 사용하지 않는 것이 좋아 보임\n",
    "    '지면상태(지면상태코드)' : \n",
    "        - 결측치가 97%이고, 지면 상태에 대한 코드는 활용하지 않는것이 좋아 보임\n",
    "    '현상번호(국내식)' : \n",
    "        - 결측치가 91%이고, 국내 현상 번호는 463개의 카테고리 데이터로 판단되어\n",
    "        - 활용하지 않는것이 좋아 보임\n",
    "    \n",
    "'지면온도(°C)' : \n",
    "    - 결측치가 0.11%로 적은 편\n",
    "    - 평균치로 결측치 처리 후 활용\n",
    "'지면온도 QC플래그' : 지면온도 품질검사 데이터\n",
    "    - 결측치가 39% 이지만, 측정된 값 중 0(정상) 데이터가 많은 비율을 차지하므로\n",
    "    - 지면온도 데이터는 활용 해볼 수 있다고 판단됨\n",
    "\n",
    "    '5cm 지중온도(°C)' : 땅 속 5cm 온도\n",
    "        - 결측치가 약 70%로 많은 편이지만, \n",
    "        - 온도 데이터 이기 때문에 급변하지는 않을 것이라 판단됨\n",
    "        - 이전 값들의 평균으로 결측치 처리 후 활용해 볼만 함\n",
    "    '10cm 지중온도(°C)' : 땅 속 10cm 온도\n",
    "        - 5cm 지중온도 처럼 결측치가 꽤 있지만\n",
    "        - 그래프 상 이상치로 보이는 값들은 따로 처리한 다음,\n",
    "        - 특정 시점 이전 값들의 평균으로 결측치 처리 후 활용\n",
    "    '20cm 지중온도(°C)' : 땅 속 20cm 온도\n",
    "        - 마찬가지로 결측치가 꽤 있지만\n",
    "        - 그래프 상 이상치로 보이는 이상치들을 처리한 다음,\n",
    "        - 특정 시점 이전 값들의 평균으로 결측치 처리 후 활용\n",
    "    '30cm 지중온도(°C)' : 땅 속 30cm 온도\n",
    "        - 30cm 지중온도 데이터 또한 마찬가지로 결측치가 꽤 있지만\n",
    "        - 그래프 상 이상치로 보이는 이상치들을 10,20cm 데이터보다는 적어 보임,\n",
    "        - 특정 시점 이전 값들의 평균으로 결측치 처리 후 활용\n",
    "\n",
    "'''"
   ]
  },
  {
   "cell_type": "code",
   "execution_count": null,
   "id": "88e3b47b",
   "metadata": {
    "ExecuteTime": {
     "end_time": "2023-07-02T03:45:32.372219Z",
     "start_time": "2023-07-02T03:45:32.204668Z"
    }
   },
   "outputs": [],
   "source": [
    "# EDA 후 drop 할 컬럼 정리\n",
    "\n",
    "time_drop = ['기온 QC플래그', '강수량 QC플래그', '풍속 QC플래그', '풍향 QC플래그',\n",
    "            '습도 QC플래그', '현지기압 QC플래그', '해면기압 QC플래그',\n",
    "            '일조(hr)', '일조 QC플래그', '일사(MJ/m2)', '일사 QC플래그', '3시간신적설(cm)',\n",
    "            '전운량(10분위)', '중하층운량(10분위)', '최저운고(100m )', '시정(10m)',\n",
    "            '지면상태(지면상태코드)', '현상번호(국내식)', '지면온도 QC플래그']\n",
    "\n",
    "time.drop(columns = time_drop, axis=1, inplace=True)"
   ]
  },
  {
   "cell_type": "code",
   "execution_count": null,
   "id": "b60fa1c8",
   "metadata": {
    "ExecuteTime": {
     "end_time": "2023-07-04T10:52:39.770721Z",
     "start_time": "2023-07-04T10:52:39.759751Z"
    }
   },
   "outputs": [],
   "source": [
    "time_drop2 = ['기온 QC플래그', '강수량 QC플래그', '풍속 QC플래그', '풍향 QC플래그',\n",
    "            '습도 QC플래그', '현지기압 QC플래그', '해면기압 QC플래그',\n",
    "            '일조 QC플래그', '일사 QC플래그', '지면온도 QC플래그',\n",
    "              '3시간신적설(cm)','지면상태(지면상태코드)', '현상번호(국내식)']"
   ]
  },
  {
   "cell_type": "code",
   "execution_count": null,
   "id": "cc80f6c6",
   "metadata": {
    "ExecuteTime": {
     "end_time": "2023-07-02T03:45:50.440761Z",
     "start_time": "2023-07-02T03:45:50.419508Z"
    }
   },
   "outputs": [],
   "source": [
    "lgbm_test.drop(columns=time_drop, axis=1, inplace=True)"
   ]
  },
  {
   "cell_type": "code",
   "execution_count": null,
   "id": "9246d55e",
   "metadata": {
    "ExecuteTime": {
     "end_time": "2023-07-02T03:52:09.297503Z",
     "start_time": "2023-07-02T03:52:09.244044Z"
    }
   },
   "outputs": [],
   "source": [
    "lgbm_test"
   ]
  },
  {
   "cell_type": "code",
   "execution_count": null,
   "id": "48e5b952",
   "metadata": {
    "ExecuteTime": {
     "end_time": "2023-07-02T03:45:54.248724Z",
     "start_time": "2023-07-02T03:45:54.183202Z"
    }
   },
   "outputs": [],
   "source": [
    "lgbm_test.to_csv('lgbm_test.csv')"
   ]
  },
  {
   "cell_type": "code",
   "execution_count": null,
   "id": "83e89cc5",
   "metadata": {
    "ExecuteTime": {
     "end_time": "2023-07-02T00:35:04.128471Z",
     "start_time": "2023-07-02T00:35:04.082594Z"
    }
   },
   "outputs": [],
   "source": [
    "time"
   ]
  },
  {
   "cell_type": "markdown",
   "id": "b62b7784",
   "metadata": {},
   "source": [
    "## 결측치 채우기"
   ]
  },
  {
   "cell_type": "markdown",
   "id": "297918ef",
   "metadata": {},
   "source": [
    "### 0, 통계값"
   ]
  },
  {
   "cell_type": "code",
   "execution_count": null,
   "id": "017ecd85",
   "metadata": {
    "ExecuteTime": {
     "end_time": "2023-07-01T09:52:54.493773Z",
     "start_time": "2023-07-01T09:52:47.600410Z"
    },
    "scrolled": true
   },
   "outputs": [],
   "source": [
    "# 이전 값, Nan 값이 포함된 데이터의 평균으로 결측치를 처리한 결과 확인\n",
    "\n",
    "time_fill = time.copy()\n",
    "\n",
    "time_fill['기온(°C)'].fillna(method='ffill', inplace=True)\n",
    "time_fill['강수량(mm)'].fillna(0, inplace=True)\n",
    "time_fill['풍속(m/s)'].fillna(time.groupby(time.index)['풍속(m/s)'].transform('mean'), inplace=True)\n",
    "time_fill['풍향(16방위)'].fillna(0, inplace=True)\n",
    "time_fill['습도(%)'].fillna(time.groupby(time.index)['습도(%)'].transform('mean'), inplace=True)\n",
    "time_fill['증기압(hPa)'].fillna(time.groupby(time.index)['증기압(hPa)'].transform('mean'), inplace=True)\n",
    "time_fill['이슬점온도(°C)'].fillna(time.groupby(time.index)['이슬점온도(°C)'].transform('mean'), inplace=True)\n",
    "time_fill['현지기압(hPa)'].fillna(time.groupby(time.index)['현지기압(hPa)'].transform('mean'), inplace=True)\n",
    "time_fill['해면기압(hPa)'].fillna(time.groupby(time.index)['해면기압(hPa)'].transform('mean'), inplace=True)\n",
    "time_fill['적설(cm)'].fillna(0, inplace=True)\n",
    "time_fill['지면온도(°C)'].fillna(time.groupby(time.index)['지면온도(°C)'].transform('mean'), inplace=True)\n",
    "time_fill['5cm 지중온도(°C)'].fillna(time.groupby(time.index)['5cm 지중온도(°C)'].transform('mean'), inplace=True)\n",
    "time_fill['10cm 지중온도(°C)'].fillna(time.groupby(time.index)['10cm 지중온도(°C)'].transform('mean'), inplace=True)\n",
    "time_fill['20cm 지중온도(°C)'].fillna(time.groupby(time.index)['20cm 지중온도(°C)'].transform('mean'), inplace=True)\n",
    "time_fill['30cm 지중온도(°C)'].fillna(time.groupby(time.index)['30cm 지중온도(°C)'].transform('mean'), inplace=True)\n",
    "\n",
    "compare_describe(time, time_fill)"
   ]
  },
  {
   "cell_type": "markdown",
   "id": "5bb18e14",
   "metadata": {},
   "source": [
    "### 선형 보간"
   ]
  },
  {
   "cell_type": "code",
   "execution_count": null,
   "id": "4a0c15f6",
   "metadata": {
    "ExecuteTime": {
     "end_time": "2023-07-01T09:53:58.980788Z",
     "start_time": "2023-07-01T09:53:52.852191Z"
    },
    "scrolled": true
   },
   "outputs": [],
   "source": [
    "# 선형 보간을 활용해 결측치를 처리한 결과 확인\n",
    "\n",
    "time_linear_interpolate = time.copy()\n",
    "\n",
    "time_linear_interpolate = time_linear_interpolate.interpolate()\n",
    "\n",
    "compare_describe(time, time_linear_interpolate)\n"
   ]
  },
  {
   "cell_type": "markdown",
   "id": "c1fcee50",
   "metadata": {},
   "source": [
    "### ARIMA"
   ]
  },
  {
   "cell_type": "code",
   "execution_count": null,
   "id": "03740d1e",
   "metadata": {
    "ExecuteTime": {
     "end_time": "2023-07-02T03:55:40.656565Z",
     "start_time": "2023-07-02T03:55:36.756611Z"
    }
   },
   "outputs": [],
   "source": [
    "# 결측치를 ARIMA 모델을 활용하여 채우는 함수\n",
    "\n",
    "import statsmodels.api as sm\n",
    "\n",
    "def fill_missing_values_arima(data):\n",
    "    for column in tqdm(data.columns):\n",
    "        # 결측치가 있는 인덱스 확인\n",
    "        missing_indices = data[data[column].isnull()].index\n",
    "\n",
    "        # ARIMA 모델에 입력할 데이터 생성\n",
    "        values = data[column].values\n",
    "        filled_values = values.copy()\n",
    "\n",
    "        for index in missing_indices:\n",
    "            # 결측치 이전의 관측값 인덱스 범위\n",
    "            start_index = max(index - 5, 0)\n",
    "            end_index = index\n",
    "\n",
    "            # 결측치 이전의 관측값 데이터 추출\n",
    "            history = values[start_index:end_index]\n",
    "\n",
    "            # ARIMA 모델 학습 및 예측\n",
    "            model = sm.tsa.ARIMA(history, order=(1, 0, 0))\n",
    "            model_fit = model.fit()\n",
    "            predicted_value = model_fit.forecast()[0]\n",
    "\n",
    "            # 예측된 값을 결측치에 대입\n",
    "            filled_values[index] = predicted_value\n",
    "\n",
    "        # 결측치가 채워진 시계열 데이터 반환\n",
    "        filled_data = data.copy()\n",
    "        filled_data[column] = filled_values\n",
    "        \n",
    "    return filled_data\n"
   ]
  },
  {
   "cell_type": "code",
   "execution_count": null,
   "id": "fcb0e4f6",
   "metadata": {
    "ExecuteTime": {
     "end_time": "2023-07-01T09:57:51.388061Z",
     "start_time": "2023-07-01T09:57:49.219652Z"
    },
    "scrolled": true
   },
   "outputs": [],
   "source": [
    "# 결측치를 ARIMA 모델을 활용하여 채우기\n",
    "\n",
    "time_arima_fill = time.copy()\n",
    "time_arima_fill['강수량(mm)'].fillna(0, inplace=True)\n",
    "time_arima_fill['적설(cm)'].fillna(0, inplace=True)\n",
    "\n",
    "time_arima_fill.index = pd.to_datetime(time_arima_fill.index)\n",
    "time_arima_fill.reset_index(inplace=True)\n",
    "\n",
    "time_arima_fill = fill_missing_values_arima(time_arima_fill)"
   ]
  },
  {
   "cell_type": "code",
   "execution_count": null,
   "id": "53bff982",
   "metadata": {
    "ExecuteTime": {
     "end_time": "2023-07-01T09:58:11.277125Z",
     "start_time": "2023-07-01T09:58:01.082704Z"
    },
    "scrolled": true
   },
   "outputs": [],
   "source": [
    "compare_describe(time_fill, time_arima_fill.set_index('기준일시'))"
   ]
  },
  {
   "cell_type": "code",
   "execution_count": null,
   "id": "8158aec1",
   "metadata": {},
   "outputs": [],
   "source": []
  },
  {
   "cell_type": "markdown",
   "id": "d5010499",
   "metadata": {},
   "source": [
    "### LSTM"
   ]
  },
  {
   "cell_type": "code",
   "execution_count": null,
   "id": "118d2407",
   "metadata": {
    "ExecuteTime": {
     "end_time": "2023-07-01T09:56:10.498476Z",
     "start_time": "2023-07-01T09:56:03.077717Z"
    }
   },
   "outputs": [],
   "source": [
    "import tensorflow as tf\n",
    "from tensorflow.keras.models import Sequential\n",
    "from tensorflow.keras.layers import LSTM, Dense\n"
   ]
  },
  {
   "cell_type": "code",
   "execution_count": null,
   "id": "44429484",
   "metadata": {
    "ExecuteTime": {
     "end_time": "2023-07-01T08:26:08.133903Z",
     "start_time": "2023-07-01T08:26:08.122666Z"
    }
   },
   "outputs": [],
   "source": [
    "from tensorflow.python.client import device_lib\n",
    "\n",
    "print(device_lib.list_local_devices())"
   ]
  },
  {
   "cell_type": "code",
   "execution_count": null,
   "id": "f6dee63a",
   "metadata": {
    "ExecuteTime": {
     "end_time": "2023-07-01T08:24:51.009696Z",
     "start_time": "2023-07-01T08:24:50.955737Z"
    }
   },
   "outputs": [],
   "source": [
    "# GPU 환경 설정\n",
    "\n",
    "physical_devices = tf.config.list_physical_devices('GPU')\n",
    "tf.config.experimental.set_memory_growth(physical_devices[0], True)"
   ]
  },
  {
   "cell_type": "code",
   "execution_count": null,
   "id": "37a75b98",
   "metadata": {
    "ExecuteTime": {
     "end_time": "2023-07-01T09:56:10.513441Z",
     "start_time": "2023-07-01T09:56:10.500475Z"
    }
   },
   "outputs": [],
   "source": [
    "\n",
    "def fill_missing_values_lstm(df):\n",
    "    for column in tqdm(df.columns):\n",
    "        missing_indexes = df[df[column].isnull()].index\n",
    "        \n",
    "        for idx in missing_indexes:\n",
    "            # LSTM 모델 학습 데이터 준비\n",
    "            X_train = df.loc[:idx-1, column].values\n",
    "            y_train = df.loc[1:idx, column].values\n",
    "\n",
    "            # LSTM 모델 구성\n",
    "            model = Sequential()\n",
    "            model.add(LSTM(10, input_shape=(1, 1)))\n",
    "            model.add(Dense(1))\n",
    "            model.compile(optimizer='adam', loss='mse')\n",
    "\n",
    "            # LSTM 모델 학습\n",
    "            X_train = X_train.reshape((X_train.shape[0], 1, 1))\n",
    "            model.fit(X_train, y_train, epochs=100, verbose=0)\n",
    "\n",
    "            # 결측치 예측\n",
    "            X_test = np.array([[df.loc[idx-1, column]]])\n",
    "            X_test = X_test.reshape((1, 1, 1))\n",
    "            y_pred = model.predict(X_test)\n",
    "\n",
    "            # 결측치 채우기\n",
    "            df.loc[idx, column] = y_pred[0][0]\n",
    "        \n",
    "    return df\n"
   ]
  },
  {
   "cell_type": "code",
   "execution_count": null,
   "id": "de336897",
   "metadata": {
    "ExecuteTime": {
     "end_time": "2023-07-01T09:57:28.972186Z",
     "start_time": "2023-07-01T09:56:10.974337Z"
    },
    "scrolled": true
   },
   "outputs": [],
   "source": [
    "time_lstm_fill = time.copy()\n",
    "time_lstm_fill['강수량(mm)'].fillna(0, inplace=True)\n",
    "time_lstm_fill['적설(cm)'].fillna(0, inplace=True)\n",
    "\n",
    "time_lstm_fill.index = pd.to_datetime(time_lstm_fill.index)\n",
    "time_lstm_fill.reset_index(inplace=True)\n",
    "\n",
    "time_lstm_fill = fill_missing_values_lstm(time_lstm_fill)"
   ]
  },
  {
   "cell_type": "code",
   "execution_count": null,
   "id": "bd473dea",
   "metadata": {
    "ExecuteTime": {
     "end_time": "2023-06-30T10:22:00.413126Z",
     "start_time": "2023-06-30T10:22:00.064780Z"
    }
   },
   "outputs": [],
   "source": [
    "display(time_arima_fill)\n",
    "display(missing_per(time_arima_fill).style.applymap(highlight_cells))"
   ]
  },
  {
   "cell_type": "code",
   "execution_count": null,
   "id": "8032c2cd",
   "metadata": {
    "ExecuteTime": {
     "end_time": "2023-06-30T10:23:42.152441Z",
     "start_time": "2023-06-30T10:23:16.210883Z"
    },
    "scrolled": false
   },
   "outputs": [],
   "source": [
    "value_confirm(time_arima_fill)"
   ]
  },
  {
   "cell_type": "code",
   "execution_count": null,
   "id": "f9c9fc41",
   "metadata": {},
   "outputs": [],
   "source": []
  },
  {
   "cell_type": "markdown",
   "id": "1a03d237",
   "metadata": {},
   "source": [
    "# Data Concat"
   ]
  },
  {
   "cell_type": "code",
   "execution_count": null,
   "id": "9698aca6",
   "metadata": {
    "ExecuteTime": {
     "end_time": "2023-07-01T10:00:50.752588Z",
     "start_time": "2023-07-01T10:00:50.214972Z"
    }
   },
   "outputs": [],
   "source": [
    "merged_df = pd.merge(elec, time_fill, on='기준일시', how='left')"
   ]
  },
  {
   "cell_type": "code",
   "execution_count": null,
   "id": "8a878438",
   "metadata": {
    "ExecuteTime": {
     "end_time": "2023-07-01T10:01:47.884362Z",
     "start_time": "2023-07-01T10:01:47.839494Z"
    }
   },
   "outputs": [],
   "source": [
    "display(missing_per(merged_df).style.applymap(highlight_cells))"
   ]
  },
  {
   "cell_type": "code",
   "execution_count": null,
   "id": "aaa936cb",
   "metadata": {
    "ExecuteTime": {
     "end_time": "2023-07-01T10:05:47.398649Z",
     "start_time": "2023-07-01T10:05:32.030664Z"
    },
    "scrolled": true
   },
   "outputs": [],
   "source": [
    "# 선형 보간으로 결측치 채우기\n",
    "\n",
    "merged_linear_interpolate = merged_df.copy()\n",
    "\n",
    "merged_linear_interpolate = merged_linear_interpolate.interpolate()\n",
    "\n",
    "compare_describe(merged_df, merged_linear_interpolate)"
   ]
  },
  {
   "cell_type": "code",
   "execution_count": null,
   "id": "e039d32f",
   "metadata": {
    "ExecuteTime": {
     "end_time": "2023-07-01T10:05:30.578006Z",
     "start_time": "2023-07-01T10:03:39.368095Z"
    },
    "scrolled": true
   },
   "outputs": [],
   "source": [
    "merged_lstm_fill = merged_df.copy()\n",
    "\n",
    "merged_lstm_fill.index = pd.to_datetime(merged_lstm_fill.index)\n",
    "merged_lstm_fill.reset_index(inplace=True)\n",
    "\n",
    "merged_lstm_fill = fill_missing_values_lstm(merged_lstm_fill)"
   ]
  },
  {
   "cell_type": "code",
   "execution_count": null,
   "id": "fc43ee57",
   "metadata": {
    "ExecuteTime": {
     "end_time": "2023-07-01T10:06:32.815432Z",
     "start_time": "2023-07-01T10:06:32.761578Z"
    }
   },
   "outputs": [],
   "source": [
    "display(missing_per(merged_linear_interpolate).style.applymap(highlight_cells))"
   ]
  },
  {
   "cell_type": "code",
   "execution_count": null,
   "id": "fa8b43fd",
   "metadata": {
    "ExecuteTime": {
     "end_time": "2023-07-01T10:08:07.717735Z",
     "start_time": "2023-07-01T10:08:07.624415Z"
    }
   },
   "outputs": [],
   "source": [
    "# 첫 번째 컬럼 맨 뒤로\n",
    "\n",
    "df = merged_linear_interpolate.copy()\n",
    "\n",
    "columns = df.columns.tolist()  # 열 이름을 리스트로 변환\n",
    "columns.append(columns.pop(0))  # 첫 번째 열 이름을 맨 뒤로 이동\n",
    "df = df.reindex(columns=columns)  # 열 순서 재조정"
   ]
  },
  {
   "cell_type": "code",
   "execution_count": null,
   "id": "2ce53452",
   "metadata": {
    "ExecuteTime": {
     "end_time": "2023-07-01T10:13:12.216367Z",
     "start_time": "2023-07-01T10:13:11.739272Z"
    }
   },
   "outputs": [],
   "source": [
    "df"
   ]
  },
  {
   "cell_type": "code",
   "execution_count": null,
   "id": "fee5cafd",
   "metadata": {
    "ExecuteTime": {
     "end_time": "2023-07-01T10:08:57.614136Z",
     "start_time": "2023-07-01T10:08:35.676012Z"
    }
   },
   "outputs": [],
   "source": [
    "df.to_csv('ver1.csv')"
   ]
  },
  {
   "cell_type": "markdown",
   "id": "e39d31f5",
   "metadata": {},
   "source": [
    "# ML 용 test data 만들기"
   ]
  },
  {
   "cell_type": "code",
   "execution_count": null,
   "id": "3a9a0942",
   "metadata": {
    "ExecuteTime": {
     "end_time": "2023-07-02T04:08:23.569100Z",
     "start_time": "2023-07-02T04:08:23.415328Z"
    }
   },
   "outputs": [],
   "source": [
    "lgbm_test = pd.read_csv(path + '/lgbm_test_data.csv', sep=',', index_col=0,  encoding='cp949') \n",
    "test = pd.read_csv(path + '/test_data.csv', sep=',', index_col=0)"
   ]
  },
  {
   "cell_type": "code",
   "execution_count": null,
   "id": "131bcaf4",
   "metadata": {
    "ExecuteTime": {
     "end_time": "2023-07-02T04:08:25.531507Z",
     "start_time": "2023-07-02T04:08:25.496408Z"
    }
   },
   "outputs": [],
   "source": [
    "lgbm_test = lgbm_test.set_index(['일시'])\n",
    "lgbm_test.drop(['지점명', '운형(운형약어)'], axis=1, inplace=True)\n",
    "lgbm_test = lgbm_test.rename_axis('기준일시')\n",
    "# lgbm_test = lgbm_test.reset_index().groupby('기준일시').mean()"
   ]
  },
  {
   "cell_type": "code",
   "execution_count": null,
   "id": "1e4f30db",
   "metadata": {
    "ExecuteTime": {
     "end_time": "2023-07-02T04:09:03.013036Z",
     "start_time": "2023-07-02T04:09:02.342430Z"
    }
   },
   "outputs": [],
   "source": [
    "lgbm_test.to_csv('ML_test_data.csv')"
   ]
  },
  {
   "cell_type": "code",
   "execution_count": null,
   "id": "6305ee35",
   "metadata": {
    "ExecuteTime": {
     "end_time": "2023-07-02T04:10:17.534141Z",
     "start_time": "2023-07-02T04:10:17.434157Z"
    }
   },
   "outputs": [],
   "source": [
    "lgbm_test"
   ]
  },
  {
   "cell_type": "code",
   "execution_count": null,
   "id": "55a08913",
   "metadata": {
    "ExecuteTime": {
     "end_time": "2023-07-02T03:55:56.417026Z",
     "start_time": "2023-07-02T03:55:56.366094Z"
    }
   },
   "outputs": [],
   "source": [
    "# 결측치를 ARIMA 모델을 활용하여 채우기\n",
    "\n",
    "lgbm_test_fill = lgbm_test.copy()\n",
    "lgbm_test_fill['강수량(mm)'].fillna(0, inplace=True)\n",
    "lgbm_test_fill['적설(cm)'].fillna(0, inplace=True)\n",
    "\n",
    "lgbm_test_fill.index = pd.to_datetime(lgbm_test_fill.index)\n",
    "lgbm_test_fill.reset_index(inplace=True)\n",
    "\n",
    "lgbm_test_fill = fill_missing_values_arima(lgbm_test_fill)"
   ]
  },
  {
   "cell_type": "code",
   "execution_count": null,
   "id": "2d6ed752",
   "metadata": {
    "ExecuteTime": {
     "end_time": "2023-07-02T03:56:16.012522Z",
     "start_time": "2023-07-02T03:55:58.529440Z"
    },
    "scrolled": true
   },
   "outputs": [],
   "source": [
    "compare_describe(lgbm_test, lgbm_test_fill.set_index('기준일시'))"
   ]
  },
  {
   "cell_type": "code",
   "execution_count": null,
   "id": "078389e3",
   "metadata": {
    "ExecuteTime": {
     "end_time": "2023-07-02T03:58:32.334275Z",
     "start_time": "2023-07-02T03:58:32.324440Z"
    }
   },
   "outputs": [],
   "source": [
    "test.index = pd.to_datetime(test.index)"
   ]
  },
  {
   "cell_type": "code",
   "execution_count": null,
   "id": "03b89638",
   "metadata": {
    "ExecuteTime": {
     "end_time": "2023-07-02T03:58:59.457871Z",
     "start_time": "2023-07-02T03:58:59.437925Z"
    }
   },
   "outputs": [],
   "source": [
    "# 최종 5분 데이터로 만들기\n",
    "\n",
    "lgbm_test_merge = pd.merge(test, lgbm_test_fill, on='기준일시', how='left')\n",
    "lgbm_test_merge.set_index('기준일시', inplace=True)"
   ]
  },
  {
   "cell_type": "code",
   "execution_count": null,
   "id": "a31d3023",
   "metadata": {
    "ExecuteTime": {
     "end_time": "2023-07-02T04:02:13.200504Z",
     "start_time": "2023-07-02T04:01:54.847785Z"
    },
    "scrolled": true
   },
   "outputs": [],
   "source": [
    "# 시간별로 있는 데이터를 선형 보간 방법으로 5분 데이터 채우기\n",
    "\n",
    "ML_merged_linear_interpolate = lgbm_test_merge.copy()\n",
    "\n",
    "ML_merged_linear_interpolate = ML_merged_linear_interpolate.interpolate()\n",
    "\n",
    "compare_describe(lgbm_test_merge, ML_merged_linear_interpolate)"
   ]
  },
  {
   "cell_type": "code",
   "execution_count": null,
   "id": "5ff51296",
   "metadata": {
    "ExecuteTime": {
     "end_time": "2023-07-02T04:05:13.575343Z",
     "start_time": "2023-07-02T04:05:13.515820Z"
    }
   },
   "outputs": [],
   "source": [
    "ML_merged_linear_interpolate"
   ]
  },
  {
   "cell_type": "code",
   "execution_count": null,
   "id": "41117afc",
   "metadata": {
    "ExecuteTime": {
     "end_time": "2023-07-02T04:05:16.362349Z",
     "start_time": "2023-07-02T04:05:16.345389Z"
    }
   },
   "outputs": [],
   "source": [
    "df = ML_merged_linear_interpolate.copy()\n",
    "\n",
    "columns = df.columns.tolist()  # 열 이름을 리스트로 변환\n",
    "columns.append(columns.pop(0))  # 첫 번째 열 이름을 맨 뒤로 이동\n",
    "df = df.reindex(columns=columns)  # 열 순서 재조정"
   ]
  },
  {
   "cell_type": "code",
   "execution_count": null,
   "id": "f966aad1",
   "metadata": {
    "ExecuteTime": {
     "end_time": "2023-07-02T04:06:18.887237Z",
     "start_time": "2023-07-02T04:06:18.834827Z"
    }
   },
   "outputs": [],
   "source": [
    "df = df.rename(columns={'현재수요(MW)' : 'pred'})\n",
    "df['pred'] = 0\n",
    "df"
   ]
  },
  {
   "cell_type": "code",
   "execution_count": null,
   "id": "7b49dc6a",
   "metadata": {
    "ExecuteTime": {
     "end_time": "2023-07-02T04:07:19.606898Z",
     "start_time": "2023-07-02T04:07:19.481157Z"
    }
   },
   "outputs": [],
   "source": [
    "df.to_csv('lgbm_test_v1.csv')"
   ]
  },
  {
   "cell_type": "code",
   "execution_count": null,
   "id": "8457a037",
   "metadata": {
    "ExecuteTime": {
     "end_time": "2023-07-04T10:40:06.428995Z",
     "start_time": "2023-07-04T10:40:05.168233Z"
    }
   },
   "outputs": [],
   "source": [
    "time.dropna()"
   ]
  },
  {
   "cell_type": "markdown",
   "id": "ddde5f0c",
   "metadata": {},
   "source": [
    "# Baseline"
   ]
  },
  {
   "cell_type": "markdown",
   "id": "313d63fe",
   "metadata": {},
   "source": [
    "## VAR"
   ]
  },
  {
   "cell_type": "code",
   "execution_count": null,
   "id": "16790002",
   "metadata": {
    "ExecuteTime": {
     "end_time": "2023-07-07T10:25:01.994517Z",
     "start_time": "2023-07-07T10:25:01.991383Z"
    }
   },
   "outputs": [],
   "source": [
    "from statsmodels.tsa.vector_ar.var_model import VAR"
   ]
  },
  {
   "cell_type": "code",
   "execution_count": null,
   "id": "8a5eff77",
   "metadata": {
    "ExecuteTime": {
     "end_time": "2023-07-07T03:59:35.057178Z",
     "start_time": "2023-07-07T03:59:34.986494Z"
    }
   },
   "outputs": [],
   "source": [
    "ml_test = pd.read_csv(path + '/ML_test_data.csv', sep=',', index_col=0)\n",
    "test = pd.read_csv(path + '/test_data.csv', sep=',', index_col=0)"
   ]
  },
  {
   "cell_type": "code",
   "execution_count": null,
   "id": "c7fc197b",
   "metadata": {
    "ExecuteTime": {
     "end_time": "2023-07-04T15:16:48.417418Z",
     "start_time": "2023-07-04T15:16:48.414370Z"
    }
   },
   "outputs": [],
   "source": [
    "time_drop = ['기온 QC플래그', '강수량 QC플래그', '풍속 QC플래그', '풍향 QC플래그',\n",
    "            '습도 QC플래그', '현지기압 QC플래그', '해면기압 QC플래그',\n",
    "            '일조(hr)', '일조 QC플래그', '일사(MJ/m2)', '일사 QC플래그', '3시간신적설(cm)',\n",
    "            '전운량(10분위)', '중하층운량(10분위)', '최저운고(100m )', '시정(10m)',\n",
    "            '지면상태(지면상태코드)', '현상번호(국내식)', '지면온도 QC플래그']\n",
    "\n",
    "time_drop2 = ['기온 QC플래그', '강수량 QC플래그', '풍속 QC플래그', '풍향 QC플래그',\n",
    "            '습도 QC플래그', '현지기압 QC플래그', '해면기압 QC플래그',\n",
    "            '일조 QC플래그', '일사 QC플래그', '지면온도 QC플래그',\n",
    "              '3시간신적설(cm)','지면상태(지면상태코드)', '현상번호(국내식)']\n",
    "\n",
    "select = ['기온(°C)']"
   ]
  },
  {
   "cell_type": "code",
   "execution_count": null,
   "id": "8d732ab1",
   "metadata": {
    "ExecuteTime": {
     "end_time": "2023-07-04T15:42:39.970640Z",
     "start_time": "2023-07-04T15:42:39.967233Z"
    }
   },
   "outputs": [],
   "source": [
    "time.columns"
   ]
  },
  {
   "cell_type": "markdown",
   "id": "a83a102f",
   "metadata": {},
   "source": [
    "# 전력량만 예측 (비교 기준점)"
   ]
  },
  {
   "cell_type": "markdown",
   "id": "d17ebbf3",
   "metadata": {},
   "source": [
    "https://colab.research.google.com/drive/1dCtKyvVeeedi5zJdVlO858ERc8o7xkYq#scrollTo=UZU0-1s-pso_"
   ]
  },
  {
   "cell_type": "code",
   "execution_count": 7,
   "id": "7c0570d8",
   "metadata": {
    "ExecuteTime": {
     "end_time": "2023-07-08T09:31:48.068518Z",
     "start_time": "2023-07-08T09:31:48.061537Z"
    }
   },
   "outputs": [],
   "source": [
    "path = 'G:/내 드라이브/취업/Contest/2307_PublicData/data'"
   ]
  },
  {
   "cell_type": "code",
   "execution_count": 4,
   "id": "c0ae591b",
   "metadata": {
    "ExecuteTime": {
     "end_time": "2023-07-08T09:28:54.161375Z",
     "start_time": "2023-07-08T09:28:54.153362Z"
    }
   },
   "outputs": [],
   "source": [
    "def result_graph(actual, predicted):\n",
    "    \n",
    "    MAPE = np.mean(np.abs((actual - predicted) / actual)) * 100\n",
    "\n",
    "    # MAPE 계산\n",
    "    mape = [abs((a - p) / a) * 100 for a, p in zip(actual, predicted)]\n",
    "    \n",
    "    print('MAPE : ', MAPE)\n",
    "\n",
    "    # 그래프 크기 설정\n",
    "    fig = plt.figure(figsize=(8, 4))\n",
    "\n",
    "    # 그래프 그리기\n",
    "    plt.plot(mape)\n",
    "    plt.xlabel('Data Point')\n",
    "    plt.ylabel('MAPE (%)')\n",
    "    plt.title('MAPE Ratio')\n",
    "    plt.show()\n",
    "    \n",
    "    fig = plt.figure(figsize=(8, 4))\n",
    "    plt.plot(actual, label='actual')\n",
    "    plt.plot(predicted, label='pred')\n",
    "    plt.title('Actual & Predict')\n",
    "    plt.legend()\n",
    "    plt.show()\n",
    "\n",
    "#시간 변수와 요일 변수\n",
    "def minute(x):\n",
    "    return x.minute\n",
    "def weekday(x):\n",
    "    return x.weekday()\n",
    "def quarter(x):\n",
    "    return x.quarter"
   ]
  },
  {
   "cell_type": "code",
   "execution_count": 25,
   "id": "696c2940",
   "metadata": {
    "ExecuteTime": {
     "end_time": "2023-07-08T09:43:16.210227Z",
     "start_time": "2023-07-08T09:40:14.977091Z"
    },
    "scrolled": true
   },
   "outputs": [
    {
     "ename": "ParserError",
     "evalue": "Error tokenizing data. C error: Calling read(nbytes) on source failed. Try engine='python'.",
     "output_type": "error",
     "traceback": [
      "\u001b[1;31m---------------------------------------------------------------------------\u001b[0m",
      "\u001b[1;31mParserError\u001b[0m                               Traceback (most recent call last)",
      "Input \u001b[1;32mIn [25]\u001b[0m, in \u001b[0;36m<cell line: 1>\u001b[1;34m()\u001b[0m\n\u001b[1;32m----> 1\u001b[0m time \u001b[38;5;241m=\u001b[39m \u001b[43mpd\u001b[49m\u001b[38;5;241;43m.\u001b[39;49m\u001b[43mread_csv\u001b[49m\u001b[43m(\u001b[49m\u001b[43mpath\u001b[49m\u001b[43m \u001b[49m\u001b[38;5;241;43m+\u001b[39;49m\u001b[43m \u001b[49m\u001b[38;5;124;43m'\u001b[39;49m\u001b[38;5;124;43m/ground_time_9246057.csv\u001b[39;49m\u001b[38;5;124;43m'\u001b[39;49m\u001b[43m,\u001b[49m\u001b[43m \u001b[49m\u001b[43msep\u001b[49m\u001b[38;5;241;43m=\u001b[39;49m\u001b[38;5;124;43m'\u001b[39;49m\u001b[38;5;124;43m,\u001b[39;49m\u001b[38;5;124;43m'\u001b[39;49m\u001b[43m,\u001b[49m\u001b[43m \u001b[49m\u001b[43mindex_col\u001b[49m\u001b[38;5;241;43m=\u001b[39;49m\u001b[38;5;241;43m0\u001b[39;49m\u001b[43m)\u001b[49m\n",
      "File \u001b[1;32mc:\\python38-64\\lib\\site-packages\\pandas\\util\\_decorators.py:211\u001b[0m, in \u001b[0;36mdeprecate_kwarg.<locals>._deprecate_kwarg.<locals>.wrapper\u001b[1;34m(*args, **kwargs)\u001b[0m\n\u001b[0;32m    209\u001b[0m     \u001b[38;5;28;01melse\u001b[39;00m:\n\u001b[0;32m    210\u001b[0m         kwargs[new_arg_name] \u001b[38;5;241m=\u001b[39m new_arg_value\n\u001b[1;32m--> 211\u001b[0m \u001b[38;5;28;01mreturn\u001b[39;00m \u001b[43mfunc\u001b[49m\u001b[43m(\u001b[49m\u001b[38;5;241;43m*\u001b[39;49m\u001b[43margs\u001b[49m\u001b[43m,\u001b[49m\u001b[43m \u001b[49m\u001b[38;5;241;43m*\u001b[39;49m\u001b[38;5;241;43m*\u001b[39;49m\u001b[43mkwargs\u001b[49m\u001b[43m)\u001b[49m\n",
      "File \u001b[1;32mc:\\python38-64\\lib\\site-packages\\pandas\\util\\_decorators.py:331\u001b[0m, in \u001b[0;36mdeprecate_nonkeyword_arguments.<locals>.decorate.<locals>.wrapper\u001b[1;34m(*args, **kwargs)\u001b[0m\n\u001b[0;32m    325\u001b[0m \u001b[38;5;28;01mif\u001b[39;00m \u001b[38;5;28mlen\u001b[39m(args) \u001b[38;5;241m>\u001b[39m num_allow_args:\n\u001b[0;32m    326\u001b[0m     warnings\u001b[38;5;241m.\u001b[39mwarn(\n\u001b[0;32m    327\u001b[0m         msg\u001b[38;5;241m.\u001b[39mformat(arguments\u001b[38;5;241m=\u001b[39m_format_argument_list(allow_args)),\n\u001b[0;32m    328\u001b[0m         \u001b[38;5;167;01mFutureWarning\u001b[39;00m,\n\u001b[0;32m    329\u001b[0m         stacklevel\u001b[38;5;241m=\u001b[39mfind_stack_level(),\n\u001b[0;32m    330\u001b[0m     )\n\u001b[1;32m--> 331\u001b[0m \u001b[38;5;28;01mreturn\u001b[39;00m \u001b[43mfunc\u001b[49m\u001b[43m(\u001b[49m\u001b[38;5;241;43m*\u001b[39;49m\u001b[43margs\u001b[49m\u001b[43m,\u001b[49m\u001b[43m \u001b[49m\u001b[38;5;241;43m*\u001b[39;49m\u001b[38;5;241;43m*\u001b[39;49m\u001b[43mkwargs\u001b[49m\u001b[43m)\u001b[49m\n",
      "File \u001b[1;32mc:\\python38-64\\lib\\site-packages\\pandas\\io\\parsers\\readers.py:950\u001b[0m, in \u001b[0;36mread_csv\u001b[1;34m(filepath_or_buffer, sep, delimiter, header, names, index_col, usecols, squeeze, prefix, mangle_dupe_cols, dtype, engine, converters, true_values, false_values, skipinitialspace, skiprows, skipfooter, nrows, na_values, keep_default_na, na_filter, verbose, skip_blank_lines, parse_dates, infer_datetime_format, keep_date_col, date_parser, dayfirst, cache_dates, iterator, chunksize, compression, thousands, decimal, lineterminator, quotechar, quoting, doublequote, escapechar, comment, encoding, encoding_errors, dialect, error_bad_lines, warn_bad_lines, on_bad_lines, delim_whitespace, low_memory, memory_map, float_precision, storage_options)\u001b[0m\n\u001b[0;32m    935\u001b[0m kwds_defaults \u001b[38;5;241m=\u001b[39m _refine_defaults_read(\n\u001b[0;32m    936\u001b[0m     dialect,\n\u001b[0;32m    937\u001b[0m     delimiter,\n\u001b[1;32m   (...)\u001b[0m\n\u001b[0;32m    946\u001b[0m     defaults\u001b[38;5;241m=\u001b[39m{\u001b[38;5;124m\"\u001b[39m\u001b[38;5;124mdelimiter\u001b[39m\u001b[38;5;124m\"\u001b[39m: \u001b[38;5;124m\"\u001b[39m\u001b[38;5;124m,\u001b[39m\u001b[38;5;124m\"\u001b[39m},\n\u001b[0;32m    947\u001b[0m )\n\u001b[0;32m    948\u001b[0m kwds\u001b[38;5;241m.\u001b[39mupdate(kwds_defaults)\n\u001b[1;32m--> 950\u001b[0m \u001b[38;5;28;01mreturn\u001b[39;00m \u001b[43m_read\u001b[49m\u001b[43m(\u001b[49m\u001b[43mfilepath_or_buffer\u001b[49m\u001b[43m,\u001b[49m\u001b[43m \u001b[49m\u001b[43mkwds\u001b[49m\u001b[43m)\u001b[49m\n",
      "File \u001b[1;32mc:\\python38-64\\lib\\site-packages\\pandas\\io\\parsers\\readers.py:611\u001b[0m, in \u001b[0;36m_read\u001b[1;34m(filepath_or_buffer, kwds)\u001b[0m\n\u001b[0;32m    608\u001b[0m     \u001b[38;5;28;01mreturn\u001b[39;00m parser\n\u001b[0;32m    610\u001b[0m \u001b[38;5;28;01mwith\u001b[39;00m parser:\n\u001b[1;32m--> 611\u001b[0m     \u001b[38;5;28;01mreturn\u001b[39;00m \u001b[43mparser\u001b[49m\u001b[38;5;241;43m.\u001b[39;49m\u001b[43mread\u001b[49m\u001b[43m(\u001b[49m\u001b[43mnrows\u001b[49m\u001b[43m)\u001b[49m\n",
      "File \u001b[1;32mc:\\python38-64\\lib\\site-packages\\pandas\\io\\parsers\\readers.py:1778\u001b[0m, in \u001b[0;36mTextFileReader.read\u001b[1;34m(self, nrows)\u001b[0m\n\u001b[0;32m   1771\u001b[0m nrows \u001b[38;5;241m=\u001b[39m validate_integer(\u001b[38;5;124m\"\u001b[39m\u001b[38;5;124mnrows\u001b[39m\u001b[38;5;124m\"\u001b[39m, nrows)\n\u001b[0;32m   1772\u001b[0m \u001b[38;5;28;01mtry\u001b[39;00m:\n\u001b[0;32m   1773\u001b[0m     \u001b[38;5;66;03m# error: \"ParserBase\" has no attribute \"read\"\u001b[39;00m\n\u001b[0;32m   1774\u001b[0m     (\n\u001b[0;32m   1775\u001b[0m         index,\n\u001b[0;32m   1776\u001b[0m         columns,\n\u001b[0;32m   1777\u001b[0m         col_dict,\n\u001b[1;32m-> 1778\u001b[0m     ) \u001b[38;5;241m=\u001b[39m \u001b[38;5;28;43mself\u001b[39;49m\u001b[38;5;241;43m.\u001b[39;49m\u001b[43m_engine\u001b[49m\u001b[38;5;241;43m.\u001b[39;49m\u001b[43mread\u001b[49m\u001b[43m(\u001b[49m\u001b[43m  \u001b[49m\u001b[38;5;66;43;03m# type: ignore[attr-defined]\u001b[39;49;00m\n\u001b[0;32m   1779\u001b[0m \u001b[43m        \u001b[49m\u001b[43mnrows\u001b[49m\n\u001b[0;32m   1780\u001b[0m \u001b[43m    \u001b[49m\u001b[43m)\u001b[49m\n\u001b[0;32m   1781\u001b[0m \u001b[38;5;28;01mexcept\u001b[39;00m \u001b[38;5;167;01mException\u001b[39;00m:\n\u001b[0;32m   1782\u001b[0m     \u001b[38;5;28mself\u001b[39m\u001b[38;5;241m.\u001b[39mclose()\n",
      "File \u001b[1;32mc:\\python38-64\\lib\\site-packages\\pandas\\io\\parsers\\c_parser_wrapper.py:230\u001b[0m, in \u001b[0;36mCParserWrapper.read\u001b[1;34m(self, nrows)\u001b[0m\n\u001b[0;32m    228\u001b[0m \u001b[38;5;28;01mtry\u001b[39;00m:\n\u001b[0;32m    229\u001b[0m     \u001b[38;5;28;01mif\u001b[39;00m \u001b[38;5;28mself\u001b[39m\u001b[38;5;241m.\u001b[39mlow_memory:\n\u001b[1;32m--> 230\u001b[0m         chunks \u001b[38;5;241m=\u001b[39m \u001b[38;5;28;43mself\u001b[39;49m\u001b[38;5;241;43m.\u001b[39;49m\u001b[43m_reader\u001b[49m\u001b[38;5;241;43m.\u001b[39;49m\u001b[43mread_low_memory\u001b[49m\u001b[43m(\u001b[49m\u001b[43mnrows\u001b[49m\u001b[43m)\u001b[49m\n\u001b[0;32m    231\u001b[0m         \u001b[38;5;66;03m# destructive to chunks\u001b[39;00m\n\u001b[0;32m    232\u001b[0m         data \u001b[38;5;241m=\u001b[39m _concatenate_chunks(chunks)\n",
      "File \u001b[1;32mc:\\python38-64\\lib\\site-packages\\pandas\\_libs\\parsers.pyx:808\u001b[0m, in \u001b[0;36mpandas._libs.parsers.TextReader.read_low_memory\u001b[1;34m()\u001b[0m\n",
      "File \u001b[1;32mc:\\python38-64\\lib\\site-packages\\pandas\\_libs\\parsers.pyx:866\u001b[0m, in \u001b[0;36mpandas._libs.parsers.TextReader._read_rows\u001b[1;34m()\u001b[0m\n",
      "File \u001b[1;32mc:\\python38-64\\lib\\site-packages\\pandas\\_libs\\parsers.pyx:852\u001b[0m, in \u001b[0;36mpandas._libs.parsers.TextReader._tokenize_rows\u001b[1;34m()\u001b[0m\n",
      "File \u001b[1;32mc:\\python38-64\\lib\\site-packages\\pandas\\_libs\\parsers.pyx:1973\u001b[0m, in \u001b[0;36mpandas._libs.parsers.raise_parser_error\u001b[1;34m()\u001b[0m\n",
      "\u001b[1;31mParserError\u001b[0m: Error tokenizing data. C error: Calling read(nbytes) on source failed. Try engine='python'."
     ]
    }
   ],
   "source": [
    "time = pd.read_csv(path + '/ground_time_9246057.csv', sep=',', index_col=0)\n",
    "# day = pd.read_csv(path + '/groud_day_4089.csv', sep=',', index_col=0)"
   ]
  },
  {
   "cell_type": "code",
   "execution_count": 8,
   "id": "362ee737",
   "metadata": {
    "ExecuteTime": {
     "end_time": "2023-07-08T09:31:55.034555Z",
     "start_time": "2023-07-08T09:31:54.961707Z"
    }
   },
   "outputs": [],
   "source": [
    "ml_test = pd.read_csv(path + '/ML_test_data.csv', sep=',', index_col=0) # 추가 변수"
   ]
  },
  {
   "cell_type": "code",
   "execution_count": 10,
   "id": "c9a4fef3",
   "metadata": {
    "ExecuteTime": {
     "end_time": "2023-07-08T09:33:36.507317Z",
     "start_time": "2023-07-08T09:33:35.547377Z"
    }
   },
   "outputs": [],
   "source": [
    "test_y = pd.read_csv(path + '/test_data.csv', sep=',', index_col=0) # test y\n",
    "elec = pd.read_csv(path + '/5minute_demand_y_(12.06~).csv', sep=',', index_col=0) # 종속 변수, 전력 사용량"
   ]
  },
  {
   "cell_type": "code",
   "execution_count": null,
   "id": "a69ac35c",
   "metadata": {
    "ExecuteTime": {
     "end_time": "2023-07-08T08:16:22.516146Z",
     "start_time": "2023-07-08T08:16:18.287520Z"
    },
    "scrolled": true
   },
   "outputs": [],
   "source": [
    "print(missing_per(time))\n",
    "print(missing_per(ml_test))"
   ]
  },
  {
   "cell_type": "code",
   "execution_count": null,
   "id": "f720b885",
   "metadata": {
    "ExecuteTime": {
     "end_time": "2023-07-08T08:21:35.080054Z",
     "start_time": "2023-07-08T08:21:32.985536Z"
    }
   },
   "outputs": [],
   "source": [
    "# 결측치 90% 이상 drop\n",
    "\n",
    "drop = ['적설(cm)','강수량(mm)', '3시간신적설(cm)','지면상태(지면상태코드)', '운형(운형약어)'\n",
    "        '현상번호(국내식)', '기온 QC플래그','강수량 QC플래그','풍속 QC플래그', '풍향 QC플래그',  '습도 QC플래그', \n",
    "        '현지기압 QC플래그', '해면기압 QC플래그', '일조 QC플래그', '일사 QC플래그']\n",
    "\n",
    "\n",
    "time.drop(columns = drop, inplace=True)\n",
    "ml_test.drop(columns = drop, inplace=True)"
   ]
  },
  {
   "cell_type": "code",
   "execution_count": null,
   "id": "a43e4b86",
   "metadata": {
    "ExecuteTime": {
     "end_time": "2023-07-08T08:33:31.806764Z",
     "start_time": "2023-07-08T08:33:24.624035Z"
    }
   },
   "outputs": [],
   "source": [
    "print(time.mean())\n",
    "print(ml_test.mean())"
   ]
  },
  {
   "cell_type": "code",
   "execution_count": null,
   "id": "b39bb295",
   "metadata": {
    "ExecuteTime": {
     "end_time": "2023-07-08T08:51:05.256505Z",
     "start_time": "2023-07-08T08:49:11.562843Z"
    }
   },
   "outputs": [],
   "source": [
    "# 기상 정보 null -> mean, no group \n",
    "\n",
    "# train\n",
    "time_train = time.fillna(time.mean()).copy()\n",
    "# 기존 데이터랑 합하기\n",
    "time_train = pd.merge(time_train, elec, left_index=True, right_index=True, how='right')\n",
    "time_train = time_train.fillna(time_train.mean())"
   ]
  },
  {
   "cell_type": "code",
   "execution_count": null,
   "id": "e6c82af1",
   "metadata": {
    "ExecuteTime": {
     "end_time": "2023-07-08T09:43:16.212181Z",
     "start_time": "2023-07-08T09:43:16.212181Z"
    }
   },
   "outputs": [],
   "source": [
    "# test\n",
    "time_test = ml_test.fillna(ml_test.mean()).copy()\n",
    "# 기존 데이터랑 합하기\n",
    "time_test = pd.merge(time_test, test_y, left_index=True, right_index=True, how='right')\n",
    "time_test = time_test.fillna(time_test.mean())"
   ]
  },
  {
   "cell_type": "code",
   "execution_count": null,
   "id": "82af707e",
   "metadata": {},
   "outputs": [],
   "source": [
    "# 기상 정보 null -> mean, group \n",
    "\n",
    "# train\n",
    "time_train = time.fillna(time.mean()).copy()\n",
    "# 기존 데이터랑 합하기\n",
    "time_train = pd.merge(time_train, elec, left_index=True, right_index=True, how='right')\n",
    "time_train = time_train.fillna(time_train.mean())\n",
    "# groupby\n",
    "time_train = time_train.reset_index().groupby('기준일시').mean()\n",
    "\n",
    "\n",
    "# test\n",
    "time_test = ml_test.fillna(ml_test.mean()).copy()\n",
    "# 기존 데이터랑 합하기\n",
    "time_test = pd.merge(time_test, test_y, left_index=True, right_index=True, how='right')\n",
    "time_test = time_test.fillna(time_test.mean())\n",
    "time_test = time_test.reset_index().groupby('기준일시').mean()"
   ]
  },
  {
   "cell_type": "code",
   "execution_count": 21,
   "id": "8fb51df0",
   "metadata": {
    "ExecuteTime": {
     "end_time": "2023-07-08T09:38:22.099128Z",
     "start_time": "2023-07-08T09:38:22.072720Z"
    }
   },
   "outputs": [
    {
     "data": {
      "text/html": [
       "<div>\n",
       "<style scoped>\n",
       "    .dataframe tbody tr th:only-of-type {\n",
       "        vertical-align: middle;\n",
       "    }\n",
       "\n",
       "    .dataframe tbody tr th {\n",
       "        vertical-align: top;\n",
       "    }\n",
       "\n",
       "    .dataframe thead th {\n",
       "        text-align: right;\n",
       "    }\n",
       "</style>\n",
       "<table border=\"1\" class=\"dataframe\">\n",
       "  <thead>\n",
       "    <tr style=\"text-align: right;\">\n",
       "      <th></th>\n",
       "      <th>기온(°C)</th>\n",
       "      <th>기온 QC플래그</th>\n",
       "      <th>강수량(mm)</th>\n",
       "      <th>강수량 QC플래그</th>\n",
       "      <th>풍속(m/s)</th>\n",
       "      <th>풍속 QC플래그</th>\n",
       "      <th>풍향(16방위)</th>\n",
       "      <th>풍향 QC플래그</th>\n",
       "      <th>습도(%)</th>\n",
       "      <th>습도 QC플래그</th>\n",
       "      <th>...</th>\n",
       "      <th>최저운고(100m )</th>\n",
       "      <th>시정(10m)</th>\n",
       "      <th>지면상태(지면상태코드)</th>\n",
       "      <th>현상번호(국내식)</th>\n",
       "      <th>지면온도(°C)</th>\n",
       "      <th>지면온도 QC플래그</th>\n",
       "      <th>5cm 지중온도(°C)</th>\n",
       "      <th>10cm 지중온도(°C)</th>\n",
       "      <th>20cm 지중온도(°C)</th>\n",
       "      <th>30cm 지중온도(°C)</th>\n",
       "    </tr>\n",
       "    <tr>\n",
       "      <th>기준일시</th>\n",
       "      <th></th>\n",
       "      <th></th>\n",
       "      <th></th>\n",
       "      <th></th>\n",
       "      <th></th>\n",
       "      <th></th>\n",
       "      <th></th>\n",
       "      <th></th>\n",
       "      <th></th>\n",
       "      <th></th>\n",
       "      <th></th>\n",
       "      <th></th>\n",
       "      <th></th>\n",
       "      <th></th>\n",
       "      <th></th>\n",
       "      <th></th>\n",
       "      <th></th>\n",
       "      <th></th>\n",
       "      <th></th>\n",
       "      <th></th>\n",
       "      <th></th>\n",
       "    </tr>\n",
       "  </thead>\n",
       "  <tbody>\n",
       "    <tr>\n",
       "      <th>2023-03-13 00:00</th>\n",
       "      <td>1.540000</td>\n",
       "      <td>NaN</td>\n",
       "      <td>0.4875</td>\n",
       "      <td>9.0</td>\n",
       "      <td>4.997895</td>\n",
       "      <td>NaN</td>\n",
       "      <td>288.842105</td>\n",
       "      <td>NaN</td>\n",
       "      <td>45.505263</td>\n",
       "      <td>NaN</td>\n",
       "      <td>...</td>\n",
       "      <td>13.625000</td>\n",
       "      <td>3808.073684</td>\n",
       "      <td>NaN</td>\n",
       "      <td>3.666667</td>\n",
       "      <td>0.937895</td>\n",
       "      <td>NaN</td>\n",
       "      <td>6.017241</td>\n",
       "      <td>7.651724</td>\n",
       "      <td>9.251724</td>\n",
       "      <td>9.768966</td>\n",
       "    </tr>\n",
       "    <tr>\n",
       "      <th>2023-03-13 01:00</th>\n",
       "      <td>1.068421</td>\n",
       "      <td>NaN</td>\n",
       "      <td>NaN</td>\n",
       "      <td>9.0</td>\n",
       "      <td>4.723158</td>\n",
       "      <td>NaN</td>\n",
       "      <td>284.947368</td>\n",
       "      <td>NaN</td>\n",
       "      <td>43.357895</td>\n",
       "      <td>NaN</td>\n",
       "      <td>...</td>\n",
       "      <td>15.297872</td>\n",
       "      <td>3933.797872</td>\n",
       "      <td>NaN</td>\n",
       "      <td>501.000000</td>\n",
       "      <td>0.427368</td>\n",
       "      <td>NaN</td>\n",
       "      <td>5.444828</td>\n",
       "      <td>7.217241</td>\n",
       "      <td>8.979310</td>\n",
       "      <td>9.617241</td>\n",
       "    </tr>\n",
       "    <tr>\n",
       "      <th>2023-03-13 02:00</th>\n",
       "      <td>0.686316</td>\n",
       "      <td>NaN</td>\n",
       "      <td>NaN</td>\n",
       "      <td>9.0</td>\n",
       "      <td>4.297895</td>\n",
       "      <td>NaN</td>\n",
       "      <td>285.263158</td>\n",
       "      <td>NaN</td>\n",
       "      <td>41.863158</td>\n",
       "      <td>NaN</td>\n",
       "      <td>...</td>\n",
       "      <td>17.193548</td>\n",
       "      <td>3883.478723</td>\n",
       "      <td>NaN</td>\n",
       "      <td>5.000000</td>\n",
       "      <td>0.075789</td>\n",
       "      <td>NaN</td>\n",
       "      <td>5.037931</td>\n",
       "      <td>6.817241</td>\n",
       "      <td>8.734483</td>\n",
       "      <td>9.472414</td>\n",
       "    </tr>\n",
       "    <tr>\n",
       "      <th>2023-03-13 03:00</th>\n",
       "      <td>0.346316</td>\n",
       "      <td>NaN</td>\n",
       "      <td>1.4250</td>\n",
       "      <td>NaN</td>\n",
       "      <td>3.932632</td>\n",
       "      <td>NaN</td>\n",
       "      <td>286.000000</td>\n",
       "      <td>NaN</td>\n",
       "      <td>40.800000</td>\n",
       "      <td>NaN</td>\n",
       "      <td>...</td>\n",
       "      <td>10.777778</td>\n",
       "      <td>3834.789474</td>\n",
       "      <td>NaN</td>\n",
       "      <td>5.000000</td>\n",
       "      <td>-0.278947</td>\n",
       "      <td>NaN</td>\n",
       "      <td>4.668966</td>\n",
       "      <td>6.468966</td>\n",
       "      <td>8.458621</td>\n",
       "      <td>9.320690</td>\n",
       "    </tr>\n",
       "    <tr>\n",
       "      <th>2023-03-13 04:00</th>\n",
       "      <td>-0.026316</td>\n",
       "      <td>NaN</td>\n",
       "      <td>NaN</td>\n",
       "      <td>9.0</td>\n",
       "      <td>3.500000</td>\n",
       "      <td>NaN</td>\n",
       "      <td>273.263158</td>\n",
       "      <td>NaN</td>\n",
       "      <td>40.368421</td>\n",
       "      <td>NaN</td>\n",
       "      <td>...</td>\n",
       "      <td>24.000000</td>\n",
       "      <td>3866.315789</td>\n",
       "      <td>NaN</td>\n",
       "      <td>22.500000</td>\n",
       "      <td>-0.638947</td>\n",
       "      <td>NaN</td>\n",
       "      <td>4.351724</td>\n",
       "      <td>6.141379</td>\n",
       "      <td>8.206897</td>\n",
       "      <td>9.148276</td>\n",
       "    </tr>\n",
       "    <tr>\n",
       "      <th>...</th>\n",
       "      <td>...</td>\n",
       "      <td>...</td>\n",
       "      <td>...</td>\n",
       "      <td>...</td>\n",
       "      <td>...</td>\n",
       "      <td>...</td>\n",
       "      <td>...</td>\n",
       "      <td>...</td>\n",
       "      <td>...</td>\n",
       "      <td>...</td>\n",
       "      <td>...</td>\n",
       "      <td>...</td>\n",
       "      <td>...</td>\n",
       "      <td>...</td>\n",
       "      <td>...</td>\n",
       "      <td>...</td>\n",
       "      <td>...</td>\n",
       "      <td>...</td>\n",
       "      <td>...</td>\n",
       "      <td>...</td>\n",
       "      <td>...</td>\n",
       "    </tr>\n",
       "    <tr>\n",
       "      <th>2023-03-19 19:00</th>\n",
       "      <td>10.875789</td>\n",
       "      <td>NaN</td>\n",
       "      <td>NaN</td>\n",
       "      <td>NaN</td>\n",
       "      <td>1.647368</td>\n",
       "      <td>NaN</td>\n",
       "      <td>212.736842</td>\n",
       "      <td>NaN</td>\n",
       "      <td>45.989474</td>\n",
       "      <td>NaN</td>\n",
       "      <td>...</td>\n",
       "      <td>34.600000</td>\n",
       "      <td>1922.478261</td>\n",
       "      <td>NaN</td>\n",
       "      <td>67015.833333</td>\n",
       "      <td>9.264211</td>\n",
       "      <td>NaN</td>\n",
       "      <td>12.558621</td>\n",
       "      <td>12.579310</td>\n",
       "      <td>11.379310</td>\n",
       "      <td>10.237931</td>\n",
       "    </tr>\n",
       "    <tr>\n",
       "      <th>2023-03-19 20:00</th>\n",
       "      <td>9.151579</td>\n",
       "      <td>NaN</td>\n",
       "      <td>NaN</td>\n",
       "      <td>NaN</td>\n",
       "      <td>1.197895</td>\n",
       "      <td>NaN</td>\n",
       "      <td>170.947368</td>\n",
       "      <td>NaN</td>\n",
       "      <td>52.631579</td>\n",
       "      <td>NaN</td>\n",
       "      <td>...</td>\n",
       "      <td>48.000000</td>\n",
       "      <td>1673.304348</td>\n",
       "      <td>NaN</td>\n",
       "      <td>32.666667</td>\n",
       "      <td>7.334737</td>\n",
       "      <td>NaN</td>\n",
       "      <td>11.417241</td>\n",
       "      <td>11.937931</td>\n",
       "      <td>11.337931</td>\n",
       "      <td>10.362069</td>\n",
       "    </tr>\n",
       "    <tr>\n",
       "      <th>2023-03-19 21:00</th>\n",
       "      <td>7.706316</td>\n",
       "      <td>NaN</td>\n",
       "      <td>NaN</td>\n",
       "      <td>NaN</td>\n",
       "      <td>1.071579</td>\n",
       "      <td>NaN</td>\n",
       "      <td>152.736842</td>\n",
       "      <td>NaN</td>\n",
       "      <td>58.294737</td>\n",
       "      <td>NaN</td>\n",
       "      <td>...</td>\n",
       "      <td>27.000000</td>\n",
       "      <td>1556.276596</td>\n",
       "      <td>NaN</td>\n",
       "      <td>916.888889</td>\n",
       "      <td>6.031579</td>\n",
       "      <td>NaN</td>\n",
       "      <td>10.468966</td>\n",
       "      <td>11.313793</td>\n",
       "      <td>11.196552</td>\n",
       "      <td>10.444828</td>\n",
       "    </tr>\n",
       "    <tr>\n",
       "      <th>2023-03-19 22:00</th>\n",
       "      <td>6.527368</td>\n",
       "      <td>NaN</td>\n",
       "      <td>NaN</td>\n",
       "      <td>NaN</td>\n",
       "      <td>0.894737</td>\n",
       "      <td>NaN</td>\n",
       "      <td>120.736842</td>\n",
       "      <td>NaN</td>\n",
       "      <td>62.094737</td>\n",
       "      <td>NaN</td>\n",
       "      <td>...</td>\n",
       "      <td>34.000000</td>\n",
       "      <td>1490.139785</td>\n",
       "      <td>NaN</td>\n",
       "      <td>239.111111</td>\n",
       "      <td>4.961053</td>\n",
       "      <td>NaN</td>\n",
       "      <td>9.734483</td>\n",
       "      <td>10.758621</td>\n",
       "      <td>11.003448</td>\n",
       "      <td>10.468966</td>\n",
       "    </tr>\n",
       "    <tr>\n",
       "      <th>2023-03-19 23:00</th>\n",
       "      <td>5.481053</td>\n",
       "      <td>NaN</td>\n",
       "      <td>NaN</td>\n",
       "      <td>NaN</td>\n",
       "      <td>0.849474</td>\n",
       "      <td>NaN</td>\n",
       "      <td>127.473684</td>\n",
       "      <td>NaN</td>\n",
       "      <td>66.294737</td>\n",
       "      <td>NaN</td>\n",
       "      <td>...</td>\n",
       "      <td>23.000000</td>\n",
       "      <td>1386.569892</td>\n",
       "      <td>NaN</td>\n",
       "      <td>406.800000</td>\n",
       "      <td>4.141053</td>\n",
       "      <td>NaN</td>\n",
       "      <td>9.117241</td>\n",
       "      <td>10.234483</td>\n",
       "      <td>10.765517</td>\n",
       "      <td>10.451724</td>\n",
       "    </tr>\n",
       "  </tbody>\n",
       "</table>\n",
       "<p>168 rows × 34 columns</p>\n",
       "</div>"
      ],
      "text/plain": [
       "                     기온(°C)  기온 QC플래그  강수량(mm)  강수량 QC플래그   풍속(m/s)  풍속 QC플래그  \\\n",
       "기준일시                                                                            \n",
       "2023-03-13 00:00   1.540000       NaN   0.4875        9.0  4.997895       NaN   \n",
       "2023-03-13 01:00   1.068421       NaN      NaN        9.0  4.723158       NaN   \n",
       "2023-03-13 02:00   0.686316       NaN      NaN        9.0  4.297895       NaN   \n",
       "2023-03-13 03:00   0.346316       NaN   1.4250        NaN  3.932632       NaN   \n",
       "2023-03-13 04:00  -0.026316       NaN      NaN        9.0  3.500000       NaN   \n",
       "...                     ...       ...      ...        ...       ...       ...   \n",
       "2023-03-19 19:00  10.875789       NaN      NaN        NaN  1.647368       NaN   \n",
       "2023-03-19 20:00   9.151579       NaN      NaN        NaN  1.197895       NaN   \n",
       "2023-03-19 21:00   7.706316       NaN      NaN        NaN  1.071579       NaN   \n",
       "2023-03-19 22:00   6.527368       NaN      NaN        NaN  0.894737       NaN   \n",
       "2023-03-19 23:00   5.481053       NaN      NaN        NaN  0.849474       NaN   \n",
       "\n",
       "                    풍향(16방위)  풍향 QC플래그      습도(%)  습도 QC플래그  ...  최저운고(100m )  \\\n",
       "기준일시                                                         ...                \n",
       "2023-03-13 00:00  288.842105       NaN  45.505263       NaN  ...    13.625000   \n",
       "2023-03-13 01:00  284.947368       NaN  43.357895       NaN  ...    15.297872   \n",
       "2023-03-13 02:00  285.263158       NaN  41.863158       NaN  ...    17.193548   \n",
       "2023-03-13 03:00  286.000000       NaN  40.800000       NaN  ...    10.777778   \n",
       "2023-03-13 04:00  273.263158       NaN  40.368421       NaN  ...    24.000000   \n",
       "...                      ...       ...        ...       ...  ...          ...   \n",
       "2023-03-19 19:00  212.736842       NaN  45.989474       NaN  ...    34.600000   \n",
       "2023-03-19 20:00  170.947368       NaN  52.631579       NaN  ...    48.000000   \n",
       "2023-03-19 21:00  152.736842       NaN  58.294737       NaN  ...    27.000000   \n",
       "2023-03-19 22:00  120.736842       NaN  62.094737       NaN  ...    34.000000   \n",
       "2023-03-19 23:00  127.473684       NaN  66.294737       NaN  ...    23.000000   \n",
       "\n",
       "                      시정(10m)  지면상태(지면상태코드)     현상번호(국내식)  지면온도(°C)  \\\n",
       "기준일시                                                                  \n",
       "2023-03-13 00:00  3808.073684           NaN      3.666667  0.937895   \n",
       "2023-03-13 01:00  3933.797872           NaN    501.000000  0.427368   \n",
       "2023-03-13 02:00  3883.478723           NaN      5.000000  0.075789   \n",
       "2023-03-13 03:00  3834.789474           NaN      5.000000 -0.278947   \n",
       "2023-03-13 04:00  3866.315789           NaN     22.500000 -0.638947   \n",
       "...                       ...           ...           ...       ...   \n",
       "2023-03-19 19:00  1922.478261           NaN  67015.833333  9.264211   \n",
       "2023-03-19 20:00  1673.304348           NaN     32.666667  7.334737   \n",
       "2023-03-19 21:00  1556.276596           NaN    916.888889  6.031579   \n",
       "2023-03-19 22:00  1490.139785           NaN    239.111111  4.961053   \n",
       "2023-03-19 23:00  1386.569892           NaN    406.800000  4.141053   \n",
       "\n",
       "                  지면온도 QC플래그  5cm 지중온도(°C)  10cm 지중온도(°C)  20cm 지중온도(°C)  \\\n",
       "기준일시                                                                       \n",
       "2023-03-13 00:00         NaN      6.017241       7.651724       9.251724   \n",
       "2023-03-13 01:00         NaN      5.444828       7.217241       8.979310   \n",
       "2023-03-13 02:00         NaN      5.037931       6.817241       8.734483   \n",
       "2023-03-13 03:00         NaN      4.668966       6.468966       8.458621   \n",
       "2023-03-13 04:00         NaN      4.351724       6.141379       8.206897   \n",
       "...                      ...           ...            ...            ...   \n",
       "2023-03-19 19:00         NaN     12.558621      12.579310      11.379310   \n",
       "2023-03-19 20:00         NaN     11.417241      11.937931      11.337931   \n",
       "2023-03-19 21:00         NaN     10.468966      11.313793      11.196552   \n",
       "2023-03-19 22:00         NaN      9.734483      10.758621      11.003448   \n",
       "2023-03-19 23:00         NaN      9.117241      10.234483      10.765517   \n",
       "\n",
       "                  30cm 지중온도(°C)  \n",
       "기준일시                             \n",
       "2023-03-13 00:00       9.768966  \n",
       "2023-03-13 01:00       9.617241  \n",
       "2023-03-13 02:00       9.472414  \n",
       "2023-03-13 03:00       9.320690  \n",
       "2023-03-13 04:00       9.148276  \n",
       "...                         ...  \n",
       "2023-03-19 19:00      10.237931  \n",
       "2023-03-19 20:00      10.362069  \n",
       "2023-03-19 21:00      10.444828  \n",
       "2023-03-19 22:00      10.468966  \n",
       "2023-03-19 23:00      10.451724  \n",
       "\n",
       "[168 rows x 34 columns]"
      ]
     },
     "execution_count": 21,
     "metadata": {},
     "output_type": "execute_result"
    }
   ],
   "source": [
    "ss = ml_test.reset_index().groupby('기준일시').mean()\n",
    "# ss = ss.fillna(ss.mean())\n",
    "ss"
   ]
  },
  {
   "cell_type": "code",
   "execution_count": 24,
   "id": "deffa5af",
   "metadata": {
    "ExecuteTime": {
     "end_time": "2023-07-08T09:38:56.881965Z",
     "start_time": "2023-07-08T09:38:56.865884Z"
    }
   },
   "outputs": [
    {
     "data": {
      "text/plain": [
       "Index(['기온(°C)', '기온 QC플래그', '강수량(mm)', '강수량 QC플래그', '풍속(m/s)', '풍속 QC플래그',\n",
       "       '풍향(16방위)', '풍향 QC플래그', '습도(%)', '습도 QC플래그', '증기압(hPa)', '이슬점온도(°C)',\n",
       "       '현지기압(hPa)', '현지기압 QC플래그', '해면기압(hPa)', '해면기압 QC플래그', '일조(hr)',\n",
       "       '일조 QC플래그', '일사(MJ/m2)', '일사 QC플래그', '적설(cm)', '3시간신적설(cm)',\n",
       "       '전운량(10분위)', '중하층운량(10분위)', '최저운고(100m )', '시정(10m)', '지면상태(지면상태코드)',\n",
       "       '현상번호(국내식)', '지면온도(°C)', '지면온도 QC플래그', '5cm 지중온도(°C)', '10cm 지중온도(°C)',\n",
       "       '20cm 지중온도(°C)', '30cm 지중온도(°C)'],\n",
       "      dtype='object')"
      ]
     },
     "execution_count": 24,
     "metadata": {},
     "output_type": "execute_result"
    }
   ],
   "source": [
    "ss.columns"
   ]
  },
  {
   "cell_type": "code",
   "execution_count": 22,
   "id": "3657108c",
   "metadata": {
    "ExecuteTime": {
     "end_time": "2023-07-08T09:38:33.925453Z",
     "start_time": "2023-07-08T09:38:33.908463Z"
    }
   },
   "outputs": [
    {
     "data": {
      "text/html": [
       "<div>\n",
       "<style scoped>\n",
       "    .dataframe tbody tr th:only-of-type {\n",
       "        vertical-align: middle;\n",
       "    }\n",
       "\n",
       "    .dataframe tbody tr th {\n",
       "        vertical-align: top;\n",
       "    }\n",
       "\n",
       "    .dataframe thead th {\n",
       "        text-align: right;\n",
       "    }\n",
       "</style>\n",
       "<table border=\"1\" class=\"dataframe\">\n",
       "  <thead>\n",
       "    <tr style=\"text-align: right;\">\n",
       "      <th></th>\n",
       "      <th>결측치 비율(%)</th>\n",
       "    </tr>\n",
       "  </thead>\n",
       "  <tbody>\n",
       "    <tr>\n",
       "      <th>기온(°C)</th>\n",
       "      <td>0.000000</td>\n",
       "    </tr>\n",
       "    <tr>\n",
       "      <th>기온 QC플래그</th>\n",
       "      <td>97.023810</td>\n",
       "    </tr>\n",
       "    <tr>\n",
       "      <th>강수량(mm)</th>\n",
       "      <td>89.285714</td>\n",
       "    </tr>\n",
       "    <tr>\n",
       "      <th>강수량 QC플래그</th>\n",
       "      <td>35.119048</td>\n",
       "    </tr>\n",
       "    <tr>\n",
       "      <th>풍속(m/s)</th>\n",
       "      <td>0.000000</td>\n",
       "    </tr>\n",
       "    <tr>\n",
       "      <th>풍속 QC플래그</th>\n",
       "      <td>100.000000</td>\n",
       "    </tr>\n",
       "    <tr>\n",
       "      <th>풍향(16방위)</th>\n",
       "      <td>0.000000</td>\n",
       "    </tr>\n",
       "    <tr>\n",
       "      <th>풍향 QC플래그</th>\n",
       "      <td>100.000000</td>\n",
       "    </tr>\n",
       "    <tr>\n",
       "      <th>습도(%)</th>\n",
       "      <td>0.000000</td>\n",
       "    </tr>\n",
       "    <tr>\n",
       "      <th>습도 QC플래그</th>\n",
       "      <td>52.976190</td>\n",
       "    </tr>\n",
       "    <tr>\n",
       "      <th>증기압(hPa)</th>\n",
       "      <td>0.000000</td>\n",
       "    </tr>\n",
       "    <tr>\n",
       "      <th>이슬점온도(°C)</th>\n",
       "      <td>0.000000</td>\n",
       "    </tr>\n",
       "    <tr>\n",
       "      <th>현지기압(hPa)</th>\n",
       "      <td>0.000000</td>\n",
       "    </tr>\n",
       "    <tr>\n",
       "      <th>현지기압 QC플래그</th>\n",
       "      <td>98.214286</td>\n",
       "    </tr>\n",
       "    <tr>\n",
       "      <th>해면기압(hPa)</th>\n",
       "      <td>0.000000</td>\n",
       "    </tr>\n",
       "    <tr>\n",
       "      <th>해면기압 QC플래그</th>\n",
       "      <td>98.214286</td>\n",
       "    </tr>\n",
       "    <tr>\n",
       "      <th>일조(hr)</th>\n",
       "      <td>45.833333</td>\n",
       "    </tr>\n",
       "    <tr>\n",
       "      <th>일조 QC플래그</th>\n",
       "      <td>32.142857</td>\n",
       "    </tr>\n",
       "    <tr>\n",
       "      <th>일사(MJ/m2)</th>\n",
       "      <td>45.833333</td>\n",
       "    </tr>\n",
       "    <tr>\n",
       "      <th>일사 QC플래그</th>\n",
       "      <td>0.000000</td>\n",
       "    </tr>\n",
       "    <tr>\n",
       "      <th>적설(cm)</th>\n",
       "      <td>92.857143</td>\n",
       "    </tr>\n",
       "    <tr>\n",
       "      <th>3시간신적설(cm)</th>\n",
       "      <td>97.023810</td>\n",
       "    </tr>\n",
       "    <tr>\n",
       "      <th>전운량(10분위)</th>\n",
       "      <td>0.000000</td>\n",
       "    </tr>\n",
       "    <tr>\n",
       "      <th>중하층운량(10분위)</th>\n",
       "      <td>0.000000</td>\n",
       "    </tr>\n",
       "    <tr>\n",
       "      <th>최저운고(100m )</th>\n",
       "      <td>2.380952</td>\n",
       "    </tr>\n",
       "    <tr>\n",
       "      <th>시정(10m)</th>\n",
       "      <td>0.000000</td>\n",
       "    </tr>\n",
       "    <tr>\n",
       "      <th>지면상태(지면상태코드)</th>\n",
       "      <td>100.000000</td>\n",
       "    </tr>\n",
       "    <tr>\n",
       "      <th>현상번호(국내식)</th>\n",
       "      <td>50.595238</td>\n",
       "    </tr>\n",
       "    <tr>\n",
       "      <th>지면온도(°C)</th>\n",
       "      <td>0.000000</td>\n",
       "    </tr>\n",
       "    <tr>\n",
       "      <th>지면온도 QC플래그</th>\n",
       "      <td>47.023810</td>\n",
       "    </tr>\n",
       "    <tr>\n",
       "      <th>5cm 지중온도(°C)</th>\n",
       "      <td>0.000000</td>\n",
       "    </tr>\n",
       "    <tr>\n",
       "      <th>10cm 지중온도(°C)</th>\n",
       "      <td>0.000000</td>\n",
       "    </tr>\n",
       "    <tr>\n",
       "      <th>20cm 지중온도(°C)</th>\n",
       "      <td>0.000000</td>\n",
       "    </tr>\n",
       "    <tr>\n",
       "      <th>30cm 지중온도(°C)</th>\n",
       "      <td>0.000000</td>\n",
       "    </tr>\n",
       "  </tbody>\n",
       "</table>\n",
       "</div>"
      ],
      "text/plain": [
       "                결측치 비율(%)\n",
       "기온(°C)           0.000000\n",
       "기온 QC플래그        97.023810\n",
       "강수량(mm)         89.285714\n",
       "강수량 QC플래그       35.119048\n",
       "풍속(m/s)          0.000000\n",
       "풍속 QC플래그       100.000000\n",
       "풍향(16방위)         0.000000\n",
       "풍향 QC플래그       100.000000\n",
       "습도(%)            0.000000\n",
       "습도 QC플래그        52.976190\n",
       "증기압(hPa)         0.000000\n",
       "이슬점온도(°C)        0.000000\n",
       "현지기압(hPa)        0.000000\n",
       "현지기압 QC플래그      98.214286\n",
       "해면기압(hPa)        0.000000\n",
       "해면기압 QC플래그      98.214286\n",
       "일조(hr)          45.833333\n",
       "일조 QC플래그        32.142857\n",
       "일사(MJ/m2)       45.833333\n",
       "일사 QC플래그         0.000000\n",
       "적설(cm)          92.857143\n",
       "3시간신적설(cm)      97.023810\n",
       "전운량(10분위)        0.000000\n",
       "중하층운량(10분위)      0.000000\n",
       "최저운고(100m )      2.380952\n",
       "시정(10m)          0.000000\n",
       "지면상태(지면상태코드)   100.000000\n",
       "현상번호(국내식)       50.595238\n",
       "지면온도(°C)         0.000000\n",
       "지면온도 QC플래그      47.023810\n",
       "5cm 지중온도(°C)     0.000000\n",
       "10cm 지중온도(°C)    0.000000\n",
       "20cm 지중온도(°C)    0.000000\n",
       "30cm 지중온도(°C)    0.000000"
      ]
     },
     "execution_count": 22,
     "metadata": {},
     "output_type": "execute_result"
    }
   ],
   "source": [
    "missing_per(ss)"
   ]
  },
  {
   "cell_type": "code",
   "execution_count": 17,
   "id": "dc413862",
   "metadata": {
    "ExecuteTime": {
     "end_time": "2023-07-08T09:37:21.625794Z",
     "start_time": "2023-07-08T09:37:21.619811Z"
    }
   },
   "outputs": [
    {
     "data": {
      "text/plain": [
       "<pandas.core.groupby.generic.DataFrameGroupBy object at 0x000001C58845F8E0>"
      ]
     },
     "execution_count": 17,
     "metadata": {},
     "output_type": "execute_result"
    }
   ],
   "source": [
    "ss"
   ]
  },
  {
   "cell_type": "code",
   "execution_count": null,
   "id": "883da708",
   "metadata": {},
   "outputs": [],
   "source": [
    "# 기상 정보 null -> mean, no group \n",
    "\n"
   ]
  },
  {
   "cell_type": "code",
   "execution_count": null,
   "id": "2845527d",
   "metadata": {},
   "outputs": [],
   "source": [
    "# 기상 정보 null -> mean, group \n",
    "\n"
   ]
  },
  {
   "cell_type": "code",
   "execution_count": null,
   "id": "11898595",
   "metadata": {
    "ExecuteTime": {
     "end_time": "2023-07-08T09:07:39.231403Z",
     "start_time": "2023-07-08T09:07:31.774495Z"
    }
   },
   "outputs": [],
   "source": [
    "time_train"
   ]
  },
  {
   "cell_type": "code",
   "execution_count": null,
   "id": "f5e650c2",
   "metadata": {
    "ExecuteTime": {
     "end_time": "2023-07-08T08:51:28.372465Z",
     "start_time": "2023-07-08T08:51:25.568912Z"
    }
   },
   "outputs": [],
   "source": [
    "X = time_train.drop('현재수요(MW)', axis=1)\n",
    "y = time_train['현재수요(MW)']\n",
    "\n",
    "X_test = time_test.drop('현재수요(MW)', axis=1)\n",
    "y_test = time_test['현재수요(MW)']"
   ]
  },
  {
   "cell_type": "code",
   "execution_count": null,
   "id": "121b0cc7",
   "metadata": {
    "ExecuteTime": {
     "end_time": "2023-07-08T08:54:10.345457Z",
     "start_time": "2023-07-08T08:52:00.916243Z"
    }
   },
   "outputs": [],
   "source": [
    "# 표준화 정규화 input data\n",
    "\n",
    "from sklearn.preprocessing import StandardScaler\n",
    "\n",
    "# Create a StandardScaler instance\n",
    "scaler = StandardScaler()\n",
    "\n",
    "# Standardize\n",
    "X = pd.DataFrame(scaler.fit_transform(X), columns=X.columns)\n",
    "X_test = pd.DataFrame(scaler.fit_transform(X_test), columns=X_test.columns)\n",
    "\n",
    "# Create a MinMaxScaler instance\n",
    "scaler2 = MinMaxScaler()\n",
    "\n",
    "# Normalize the DataFrame\n",
    "X = pd.DataFrame(scaler2.fit_transform(X), columns=X.columns)\n",
    "X_test = pd.DataFrame(scaler2.fit_transform(X_test), columns=X_test.columns)\n"
   ]
  },
  {
   "cell_type": "code",
   "execution_count": null,
   "id": "2967be62",
   "metadata": {
    "ExecuteTime": {
     "end_time": "2023-07-08T02:51:09.740807Z",
     "start_time": "2023-07-08T02:51:09.538354Z"
    }
   },
   "outputs": [],
   "source": [
    "X_train, X_valid, y_train, y_valid = train_test_split(X, y, \n",
    "                                                      test_size=0.2,\n",
    "                                                      shuffle = False,\n",
    "                                                      random_state=48)"
   ]
  },
  {
   "cell_type": "code",
   "execution_count": null,
   "id": "5367ec29",
   "metadata": {},
   "outputs": [],
   "source": [
    "print(X_train.shape)\n",
    "print(X_test.shape)\n",
    "print(y_train.shape)\n",
    "print(y_test.shape)"
   ]
  },
  {
   "cell_type": "markdown",
   "id": "65613654",
   "metadata": {},
   "source": [
    "----"
   ]
  },
  {
   "cell_type": "code",
   "execution_count": null,
   "id": "abf9f625",
   "metadata": {
    "ExecuteTime": {
     "end_time": "2023-07-07T11:16:11.939436Z",
     "start_time": "2023-07-07T11:16:11.928930Z"
    }
   },
   "outputs": [],
   "source": [
    "# 5분 단위\n",
    "\n",
    "elec.reset_index(inplace=True)\n",
    "elec['기준일시'] = pd.to_datetime(elec['기준일시'])\n",
    "elec = elec.dropna()\n",
    "elec = elec.set_index('기준일시')"
   ]
  },
  {
   "cell_type": "code",
   "execution_count": null,
   "id": "668b461a",
   "metadata": {
    "ExecuteTime": {
     "end_time": "2023-07-07T10:52:38.609228Z",
     "start_time": "2023-07-07T10:52:38.591684Z"
    }
   },
   "outputs": [],
   "source": [
    "# 1시간 단위 (5분 단위 -> 1시간 평균)\n",
    "\n",
    "elec.reset_index(inplace=True)\n",
    "elec['기준일시'] = pd.to_datetime(elec['기준일시'])\n",
    "elec = elec.set_index('기준일시')\n",
    "elec = elec.resample('1H').mean()\n",
    "elec = elec.dropna()\n",
    "\n",
    "test_y.reset_index(inplace=True)\n",
    "test_y['기준일시'] = pd.to_datetime(test_y['기준일시'])\n",
    "test_y = test_y.set_index('기준일시')\n",
    "test_y = test_y.resample('1H').mean()\n",
    "test_y = test_y.dropna()"
   ]
  },
  {
   "cell_type": "code",
   "execution_count": null,
   "id": "82d30f5f",
   "metadata": {
    "ExecuteTime": {
     "end_time": "2023-07-08T02:49:04.044263Z",
     "start_time": "2023-07-08T02:49:03.280101Z"
    }
   },
   "outputs": [],
   "source": [
    "# 1시간 단위 + 선형 보간 (5분)\n",
    "# elec, test_y\n",
    "\n",
    "## y\n",
    "elec.reset_index(inplace=True)\n",
    "elec['기준일시'] = pd.to_datetime(elec['기준일시'])\n",
    "elec['현재수요(MW)'] = elec['현재수요(MW)'].interpolate(method='values')\n",
    "elec = elec.set_index('기준일시')\n",
    "\n",
    "## test\n",
    "test_y.reset_index(inplace=True)\n",
    "test_y['기준일시'] = pd.to_datetime(test_y['기준일시'])\n",
    "test_y = test_y.set_idex('기준일시')\n",
    "test_y = test_y.resample('1H').mean()\n",
    "\n",
    "start_date = '2023-03-13 00:00:00'\n",
    "end_date = '2023-03-19 23:55:00'\n",
    "\n",
    "index = pd.date_range(start=start_date, end=end_date, freq='5min')\n",
    "sample = pd.DataFrame(index=index, columns=['sample'])\n",
    "# sample.rename(columns = {'index' : '기준일시'}, inplace=True)\n",
    "sample.index.name = '기준일시'\n",
    "test_y = pd.merge(sample, test_y, left_index=True, right_index=True, how='left').drop(columns = 'sample')\n",
    "test_y = test_y.interpolate(method='values')"
   ]
  },
  {
   "cell_type": "code",
   "execution_count": null,
   "id": "01e3ad4d",
   "metadata": {
    "ExecuteTime": {
     "end_time": "2023-07-08T02:50:42.286633Z",
     "start_time": "2023-07-08T02:50:37.881244Z"
    }
   },
   "outputs": [],
   "source": [
    "# train time series 변경\n",
    "\n",
    "train = elec.reset_index().copy()\n",
    "train['minute'] = train['기준일시'].apply(lambda x : minute(x))\n",
    "train['weekday'] = train['기준일시'].apply(lambda x : weekday(x))\n",
    "train['quarter'] = train['기준일시'].apply(lambda x : quarter(x))\n",
    "train.drop('기준일시', axis=1, inplace=True)\n",
    "\n",
    "\n",
    "# test time series 변경\n",
    "\n",
    "test = test_y.reset_index().copy()\n",
    "test['기준일시'] = pd.to_datetime(test['기준일시'])\n",
    "test['minute'] = test['기준일시'].apply(lambda x : minute(x))\n",
    "test['weekday'] = test['기준일시'].apply(lambda x : weekday(x))\n",
    "test['quarter'] = test['기준일시'].apply(lambda x : quarter(x))\n",
    "test.drop('기준일시', axis=1, inplace=True)"
   ]
  },
  {
   "cell_type": "code",
   "execution_count": null,
   "id": "3cd1631a",
   "metadata": {
    "ExecuteTime": {
     "end_time": "2023-07-08T02:50:42.317512Z",
     "start_time": "2023-07-08T02:50:42.289623Z"
    }
   },
   "outputs": [],
   "source": [
    "X = train.drop('현재수요(MW)', axis=1)\n",
    "y = train['현재수요(MW)']\n",
    "\n",
    "X_test = test.drop('현재수요(MW)', axis=1)\n",
    "y_test = test['현재수요(MW)']"
   ]
  },
  {
   "cell_type": "code",
   "execution_count": null,
   "id": "aeb8a73e",
   "metadata": {
    "ExecuteTime": {
     "end_time": "2023-07-08T02:51:09.740807Z",
     "start_time": "2023-07-08T02:51:09.538354Z"
    }
   },
   "outputs": [],
   "source": [
    "X_train, X_valid, y_train, y_valid = train_test_split(X, y, \n",
    "                                                      test_size=0.2, \n",
    "                                                      random_state=48)"
   ]
  },
  {
   "cell_type": "markdown",
   "id": "5da49ae5",
   "metadata": {},
   "source": [
    "## Linear Regression"
   ]
  },
  {
   "cell_type": "code",
   "execution_count": null,
   "id": "d12111bf",
   "metadata": {
    "ExecuteTime": {
     "end_time": "2023-07-08T02:51:08.549829Z",
     "start_time": "2023-07-08T02:51:04.863732Z"
    }
   },
   "outputs": [],
   "source": [
    "from sklearn.linear_model import LinearRegression\n",
    "from sklearn.model_selection import train_test_split"
   ]
  },
  {
   "cell_type": "code",
   "execution_count": null,
   "id": "fbb01a1d",
   "metadata": {
    "ExecuteTime": {
     "end_time": "2023-07-07T11:42:16.381735Z",
     "start_time": "2023-07-07T11:42:16.303344Z"
    }
   },
   "outputs": [],
   "source": [
    "lr = LinearRegression()\n",
    "\n",
    "# 모델 학습\n",
    "lr.fit(X_train, y_train)"
   ]
  },
  {
   "cell_type": "code",
   "execution_count": null,
   "id": "fe1c963a",
   "metadata": {
    "ExecuteTime": {
     "end_time": "2023-07-07T10:52:54.046670Z",
     "start_time": "2023-07-07T10:52:54.040156Z"
    }
   },
   "outputs": [],
   "source": [
    "X_test"
   ]
  },
  {
   "cell_type": "code",
   "execution_count": null,
   "id": "b4bc8db0",
   "metadata": {
    "ExecuteTime": {
     "end_time": "2023-07-07T11:42:19.406312Z",
     "start_time": "2023-07-07T11:42:19.401140Z"
    }
   },
   "outputs": [],
   "source": [
    "pred = lr.predict(X_test)\n",
    "pred"
   ]
  },
  {
   "cell_type": "code",
   "execution_count": null,
   "id": "6b7002f5",
   "metadata": {
    "ExecuteTime": {
     "end_time": "2023-07-07T11:42:21.021347Z",
     "start_time": "2023-07-07T11:42:20.849296Z"
    }
   },
   "outputs": [],
   "source": [
    "result_graph(y_test, pred)"
   ]
  },
  {
   "cell_type": "markdown",
   "id": "6b139a22",
   "metadata": {},
   "source": [
    "----"
   ]
  },
  {
   "cell_type": "markdown",
   "id": "1e9d0ba1",
   "metadata": {},
   "source": [
    "## lgbm"
   ]
  },
  {
   "cell_type": "code",
   "execution_count": null,
   "id": "f7f14c57",
   "metadata": {
    "ExecuteTime": {
     "end_time": "2023-07-07T08:34:22.234551Z",
     "start_time": "2023-07-07T08:34:22.231181Z"
    }
   },
   "outputs": [],
   "source": [
    "from lightgbm import LGBMRegressor\n",
    "from sklearn.model_selection import GridSearchCV\n",
    "from sklearn.metrics import make_scorer  # loss function 커스터마이징\n"
   ]
  },
  {
   "cell_type": "code",
   "execution_count": null,
   "id": "c848951e",
   "metadata": {
    "ExecuteTime": {
     "end_time": "2023-07-07T08:51:05.603620Z",
     "start_time": "2023-07-07T08:51:05.598162Z"
    }
   },
   "outputs": [],
   "source": [
    "# 파라미터 설정, 모델생성 함수\n",
    "def get_best_params(model, params):\n",
    "    grid_model = GridSearchCV(\n",
    "        model,\n",
    "        param_grid = params,  # 파라미터\n",
    "        cv = 5,  # Kfold : 5\n",
    "        scoring= SMAPE)  #loss function\n",
    "\n",
    "    grid_model.fit(X_train, y_train, eval_set = [(X_train, y_train), (X_valid, y_valid)], verbose=100)\n",
    "    scr = grid_model.best_score_\n",
    "    print(f'{model.__class__.__name__} 최적 score 값 {scr}')\n",
    "    return grid_model.best_estimator_\n",
    "\n",
    "def smape(true, pred):\n",
    "    true = np.array(true)  # np.array로 바꿔야 에러 없음\n",
    "    pred = np.array(pred)\n",
    "    return np.mean((np.abs(true-pred))/(np.abs(true) + np.abs(pred)))  # *2 , *100은 상수이므로 생략\n",
    "SMAPE = make_scorer(smape, greater_is_better=False)  # smape 값이 작아져야하므로 False\n"
   ]
  },
  {
   "cell_type": "code",
   "execution_count": null,
   "id": "57b1e038",
   "metadata": {
    "ExecuteTime": {
     "end_time": "2023-07-07T09:03:34.880312Z",
     "start_time": "2023-07-07T09:03:34.865538Z"
    }
   },
   "outputs": [],
   "source": [
    "params = {'n_estimators' : [30, 100, 200, 500],\n",
    "          'learning_rate' : [0.01, 0.1],\n",
    "          'objective' : ['regression'],\n",
    "          'boosting_type' : ['gbdt'],\n",
    "          'max_depth' : [1, 3, 5], # 나무의 깊이\n",
    "          'subsample' : [0.5, 1]\n",
    "         }"
   ]
  },
  {
   "cell_type": "code",
   "execution_count": null,
   "id": "0216dfea",
   "metadata": {
    "ExecuteTime": {
     "end_time": "2023-07-07T11:43:29.948112Z",
     "start_time": "2023-07-07T11:43:29.944581Z"
    }
   },
   "outputs": [],
   "source": [
    "params_f = {'n_estimators' : 200,\n",
    "          'learning_rate' : 0.01,\n",
    "          'objective' : 'regression',\n",
    "          'boosting_type' : 'gbdt',\n",
    "          'max_depth' : 5, # 나무의 깊이\n",
    "          'subsample' : 0.5}"
   ]
  },
  {
   "cell_type": "code",
   "execution_count": null,
   "id": "d01592da",
   "metadata": {
    "ExecuteTime": {
     "end_time": "2023-07-07T11:43:30.908202Z",
     "start_time": "2023-07-07T11:43:30.905047Z"
    }
   },
   "outputs": [],
   "source": [
    "model = LGBMRegressor(**params_f)"
   ]
  },
  {
   "cell_type": "markdown",
   "id": "360c83bf",
   "metadata": {},
   "source": [
    "-----"
   ]
  },
  {
   "cell_type": "code",
   "execution_count": null,
   "id": "29cd96e0",
   "metadata": {
    "ExecuteTime": {
     "end_time": "2023-07-07T10:07:40.290253Z",
     "start_time": "2023-07-07T10:07:40.279758Z"
    },
    "scrolled": true
   },
   "outputs": [],
   "source": [
    "# best model grid search\n",
    "\n",
    "best_lgbm = get_best_params(model, params_f)\n",
    "best_lgbm"
   ]
  },
  {
   "cell_type": "code",
   "execution_count": null,
   "id": "1a842671",
   "metadata": {
    "ExecuteTime": {
     "end_time": "2023-07-07T09:58:36.182194Z",
     "start_time": "2023-07-07T09:58:36.175242Z"
    }
   },
   "outputs": [],
   "source": [
    "pred = best_lgbm.predict(X_test)"
   ]
  },
  {
   "cell_type": "markdown",
   "id": "9d7bd0ad",
   "metadata": {},
   "source": [
    "---"
   ]
  },
  {
   "cell_type": "code",
   "execution_count": null,
   "id": "d27ebfb0",
   "metadata": {
    "ExecuteTime": {
     "end_time": "2023-07-07T11:43:36.218458Z",
     "start_time": "2023-07-07T11:43:35.025009Z"
    }
   },
   "outputs": [],
   "source": [
    "lgb_fit = model.fit(X_train, y_train, eval_set=[(X_train, y_train), (X_valid, y_valid)], verbose=100)"
   ]
  },
  {
   "cell_type": "code",
   "execution_count": null,
   "id": "523da028",
   "metadata": {
    "ExecuteTime": {
     "end_time": "2023-07-07T11:43:38.097251Z",
     "start_time": "2023-07-07T11:43:38.088186Z"
    }
   },
   "outputs": [],
   "source": [
    "pred = lgb_fit.predict(X_test)\n",
    "pred"
   ]
  },
  {
   "cell_type": "code",
   "execution_count": null,
   "id": "3f913baa",
   "metadata": {
    "ExecuteTime": {
     "end_time": "2023-07-07T11:43:40.067166Z",
     "start_time": "2023-07-07T11:43:40.063903Z"
    }
   },
   "outputs": [],
   "source": [
    "print(y_test.shape)\n",
    "print(pred.shape)"
   ]
  },
  {
   "cell_type": "code",
   "execution_count": null,
   "id": "cfe6fbea",
   "metadata": {
    "ExecuteTime": {
     "end_time": "2023-07-07T11:43:41.337172Z",
     "start_time": "2023-07-07T11:43:41.172855Z"
    }
   },
   "outputs": [],
   "source": [
    "result_graph(y_test, pred)"
   ]
  },
  {
   "cell_type": "markdown",
   "id": "42a10e1b",
   "metadata": {},
   "source": [
    "## xgboost"
   ]
  },
  {
   "cell_type": "code",
   "execution_count": null,
   "id": "2ea4c80d",
   "metadata": {
    "ExecuteTime": {
     "end_time": "2023-07-07T10:05:27.675375Z",
     "start_time": "2023-07-07T10:05:23.983530Z"
    }
   },
   "outputs": [],
   "source": [
    "from xgboost import XGBRegressor"
   ]
  },
  {
   "cell_type": "code",
   "execution_count": null,
   "id": "6fc76221",
   "metadata": {
    "ExecuteTime": {
     "end_time": "2023-07-07T11:45:10.891944Z",
     "start_time": "2023-07-07T11:45:10.888117Z"
    }
   },
   "outputs": [],
   "source": [
    "params = {\n",
    "    'n_estimators': 100,\n",
    "    'learning_rate': 0.3, \n",
    "    'num_leaves': 10,\n",
    "    'metric': ['mae', 'mse'],\n",
    "    'verbose': -1,\n",
    "}"
   ]
  },
  {
   "cell_type": "code",
   "execution_count": null,
   "id": "d767bfca",
   "metadata": {
    "ExecuteTime": {
     "end_time": "2023-07-07T11:45:18.927528Z",
     "start_time": "2023-07-07T11:45:11.945877Z"
    }
   },
   "outputs": [],
   "source": [
    "xgb_reg = XGBRegressor(**params)\n",
    "\n",
    "xgb_reg.fit(X_train, y_train, eval_set=[(X_train, y_train), (X_valid, y_valid)],\n",
    "            early_stopping_rounds=300, verbose=False)"
   ]
  },
  {
   "cell_type": "code",
   "execution_count": null,
   "id": "e58b408b",
   "metadata": {
    "ExecuteTime": {
     "end_time": "2023-07-07T11:45:20.213317Z",
     "start_time": "2023-07-07T11:45:20.208320Z"
    }
   },
   "outputs": [],
   "source": [
    "pred = xgb_reg.predict(X_test)"
   ]
  },
  {
   "cell_type": "code",
   "execution_count": null,
   "id": "f9ddec3f",
   "metadata": {
    "ExecuteTime": {
     "end_time": "2023-07-07T11:45:20.950392Z",
     "start_time": "2023-07-07T11:45:20.782495Z"
    }
   },
   "outputs": [],
   "source": [
    "result_graph(y_test, pred)"
   ]
  },
  {
   "cell_type": "code",
   "execution_count": null,
   "id": "8a12f3b7",
   "metadata": {},
   "outputs": [],
   "source": []
  },
  {
   "cell_type": "markdown",
   "id": "273ef9b0",
   "metadata": {},
   "source": [
    "## ARIMA"
   ]
  },
  {
   "cell_type": "code",
   "execution_count": null,
   "id": "f004f24b",
   "metadata": {
    "ExecuteTime": {
     "end_time": "2023-07-08T02:51:47.203700Z",
     "start_time": "2023-07-08T02:51:45.777571Z"
    }
   },
   "outputs": [],
   "source": [
    "from pmdarima import auto_arima\n",
    "from statsmodels.tsa.arima.model import ARIMA\n",
    "import pmdarima as pm\n",
    "import statsmodels.api as sm"
   ]
  },
  {
   "cell_type": "code",
   "execution_count": null,
   "id": "3c320e69",
   "metadata": {
    "ExecuteTime": {
     "end_time": "2023-07-08T02:51:29.419002Z",
     "start_time": "2023-07-08T02:51:29.398059Z"
    }
   },
   "outputs": [],
   "source": [
    "print(X_train.shape)\n",
    "print(X_test.shape)\n",
    "print(y_train.shape)\n",
    "print(y_test.shape)"
   ]
  },
  {
   "cell_type": "code",
   "execution_count": null,
   "id": "0e8d595a",
   "metadata": {
    "ExecuteTime": {
     "end_time": "2023-07-08T03:02:33.821980Z",
     "start_time": "2023-07-08T03:02:33.805592Z"
    }
   },
   "outputs": [],
   "source": [
    "y_train"
   ]
  },
  {
   "cell_type": "code",
   "execution_count": null,
   "id": "baccab2e",
   "metadata": {
    "ExecuteTime": {
     "end_time": "2023-07-08T03:07:37.952688Z",
     "start_time": "2023-07-08T03:07:37.898833Z"
    },
    "scrolled": false
   },
   "outputs": [],
   "source": [
    "# auto arima\n",
    "\n",
    "model = ARIMA(elec, order=(2,0,2))\n",
    "# model = pm.auto_arima(y_train, \n",
    "#                       max_p=3, p = 2, \n",
    "#                       d = 0, \n",
    "#                       max_q=3, q = 2, \n",
    "#                       seasonal = True, \n",
    "#                       trace = True,\n",
    "#                       error_action='ignore',  \n",
    "#                       suppress_warnings=True, \n",
    "#                       stepwise=False)"
   ]
  },
  {
   "cell_type": "code",
   "execution_count": null,
   "id": "7e008dba",
   "metadata": {
    "ExecuteTime": {
     "end_time": "2023-07-08T03:15:03.975136Z",
     "start_time": "2023-07-08T03:07:40.508168Z"
    },
    "scrolled": true
   },
   "outputs": [],
   "source": [
    "# 학습\n",
    "\n",
    "model_fit = model.fit()"
   ]
  },
  {
   "cell_type": "code",
   "execution_count": null,
   "id": "1cb32ba1",
   "metadata": {
    "ExecuteTime": {
     "end_time": "2023-07-08T03:15:04.021013Z",
     "start_time": "2023-07-08T03:15:03.981121Z"
    }
   },
   "outputs": [],
   "source": [
    "# 예측\n",
    "\n",
    "forecast = model_fit.predict(1, 2016) # 5분 2016 # 1시간 168\n",
    "pred = forecast.values"
   ]
  },
  {
   "cell_type": "code",
   "execution_count": null,
   "id": "c7688ef7",
   "metadata": {
    "ExecuteTime": {
     "end_time": "2023-07-08T03:15:05.051258Z",
     "start_time": "2023-07-08T03:15:04.026001Z"
    },
    "scrolled": false
   },
   "outputs": [],
   "source": [
    "# y_test = confirm_pred['현재수요(MW)']\n",
    "# pred = confirm_pred['pred']\n",
    "\n",
    "result_graph(y_test, pred)"
   ]
  },
  {
   "cell_type": "markdown",
   "id": "f979eca5",
   "metadata": {},
   "source": [
    "----"
   ]
  },
  {
   "cell_type": "code",
   "execution_count": null,
   "id": "d1f28196",
   "metadata": {
    "ExecuteTime": {
     "end_time": "2023-07-07T06:00:24.229191Z",
     "start_time": "2023-07-07T06:00:24.212289Z"
    }
   },
   "outputs": [],
   "source": [
    "# 예측값과 실제값 비교\n",
    "# y값만 있기 때문에 5분 단위\n",
    "\n",
    "start_date = '2023-03-13 00:00:00'\n",
    "end_date = '2023-03-19 23:55:00'\n",
    "\n",
    "index = pd.date_range(start=start_date, end=end_date, freq='5min')\n",
    "pred_df = pd.DataFrame(pred, index = index, columns=['pred'])\n",
    "\n",
    "test.index = pd.to_datetime(test.index)\n",
    "confirm_pred = pd.merge(test, pred_df, left_index=True, right_index=True, how='left')\n",
    "confirm_pred"
   ]
  },
  {
   "cell_type": "code",
   "execution_count": null,
   "id": "9c421578",
   "metadata": {
    "ExecuteTime": {
     "end_time": "2023-07-07T06:00:25.610056Z",
     "start_time": "2023-07-07T06:00:25.426062Z"
    },
    "scrolled": false
   },
   "outputs": [],
   "source": [
    "y_test = confirm_pred['현재수요(MW)']\n",
    "y_pred = confirm_pred['pred']\n",
    "\n",
    "result_graph(y_test, y_pred)"
   ]
  },
  {
   "cell_type": "code",
   "execution_count": null,
   "id": "9eef6128",
   "metadata": {
    "ExecuteTime": {
     "end_time": "2023-07-07T04:48:22.883989Z",
     "start_time": "2023-07-07T04:48:22.872450Z"
    }
   },
   "outputs": [],
   "source": [
    "model_fit(y_pred)\n",
    "# y_pred.append()"
   ]
  },
  {
   "cell_type": "markdown",
   "id": "c94bb29e",
   "metadata": {},
   "source": [
    "# 모델 저장"
   ]
  },
  {
   "cell_type": "code",
   "execution_count": null,
   "id": "11753dd2",
   "metadata": {
    "ExecuteTime": {
     "end_time": "2023-07-07T10:01:15.625566Z",
     "start_time": "2023-07-07T10:01:15.598362Z"
    }
   },
   "outputs": [],
   "source": [
    "# model 저장\n",
    "\n",
    "import joblib\n",
    "joblib.dump(best_lgbm, './lgbm.pkl')"
   ]
  },
  {
   "cell_type": "code",
   "execution_count": null,
   "id": "f331330d",
   "metadata": {},
   "outputs": [],
   "source": [
    "loaded_model = joblib.load('./arima.pkl')"
   ]
  },
  {
   "cell_type": "markdown",
   "id": "7c870754",
   "metadata": {},
   "source": [
    "# 가설 검증"
   ]
  },
  {
   "cell_type": "markdown",
   "id": "5d58730c",
   "metadata": {},
   "source": [
    "모든 가설의 비교 대상은 과거 전력량 데이터로만 실시간 예측을 했을 때 이다\n",
    "\n",
    "1. 기상청 데이터 중 지상에서 관측된 데이터를 활용해 예측한다면 유의미한 결과가 나올 것이다\n",
    "    - 전력 사용량만 예측하는 단변량과 수집한 데이터를 통합해 모델링\n",
    "2. 지상관측데이터 중 일상 생활에 영향을 주는 기상 데이터는 전력 사용량 예측에 도움이 될 것이다\n",
    "    - 기온, 강수량, 적설 등"
   ]
  },
  {
   "cell_type": "markdown",
   "id": "31f5992f",
   "metadata": {},
   "source": [
    "## 1번"
   ]
  },
  {
   "cell_type": "code",
   "execution_count": null,
   "id": "e00ed213",
   "metadata": {
    "ExecuteTime": {
     "end_time": "2023-07-06T11:13:21.615463Z",
     "start_time": "2023-07-06T11:13:20.676598Z"
    }
   },
   "outputs": [],
   "source": [
    "time = time[['기온(°C)']]\n",
    "# time.reset_index(inplace=True)\n",
    "time = time.groupby('기준일시')['기온(°C)'].mean().reset_index()\n",
    "time.set_index('기준일시', inplace=True)\n",
    "time"
   ]
  },
  {
   "cell_type": "code",
   "execution_count": null,
   "id": "13f16187",
   "metadata": {
    "ExecuteTime": {
     "end_time": "2023-07-06T11:13:37.200559Z",
     "start_time": "2023-07-06T11:13:37.185413Z"
    }
   },
   "outputs": [],
   "source": [
    "merged_y = pd.merge(elec, time, on='기준일시', how='right')\n",
    "merged_y.dropna(inplace=True)\n",
    "merged_y"
   ]
  },
  {
   "cell_type": "code",
   "execution_count": null,
   "id": "8a0b1740",
   "metadata": {
    "ExecuteTime": {
     "end_time": "2023-07-04T15:36:10.987177Z",
     "start_time": "2023-07-04T15:36:10.830711Z"
    }
   },
   "outputs": [],
   "source": [
    "train_data = merged_y.copy()\n",
    "\n",
    "# Fit the VAR model\n",
    "model = VAR(train_data)\n",
    "model_fit = model.fit()\n",
    "\n",
    "# Make predictions\n",
    "lag_order = model_fit.k_ar\n",
    "\n",
    "pred = []\n",
    "for i in model_fit.forecast(train_data.values[-lag_order:], steps=144):\n",
    "    pred.append(i[0])"
   ]
  },
  {
   "cell_type": "code",
   "execution_count": null,
   "id": "3f0ebcac",
   "metadata": {
    "ExecuteTime": {
     "end_time": "2023-07-04T15:36:45.720329Z",
     "start_time": "2023-07-04T15:36:45.716056Z"
    }
   },
   "outputs": [],
   "source": [
    "pred"
   ]
  },
  {
   "cell_type": "code",
   "execution_count": null,
   "id": "1034a109",
   "metadata": {
    "ExecuteTime": {
     "end_time": "2023-07-04T15:37:17.061808Z",
     "start_time": "2023-07-04T15:37:17.057548Z"
    }
   },
   "outputs": [],
   "source": [
    "# 예측값과 실제값 비교\n",
    "\n",
    "start_date = '2023-03-13 00:00:00'\n",
    "end_date = '2023-03-19 23:00:00'\n",
    "\n",
    "index = pd.date_range(start=start_date, end=end_date, freq='H')\n",
    "pred_df = pd.DataFrame(pred, index = index, columns=['pred'])"
   ]
  },
  {
   "cell_type": "code",
   "execution_count": null,
   "id": "e2ef0f76",
   "metadata": {
    "ExecuteTime": {
     "end_time": "2023-07-04T15:39:54.702246Z",
     "start_time": "2023-07-04T15:39:54.693416Z"
    }
   },
   "outputs": [],
   "source": [
    "# 5분단위로 측정된 y값을 1시간 단위로 예측한 df와 합쳐서 MAPE 확인\n",
    "# 5분 단위인 2016개를, 1시간 단위인 144개로 merge 해서 비교\n",
    "\n",
    "test.index = pd.to_datetime(test.index)\n",
    "confirm_pred = pd.merge(test, pred_df, left_index=True, right_index=True, how='right')\n",
    "confirm_pred"
   ]
  },
  {
   "cell_type": "code",
   "execution_count": null,
   "id": "bd548769",
   "metadata": {
    "ExecuteTime": {
     "end_time": "2023-07-04T15:40:17.018567Z",
     "start_time": "2023-07-04T15:40:17.015639Z"
    }
   },
   "outputs": [],
   "source": [
    "y_test = confirm_pred['현재수요(MW)']\n",
    "y_pred = confirm_pred['pred']\n",
    "\n",
    "result_graph(y_test, y_pred)"
   ]
  },
  {
   "cell_type": "code",
   "execution_count": null,
   "id": "ecc99e76",
   "metadata": {
    "ExecuteTime": {
     "end_time": "2023-07-04T15:40:17.548154Z",
     "start_time": "2023-07-04T15:40:17.310593Z"
    }
   },
   "outputs": [],
   "source": [
    "result_graph(y_test, y_pred)"
   ]
  },
  {
   "cell_type": "code",
   "execution_count": null,
   "id": "5297388c",
   "metadata": {},
   "outputs": [],
   "source": []
  },
  {
   "cell_type": "code",
   "execution_count": null,
   "id": "faecfac6",
   "metadata": {
    "ExecuteTime": {
     "end_time": "2023-07-04T10:52:46.054730Z",
     "start_time": "2023-07-04T10:52:44.791626Z"
    }
   },
   "outputs": [],
   "source": [
    "time.drop(columns = time_drop2, axis=1, inplace=True)\n",
    "time.drop(columns = ['운형(운형약어)'], inplace=True)\n",
    "time['강수량(mm)'].fillna(0, inplace=True)\n",
    "time['적설(cm)'].fillna(0, inplace=True)\n",
    "time.dropna(inplace=True)\n",
    "\n",
    "test.drop(columns = time_drop2, axis=1, inplace=True)"
   ]
  }
 ],
 "metadata": {
  "kernelspec": {
   "display_name": "Python 3 (ipykernel)",
   "language": "python",
   "name": "python3"
  },
  "language_info": {
   "codemirror_mode": {
    "name": "ipython",
    "version": 3
   },
   "file_extension": ".py",
   "mimetype": "text/x-python",
   "name": "python",
   "nbconvert_exporter": "python",
   "pygments_lexer": "ipython3",
   "version": "3.8.9"
  },
  "toc": {
   "base_numbering": 1,
   "nav_menu": {},
   "number_sections": false,
   "sideBar": true,
   "skip_h1_title": false,
   "title_cell": "Table of Contents",
   "title_sidebar": "Contents",
   "toc_cell": false,
   "toc_position": {
    "height": "calc(100% - 180px)",
    "left": "10px",
    "top": "150px",
    "width": "285px"
   },
   "toc_section_display": true,
   "toc_window_display": true
  }
 },
 "nbformat": 4,
 "nbformat_minor": 5
}
